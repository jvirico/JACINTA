{
 "cells": [
  {
   "cell_type": "code",
   "execution_count": 1,
   "metadata": {
    "collapsed": true
   },
   "outputs": [],
   "source": [
    "import graphlab"
   ]
  },
  {
   "cell_type": "markdown",
   "metadata": {},
   "source": [
    "# Probando acceso a datos"
   ]
  },
  {
   "cell_type": "code",
   "execution_count": 150,
   "metadata": {
    "collapsed": true
   },
   "outputs": [],
   "source": [
    "src = 'D:/01 - DATA_SRC_01/Jacinta/'"
   ]
  },
  {
   "cell_type": "code",
   "execution_count": 4,
   "metadata": {
    "collapsed": true
   },
   "outputs": [
    {
     "name": "stdout",
     "output_type": "stream",
     "text": [
      "This non-commercial license of GraphLab Create for academic use is assigned to jvirico@gmail.com and will expire on March 09, 2018.\n"
     ]
    },
    {
     "name": "stderr",
     "output_type": "stream",
     "text": [
      "[INFO] graphlab.cython.cy_server: GraphLab Create v2.1 started. Logging: C:\\Users\\rico\\AppData\\Local\\Temp\\graphlab_server_1490555269.log.0\n"
     ]
    },
    {
     "data": {
      "text/html": [
       "<pre>Finished parsing file D:\\01 - DATA_SRC_01\\Jacinta\\2552_2016-06-01.csv</pre>"
      ],
      "text/plain": [
       "Finished parsing file D:\\01 - DATA_SRC_01\\Jacinta\\2552_2016-06-01.csv"
      ]
     },
     "metadata": {},
     "output_type": "display_data"
    },
    {
     "data": {
      "text/html": [
       "<pre>Parsing completed. Parsed 100 lines in 1.14307 secs.</pre>"
      ],
      "text/plain": [
       "Parsing completed. Parsed 100 lines in 1.14307 secs."
      ]
     },
     "metadata": {},
     "output_type": "display_data"
    },
    {
     "name": "stdout",
     "output_type": "stream",
     "text": [
      "------------------------------------------------------\n",
      "Inferred types from first 100 line(s) of file as \n",
      "column_type_hints=[str,str,str,str,str,str,str,str,str,str,str,str,str,str,str,str,str,str,str,str,str,str,str,str,str,str,str,str,str,str,str,str,str,str,str,str,str,str,str,str,str,str,str,str,str,str,str,str,str,str,str,str,str,str,str,str,str,str,str,str,str,str,str,str,str,str,str,str,str,str,str,str,str,str,str,str,str,str,str,str,str,str,str,str,str,str,str,str,str,str,str,str,str,str,str,str,str,str,str,str,str,str,str,str,str,str,str,str,str,str,str,str,str,str,str,str,str,str,str,str,str,str,str,str,str,str,str,str,str,str,str,str,str,str,str,str,str,str,str,str,str,str,str,str,str,str,str,str,str,str,str,str,str,str,str,str,str,str,str,str,str,str,str,str,str,str,str,str,str,str,str,str,str,str,str,str,str,str,str,str,str,str,str,str,str,str,str,str,str,str,str,str,str,str,str,str,str,str,str,str,str,str,str,str,str,str,str,str,str,str,str,str,str,str,str,str,str,str,str,str,str,str,str,str,str,str,str,str,str,str,str,str,str,str,str,str,str,str,str,str,str,str,str,str,str,str,str,str,str,str,str,str,str,str,str,str,str,str,str,str,str,str,str,str,str,str,str,str,str,str,str,str,str,str,str,str,str,str,str,str,str,str,str,str,str,str,str,str,str,str,str,str,str,str,str,str,str,str,str,str,str,str,str,str,str,str,str,str,str,str,str,str,str,str,str,str,str,str,str,str,str,str,str,str,str,str,str,str,str,str,str,str,str,str,str,str,str,str,str,str,str,str,str,str,str,str,str,str,str,str,str,str,str,str,str,str,str,str,str,str,str,str,str,str,str,str,str,str,str,str,str,str,str,str,str,str,str,str,str,str,str,str,str,str,str,str,str,str,str,str,str,str,str,str,str,str,str,str,str,str,str,str,str,str,str,str,str,str,str,str,str,str,str,str,str,str,str,str,str,str,str,str,str,str,str,str,str,str,str,str,str,str,str,str,str,str,str,str,str,str,str,str,str,str,str,str,str,str,str,str,str,str,str,str,str,str,str,str,str,str,str,str,str,str,str,str,str,str,str,str,str,str,str,str,str,str,str,str,str,str,str,str,str,str,str,str,str,str,str,str,str,str,str,str,str,str,str,str,str,str,str,str,str,str,str,str,str,str,str,str,str,str,str,str,str,str,str,str,str,str,str,str,str,str,str,str,str,str,str,str,str,str,str,str,str,str,str,str,str,str,str,str,str,str,str,str,str,str,str,str,str,str,str,str,str,str,str,str,str,str,str,str,str,str,str,str,str,str,str,str,str,str,str,str,str,str,str,str,str,str,str,str,str,str,str,str,str,str,str,str,str,str,str,str,str,str,str,str,str,str,str,str,str,str,str,str,str,str,str,str,str,str,str,str,str,str,str,str,str,str,str,str,str,str,str,str,str,str,str,str,str,str,str,str,str,str,str,str,str,str,str,str,str,str,str,str,str,str,str,str,str,str,str,str,str,str,str,str,str,str,str,str,str,str,str,str,str,str,str,str,str,str,str,str,str,str,str,str,str,str,str,str,str,str,str,str,str,str,str,str,str,str,str,str,str,str,str,str,str,str,str,str,str,str,str,str,str,str,str,str,str,str,str,str,str,str,str,str,str,str,str,str,str,str,str,str,str,str,str,str,str,str,str,str,str,str,str,str,str,str,str,str,str,str,str,str,str,str,str,str,str,str,str,str,str,str,str,str,str,str,str,str,str,str,str,str,str,str,str,str,str,str,str,str,str,str,str,str,str,str,str,str,str,str,str,str,str,str,str,str,str,str,str,str,str,str,str,str,str,str,str,str,str,str,str,str,str,str,str,str,str,str,str,str,str,str,str,str,str,str,str,str,str,str,str,str,str,str,str,str,str,str,str,str,str,str,str,str,str,str,str,str,str,str,str,str,str,str,str,str,str,str,str,str,str,str,str,str,str,str,str,str,str,str,str,str,str,str,str,str,str,str,str,str,str,str,str,str,str,str,str,str,str,str,str,str,str,str,str,str,str,str,str,str,str,str,str,str,str,str,str,str,str,str,str,str,str,str,str,str,str,str,str,str,str,str,str,str,str,str,str,str,str,str,str,str,str,str,str,str,str,str,str,str,str,str,str,str,str,str,str,str,str,str,str,str,str,str,str,str,str,str,str,str,str,str,str,str,str,str,str,str,str,str,str,str,str,str,str,str,str,str,str,str,str,str,str,str,str,str,str,str,str,str,str,str,str,str,str,str,str,str,str,str,str,str,str,str,str,str,str,str,str,str,str,str,str,str,str,str,str,str,str,str,str,str,str,str,str,str,str,str,str,str,str,str,str,str,str,str,str,str,str,str,str,str,str,str,str,str,str,str,str,str,str,str,str,str,str,str,str,str,str,str,str,str,str,str,str,str,str,str,str,str,str,str,str,str,str,str,str,str,str,str,str,str,str,str,str,str,str,str,str,str,str,str,str,str,str,str,str,str,str,str,str,str,str,str,str,str,str,str,str,str,str,str,str,str,str,str,str,str,str,str,str,str,str,str,str,str,str,str,str,str,str,str,str,str,str,str,str,str,str,str,str,str,str,str,str,str,str,str,str,str,str,str,str,str,str,str,str,str,str,str,str,str,str,str,str,str,str,str,str,str,str,str,str,str,str,str,str,str,str,str,str,str,str,str,str,str,str,str,str,str,str,str,str,str,str,str,str,str,str,str,str,str,str,str,str,str,str,str,str,str,str,str,str,str,str,str,str,str,str,str,str,str,str,str,str,str,str,str,str,str,str,str,str,str,str,str,str,str,str,str,str,str,str,str,str,str,str,str,str,str,str,str,str,str,str,str,str,str,str,str,str,str,str,str,str,str,str,str,str,str,str,str,str,str,str,str,str,str,str,str,str,str,str,str,str,str,str,str,str,str,str,str,str,str,str,str,str,str,str,str,str,str,str,str,str,str,str,str,str,str,str,str,str,str,str,str,str,str,str,str,str,str,str,str,str,str,str,str,str,str,str,str,str,str,str,str,str,str,str,str,str,str,str,str,str,str,str,str,str,str,str,str,str,str,str,str,str,str,str,str,str,str,str,str,str,str,str,str,str,str,str,str,str,str,str,str,str,str,str,str,str,str,str,str,str,str,str,str,str,str,str,str,str,str,str,str,str,str,str,str,str,str,str,str,str,str,str,str,str,str,str,str,str,str,str,str,str,str,str,str,str,str,str,str,str,str,str,str,str,str,str,str,str,str,str,str,str,str,str,str,str,str,str,str,str,str,str,str,str,str,str,str,str,str,str,str,str,str,str,str,str,str,str,str,str,str,str,str,str,str,str,str,str,str,str,str,str,str,str,str,str,str,str,str,str,str,str,str,str,str,str,str,str,str,str,str,str,str,str,str,str,str,str,str,str,str,str,str,str,str,str,str,str,str,str,str,str,str,str,str,str,str,str,str,str,str,str,str,str,str,str,str,str,str,str,str,str,str,str,str,str,str,str,str,str,str,str,str,str,str,str,str,str,str,str,str,str,str,str,str,str,str,str,str,str,str,str,str,str,str,str,str,str,str,str,str,str,str,str,str,str,str,str,str,str,str,str,str,str,str,str,str,str,str,str,str,str,str,str,str,str,str,str,str,str,str,str,str,str,str,str,str,str,str,str,str,str,str,str,str,str,str,str,str,str,str,str,str,str,str,str,str,str,str,str,str,str,str,str,str,str,str,str,str,str,str,str,str,str,str,str,str,str,str,str,str,str,str,str,str,str,str,str,str,str,str,str,str,str,str,str,str,str,str,str,str,str,str,str,str,str,str,str,str,str,str,str,str,str,str,str,str,str,str,str,str,str,str,str,str,str,str,str,str,str,str,str,str,str,str,str,str,str,str,str,str,str,str,str,str,str,str,str,str,str,str,str,str,str,str,str,str,str,str,str,str,str,str,str,str,str,str,str,str,str,str,str,str,str,str,str,str,str,str,str,str,str,str,str,str,str,str,str,str,str,str,str,str,str,str,str,str,str,str,str,str,str,str,str,str,str,str,str,str,str,str,str,str,str,str,str,str,str,str,str,str,str,str,str,str,str,str,str,str,str,str,str,str,str,str,str,str,str,str,str,str,str,str,str,str,str,str,str,str,str,str,str,str,str,str,str,str,str,str,str,str,str,str,str,str,str,str,str,str,str,str,str,str,str,str,str,str,str,str,str,str,str,str,str,str,str,str,str,str,str,str,str,str,str,str,str,str,str,str,str,str,str,str,str,str,str,str,str,str,str,str,str,str,str,str,str,str,str,str,str,str,str,str,str,str,str,str,str,str,str,str,str,str,str,str,str,str,str,str,str,str,str,str,str,str,str,str,str,str,str,str,str,str,str,str,str,str,str,str,str,str,str,str,str,str,str,str,str,str,str,str,str,str,str,str,str,str,str,str,str,str,str,str,str,str,str,str,str,str,str,str,str,str,str,str,str,str,str,str,str,str,str,str,str,str,str,str,str,str,str,str,str,str,str,str,str,str,str,str,str,str,str,str,str,str,str,str,str,str,str,str,str,str,str,str,str,str,str,str,str,str,str,str,str,str,str,str,str,str,str,str,str,str,str,str,str,str,str,str,str,str,str,str,str,str,str,str,str,str,str,str,str,str,str,str,str,str,str,str,str,str,str,str,str,str,str,str,str,str,str,str,str,str,str,str,str,str,str,str,str,str,str,str,str,str,str,str,str,str,str,str,str,str,str,str,str,str,str,str,str,str,str,str,str,str,str,str,str,str,str,str,str,str,str,str,str,str,str,str,str,str,str,str,str,str,str,str,str,str,str,str,str,str,str,str,str,str,str,str,str,str,str,str,str,str,str,str,str,str,str,str,str,str,str,str,str,str,str,str,str,str,str,str,str,str,str,str,str,str,str,str,str,str,str,str,str,str,str,str,str,str,str,str,str,str,str,str,str,str,str,str,str,str,str,str,str,str,str,str,str,str,str,str,str,str,str,str,str,str,str,str,str,str,str,str,str,str,str,str,str,str,str,str,str,str,str,str,str,str,str,str,str,str,str,str,str,str,str,str,str,str,str,str,str,str,str,str,str,str,str,str,str,str,str,str,str,str,str,str,str,str,str,str,str,str,str,str,str,str,str,str,str,str,str,str,str,str,str,str,str,str,str,str,str,str,str,str,str,str,str,str,str,str,str,str,str,str,str,str,str,str,str,str,str,str,str,str,str,str,str,str,str,str,str,str,str,str,str,str,str,str,str,str,str,str,str,str,str,str,str,str,str,str,str,str,str,str,str,str,str,str,str,str,str,str,str,str,str,str,str,str,str,str,str,str,str,str,str,str,str,str,str,str,str,str,str,str,str,str,str,str,str,str,str,str,str,str,str,str,str,str,str,str,str,str,str,str,str,str,str,str,str,str,str,str,str,str,str,str,str,str,str,str,str,str,str,str,str,str,str,str,str,str,str,str,str,str,str,str,str,str,str,str,str,str,str,str,str,str,str,str,str,str,str,str,str,str,str,str,str,str,str,str,str,str,str,str,str,str,str,str,str,str,str,str,str,str,str,str,str,str,str,str,str,str,str,str,str,str,str,str,str,str,str,str,str,str,str,str,str,str,str,str,str,str,str,str,str,str,str,str,str,str,str,str,str,str,str,str,str,str,str,str,str,str,str,str,str,str,str,str,str,str,str,str,str,str,str,str,str,str,str,str,str,str,str,str,str,str,str,str,str,str,str,str,str,str,str,str,str,str,str,str,str,str,str,str,str,str,str,str,str,str,str,str,str,str,str,str,str,str,str,str,str,str,str,str,str,str,str,str,str,str,str,str,str,str,str,str,str,str,str,str,str,str,str,str,str,str,str,str,str,str,str,str,str,str,str,str,str,str,str,str,str,str,str,str,str,str,str,str,str,str,str,str,str,str,str,str,str,str,str,str,str,str,str,str,str,str,str,str,str,str,str,str,str,str,str,str,str,str,str,str,str,str,str,str,str,str,str,str,str,str,str,str,str,str,str,str,str,str,str,str,str,str,str,str,str,str,str,str,str,str,str,str,str,str,str,str,str,str,str,str,str,str,str,str,str,str,str,str,str,str,str,str,str,str,str,str,str,str,str,str,str,str,str,str,str,str,str,str,str,str,str,str,str,str,str,str,str,str,str,str,str,str,str,str,str,str,str,str,str,str,str,str,str,str,str,str,str,str,str,str,str,str,str,str,str,str,str,str,str,str,str,str,str,str,str,str,str,str,str,str,str,str,str,str,str,str,str,str,str,str,str,str,str,str,str,str,str,str,str,str,str,str,str,str,str,str,str,str,str,str,str,str,str,str,str,str,str,str,str,str,str,str,str,str,str,str,str,str,str,str,str,str,str,str,str,str,str,str,str,str,str,str,str,str,str,str,str,str,str,str,str,str,str,str,str,str,str,str,str,str,str,str,str,str,str,str,str,str,str,str,str,str,str,str,str,str,str,str,str,str,str,str,str,str,str,str,str,str,str,str,str,str,str,str,str,str,str,str,str,str,str,str,str,str,str,str,str,str,str,str,str,str,str,str,str,str,str,str,str,str,str,str,str,str,str,str,str,str,str,str,str,str,str,str,str,str,str,str,str,str,str,str,str,str,str,str,str,str,str,str,str,str,str,str,str,str,str,str,str,str,str,str,str,str,str,str,str,str,str,str,str,str,str,str,str,str,str,str,str,str,str,str,str,str,str,str,str,str,str,str,str,str,str,str,str,str,str,str,str,str,str,str,str,str,str,str,str,str,str,str,str,str,str,str,str,str,str,str,str,str,str,str,str,str,str,str,str,str,str,str,str,str,str,str,str,str,str,str,str,str,str,str,str,str,str,str,str,str,str,str,str,str,str,str,str,str,str,str,str,str,str,str,str,str,str,str,str,str,str,str,str,str,str,str,str,str,str,str,str,str,str,str,str,str,str,str,str,str,str,str,str,str,str,str,str,str,str,str,str,str,str,str,str,str,str,str,str,str,str,str,str,str,str,str,str,str,str,str,str,str,str,str,str,str,str,str,str,str,str,str,str,str,str,str,str,str,str,str,str,str,str,str,str,str,str,str,str,str,str,str,str,str,str,str,str,str,str,str,str,str,str,str,str,str,str,str,str,str,str,str,str,str,str,str,str,str,str,str,str,str,str,str,str,str,str,str,str,str,str,str,str,str,str,str,str,str,str,str,str,str,str,str,str,str,str,str,str,str,str,str,str,str,str,str,str,str,str,str,str,str,str,str,str,str,str,str,str,str,str,str,str,str,str,str,str,str,str,str,str,str,str,str,str,str,str,str,str,str,str,str,str,str,str,str,str,str,str,str,str,str,str,str,str,str,str,str,str,str,str,str,str,str,str,str,str,str,str,str,str,str,str,str,str,str,str,str,str,str,str,str,str,str,str,str,str,str,str,str,str,str,str,str,str,str,str,str,str,str,str,str,str,str,str,str,str,str,str,str,str,str,str,str,str,str,str,str,str,str,str,str,str,str,str,str,str,str,str,str,str,str,str,str,str,str,str,str,str,str,str,str,str,str,str,str,str,str,str,str,str,str,str,str,str,str,str,str,str,str,str,str,str,str,str,str,str,str,str,str,str,str,str,str,str,str,str,str,str,str,str,str,str,str,str,str,str,str,str,str,str,str,str,str,str,str,str,str,str,str,str,str,str,str,str,str,str,str,str,str,str,str,str,str,str,str,str,str,str,str,str,str,str,str,str,str,str,str,str,str,str,str,str,str,str,str,str,str,str,str,str,str,str,str,str,str,str,str,str,str,str,str,str,str,str,str,str,str,str,str,str,str,str,str,str,str,str,str,str,str,str,str,str,str,str,str,str,str,str,str,str,str,str,str,str,str,str,str,str,str,str,str,str,str,str,str,str,str,str,str,str,str,str,str,str,str,str,str,str,str,str,str,str,str,str,str,str,str,str,str,str,str,str,str,str,str,str,str,str,str,str,str,str,str,str,str,str,str,str,str,str,str,str,str,str,str,str,str,str,str,str,str,str,str,str,str,str,str,str,str,str,str,str,str,str,str,str,str,str,str,str,str,str,str,str,str,str,str,str,str,str,str,str,str,str,str,str,str,str,str,str,str,str,str,str,str,str,str,str,str,str,str,str,str,str,str,str,str,str,str,str,str,str,str,str,str,str,str,str,str,str,str,str,str,str,str,str,str,str,str,str,str,str,str,str,str,str,str,str,str,str,str,str,str,str,str,str,str,str,str,str,str,str,str,str,str,str,str,str,str,str,str,str,str,str,str,str,str,str,str,str,str,str,str,str,str,str,str,str,str,str,str,str,str,str,str,str,str,str,str,str,str,str,str,str,str,str,str,str,str,str,str,str,str,str,str,str,str,str,str,str,str,str,str,str,str,str,str,str,str,str,str,str,str,str,str,str,str,str,str,str,str,str,str,str,str,str,str,str,str,str,str,str,str,str,str,str,str,str,str,str,str,str,str,str,str,str,str,str,str,str,str,str,str,str,str,str,str,str,str,str,str,str,str,str,str,str,str,str,str,str,str,str,str,str,str,str,str,str,str,str,str,str,str,str,str,str,str,str,str,str,str,str,str,str,str,str,str,str,str,str,str,str,str,str,str,str,str,str,str,str,str,str,str,str,str,str,str,str,str,str,str,str,str,str,str,str,str,str,str,str,str,str,str,str,str,str,str,str,str,str,str,str,str,str,str,str,str,str,str,str,str,str,str,str,str,str,str,str,str,str,str,str,str,str,str,str,str,str,str,str,str,str,str,str,str,str,str,str,str,str,str,str,str,str,str,str,str,str,str,str,str,str,str,str,str,str,str,str,str,str,str,str,str,str,str,str,str,str,str,str,str,str,str,str,str,str,str,str,str,str,str,str,str,str,str,str,str,str,str,str,str,str,str,str,str,str,str,str,str,str,str,str,str,str,str,str,str,str,str,str,str,str,str,str,str,str,str,str,str,str,str,str,str,str,str,str,str,str,str,str,str,str,str,str,str,str,str,str,str,str,str,str,str,str,str,str,str,str,str,str,str,str,str,str,str,str,str,str,str,str,str,str,str,str,str,str,str,str,str,str,str,str,str,str,str,str,str,str,str,str,str,str,str,str,str,str,str,str,str,str,str,str,str,str,str,str,str,str,str,str,str,str,str,str,str,str,str,str,str,str,str,str,str,str,str,str,str,str,str,str,str,str,str,str,str,str,str,str,str,str,str,str,str,str,str,str,str,str,str,str,str,str,str,str,str,str,str,str,str,str,str,str,str,str,str,str,str,str,str,str,str,str,str,str,str,str,str,str,str,str,str,str,str,str,str,str,str,str,str,str,str,str,str,str,str,str,str,str,str,str,str,str,str,str,str,str,str,str,str,str,str,str,str,str,str,str,str,str,str,str,str,str,str,str,str,str,str,str,str,str,str,str,str,str,str,str,str,str,str,str,str,str,str,str,str,str,str,str,str,str,str,str,str,str,str,str,str,str,str,str,str,str,str,str,str,str,str,str,str,str,str,str,str,str,str,str,str,str,str,str,str,str,str,str,str,str,str,str,str,str,str,str,str,str,str,str,str,str,str,str,str,str,str,str,str,str,str,str,str,str,str,str,str,str,str,str,str,str,str,str,str,str,str,str,str,str,str,str,str,str,str,str,str,str,str,str,str,str,str,str,str,str,str,str,str,str,str,str,str,str,str,str,str,str,str,str,str,str,str,str,str,str,str,str,str,str,str,str,str,str,str,str,str,str,str,str,str,str,str,str,str,str,str,str,str,str,str,str,str,str,str,str,str,str,str,str,str,str,str,str,str,str,str,str,str,str,str,str,str,str,str,str,str,str,str,str,str,str,str,str,str,str,str,str,str,str,str,str,str,str,str,str,str,str,str,str,str,str,str,str,str,str,str,str,str,str,str,str,str,str,str,str,str,str,str,str,str,str,str,str,str,str,str,str,str,str,str,str,str,str,str,str,str,str,str,str,str,str,str,str,str,str,str,str,str,str,str,str,str,str,str,str,str,str,str,str,str,str,str,str,str,str,str,str,str,str,str,str,str,str,str,str,str,str,str,str,str,str,str,str,str,str,str,str,str,str,str,str,str,str,str,str,str,str,str,str,str,str,str,str,str,str,str,str,str,str,str,str,str,str,str,str,str,str,str,str,str,str,str,str,str,str,str,str,str,str,str,str,str,str,str,str,str,str,str,str,str,str,str,str,str,str,str,str,str,str,str,str,str,str,str,str,str,str,str,str,str,str,str,str,str,str,str,str,str,str,str,str,str,str,str,str,str,str,str,str,str,str,str,str,str,str,str,str,str,str,str,str,str,str,str,str,str,str,str,str,str,str,str,str,str,str,str,str,str,str,str,str,str,str,str,str,str,str,str,str,str,str,str,str,str,str,str,str,str,str,str,str,str,str,str,str,str,str,str,str,str,str,str,str,str,str,str,str,str,str,str,str,str,str,str,str,str,str,str,str,str,str,str,str,str,str,str,str,str,str,str,str,str,str,str,str,str,str,str,str,str,str,str,str,str,str,str,str,str,str,str,str,str,str,str,str,str,str,str,str,str,str,str,str,str,str,str,str,str,str,str,str,str,str,str,str,str,str,str,str,str,str,str,str,str,str,str,str,str,str,str,str,str,str,str,str,str,str,str,str,str,str,str,str,str,str,str,str,str,str,str,str,str,str,str,str,str,str,str,str,str,str,str,str,str,str,str,str,str,str,str,str,str,str,str,str,str,str,str,str,str,str,str,str,str,str,str,str,str,str,str,str,str,str,str,str,str,str,str,str,str,str,str,str,str,str,str,str,str,str,str,str,str,str,str,str,str,str,str,str,str,str,str,str,str,str,str,str,str,str,str,str,str,str,str,str,str,str,str,str,str,str,str,str,str,str,str,str,str,str,str,str,str,str,str,str,str,str,str,str,str,str,str,str,str,str,str,str,str,str,str,str,str,str,str,str,str,str,str,str,str,str,str,str,str,str,str,str,str,str,str,str,str,str,str,str,str,str,str,str,str,str,str,str,str,str,str,str,str,str,str,str,str,str,str,str,str,str,str,str,str,str,str,str,str,str,str,str,str,str,str,str,str,str,str,str,str,str,str,str,str,str,str,str,str,str,str,str,str,str,str,str,str,str,str,str,str,str,str,str,str,str,str,str,str,str,str,str,str,str,str,str,str,str,str,str,str,str,str,str,str,str,str,str,str,str,str,str,str,str,str,str,str,str,str,str,str,str,str,str,str,str,str,str,str,str,str,str,str,str,str,str,str,str,str,str,str,str,str,str,str,str,str,str,str,str,str,str,str,str,str,str,str,str,str,str,str,str,str,str,str,str,str,str,str,str,str,str,str,str,str,str,str,str,str,str,str,str,str,str,str,str,str,str,str,str,str,str,str,str,str,str,str,str,str,str,str,str,str,str,str,str,str,str,str,str,str,str,str,str,str,str,str,str,str,str,str,str,str,str,str,str,str,str,str,str,str,str,str,str,str,str,str,str,str,str,str,str,str,str,str,str,str,str,str,str,str,str,str,str,str,str,str,str,str,str,str,str,str,str,str,str,str,str,str,str,str,str,str,str,str,str,str,str,str,str,str,str,str,str,str,str,str,str,str,str,str,str,str,str,str,str,str,str,str,str,str,str,str,str,str,str,str,str,str,str,str,str,str,str,str,str,str,str,str,str,str,str,str,str,str,str,str,str,str,str,str,str,str,str,str,str,str,str,str,str,str,str,str,str,str,str,str,str,str,str,str,str,str,str,str,str,str,str,str,str,str,str,str,str,str,str,str,str,str,str,str,str,str,str,str,str,str,str,str,str,str,str,str,str,str,str,str,str,str,str,str,str,str,str,str,str,str,str,str,str,str,str,str,str,str,str,str,str,str,str,str,str,str,str,str,str,str,str,str,str,str,str,str,str,str,str,str,str,str,str,str,str,str,str,str,str,str,str,str,str,str,str,str,str,str,str,str,str,str,str,str,str,str,str,str,str,str,str,str,str,str,str,str,str,str,str,str,str,str,str,str,str,str,str,str,str,str,str,str,str,str,str,str,str,str,str,str,str,str,str,str,str,str,str,str,str,str,str,str,str,str,str,str,str,str,str,str,str,str,str,str,str,str,str,str,str,str,str,str,str,str,str,str,str,str,str,str,str,str,str,str,str,str,str,str,str,str,str,str,str,str,str,str,str,str,str,str,str,str,str,str,str,str,str,str,str,str,str,str,str,str,str,str,str,str,str,str,str,str,str,str,str,str,str,str,str,str,str,str,str,str,str,str,str,str,str,str,str,str,str,str,str,str,str,str,str,str,str,str,str,str,str,str,str,str,str,str,str,str,str,str,str,str,str,str,str,str,str,str,str,str,str,str,str,str,str,str,str,str,str,str,str,str,str,str,str,str,str,str,str,str,str,str,str,str,str,str,str,str,str,str,str,str,str,str,str,str,str,str,str,str,str,str,str,str,str,str,str,str,str,str,str,str,str,str,str,str,str,str,str,str,str,str,str,str,str,str,str,str,str,str,str,str,str,str,str,str,str,str,str,str,str,str,str,str,str,str,str,str,str,str,str,str,str,str,str,str,str,str,str,str,str,str,str,str,str,str,str,str,str,str,str,str,str,str,str,str,str,str,str,str,str,str,str,str,str,str,str,str,str,str,str,str,str,str,str,str,str,str,str,str,str,str,str,str,str,str,str,str,str,str,str,str,str,str,str,str,str,str,str,str,str,str,str,str,str,str,str,str,str,str,str,str,str,str,str,str,str,str,str,str,str,str,str,str,str,str,str,str,str,str,str,str,str,str,str,str,str,str,str,str,str,str,str,str,str,str,str,str,str,str,str,str,str,str,str,str,str,str,str,str,str,str,str,str,str,str,str,str,str,str,str,str,str,str,str,str,str,str,str,str,str,str,str,str,str,str,str,str,str,str,str,str,str,str,str,str,str,str,str,str,str,str,str,str,str,str,str,str,str,str,str,str,str,str,str,str,str,str,str,str,str,str,str,str,str,str,str,str,str,str,str,str,str,str,str,str,str,str,str,str,str,str,str,str,str,str,str,str,str,str,str,str,str,str,str,str,str,str,str,str,str,str,str,str,str,str,str,str,str,str,str,str,str,str,str,str,str,str,str,str,str,str,str,str,str,str,str,str,str,str,str,str,str,str,str,str,str,str,str,str,str,str,str,str,str,str,str,str,str,str,str,str,str,str,str,str,str,str,str,str,str,str,str,str,str,str,str,str,str,str,str,str,str,str,str,str,str,str,str,str,str,str,str,str,str,str,str,str,str,str,str,str,str,str,str,str,str,str,str,str,str,str,str,str,str,str,str,str,str,str,str,str,str,str,str,str,str,str,str,str,str,str,str,str,str,str,str,str,str,str,str,str,str,str,str,str,str,str,str,str,str,str,str,str,str,str,str,str,str,str,str,str,str,str,str,str,str,str,str,str,str,str,str,str,str,str,str,str,str,str,str,str,str,str,str,str,str,str,str,str,str,str,str,str,str,str,str,str,str,str,str,str,str,str,str,str,str,str,str,str,str,str,str,str,str,str,str,str,str,str,str,str,str,str,str,str,str,str,str,str,str,str,str,str,str,str,str,str,str,str,str,str,str,str,str,str,str,str,str,str,str,str,str,str,str,str,str,str,str,str,str,str,str,str,str,str,str,str,str,str,str,str,str,str,str,str,str,str,str,str,str,str,str,str,str,str,str,str,str,str,str,str,str,str,str,str,str,str,str,str,str,str,str,str,str,str,str,str,str,str,str,str,str,str,str,str,str,str,str,str,str,str,str,str,str,str,str,str,str,str,str,str,str,str,str,str,str,str,str,str,str,str,str,str,str,str,str,str,str,str,str,str]\n",
      "If parsing fails due to incorrect types, you can correct\n",
      "the inferred type list above and pass it to read_csv in\n",
      "the column_type_hints argument\n",
      "------------------------------------------------------\n"
     ]
    },
    {
     "data": {
      "text/html": [
       "<pre>Finished parsing file D:\\01 - DATA_SRC_01\\Jacinta\\2552_2016-06-01.csv</pre>"
      ],
      "text/plain": [
       "Finished parsing file D:\\01 - DATA_SRC_01\\Jacinta\\2552_2016-06-01.csv"
      ]
     },
     "metadata": {},
     "output_type": "display_data"
    },
    {
     "data": {
      "text/html": [
       "<pre>Parsing completed. Parsed 2486 lines in 2.22813 secs.</pre>"
      ],
      "text/plain": [
       "Parsing completed. Parsed 2486 lines in 2.22813 secs."
      ]
     },
     "metadata": {},
     "output_type": "display_data"
    }
   ],
   "source": [
    "jacinta_0616 = graphlab.SFrame.read_csv(src + '2552_2016-06-01.csv', delimiter=';',header= False)"
   ]
  },
  {
   "cell_type": "code",
   "execution_count": 5,
   "metadata": {
    "collapsed": false,
    "scrolled": true
   },
   "outputs": [
    {
     "name": "stdout",
     "output_type": "stream",
     "text": [
      "+---------------------+---------------+---------------+---------------------+\n",
      "|          X1         |       X2      |       X3      |          X4         |\n",
      "+---------------------+---------------+---------------+---------------------+\n",
      "|   datalogger_name   |      CT01     |      CT01     |         CT01        |\n",
      "|     device_name     | Inversor 01.2 | Inversor 01.2 |    Inversor 01.2    |\n",
      "|    parameter_name   |  COMS STATUS  | ACTIVE ENERGY | ACTIVE ENERGY TODAY |\n",
      "|         unit        |               |      kWh      |         kWh         |\n",
      "| 2016-06-22 07:10:00 |               |       0       |          0          |\n",
      "| 2016-06-22 07:20:00 |      128      |       0       |          0          |\n",
      "| 2016-06-22 07:25:00 |      128      |       0       |          0          |\n",
      "| 2016-06-22 07:30:00 |      128      |       0       |          0          |\n",
      "| 2016-06-22 07:35:00 |      128      |       0       |          0          |\n",
      "| 2016-06-22 07:40:00 |      128      |       0       |          0          |\n",
      "+---------------------+---------------+---------------+---------------------+\n",
      "+---------------+----------------+---------------+---------------+---------------+\n",
      "|       X5      |       X6       |       X7      |       X8      |       X9      |\n",
      "+---------------+----------------+---------------+---------------+---------------+\n",
      "|      CT01     |      CT01      |      CT01     |      CT01     |      CT01     |\n",
      "| Inversor 01.2 | Inversor 01.2  | Inversor 01.2 | Inversor 01.2 | Inversor 01.2 |\n",
      "|  ACTIVE POWER | REACTIVE POWER |  POWER FACTOR |  SIGN COS PHI |   FREQUENCY   |\n",
      "|       kW      |      kVAr      |               |               |       Hz      |\n",
      "|       0       |       0        |       0       |       0       |       0       |\n",
      "|       0       |       0        |       0       |       0       |       0       |\n",
      "|       0       |       0        |       0       |       0       |       0       |\n",
      "|       0       |       0        |       0       |       0       |       0       |\n",
      "|       0       |       0        |       0       |       0       |       0       |\n",
      "|       0       |       0        |       0       |       0       |       0       |\n",
      "+---------------+----------------+---------------+---------------+---------------+\n",
      "+---------------+---------------+---------------+---------------------+\n",
      "|      X10      |      X11      |      X12      |         X13         |\n",
      "+---------------+---------------+---------------+---------------------+\n",
      "|      CT01     |      CT01     |      CT01     |         CT01        |\n",
      "| Inversor 01.2 | Inversor 01.1 | Inversor 01.1 |    Inversor 01.1    |\n",
      "|   DC ENERGY   |  COMS STATUS  | ACTIVE ENERGY | ACTIVE ENERGY TODAY |\n",
      "|      kWh      |               |      kWh      |         kWh         |\n",
      "|       0       |      128      |       0       |          0          |\n",
      "|       0       |      128      |       0       |          0          |\n",
      "|       0       |      128      |       0       |          0          |\n",
      "|       0       |      128      |       0       |          0          |\n",
      "|       0       |      128      |       0       |          0          |\n",
      "|       0       |      128      |       0       |          0          |\n",
      "+---------------+---------------+---------------+---------------------+\n",
      "+---------------+----------------+---------------+---------------+---------------+\n",
      "|      X14      |      X15       |      X16      |      X17      |      X18      |\n",
      "+---------------+----------------+---------------+---------------+---------------+\n",
      "|      CT01     |      CT01      |      CT01     |      CT01     |      CT01     |\n",
      "| Inversor 01.1 | Inversor 01.1  | Inversor 01.1 | Inversor 01.1 | Inversor 01.1 |\n",
      "|  ACTIVE POWER | REACTIVE POWER |  POWER FACTOR |  SIGN COS PHI |   FREQUENCY   |\n",
      "|       kW      |      kVAr      |               |               |       Hz      |\n",
      "|       0       |       0        |       0       |       0       |       0       |\n",
      "|       0       |       0        |       0       |       0       |       0       |\n",
      "|       0       |       0        |       0       |       0       |       0       |\n",
      "|       0       |       0        |       0       |       0       |       0       |\n",
      "|       0       |       0        |       0       |       0       |       0       |\n",
      "|       0       |       0        |       0       |       0       |       0       |\n",
      "+---------------+----------------+---------------+---------------+---------------+\n",
      "+---------------+------------------------+-----+\n",
      "|      X19      |          X20           | ... |\n",
      "+---------------+------------------------+-----+\n",
      "|      CT01     |          CT01          | ... |\n",
      "| Inversor 01.1 | Módulo inversor 01.2.1 | ... |\n",
      "|   DC ENERGY   |      COMS STATUS       | ... |\n",
      "|      kWh      |                        | ... |\n",
      "|       0       |          128           | ... |\n",
      "|       0       |          128           | ... |\n",
      "|       0       |          128           | ... |\n",
      "|       0       |          128           | ... |\n",
      "|       0       |          128           | ... |\n",
      "|       0       |          128           | ... |\n",
      "+---------------+------------------------+-----+\n",
      "[2486 rows x 6116 columns]\n",
      "Note: Only the head of the SFrame is printed.\n",
      "You can use print_rows(num_rows=m, num_columns=n) to print more rows and columns.\n"
     ]
    }
   ],
   "source": [
    "print jacinta_0616"
   ]
  },
  {
   "cell_type": "markdown",
   "metadata": {},
   "source": [
    "# Dividiendo datos en Tablas y CSVs"
   ]
  },
  {
   "cell_type": "code",
   "execution_count": 2,
   "metadata": {
    "collapsed": false,
    "scrolled": true
   },
   "outputs": [],
   "source": [
    "# Creamos función para separar tabla bulk en multiples tablas\n",
    "\n",
    "def getTableBy_datalogger_name(jacintaTable,dl_name):\n",
    "    #Iteramos por columnas buscando dl_name en fila 2 de cada columna\n",
    "    retorno = []\n",
    "    col_list = []\n",
    "    if dl_name != 'datalogger_name':\n",
    "        col_list = ['X1']\n",
    "    col_names = {}\n",
    "    newTable = []\n",
    "    \n",
    "    for i in range(jacintaTable.num_cols()):\n",
    "        if jacintaTable[\"X\" + str(i+1)][0] == dl_name:\n",
    "            col_list.append(\"X\" + str(i+1))\n",
    "            col_names[\"X\" + str(i+1)] = jacintaTable[\"X\" + str(i+1)][1] + ' - ' + jacintaTable[\"X\" + str(i+1)][2] + ' - ' + jacintaTable[\"X\" + str(i+1)][3]\n",
    "    \n",
    "    newTable = jacintaTable[col_list]\n",
    "    #Copiamos de la fila 4 en adelante\n",
    "    newTable = newTable[4:]\n",
    "    col_names['X1'] = 'Timestamp'\n",
    "    newTable.rename(col_names)\n",
    "    retorno = newTable\n",
    "    return retorno"
   ]
  },
  {
   "cell_type": "code",
   "execution_count": 3,
   "metadata": {
    "collapsed": true
   },
   "outputs": [],
   "source": [
    "# Creamos función para separar por 'device_name' de cada 'datalogger_name'\n",
    "def getTableBy_device_name(jacintaTable,dl_name,dv_name):\n",
    "    #Iteramos por columnas buscando dl_name en fila 2 de cada columna\n",
    "    retorno = []\n",
    "    col_list = []\n",
    "    if dl_name != 'datalogger_name':\n",
    "        col_list = ['X1']\n",
    "    col_names = {}\n",
    "    \n",
    "    for i in range(jacintaTable.num_cols()):\n",
    "        if (jacintaTable[\"X\" + str(i+1)][0] == dl_name) and (jacintaTable[\"X\" + str(i+1)][1] == dv_name):\n",
    "            col_list.append(\"X\" + str(i+1))\n",
    "            col_names[\"X\" + str(i+1)] = jacintaTable[\"X\" + str(i+1)][1] + ' - ' + jacintaTable[\"X\" + str(i+1)][2] + ' - ' + jacintaTable[\"X\" + str(i+1)][3]\n",
    "                \n",
    "\n",
    "    newTable = jacintaTable[col_list]\n",
    "    #Copiamos de la fila 4 en adelante\n",
    "    newTable = newTable[4:]\n",
    "    col_names['X1'] = 'Timestamp'\n",
    "    newTable.rename(col_names)\n",
    "    retorno = newTable\n",
    "    return retorno"
   ]
  },
  {
   "cell_type": "code",
   "execution_count": 62,
   "metadata": {
    "collapsed": true
   },
   "outputs": [
    {
     "name": "stdout",
     "output_type": "stream",
     "text": [
      "+-----------------+--------------------------------+-------------------------------+\n",
      "|    Timestamp    | Inversor 01.2 - COMS STATUS -  | Inversor 01.2 - ACTIVE ENE... |\n",
      "+-----------------+--------------------------------+-------------------------------+\n",
      "| 22/06/2016 7:10 |                                |               0               |\n",
      "| 22/06/2016 7:20 |              128               |               0               |\n",
      "| 22/06/2016 7:25 |              128               |               0               |\n",
      "| 22/06/2016 7:30 |              128               |               0               |\n",
      "| 22/06/2016 7:35 |              128               |               0               |\n",
      "| 22/06/2016 7:40 |              128               |               0               |\n",
      "| 22/06/2016 7:45 |              128               |               0               |\n",
      "+-----------------+--------------------------------+-------------------------------+\n",
      "+-------------------------------+-------------------------------+-------------------------------+\n",
      "| Inversor 01.2 - ACTIVE ENE... | Inversor 01.2 - ACTIVE POW... | Inversor 01.2 - REACTIVE P... |\n",
      "+-------------------------------+-------------------------------+-------------------------------+\n",
      "|               0               |               0               |               0               |\n",
      "|               0               |               0               |               0               |\n",
      "|               0               |               0               |               0               |\n",
      "|               0               |               0               |               0               |\n",
      "|               0               |               0               |               0               |\n",
      "|               0               |               0               |               0               |\n",
      "|               0               |               0               |               0               |\n",
      "+-------------------------------+-------------------------------+-------------------------------+\n",
      "+-------------------------------+-------------------------------+--------------------------------+\n",
      "| Inversor 01.2 - POWER FACT... | Inversor 01.2 - SIGN COS P... | Inversor 01.2 - FREQUENCY - Hz |\n",
      "+-------------------------------+-------------------------------+--------------------------------+\n",
      "|               0               |               0               |               0                |\n",
      "|               0               |               0               |               0                |\n",
      "|               0               |               0               |               0                |\n",
      "|               0               |               0               |               0                |\n",
      "|               0               |               0               |               0                |\n",
      "|               0               |               0               |               0                |\n",
      "|               0               |               0               |               0                |\n",
      "+-------------------------------+-------------------------------+--------------------------------+\n",
      "+-------------------------------+\n",
      "| Inversor 01.2 - DC ENERGY ... |\n",
      "+-------------------------------+\n",
      "|               0               |\n",
      "|               0               |\n",
      "|               0               |\n",
      "|               0               |\n",
      "|               0               |\n",
      "|               0               |\n",
      "|               0               |\n",
      "+-------------------------------+\n",
      "[7 rows x 10 columns]\n",
      "\n"
     ]
    }
   ],
   "source": [
    "prueba = getTableBy_device_name(jacinta_0616,'CT01','Inversor 01.2')\n",
    "print prueba"
   ]
  },
  {
   "cell_type": "code",
   "execution_count": 63,
   "metadata": {
    "collapsed": true
   },
   "outputs": [
    {
     "name": "stdout",
     "output_type": "stream",
     "text": [
      "+-----------------+--------------------------------+-------------------------------+\n",
      "|    Timestamp    | Inversor 01.2 - COMS STATUS -  | Inversor 01.2 - ACTIVE ENE... |\n",
      "+-----------------+--------------------------------+-------------------------------+\n",
      "| 22/06/2016 7:10 |                                |               0               |\n",
      "| 22/06/2016 7:20 |              128               |               0               |\n",
      "| 22/06/2016 7:25 |              128               |               0               |\n",
      "| 22/06/2016 7:30 |              128               |               0               |\n",
      "| 22/06/2016 7:35 |              128               |               0               |\n",
      "| 22/06/2016 7:40 |              128               |               0               |\n",
      "| 22/06/2016 7:45 |              128               |               0               |\n",
      "+-----------------+--------------------------------+-------------------------------+\n",
      "+-------------------------------+-------------------------------+-------------------------------+\n",
      "| Inversor 01.2 - ACTIVE ENE... | Inversor 01.2 - ACTIVE POW... | Inversor 01.2 - REACTIVE P... |\n",
      "+-------------------------------+-------------------------------+-------------------------------+\n",
      "|               0               |               0               |               0               |\n",
      "|               0               |               0               |               0               |\n",
      "|               0               |               0               |               0               |\n",
      "|               0               |               0               |               0               |\n",
      "|               0               |               0               |               0               |\n",
      "|               0               |               0               |               0               |\n",
      "|               0               |               0               |               0               |\n",
      "+-------------------------------+-------------------------------+-------------------------------+\n",
      "+-------------------------------+-------------------------------+--------------------------------+\n",
      "| Inversor 01.2 - POWER FACT... | Inversor 01.2 - SIGN COS P... | Inversor 01.2 - FREQUENCY - Hz |\n",
      "+-------------------------------+-------------------------------+--------------------------------+\n",
      "|               0               |               0               |               0                |\n",
      "|               0               |               0               |               0                |\n",
      "|               0               |               0               |               0                |\n",
      "|               0               |               0               |               0                |\n",
      "|               0               |               0               |               0                |\n",
      "|               0               |               0               |               0                |\n",
      "|               0               |               0               |               0                |\n",
      "+-------------------------------+-------------------------------+--------------------------------+\n",
      "+-------------------------------+--------------------------------+-------------------------------+\n",
      "| Inversor 01.2 - DC ENERGY ... | Inversor 01.1 - COMS STATUS -  | Inversor 01.1 - ACTIVE ENE... |\n",
      "+-------------------------------+--------------------------------+-------------------------------+\n",
      "|               0               |              128               |               0               |\n",
      "|               0               |              128               |               0               |\n",
      "|               0               |              128               |               0               |\n",
      "|               0               |              128               |               0               |\n",
      "|               0               |              128               |               0               |\n",
      "|               0               |              128               |               0               |\n",
      "|               0               |              128               |               0               |\n",
      "+-------------------------------+--------------------------------+-------------------------------+\n",
      "+-------------------------------+-------------------------------+-------------------------------+\n",
      "| Inversor 01.1 - ACTIVE ENE... | Inversor 01.1 - ACTIVE POW... | Inversor 01.1 - REACTIVE P... |\n",
      "+-------------------------------+-------------------------------+-------------------------------+\n",
      "|               0               |               0               |               0               |\n",
      "|               0               |               0               |               0               |\n",
      "|               0               |               0               |               0               |\n",
      "|               0               |               0               |               0               |\n",
      "|               0               |               0               |               0               |\n",
      "|               0               |               0               |               0               |\n",
      "|               0               |               0               |               0               |\n",
      "+-------------------------------+-------------------------------+-------------------------------+\n",
      "+-------------------------------+-------------------------------+--------------------------------+\n",
      "| Inversor 01.1 - POWER FACT... | Inversor 01.1 - SIGN COS P... | Inversor 01.1 - FREQUENCY - Hz |\n",
      "+-------------------------------+-------------------------------+--------------------------------+\n",
      "|               0               |               0               |               0                |\n",
      "|               0               |               0               |               0                |\n",
      "|               0               |               0               |               0                |\n",
      "|               0               |               0               |               0                |\n",
      "|               0               |               0               |               0                |\n",
      "|               0               |               0               |               0                |\n",
      "|               0               |               0               |               0                |\n",
      "+-------------------------------+-------------------------------+--------------------------------+\n",
      "+-------------------------------+-------------------------------+-----+\n",
      "| Inversor 01.1 - DC ENERGY ... | Módulo inversor 01.2.1 - C... | ... |\n",
      "+-------------------------------+-------------------------------+-----+\n",
      "|               0               |              128              | ... |\n",
      "|               0               |              128              | ... |\n",
      "|               0               |              128              | ... |\n",
      "|               0               |              128              | ... |\n",
      "|               0               |              128              | ... |\n",
      "|               0               |              128              | ... |\n",
      "|               0               |              128              | ... |\n",
      "+-------------------------------+-------------------------------+-----+\n",
      "[7 rows x 239 columns]\n",
      "\n",
      "+-----------------+--------------------------------+-------------------------------+\n",
      "|    Timestamp    | Inversor 04.2 - COMS STATUS -  | Inversor 04.2 - ACTIVE ENE... |\n",
      "+-----------------+--------------------------------+-------------------------------+\n",
      "| 22/06/2016 7:10 |                                |               0               |\n",
      "| 22/06/2016 7:20 |              128               |               0               |\n",
      "| 22/06/2016 7:25 |              128               |               0               |\n",
      "| 22/06/2016 7:30 |              128               |               0               |\n",
      "| 22/06/2016 7:35 |              128               |               0               |\n",
      "| 22/06/2016 7:40 |              128               |               0               |\n",
      "| 22/06/2016 7:45 |              128               |               0               |\n",
      "+-----------------+--------------------------------+-------------------------------+\n",
      "+-------------------------------+-------------------------------+-------------------------------+\n",
      "| Inversor 04.2 - ACTIVE ENE... | Inversor 04.2 - ACTIVE POW... | Inversor 04.2 - REACTIVE P... |\n",
      "+-------------------------------+-------------------------------+-------------------------------+\n",
      "|               0               |               0               |               0               |\n",
      "|               0               |               0               |               0               |\n",
      "|               0               |               0               |               0               |\n",
      "|               0               |               0               |               0               |\n",
      "|               0               |               0               |               0               |\n",
      "|               0               |               0               |               0               |\n",
      "|               0               |               0               |               0               |\n",
      "+-------------------------------+-------------------------------+-------------------------------+\n",
      "+-------------------------------+-------------------------------+--------------------------------+\n",
      "| Inversor 04.2 - POWER FACT... | Inversor 04.2 - SIGN COS P... | Inversor 04.2 - FREQUENCY - Hz |\n",
      "+-------------------------------+-------------------------------+--------------------------------+\n",
      "|               0               |               0               |               0                |\n",
      "|               0               |               0               |               0                |\n",
      "|               0               |               0               |               0                |\n",
      "|               0               |               0               |               0                |\n",
      "|               0               |               0               |               0                |\n",
      "|               0               |               0               |               0                |\n",
      "|               0               |               0               |               0                |\n",
      "+-------------------------------+-------------------------------+--------------------------------+\n",
      "+-------------------------------+--------------------------------+-------------------------------+\n",
      "| Inversor 04.2 - DC ENERGY ... | Inversor 04.1 - COMS STATUS -  | Inversor 04.1 - ACTIVE ENE... |\n",
      "+-------------------------------+--------------------------------+-------------------------------+\n",
      "|               0               |              128               |               0               |\n",
      "|               0               |              128               |               0               |\n",
      "|               0               |              128               |               0               |\n",
      "|               0               |              128               |               0               |\n",
      "|               0               |              128               |               0               |\n",
      "|               0               |              128               |               0               |\n",
      "|               0               |              128               |               0               |\n",
      "+-------------------------------+--------------------------------+-------------------------------+\n",
      "+-------------------------------+-------------------------------+-------------------------------+\n",
      "| Inversor 04.1 - ACTIVE ENE... | Inversor 04.1 - ACTIVE POW... | Inversor 04.1 - REACTIVE P... |\n",
      "+-------------------------------+-------------------------------+-------------------------------+\n",
      "|               0               |               0               |               0               |\n",
      "|               0               |               0               |               0               |\n",
      "|               0               |               0               |               0               |\n",
      "|               0               |               0               |               0               |\n",
      "|               0               |               0               |               0               |\n",
      "|               0               |               0               |               0               |\n",
      "|               0               |               0               |               0               |\n",
      "+-------------------------------+-------------------------------+-------------------------------+\n",
      "+-------------------------------+-------------------------------+--------------------------------+\n",
      "| Inversor 04.1 - POWER FACT... | Inversor 04.1 - SIGN COS P... | Inversor 04.1 - FREQUENCY - Hz |\n",
      "+-------------------------------+-------------------------------+--------------------------------+\n",
      "|               0               |               0               |               0                |\n",
      "|               0               |               0               |               0                |\n",
      "|               0               |               0               |               0                |\n",
      "|               0               |               0               |               0                |\n",
      "|               0               |               0               |               0                |\n",
      "|               0               |               0               |               0                |\n",
      "|               0               |               0               |               0                |\n",
      "+-------------------------------+-------------------------------+--------------------------------+\n",
      "+-------------------------------+-------------------------------+-----+\n",
      "| Inversor 04.1 - DC ENERGY ... | Módulo inversor 04.2.1 - C... | ... |\n",
      "+-------------------------------+-------------------------------+-----+\n",
      "|               0               |              128              | ... |\n",
      "|               0               |              128              | ... |\n",
      "|               0               |              128              | ... |\n",
      "|               0               |              128              | ... |\n",
      "|               0               |              128              | ... |\n",
      "|               0               |              128              | ... |\n",
      "|               0               |              128              | ... |\n",
      "+-------------------------------+-------------------------------+-----+\n",
      "[7 rows x 239 columns]\n",
      "\n"
     ]
    }
   ],
   "source": [
    "prueba = getTableBy_datalogger_name(jacinta_0716,'CT01')\n",
    "print prueba\n",
    "prueba = getTableBy_datalogger_name(jacinta_0716,'CT04')\n",
    "print prueba"
   ]
  },
  {
   "cell_type": "code",
   "execution_count": 4,
   "metadata": {
    "collapsed": false
   },
   "outputs": [],
   "source": [
    "# Función que crea una lista de los valores que contiene las filas 1 y 2 sin repetidos\n",
    "\n",
    "def getDevicesList(jacintaTable):\n",
    "    devList = []\n",
    "    for i in jacintaTable[0]:\n",
    "        devList.append(jacintaTable[i][0] + '___' + jacintaTable[i][1])\n",
    "    return set(devList)\n",
    "\n",
    "def getDataLoggerList(jt):\n",
    "    loggerList = set(jt[0].values())\n",
    "    return loggerList"
   ]
  },
  {
   "cell_type": "code",
   "execution_count": 8,
   "metadata": {
    "collapsed": false
   },
   "outputs": [],
   "source": [
    "#Función que recorre la lista de Tablas, separa los datos y los guarda en un CSV con el nombre de la tabla\n",
    "def ProcessData(list,jacintaTable):\n",
    "    for l in list:\n",
    "        sub_table = getTableBy_datalogger_name(jacintaTable,l)\n",
    "        sub_table.export_csv(dst + '/' + str(l) + '.csv',';')\n",
    "        print str(l) + ' process'\n",
    "\n",
    "def ProcessDataComposed(list,jacintaTable):\n",
    "    for l in list:\n",
    "        parts = []\n",
    "        pre = \"\"\n",
    "        suf = \"\"\n",
    "        #Separamos por símbolo '_'\n",
    "        parts = l.split('___')\n",
    "        pre = parts[0]\n",
    "        suf = parts[1]\n",
    "        \n",
    "        sub_table = getTableBy_device_name(jacintaTable,pre,suf)\n",
    "        sub_table.export_csv(dst + '/'  + str(l) + '.csv',';')\n",
    "        print str(l) + ' process'\n"
   ]
  },
  {
   "cell_type": "code",
   "execution_count": 6,
   "metadata": {
    "collapsed": true
   },
   "outputs": [],
   "source": [
    "def ResetContext():\n",
    "    logger_list.clear()\n",
    "    dev_list.clear()"
   ]
  },
  {
   "cell_type": "markdown",
   "metadata": {},
   "source": [
    "## ENTORNO DE TEST con datos simplificados"
   ]
  },
  {
   "cell_type": "code",
   "execution_count": 72,
   "metadata": {
    "collapsed": true
   },
   "outputs": [
    {
     "data": {
      "text/html": [
       "<pre>Finished parsing file D:\\01 - DATA_SRC_01\\Jacinta\\test\\2552_2016-06-01.csv</pre>"
      ],
      "text/plain": [
       "Finished parsing file D:\\01 - DATA_SRC_01\\Jacinta\\test\\2552_2016-06-01.csv"
      ]
     },
     "metadata": {},
     "output_type": "display_data"
    },
    {
     "data": {
      "text/html": [
       "<pre>Parsing completed. Parsed 11 lines in 0.014001 secs.</pre>"
      ],
      "text/plain": [
       "Parsing completed. Parsed 11 lines in 0.014001 secs."
      ]
     },
     "metadata": {},
     "output_type": "display_data"
    },
    {
     "name": "stdout",
     "output_type": "stream",
     "text": [
      "------------------------------------------------------\n",
      "Inferred types from first 100 line(s) of file as \n",
      "column_type_hints=[str,str,str,str,str,str,str,str,str,str,str,str,str,str,str,str,str,str,str,str,str,str,str,str,str,str,str,str,str,str,str,str,str,str,str,str,str,str,str,str,str,str,str,str,str,str,str,str,str,str,str,str,str,str,str,str,str,str,str,str,str,str,str,str,str,str,str,str,str,str,str,str,str,str,str,str,str,str,str,str,str,str,str,str,str,str,str,str,str,str,str,str,str,str,str,str,str,str,str,str,str,str,str,str,str,str,str,str,str,str,str,str,str,str,str,str,str,str,str,str,str,str,str,str,str,str,str,str,str,str,str,str,str,str,str,str,str,str,str,str,str,str,str,str,str,str,str,str,str,str,str,str,str,str,str,str,str,str,str,str,str,str,str,str,str,str,str,str,str,str,str,str,str,str,str,str,str,str,str,str,str,str,str,str,str,str,str,str,str,str,str,str,str,str,str,str,str,str,str,str,str,str,str,str,str,str,str,str,str,str,str,str,str,str,str,str,str,str,str,str,str,str,str,str,str,str,str,str,str,str,str,str,str,str,str,str,str,str,str,str,str,str,str,str,str,str,str,str,str,str,str,str,str,str,str,str,str,str,str,str,str,str,str,str,str,str,str,str,str,str,str,str,str,str,str,str,str,str,str,str,str,str,str,str,str,str,str,str,str,str,str,str,str,str,str,str,str,str,str,str,str,str,str,str,str,str,str,str,str,str,str,str,str,str,str,str,str,str,str,str,str,str,str,str,str,str,str,str,str,str,str,str,str,str,str,str,str,str,str,str]\n",
      "If parsing fails due to incorrect types, you can correct\n",
      "the inferred type list above and pass it to read_csv in\n",
      "the column_type_hints argument\n",
      "------------------------------------------------------\n"
     ]
    },
    {
     "data": {
      "text/html": [
       "<pre>Finished parsing file D:\\01 - DATA_SRC_01\\Jacinta\\test\\2552_2016-06-01.csv</pre>"
      ],
      "text/plain": [
       "Finished parsing file D:\\01 - DATA_SRC_01\\Jacinta\\test\\2552_2016-06-01.csv"
      ]
     },
     "metadata": {},
     "output_type": "display_data"
    },
    {
     "data": {
      "text/html": [
       "<pre>Parsing completed. Parsed 11 lines in 0.014001 secs.</pre>"
      ],
      "text/plain": [
       "Parsing completed. Parsed 11 lines in 0.014001 secs."
      ]
     },
     "metadata": {},
     "output_type": "display_data"
    },
    {
     "name": "stdout",
     "output_type": "stream",
     "text": [
      "CT01 process\n",
      "datalogger_name process\n",
      "CT02 process\n",
      "CT01___Módulo inversor 01.1.4 process\n",
      "CT01___Inversor 01.2 process\n",
      "CT01___Módulo inversor 01.1.1 process\n",
      "CT01___Módulo inversor 01.1.2 process\n",
      "CT01___Módulo inversor 01.1.3 process\n",
      "datalogger_name___device_name process\n",
      "CT02___Inversor 02.1 process\n",
      "CT01___Detector fuego 01 process\n",
      "CT01___Combinador CN1 01.1 process\n",
      "CT01___Combinador CN1 01.2 process\n",
      "CT02___Módulo inversor 02.2.3 process\n",
      "CT02___Módulo inversor 02.2.2 process\n",
      "CT02___Módulo inversor 02.2.1 process\n",
      "CT02___Módulo inversor 02.2.4 process\n",
      "CT01___Módulo inversor 01.2.3 process\n",
      "CT01___Módulo inversor 01.2.2 process\n",
      "CT01___Módulo inversor 01.2.1 process\n",
      "CT01___Inversor 01.1 process\n",
      "CT02___Inversor 02.2 process\n",
      "CT01___Módulo inversor 01.2.4 process\n",
      "### 0616 done ###\n"
     ]
    },
    {
     "data": {
      "text/html": [
       "<pre>Finished parsing file D:\\01 - DATA_SRC_01\\Jacinta\\test\\2552_2016-07-01.csv</pre>"
      ],
      "text/plain": [
       "Finished parsing file D:\\01 - DATA_SRC_01\\Jacinta\\test\\2552_2016-07-01.csv"
      ]
     },
     "metadata": {},
     "output_type": "display_data"
    },
    {
     "data": {
      "text/html": [
       "<pre>Parsing completed. Parsed 11 lines in 0.036002 secs.</pre>"
      ],
      "text/plain": [
       "Parsing completed. Parsed 11 lines in 0.036002 secs."
      ]
     },
     "metadata": {},
     "output_type": "display_data"
    },
    {
     "name": "stdout",
     "output_type": "stream",
     "text": [
      "------------------------------------------------------\n",
      "Inferred types from first 100 line(s) of file as \n",
      "column_type_hints=[str,str,str,str,str,str,str,str,str,str,str,str,str,str,str,str,str,str,str,str,str,str,str,str,str,str,str,str,str,str,str,str,str,str,str,str,str,str,str,str,str,str,str,str,str,str,str,str,str,str,str,str,str,str,str,str,str,str,str,str,str,str,str,str,str,str,str,str,str,str,str,str,str,str,str,str,str,str,str,str,str,str,str,str,str,str,str,str,str,str,str,str,str,str,str,str,str,str,str,str,str,str,str,str,str,str,str,str,str,str,str,str,str,str,str,str,str,str,str,str,str,str,str,str,str,str,str,str,str,str,str,str,str,str,str,str,str,str,str,str,str,str,str,str,str,str,str,str,str,str,str,str,str,str,str,str,str,str,str,str,str,str,str,str,str,str,str,str,str,str,str,str,str,str,str,str,str,str,str,str,str,str,str,str,str,str,str,str,str,str,str,str,str,str,str,str,str,str,str,str,str,str,str,str,str,str,str,str,str,str,str,str,str,str,str,str,str,str,str,str,str,str,str,str,str,str,str,str,str,str,str,str,str,str,str,str,str,str,str,str,str,str,str,str,str,str,str,str,str,str,str,str,str,str,str,str,str,str,str,str,str,str,str,str,str,str,str,str,str,str,str,str,str,str,str,str,str,str,str,str,str,str,str,str,str,str,str,str,str,str,str,str,str,str,str,str,str,str,str,str,str,str,str,str,str,str,str,str,str,str,str,str,str,str,str,str,str,str,str,str,str,str,str,str,str,str,str,str,str,str,str,str,str,str,str,str,str,str,str,str,str,str,str,str,str,str,str,str,str,str,str,str,str,str,str,str,str,str,str,str,str,str,str,str,str,str,str,str,str,str,str,str,str,str,str,str,str,str,str,str,str,str,str,str,str,str,str,str,str,str,str,str,str,str,str,str,str,str,str,str,str,str,str,str,str,str,str,str,str,str,str,str,str,str,str,str,str,str,str,str,str,str,str,str,str,str,str,str,str,str,str,str,str,str,str,str,str,str,str,str,str,str,str,str,str,str,str,str,str,str,str,str,str,str,str,str,str,str,str,str,str,str,str,str,str,str,str,str,str,str,str,str,str,str,str,str,str,str,str,str,str,str,str,str,str,str,str,str,str,str,str,str,str,str,str,str,str,str,str,str,str,str,str,str,str,str,str,str,str,str,str,str,str,str,str,str,str,str,str,str,str,str,str,str,str,str,str,str,str,str,str,str,str,str,str,str,str,str,str,str,str,str,str,str,str,str,str,str,str,str,str,str,str,str,str,str,str,str,str,str,str,str,str,str,str,str,str,str,str,str,str,str,str,str,str,str,str,str,str,str,str,str,str,str,str,str,str,str,str,str,str,str,str,str,str,str,str,str,str,str,str,str,str,str,str,str,str,str,str,str,str,str,str,str,str,str,str,str,str,str,str,str,str,str,str,str,str,str,str,str,str,str,str,str,str,str,str,str,str,str,str,str,str,str,str,str,str,str,str,str,str,str,str,str,str,str,str,str,str,str,str,str,str,str,str,str,str,str,str,str,str,str,str,str,str,str,str,str,str,str,str,str,str,str,str,str,str,str,str,str,str,str,str,str,str,str,str,str,str,str,str,str,str,str,str,str,str,str,str,str,str,str,str,str,str,str,str,str,str,str,str,str,str,str,str,str,str,str,str,str,str,str,str,str,str,str,str,str,str,str,str,str,str,str,str,str,str,str,str,str,str,str,str,str,str,str,str,str,str,str,str,str,str,str,str,str,str,str,str,str,str,str,str,str,str,str,str,str,str,str,str,str,str,str,str,str,str,str,str,str,str,str,str,str,str,str,str,str,str,str,str,str,str,str,str,str,str,str,str,str,str,str,str,str,str,str,str,str,str,str,str,str,str,str,str,str,str,str,str,str,str,str,str,str,str,str,str,str,str,str,str,str,str,str,str,str,str,str,str,str,str,str,str,str,str,str,str,str,str,str,str,str,str,str,str,str,str,str,str,str,str,str,str,str,str,str,str,str,str,str,str,str,str,str,str,str,str,str,str,str,str,str,str,str,str,str,str,str,str,str,str,str,str,str,str,str,str,str,str,str,str,str,str,str,str,str,str,str,str,str,str,str,str,str,str,str,str,str,str,str,str,str,str,str,str,str,str,str,str,str,str,str,str,str,str,str,str,str,str,str,str,str,str,str,str,str,str,str,str,str,str,str,str,str,str,str,str,str,str,str,str,str,str,str,str,str,str,str,str,str,str,str,str,str,str,str,str,str,str,str,str,str,str,str,str,str,str,str,str,str,str,str,str,str,str,str,str,str,str,str,str,str,str,str,str,str,str,str,str,str,str,str,str,str,str,str,str,str,str,str,str,str,str,str,str,str,str,str,str,str,str,str,str,str,str,str,str,str,str,str,str,str,str,str,str,str,str,str,str,str,str,str,str,str,str,str,str,str,str,str,str,str,str,str,str,str,str,str,str,str,str,str,str,str,str,str,str,str,str,str,str,str,str,str,str,str,str,str,str,str,str,str,str,str,str,str,str,str,str,str,str,str,str,str,str,str,str,str,str,str,str,str,str,str,str,str,str,str,str,str,str,str,str,str,str,str,str,str,str,str,str,str,str,str,str,str,str,str,str,str,str,str,str,str,str,str,str,str,str,str,str,str,str,str,str,str,str,str,str,str,str,str,str,str,str,str,str,str,str,str,str,str,str,str,str,str,str,str,str,str,str,str,str,str,str,str,str,str,str,str,str,str,str,str,str,str,str,str,str,str,str,str,str,str,str,str,str,str,str,str,str,str,str,str,str,str,str,str,str,str,str,str,str,str,str,str,str,str,str,str,str,str,str,str,str,str,str,str,str,str,str,str,str,str,str,str,str,str,str,str,str,str,str,str,str,str,str,str,str,str,str,str,str,str,str,str,str,str,str,str,str,str,str,str,str,str,str,str,str,str,str,str,str,str,str,str,str,str,str,str,str,str,str,str,str,str,str,str,str,str,str,str,str,str,str,str,str,str,str,str,str,str,str,str,str,str,str,str,str,str,str,str,str,str,str,str,str,str,str,str,str,str,str,str,str,str,str,str,str,str,str,str,str,str,str,str,str,str,str,str,str,str,str,str,str,str,str,str,str,str,str,str,str,str,str,str,str,str,str,str,str,str,str,str,str,str,str,str,str,str,str,str,str,str,str,str,str,str,str,str,str,str,str,str,str,str,str,str,str,str,str,str,str,str,str,str,str,str,str,str,str,str,str,str,str,str,str,str,str,str,str,str,str,str,str,str,str,str,str,str,str,str,str,str,str,str,str,str,str,str,str,str,str,str,str,str,str,str,str,str,str,str,str,str,str,str,str,str,str,str,str,str,str,str,str,str,str,str,str,str,str,str,str,str,str,str,str,str,str,str,str,str,str,str,str,str,str,str,str,str,str,str,str,str,str,str,str,str,str,str,str,str,str,str,str,str,str,str,str,str,str,str,str,str,str,str,str,str,str,str,str,str,str,str,str,str,str,str,str,str,str,str,str,str,str,str,str,str,str,str,str,str,str,str,str,str,str,str,str,str,str,str,str,str,str,str,str,str,str,str,str,str,str,str,str,str,str,str,str,str,str,str,str,str,str,str,str,str,str,str,str,str,str,str,str,str,str,str,str,str,str,str,str,str,str,str,str,str,str,str,str,str,str,str,str,str,str,str,str,str,str,str,str,str,str,str,str,str,str,str,str,str,str,str,str,str,str,str,str,str,str,str,str,str,str,str,str,str,str,str,str,str,str,str,str,str,str,str,str,str,str,str,str,str,str,str,str,str,str,str,str,str,str,str,str,str,str,str,str,str,str,str,str,str,str,str,str,str,str,str,str,str,str,str,str,str,str,str,str,str,str,str,str,str,str,str,str,str,str,str,str,str,str,str,str,str,str,str,str,str,str,str,str,str,str,str,str,str,str,str,str,str,str,str,str,str,str,str,str,str,str,str,str,str,str,str,str,str,str,str,str,str,str,str,str,str,str,str,str,str,str,str,str,str,str,str,str,str,str,str,str,str,str,str,str,str,str,str,str,str,str,str,str,str,str,str,str,str,str,str,str,str,str,str,str,str,str,str,str,str,str,str,str,str,str,str,str,str,str,str,str,str,str,str,str,str,str,str,str,str,str,str,str,str,str,str,str,str,str,str,str,str,str,str,str,str,str,str,str,str,str,str,str,str,str,str,str,str,str,str,str,str,str,str,str,str,str,str,str,str,str,str,str,str,str,str,str,str,str,str,str,str,str,str,str,str,str,str,str,str,str,str,str,str,str,str,str,str,str,str,str,str,str,str,str,str,str,str,str,str,str,str,str,str,str,str,str,str,str,str,str,str,str,str,str,str,str,str,str,str,str,str,str,str,str,str,str,str,str,str,str,str,str,str,str,str,str,str,str,str,str,str,str,str,str,str,str,str,str,str,str,str,str,str,str,str,str,str,str,str,str,str,str,str,str,str,str,str,str,str,str,str,str,str,str,str,str,str,str,str,str,str,str,str,str,str,str,str,str,str,str,str,str,str,str,str,str,str,str,str,str,str,str,str,str,str,str,str,str,str,str,str,str,str,str,str,str,str,str,str,str,str,str,str,str,str,str,str,str,str,str,str,str,str,str,str,str,str,str,str,str,str,str,str,str,str,str,str,str,str,str,str,str,str,str,str,str,str,str,str,str,str,str,str,str,str,str,str,str,str,str,str,str,str,str,str,str,str,str,str,str,str,str,str,str,str,str,str,str,str,str,str,str,str,str,str,str,str,str,str,str,str,str,str,str,str,str,str,str,str,str,str,str,str,str,str,str,str,str,str,str,str,str,str,str,str,str,str,str,str,str,str,str,str,str,str,str,str,str,str,str,str,str,str,str,str,str,str,str,str,str,str,str,str,str,str,str,str,str,str,str,str,str,str,str,str,str,str,str,str,str,str,str,str,str,str,str,str,str,str,str,str,str,str,str,str,str,str,str,str,str,str,str,str,str,str,str,str,str,str,str,str,str,str,str,str,str,str,str,str,str,str,str,str,str,str,str,str,str,str,str,str,str,str,str,str,str,str,str,str,str,str,str,str,str,str,str,str,str,str,str,str,str,str,str,str,str,str,str,str,str,str,str,str,str,str,str,str,str,str,str,str,str,str,str,str,str,str,str,str,str,str,str,str,str,str,str,str,str,str,str,str,str,str,str,str,str,str,str,str,str,str,str,str,str,str,str,str,str,str,str,str,str,str,str,str,str,str,str,str,str,str,str,str,str,str,str,str,str,str,str,str,str,str,str,str,str,str,str,str,str,str,str,str,str,str,str,str,str,str,str,str,str,str,str,str,str,str,str,str,str,str,str,str,str,str,str,str,str,str,str,str,str,str,str,str,str,str,str,str,str,str,str,str,str,str,str,str,str,str,str,str,str,str,str,str,str,str,str,str,str,str,str,str,str,str,str,str,str,str,str,str,str,str,str,str,str,str,str,str,str,str,str,str,str,str,str,str,str,str,str,str,str,str,str,str,str,str,str,str,str,str,str,str,str,str,str,str,str,str,str,str,str,str,str,str,str,str,str,str,str,str,str,str,str,str,str,str,str,str,str,str,str,str,str,str,str,str,str,str,str,str,str,str,str,str,str,str,str,str,str,str,str,str,str,str,str,str,str,str,str,str,str,str,str,str,str,str,str,str,str,str,str,str,str,str,str,str,str,str,str,str,str,str,str,str,str,str,str,str,str,str,str,str,str,str,str,str,str,str,str,str,str,str,str,str,str,str,str,str,str,str,str,str,str,str,str,str,str,str,str,str,str,str,str,str,str,str,str,str,str,str,str,str,str,str,str,str,str,str,str,str,str,str,str,str,str,str,str,str,str,str,str,str,str,str,str,str,str,str,str,str,str,str,str,str,str,str,str,str,str,str,str,str,str,str,str,str,str,str,str,str,str,str,str,str,str,str,str,str,str,str,str,str,str,str,str,str,str,str,str,str,str,str,str,str,str,str,str,str,str,str,str,str,str,str,str,str,str,str,str,str,str,str,str,str,str,str,str,str,str,str,str,str,str,str,str,str,str,str,str,str,str,str,str,str,str,str,str,str,str,str,str,str,str,str,str,str,str,str,str,str,str,str,str,str,str,str,str,str,str,str,str,str,str,str,str,str,str,str,str,str,str,str,str,str,str,str,str,str,str,str,str,str,str,str,str,str,str,str,str,str,str,str,str,str,str,str,str,str,str,str,str,str,str,str,str,str,str,str,str,str,str,str,str,str,str,str,str,str,str,str,str,str,str,str,str,str,str,str,str,str,str,str,str,str,str,str,str,str,str,str,str,str,str,str,str,str,str,str,str,str,str,str,str,str,str,str,str,str,str,str,str,str,str,str,str,str,str,str,str,str,str,str,str,str,str,str,str,str,str,str,str,str,str,str,str,str,str,str,str,str,str,str,str,str,str,str,str,str,str,str,str,str,str,str,str,str,str,str,str,str,str,str,str,str,str,str,str,str,str,str,str,str,str,str,str,str,str,str,str,str,str,str,str,str,str,str,str,str,str,str,str,str,str,str,str,str,str,str,str,str,str,str,str,str,str,str,str,str,str,str,str,str,str,str,str,str,str,str,str,str,str,str,str,str,str,str,str,str,str,str,str,str,str,str,str,str,str,str,str,str,str,str,str,str,str,str,str,str,str,str,str,str,str,str,str,str,str,str,str,str,str,str,str,str,str,str,str,str,str,str,str,str,str,str,str,str,str,str,str,str,str,str,str,str,str,str,str,str,str,str,str,str,str,str,str,str,str,str,str,str,str,str,str,str,str,str,str,str,str,str,str,str,str,str,str,str,str,str,str,str,str,str,str,str,str,str,str,str,str,str,str,str,str,str,str,str,str,str,str,str,str,str,str,str,str,str,str,str,str,str,str,str,str,str,str,str,str,str,str,str,str,str,str,str,str,str,str,str,str,str,str,str,str,str,str,str,str,str,str,str,str,str,str,str,str,str,str,str,str,str,str,str,str,str,str,str,str,str,str,str,str,str,str,str,str,str,str,str,str,str,str,str,str,str,str,str,str,str,str,str,str,str,str,str,str,str,str,str,str,str,str,str,str,str,str,str,str,str,str,str,str,str,str,str,str,str,str,str,str,str,str,str,str,str,str,str,str,str,str,str,str,str,str,str,str,str,str,str,str,str,str,str,str,str,str,str,str,str,str,str,str,str,str,str,str,str,str,str,str,str,str,str,str,str,str,str,str,str,str,str,str,str,str,str,str,str,str,str,str,str,str,str,str,str,str,str,str,str,str,str,str,str,str,str,str,str,str,str,str,str,str,str,str,str,str,str,str,str,str,str,str,str,str,str,str,str,str,str,str,str,str,str,str,str,str,str,str,str,str,str,str,str,str,str,str,str,str,str,str,str,str,str,str,str,str,str,str,str,str,str,str,str,str,str,str,str,str,str,str,str,str,str,str,str,str,str,str,str,str,str,str,str,str,str,str,str,str,str,str,str,str,str,str,str,str,str,str,str,str,str,str,str,str,str,str,str,str,str,str,str,str,str,str,str,str,str,str,str,str,str,str,str,str,str,str,str,str,str,str,str,str,str,str,str,str,str,str,str,str,str,str,str,str,str,str,str,str,str,str,str,str,str,str,str,str,str,str,str,str,str,str,str,str,str,str,str,str,str,str,str,str,str,str,str,str,str,str,str,str,str,str,str,str,str,str,str,str,str,str,str,str,str,str,str,str,str,str,str,str,str,str,str,str,str,str,str,str,str,str,str,str,str,str,str,str,str,str,str,str,str,str,str,str,str,str,str,str,str,str,str,str,str,str,str,str,str,str,str,str,str,str,str,str,str,str,str,str,str,str,str,str,str,str,str,str,str,str,str,str,str,str,str,str,str,str,str,str,str,str,str,str,str,str,str,str,str,str,str,str,str,str,str,str,str,str,str,str,str,str,str,str,str,str,str,str,str,str,str,str,str,str,str,str,str,str,str,str,str,str,str,str,str,str,str,str,str,str,str,str,str,str,str,str,str,str,str,str,str,str,str,str,str,str,str,str,str,str,str,str,str,str,str,str,str,str,str,str,str,str,str,str,str,str,str,str,str,str,str,str,str,str,str,str,str,str,str,str,str,str,str,str,str,str,str,str,str,str,str,str,str,str,str,str,str,str,str,str,str,str,str,str,str,str,str,str,str,str,str,str,str,str,str,str,str,str,str,str,str,str,str,str,str,str,str,str,str,str,str,str,str,str,str,str,str,str,str,str,str,str,str,str,str,str,str,str,str,str,str,str,str,str,str,str,str,str,str,str,str,str,str,str,str,str,str,str,str,str,str,str,str,str,str,str,str,str,str,str,str,str,str,str,str,str,str,str,str,str,str,str,str,str,str,str,str,str,str,str,str,str,str,str,str,str,str,str,str,str,str,str,str,str,str,str,str,str,str,str,str,str,str,str,str,str,str,str,str,str,str,str,str,str,str,str,str,str,str,str,str,str,str,str,str,str,str,str,str,str,str,str,str,str,str,str,str,str,str,str,str,str,str,str,str,str,str,str,str,str,str,str,str,str,str,str,str,str,str,str,str,str,str,str,str,str,str,str,str,str,str,str,str,str,str,str,str,str,str,str,str,str,str,str,str,str,str,str,str,str,str,str,str,str,str,str,str,str,str,str,str,str,str,str,str,str,str,str,str,str,str,str,str,str,str,str,str,str,str,str,str,str,str,str,str,str,str,str,str,str,str,str,str,str,str,str,str,str,str,str,str,str,str,str,str,str,str,str,str,str,str,str,str,str,str,str,str,str,str,str,str,str,str,str,str,str,str,str,str,str,str,str,str,str,str,str,str,str,str,str,str,str,str,str,str,str,str,str,str,str,str,str,str,str,str,str,str,str,str,str,str,str,str,str,str,str,str,str,str,str,str,str,str,str,str,str,str,str,str,str,str,str,str,str,str,str,str,str,str,str,str,str,str,str,str,str,str,str,str,str,str,str,str,str,str,str,str,str,str,str,str,str,str,str,str,str,str,str,str,str,str,str,str,str,str,str,str,str,str,str,str,str,str,str,str,str,str,str,str,str,str,str,str,str,str,str,str,str,str,str,str,str,str,str,str,str,str,str,str,str,str,str,str,str,str,str,str,str,str,str,str,str,str,str,str,str,str,str,str,str,str,str,str,str,str,str,str,str,str,str,str,str,str,str,str,str,str,str,str,str,str,str,str,str,str,str,str,str,str,str,str,str,str,str,str,str,str,str,str,str,str,str,str,str,str,str,str,str,str,str,str,str,str,str,str,str,str,str,str,str,str,str,str,str,str,str,str,str,str,str,str,str,str,str,str,str,str,str,str,str,str,str,str,str,str,str,str,str,str,str,str,str,str,str,str,str,str,str,str,str,str,str,str,str,str,str,str,str,str,str,str,str,str,str,str,str,str,str,str,str,str,str,str,str,str,str,str,str,str,str,str,str,str,str,str,str,str,str,str,str,str,str,str,str,str,str,str,str,str,str,str,str,str,str,str,str,str,str,str,str,str,str,str,str,str,str,str,str,str,str,str,str,str,str,str,str,str,str,str,str,str,str,str,str,str,str,str,str,str,str,str,str,str,str,str,str,str,str,str,str,str,str,str,str,str,str,str,str,str,str,str,str,str,str,str,str,str,str,str,str,str,str,str,str,str,str,str,str,str,str,str,str,str,str,str,str,str,str,str,str,str,str,str,str,str,str,str,str,str,str,str,str,str,str,str,str,str,str,str,str,str]\n",
      "If parsing fails due to incorrect types, you can correct\n",
      "the inferred type list above and pass it to read_csv in\n",
      "the column_type_hints argument\n",
      "------------------------------------------------------\n"
     ]
    },
    {
     "data": {
      "text/html": [
       "<pre>Finished parsing file D:\\01 - DATA_SRC_01\\Jacinta\\test\\2552_2016-07-01.csv</pre>"
      ],
      "text/plain": [
       "Finished parsing file D:\\01 - DATA_SRC_01\\Jacinta\\test\\2552_2016-07-01.csv"
      ]
     },
     "metadata": {},
     "output_type": "display_data"
    },
    {
     "data": {
      "text/html": [
       "<pre>Parsing completed. Parsed 11 lines in 0.026001 secs.</pre>"
      ],
      "text/plain": [
       "Parsing completed. Parsed 11 lines in 0.026001 secs."
      ]
     },
     "metadata": {},
     "output_type": "display_data"
    },
    {
     "name": "stdout",
     "output_type": "stream",
     "text": [
      "CT01 process\n",
      "CT17 process\n",
      "CT14 process\n",
      "CT02 process\n",
      "CT12 process\n",
      "CT13 process\n",
      "CT10 process\n",
      "CT11 process\n",
      "CT09 process\n",
      "CT08 process\n",
      "CT06 process\n",
      "CT03 process\n",
      "CT18 process\n",
      "CT19 process\n",
      "CT16 process\n",
      "CT15 process\n",
      "datalogger_name process\n",
      "CT07 process\n",
      "CT05 process\n",
      "CT04 process\n",
      "CT06___Módulo inversor 06.2.3 process\n",
      "CT06___Módulo inversor 06.2.2 process\n",
      "CT06___Módulo inversor 06.2.1 process\n",
      "CT01___Inversor 01.1 process\n",
      "CT01___Inversor 01.2 process\n",
      "CT06___Módulo inversor 06.2.4 process\n",
      "CT06___Módulo inversor 06.1.4 process\n",
      "CT18___Detector fuego 18 process\n",
      "CT12___Módulo inversor 12.1.2 process\n",
      "CT19___Inversor 19.2 process\n",
      "CT06___Módulo inversor 06.1.3 process\n",
      "CT13___Detector fuego 13 process\n",
      "CT17___Módulo inversor 17.1.4 process\n",
      "CT15___Combinador CN1 15.1 process\n",
      "CT15___Combinador CN1 15.2 process\n",
      "CT06___Módulo inversor 06.1.1 process\n",
      "CT17___Módulo inversor 17.1.1 process\n",
      "CT17___Módulo inversor 17.1.2 process\n",
      "CT17___Módulo inversor 17.1.3 process\n",
      "CT08___Módulo inversor 08.1.1 process\n",
      "CT08___Módulo inversor 08.1.2 process\n",
      "CT08___Módulo inversor 08.1.3 process\n",
      "CT08___Módulo inversor 08.1.4 process\n",
      "CT18___Combinador CN1 18.1 process\n",
      "CT18___Combinador CN1 18.2 process\n",
      "CT11___Detector fuego 11 process\n",
      "CT06___Detector fuego 06 process\n",
      "CT15___Módulo inversor 15.2.3 process\n",
      "CT15___Módulo inversor 15.2.2 process\n",
      "CT05___Detector fuego 05 process\n",
      "CT15___Módulo inversor 15.2.4 process\n",
      "CT07___Combinador CN1 07.1 process\n",
      "CT07___Combinador CN1 07.2 process\n",
      "CT05___Inversor 05.1 process\n",
      "CT12___Módulo inversor 12.1.4 process\n",
      "CT05___Inversor 05.2 process\n",
      "CT02___Combinador CN1 02.1 process\n",
      "CT03___Inversor 03.1 process\n",
      "CT03___Inversor 03.2 process\n",
      "CT19___Inversor 19.1 process\n",
      "CT17___Detector fuego 17 process\n",
      "CT08___Módulo inversor 08.2.4 process\n"
     ]
    },
    {
     "ename": "KeyboardInterrupt",
     "evalue": "",
     "output_type": "error",
     "traceback": [
      "\u001b[1;31m---------------------------------------------------------------------------\u001b[0m",
      "\u001b[1;31mKeyboardInterrupt\u001b[0m                         Traceback (most recent call last)",
      "\u001b[1;32m<ipython-input-72-8c962c8bebee>\u001b[0m in \u001b[0;36m<module>\u001b[1;34m()\u001b[0m\n\u001b[0;32m     33\u001b[0m \u001b[0mProcessData\u001b[0m\u001b[1;33m(\u001b[0m\u001b[0mlogger_list\u001b[0m\u001b[1;33m)\u001b[0m\u001b[1;33m\u001b[0m\u001b[0m\n\u001b[0;32m     34\u001b[0m \u001b[1;31m#Procesamos los datos separando en tablas\u001b[0m\u001b[1;33m\u001b[0m\u001b[1;33m\u001b[0m\u001b[0m\n\u001b[1;32m---> 35\u001b[1;33m \u001b[0mProcessDataComposed\u001b[0m\u001b[1;33m(\u001b[0m\u001b[0mdev_list\u001b[0m\u001b[1;33m)\u001b[0m\u001b[1;33m\u001b[0m\u001b[0m\n\u001b[0m\u001b[0;32m     36\u001b[0m \u001b[1;32mprint\u001b[0m \u001b[1;34m'### 0716 done ###'\u001b[0m\u001b[1;33m\u001b[0m\u001b[0m\n\u001b[0;32m     37\u001b[0m \u001b[1;33m\u001b[0m\u001b[0m\n",
      "\u001b[1;32m<ipython-input-64-7d3a711789e2>\u001b[0m in \u001b[0;36mProcessDataComposed\u001b[1;34m(list)\u001b[0m\n\u001b[0;32m     16\u001b[0m         \u001b[0msuf\u001b[0m \u001b[1;33m=\u001b[0m \u001b[0mparts\u001b[0m\u001b[1;33m[\u001b[0m\u001b[1;36m1\u001b[0m\u001b[1;33m]\u001b[0m\u001b[1;33m\u001b[0m\u001b[0m\n\u001b[0;32m     17\u001b[0m \u001b[1;33m\u001b[0m\u001b[0m\n\u001b[1;32m---> 18\u001b[1;33m         \u001b[0msub_table\u001b[0m \u001b[1;33m=\u001b[0m \u001b[0mgetTableBy_device_name\u001b[0m\u001b[1;33m(\u001b[0m\u001b[0mjacinta_0616\u001b[0m\u001b[1;33m,\u001b[0m\u001b[0mpre\u001b[0m\u001b[1;33m,\u001b[0m\u001b[0msuf\u001b[0m\u001b[1;33m)\u001b[0m\u001b[1;33m\u001b[0m\u001b[0m\n\u001b[0m\u001b[0;32m     19\u001b[0m         \u001b[0msub_table\u001b[0m\u001b[1;33m.\u001b[0m\u001b[0mexport_csv\u001b[0m\u001b[1;33m(\u001b[0m\u001b[0mdst\u001b[0m \u001b[1;33m+\u001b[0m \u001b[1;34m'/'\u001b[0m  \u001b[1;33m+\u001b[0m \u001b[0mstr\u001b[0m\u001b[1;33m(\u001b[0m\u001b[0ml\u001b[0m\u001b[1;33m)\u001b[0m \u001b[1;33m+\u001b[0m \u001b[1;34m'.csv'\u001b[0m\u001b[1;33m,\u001b[0m\u001b[1;34m';'\u001b[0m\u001b[1;33m)\u001b[0m\u001b[1;33m\u001b[0m\u001b[0m\n\u001b[0;32m     20\u001b[0m         \u001b[1;32mprint\u001b[0m \u001b[0mstr\u001b[0m\u001b[1;33m(\u001b[0m\u001b[0ml\u001b[0m\u001b[1;33m)\u001b[0m \u001b[1;33m+\u001b[0m \u001b[1;34m' process'\u001b[0m\u001b[1;33m\u001b[0m\u001b[0m\n",
      "\u001b[1;32m<ipython-input-71-f90d0062adae>\u001b[0m in \u001b[0;36mgetTableBy_device_name\u001b[1;34m(jacintaTable, dl_name, dv_name)\u001b[0m\n\u001b[0;32m      9\u001b[0m \u001b[1;33m\u001b[0m\u001b[0m\n\u001b[0;32m     10\u001b[0m     \u001b[1;32mfor\u001b[0m \u001b[0mi\u001b[0m \u001b[1;32min\u001b[0m \u001b[0mrange\u001b[0m\u001b[1;33m(\u001b[0m\u001b[0mjacintaTable\u001b[0m\u001b[1;33m.\u001b[0m\u001b[0mnum_cols\u001b[0m\u001b[1;33m(\u001b[0m\u001b[1;33m)\u001b[0m\u001b[1;33m)\u001b[0m\u001b[1;33m:\u001b[0m\u001b[1;33m\u001b[0m\u001b[0m\n\u001b[1;32m---> 11\u001b[1;33m         \u001b[1;32mif\u001b[0m \u001b[1;33m(\u001b[0m\u001b[0mjacintaTable\u001b[0m\u001b[1;33m[\u001b[0m\u001b[1;34m\"X\"\u001b[0m \u001b[1;33m+\u001b[0m \u001b[0mstr\u001b[0m\u001b[1;33m(\u001b[0m\u001b[0mi\u001b[0m\u001b[1;33m+\u001b[0m\u001b[1;36m1\u001b[0m\u001b[1;33m)\u001b[0m\u001b[1;33m]\u001b[0m\u001b[1;33m[\u001b[0m\u001b[1;36m0\u001b[0m\u001b[1;33m]\u001b[0m \u001b[1;33m==\u001b[0m \u001b[0mdl_name\u001b[0m\u001b[1;33m)\u001b[0m \u001b[1;32mand\u001b[0m \u001b[1;33m(\u001b[0m\u001b[0mjacintaTable\u001b[0m\u001b[1;33m[\u001b[0m\u001b[1;34m\"X\"\u001b[0m \u001b[1;33m+\u001b[0m \u001b[0mstr\u001b[0m\u001b[1;33m(\u001b[0m\u001b[0mi\u001b[0m\u001b[1;33m+\u001b[0m\u001b[1;36m1\u001b[0m\u001b[1;33m)\u001b[0m\u001b[1;33m]\u001b[0m\u001b[1;33m[\u001b[0m\u001b[1;36m1\u001b[0m\u001b[1;33m]\u001b[0m \u001b[1;33m==\u001b[0m \u001b[0mdv_name\u001b[0m\u001b[1;33m)\u001b[0m\u001b[1;33m:\u001b[0m\u001b[1;33m\u001b[0m\u001b[0m\n\u001b[0m\u001b[0;32m     12\u001b[0m             \u001b[0mcol_list\u001b[0m\u001b[1;33m.\u001b[0m\u001b[0mappend\u001b[0m\u001b[1;33m(\u001b[0m\u001b[1;34m\"X\"\u001b[0m \u001b[1;33m+\u001b[0m \u001b[0mstr\u001b[0m\u001b[1;33m(\u001b[0m\u001b[0mi\u001b[0m\u001b[1;33m+\u001b[0m\u001b[1;36m1\u001b[0m\u001b[1;33m)\u001b[0m\u001b[1;33m)\u001b[0m\u001b[1;33m\u001b[0m\u001b[0m\n\u001b[0;32m     13\u001b[0m             \u001b[0mcol_names\u001b[0m\u001b[1;33m[\u001b[0m\u001b[1;34m\"X\"\u001b[0m \u001b[1;33m+\u001b[0m \u001b[0mstr\u001b[0m\u001b[1;33m(\u001b[0m\u001b[0mi\u001b[0m\u001b[1;33m+\u001b[0m\u001b[1;36m1\u001b[0m\u001b[1;33m)\u001b[0m\u001b[1;33m]\u001b[0m \u001b[1;33m=\u001b[0m \u001b[0mjacintaTable\u001b[0m\u001b[1;33m[\u001b[0m\u001b[1;34m\"X\"\u001b[0m \u001b[1;33m+\u001b[0m \u001b[0mstr\u001b[0m\u001b[1;33m(\u001b[0m\u001b[0mi\u001b[0m\u001b[1;33m+\u001b[0m\u001b[1;36m1\u001b[0m\u001b[1;33m)\u001b[0m\u001b[1;33m]\u001b[0m\u001b[1;33m[\u001b[0m\u001b[1;36m1\u001b[0m\u001b[1;33m]\u001b[0m \u001b[1;33m+\u001b[0m \u001b[1;34m' - '\u001b[0m \u001b[1;33m+\u001b[0m \u001b[0mjacintaTable\u001b[0m\u001b[1;33m[\u001b[0m\u001b[1;34m\"X\"\u001b[0m \u001b[1;33m+\u001b[0m \u001b[0mstr\u001b[0m\u001b[1;33m(\u001b[0m\u001b[0mi\u001b[0m\u001b[1;33m+\u001b[0m\u001b[1;36m1\u001b[0m\u001b[1;33m)\u001b[0m\u001b[1;33m]\u001b[0m\u001b[1;33m[\u001b[0m\u001b[1;36m2\u001b[0m\u001b[1;33m]\u001b[0m \u001b[1;33m+\u001b[0m \u001b[1;34m' - '\u001b[0m \u001b[1;33m+\u001b[0m \u001b[0mjacintaTable\u001b[0m\u001b[1;33m[\u001b[0m\u001b[1;34m\"X\"\u001b[0m \u001b[1;33m+\u001b[0m \u001b[0mstr\u001b[0m\u001b[1;33m(\u001b[0m\u001b[0mi\u001b[0m\u001b[1;33m+\u001b[0m\u001b[1;36m1\u001b[0m\u001b[1;33m)\u001b[0m\u001b[1;33m]\u001b[0m\u001b[1;33m[\u001b[0m\u001b[1;36m3\u001b[0m\u001b[1;33m]\u001b[0m\u001b[1;33m\u001b[0m\u001b[0m\n",
      "\u001b[1;32mC:\\Users\\rico\\Anaconda2\\envs\\gl-env\\lib\\site-packages\\graphlab\\data_structures\\sarray.pyc\u001b[0m in \u001b[0;36m__getitem__\u001b[1;34m(self, other)\u001b[0m\n\u001b[0;32m   1235\u001b[0m             \u001b[0mub\u001b[0m \u001b[1;33m=\u001b[0m \u001b[0mmin\u001b[0m\u001b[1;33m(\u001b[0m\u001b[0msa_len\u001b[0m\u001b[1;33m,\u001b[0m \u001b[0mlb\u001b[0m \u001b[1;33m+\u001b[0m \u001b[0mblock_size\u001b[0m\u001b[1;33m)\u001b[0m\u001b[1;33m\u001b[0m\u001b[0m\n\u001b[0;32m   1236\u001b[0m \u001b[1;33m\u001b[0m\u001b[0m\n\u001b[1;32m-> 1237\u001b[1;33m             \u001b[0mval_list\u001b[0m \u001b[1;33m=\u001b[0m \u001b[0mlist\u001b[0m\u001b[1;33m(\u001b[0m\u001b[0mSArray\u001b[0m\u001b[1;33m(\u001b[0m\u001b[0m_proxy\u001b[0m \u001b[1;33m=\u001b[0m \u001b[0mself\u001b[0m\u001b[1;33m.\u001b[0m\u001b[0m__proxy__\u001b[0m\u001b[1;33m.\u001b[0m\u001b[0mcopy_range\u001b[0m\u001b[1;33m(\u001b[0m\u001b[0mlb\u001b[0m\u001b[1;33m,\u001b[0m \u001b[1;36m1\u001b[0m\u001b[1;33m,\u001b[0m \u001b[0mub\u001b[0m\u001b[1;33m)\u001b[0m\u001b[1;33m)\u001b[0m\u001b[1;33m)\u001b[0m\u001b[1;33m\u001b[0m\u001b[0m\n\u001b[0m\u001b[0;32m   1238\u001b[0m             \u001b[0mself\u001b[0m\u001b[1;33m.\u001b[0m\u001b[0m_getitem_cache\u001b[0m \u001b[1;33m=\u001b[0m \u001b[1;33m(\u001b[0m\u001b[0mlb\u001b[0m\u001b[1;33m,\u001b[0m \u001b[0mub\u001b[0m\u001b[1;33m,\u001b[0m \u001b[0mval_list\u001b[0m\u001b[1;33m)\u001b[0m\u001b[1;33m\u001b[0m\u001b[0m\n\u001b[0;32m   1239\u001b[0m             \u001b[1;32mreturn\u001b[0m \u001b[0mval_list\u001b[0m\u001b[1;33m[\u001b[0m\u001b[0mother\u001b[0m \u001b[1;33m-\u001b[0m \u001b[0mlb\u001b[0m\u001b[1;33m]\u001b[0m\u001b[1;33m\u001b[0m\u001b[0m\n",
      "\u001b[1;31mKeyboardInterrupt\u001b[0m: "
     ]
    }
   ],
   "source": [
    "# Procesamos todo\n",
    "src = 'D:/01 - DATA_SRC_01/Jacinta/test/'\n",
    "\n",
    "\n",
    "jac0616 = '2552_2016-06-01.csv'\n",
    "dst = 'D:/01 - DATA_SRC_01/Jacinta/test/0616'\n",
    "\n",
    "jacinta_0616 = graphlab.SFrame.read_csv(src + jac0616, delimiter=';',header= False)\n",
    "\n",
    "#Creamos lista de Tablas\n",
    "logger_list = getDataLoggerList(jacinta_0616)\n",
    "dev_list = getDevicesList(jacinta_0616)\n",
    "\n",
    "#Procesamos los datos separando en tablas\n",
    "ProcessData(logger_list)\n",
    "\n",
    "#Procesamos los datos separando en tablas\n",
    "ProcessDataComposed(dev_list)\n",
    "print '### 0616 done ###'"
   ]
  },
  {
   "cell_type": "code",
   "execution_count": 74,
   "metadata": {
    "collapsed": true
   },
   "outputs": [
    {
     "data": {
      "text/html": [
       "<pre>Finished parsing file D:\\01 - DATA_SRC_01\\Jacinta\\test\\2552_2016-07-01.csv</pre>"
      ],
      "text/plain": [
       "Finished parsing file D:\\01 - DATA_SRC_01\\Jacinta\\test\\2552_2016-07-01.csv"
      ]
     },
     "metadata": {},
     "output_type": "display_data"
    },
    {
     "data": {
      "text/html": [
       "<pre>Parsing completed. Parsed 11 lines in 0.031002 secs.</pre>"
      ],
      "text/plain": [
       "Parsing completed. Parsed 11 lines in 0.031002 secs."
      ]
     },
     "metadata": {},
     "output_type": "display_data"
    },
    {
     "name": "stdout",
     "output_type": "stream",
     "text": [
      "------------------------------------------------------\n",
      "Inferred types from first 100 line(s) of file as \n",
      "column_type_hints=[str,str,str,str,str,str,str,str,str,str,str,str,str,str,str,str,str,str,str,str,str,str,str,str,str,str,str,str,str,str,str,str,str,str,str,str,str,str,str,str,str,str,str,str,str,str,str,str,str,str,str,str,str,str,str,str,str,str,str,str,str,str,str,str,str,str,str,str,str,str,str,str,str,str,str,str,str,str,str,str,str,str,str,str,str,str,str,str,str,str,str,str,str,str,str,str,str,str,str,str,str,str,str,str,str,str,str,str,str,str,str,str,str,str,str,str,str,str,str,str,str,str,str,str,str,str,str,str,str,str,str,str,str,str,str,str,str,str,str,str,str,str,str,str,str,str,str,str,str,str,str,str,str,str,str,str,str,str,str,str,str,str,str,str,str,str,str,str,str,str,str,str,str,str,str,str,str,str,str,str,str,str,str,str,str,str,str,str,str,str,str,str,str,str,str,str,str,str,str,str,str,str,str,str,str,str,str,str,str,str,str,str,str,str,str,str,str,str,str,str,str,str,str,str,str,str,str,str,str,str,str,str,str,str,str,str,str,str,str,str,str,str,str,str,str,str,str,str,str,str,str,str,str,str,str,str,str,str,str,str,str,str,str,str,str,str,str,str,str,str,str,str,str,str,str,str,str,str,str,str,str,str,str,str,str,str,str,str,str,str,str,str,str,str,str,str,str,str,str,str,str,str,str,str,str,str,str,str,str,str,str,str,str,str,str,str,str,str,str,str,str,str,str,str,str,str,str,str,str,str,str,str,str,str,str,str,str,str,str,str,str,str,str,str,str,str,str,str,str,str,str,str,str,str,str,str,str,str,str,str,str,str,str,str,str,str,str,str,str,str,str,str,str,str,str,str,str,str,str,str,str,str,str,str,str,str,str,str,str,str,str,str,str,str,str,str,str,str,str,str,str,str,str,str,str,str,str,str,str,str,str,str,str,str,str,str,str,str,str,str,str,str,str,str,str,str,str,str,str,str,str,str,str,str,str,str,str,str,str,str,str,str,str,str,str,str,str,str,str,str,str,str,str,str,str,str,str,str,str,str,str,str,str,str,str,str,str,str,str,str,str,str,str,str,str,str,str,str,str,str,str,str,str,str,str,str,str,str,str,str,str,str,str,str,str,str,str,str,str,str,str,str,str,str,str,str,str,str,str,str,str,str,str,str,str,str,str,str,str,str,str,str,str,str,str,str,str,str,str,str,str,str,str,str,str,str,str,str,str,str,str,str,str,str,str,str,str,str,str,str,str,str,str,str,str,str,str,str,str,str,str,str,str,str,str,str,str,str,str,str,str,str,str,str,str,str,str,str,str,str,str,str,str,str,str,str,str,str,str,str,str,str,str,str,str,str,str,str,str,str,str,str,str,str,str,str,str,str,str,str,str,str,str,str,str,str,str,str,str,str,str,str,str,str,str,str,str,str,str,str,str,str,str,str,str,str,str,str,str,str,str,str,str,str,str,str,str,str,str,str,str,str,str,str,str,str,str,str,str,str,str,str,str,str,str,str,str,str,str,str,str,str,str,str,str,str,str,str,str,str,str,str,str,str,str,str,str,str,str,str,str,str,str,str,str,str,str,str,str,str,str,str,str,str,str,str,str,str,str,str,str,str,str,str,str,str,str,str,str,str,str,str,str,str,str,str,str,str,str,str,str,str,str,str,str,str,str,str,str,str,str,str,str,str,str,str,str,str,str,str,str,str,str,str,str,str,str,str,str,str,str,str,str,str,str,str,str,str,str,str,str,str,str,str,str,str,str,str,str,str,str,str,str,str,str,str,str,str,str,str,str,str,str,str,str,str,str,str,str,str,str,str,str,str,str,str,str,str,str,str,str,str,str,str,str,str,str,str,str,str,str,str,str,str,str,str,str,str,str,str,str,str,str,str,str,str,str,str,str,str,str,str,str,str,str,str,str,str,str,str,str,str,str,str,str,str,str,str,str,str,str,str,str,str,str,str,str,str,str,str,str,str,str,str,str,str,str,str,str,str,str,str,str,str,str,str,str,str,str,str,str,str,str,str,str,str,str,str,str,str,str,str,str,str,str,str,str,str,str,str,str,str,str,str,str,str,str,str,str,str,str,str,str,str,str,str,str,str,str,str,str,str,str,str,str,str,str,str,str,str,str,str,str,str,str,str,str,str,str,str,str,str,str,str,str,str,str,str,str,str,str,str,str,str,str,str,str,str,str,str,str,str,str,str,str,str,str,str,str,str,str,str,str,str,str,str,str,str,str,str,str,str,str,str,str,str,str,str,str,str,str,str,str,str,str,str,str,str,str,str,str,str,str,str,str,str,str,str,str,str,str,str,str,str,str,str,str,str,str,str,str,str,str,str,str,str,str,str,str,str,str,str,str,str,str,str,str,str,str,str,str,str,str,str,str,str,str,str,str,str,str,str,str,str,str,str,str,str,str,str,str,str,str,str,str,str,str,str,str,str,str,str,str,str,str,str,str,str,str,str,str,str,str,str,str,str,str,str,str,str,str,str,str,str,str,str,str,str,str,str,str,str,str,str,str,str,str,str,str,str,str,str,str,str,str,str,str,str,str,str,str,str,str,str,str,str,str,str,str,str,str,str,str,str,str,str,str,str,str,str,str,str,str,str,str,str,str,str,str,str,str,str,str,str,str,str,str,str,str,str,str,str,str,str,str,str,str,str,str,str,str,str,str,str,str,str,str,str,str,str,str,str,str,str,str,str,str,str,str,str,str,str,str,str,str,str,str,str,str,str,str,str,str,str,str,str,str,str,str,str,str,str,str,str,str,str,str,str,str,str,str,str,str,str,str,str,str,str,str,str,str,str,str,str,str,str,str,str,str,str,str,str,str,str,str,str,str,str,str,str,str,str,str,str,str,str,str,str,str,str,str,str,str,str,str,str,str,str,str,str,str,str,str,str,str,str,str,str,str,str,str,str,str,str,str,str,str,str,str,str,str,str,str,str,str,str,str,str,str,str,str,str,str,str,str,str,str,str,str,str,str,str,str,str,str,str,str,str,str,str,str,str,str,str,str,str,str,str,str,str,str,str,str,str,str,str,str,str,str,str,str,str,str,str,str,str,str,str,str,str,str,str,str,str,str,str,str,str,str,str,str,str,str,str,str,str,str,str,str,str,str,str,str,str,str,str,str,str,str,str,str,str,str,str,str,str,str,str,str,str,str,str,str,str,str,str,str,str,str,str,str,str,str,str,str,str,str,str,str,str,str,str,str,str,str,str,str,str,str,str,str,str,str,str,str,str,str,str,str,str,str,str,str,str,str,str,str,str,str,str,str,str,str,str,str,str,str,str,str,str,str,str,str,str,str,str,str,str,str,str,str,str,str,str,str,str,str,str,str,str,str,str,str,str,str,str,str,str,str,str,str,str,str,str,str,str,str,str,str,str,str,str,str,str,str,str,str,str,str,str,str,str,str,str,str,str,str,str,str,str,str,str,str,str,str,str,str,str,str,str,str,str,str,str,str,str,str,str,str,str,str,str,str,str,str,str,str,str,str,str,str,str,str,str,str,str,str,str,str,str,str,str,str,str,str,str,str,str,str,str,str,str,str,str,str,str,str,str,str,str,str,str,str,str,str,str,str,str,str,str,str,str,str,str,str,str,str,str,str,str,str,str,str,str,str,str,str,str,str,str,str,str,str,str,str,str,str,str,str,str,str,str,str,str,str,str,str,str,str,str,str,str,str,str,str,str,str,str,str,str,str,str,str,str,str,str,str,str,str,str,str,str,str,str,str,str,str,str,str,str,str,str,str,str,str,str,str,str,str,str,str,str,str,str,str,str,str,str,str,str,str,str,str,str,str,str,str,str,str,str,str,str,str,str,str,str,str,str,str,str,str,str,str,str,str,str,str,str,str,str,str,str,str,str,str,str,str,str,str,str,str,str,str,str,str,str,str,str,str,str,str,str,str,str,str,str,str,str,str,str,str,str,str,str,str,str,str,str,str,str,str,str,str,str,str,str,str,str,str,str,str,str,str,str,str,str,str,str,str,str,str,str,str,str,str,str,str,str,str,str,str,str,str,str,str,str,str,str,str,str,str,str,str,str,str,str,str,str,str,str,str,str,str,str,str,str,str,str,str,str,str,str,str,str,str,str,str,str,str,str,str,str,str,str,str,str,str,str,str,str,str,str,str,str,str,str,str,str,str,str,str,str,str,str,str,str,str,str,str,str,str,str,str,str,str,str,str,str,str,str,str,str,str,str,str,str,str,str,str,str,str,str,str,str,str,str,str,str,str,str,str,str,str,str,str,str,str,str,str,str,str,str,str,str,str,str,str,str,str,str,str,str,str,str,str,str,str,str,str,str,str,str,str,str,str,str,str,str,str,str,str,str,str,str,str,str,str,str,str,str,str,str,str,str,str,str,str,str,str,str,str,str,str,str,str,str,str,str,str,str,str,str,str,str,str,str,str,str,str,str,str,str,str,str,str,str,str,str,str,str,str,str,str,str,str,str,str,str,str,str,str,str,str,str,str,str,str,str,str,str,str,str,str,str,str,str,str,str,str,str,str,str,str,str,str,str,str,str,str,str,str,str,str,str,str,str,str,str,str,str,str,str,str,str,str,str,str,str,str,str,str,str,str,str,str,str,str,str,str,str,str,str,str,str,str,str,str,str,str,str,str,str,str,str,str,str,str,str,str,str,str,str,str,str,str,str,str,str,str,str,str,str,str,str,str,str,str,str,str,str,str,str,str,str,str,str,str,str,str,str,str,str,str,str,str,str,str,str,str,str,str,str,str,str,str,str,str,str,str,str,str,str,str,str,str,str,str,str,str,str,str,str,str,str,str,str,str,str,str,str,str,str,str,str,str,str,str,str,str,str,str,str,str,str,str,str,str,str,str,str,str,str,str,str,str,str,str,str,str,str,str,str,str,str,str,str,str,str,str,str,str,str,str,str,str,str,str,str,str,str,str,str,str,str,str,str,str,str,str,str,str,str,str,str,str,str,str,str,str,str,str,str,str,str,str,str,str,str,str,str,str,str,str,str,str,str,str,str,str,str,str,str,str,str,str,str,str,str,str,str,str,str,str,str,str,str,str,str,str,str,str,str,str,str,str,str,str,str,str,str,str,str,str,str,str,str,str,str,str,str,str,str,str,str,str,str,str,str,str,str,str,str,str,str,str,str,str,str,str,str,str,str,str,str,str,str,str,str,str,str,str,str,str,str,str,str,str,str,str,str,str,str,str,str,str,str,str,str,str,str,str,str,str,str,str,str,str,str,str,str,str,str,str,str,str,str,str,str,str,str,str,str,str,str,str,str,str,str,str,str,str,str,str,str,str,str,str,str,str,str,str,str,str,str,str,str,str,str,str,str,str,str,str,str,str,str,str,str,str,str,str,str,str,str,str,str,str,str,str,str,str,str,str,str,str,str,str,str,str,str,str,str,str,str,str,str,str,str,str,str,str,str,str,str,str,str,str,str,str,str,str,str,str,str,str,str,str,str,str,str,str,str,str,str,str,str,str,str,str,str,str,str,str,str,str,str,str,str,str,str,str,str,str,str,str,str,str,str,str,str,str,str,str,str,str,str,str,str,str,str,str,str,str,str,str,str,str,str,str,str,str,str,str,str,str,str,str,str,str,str,str,str,str,str,str,str,str,str,str,str,str,str,str,str,str,str,str,str,str,str,str,str,str,str,str,str,str,str,str,str,str,str,str,str,str,str,str,str,str,str,str,str,str,str,str,str,str,str,str,str,str,str,str,str,str,str,str,str,str,str,str,str,str,str,str,str,str,str,str,str,str,str,str,str,str,str,str,str,str,str,str,str,str,str,str,str,str,str,str,str,str,str,str,str,str,str,str,str,str,str,str,str,str,str,str,str,str,str,str,str,str,str,str,str,str,str,str,str,str,str,str,str,str,str,str,str,str,str,str,str,str,str,str,str,str,str,str,str,str,str,str,str,str,str,str,str,str,str,str,str,str,str,str,str,str,str,str,str,str,str,str,str,str,str,str,str,str,str,str,str,str,str,str,str,str,str,str,str,str,str,str,str,str,str,str,str,str,str,str,str,str,str,str,str,str,str,str,str,str,str,str,str,str,str,str,str,str,str,str,str,str,str,str,str,str,str,str,str,str,str,str,str,str,str,str,str,str,str,str,str,str,str,str,str,str,str,str,str,str,str,str,str,str,str,str,str,str,str,str,str,str,str,str,str,str,str,str,str,str,str,str,str,str,str,str,str,str,str,str,str,str,str,str,str,str,str,str,str,str,str,str,str,str,str,str,str,str,str,str,str,str,str,str,str,str,str,str,str,str,str,str,str,str,str,str,str,str,str,str,str,str,str,str,str,str,str,str,str,str,str,str,str,str,str,str,str,str,str,str,str,str,str,str,str,str,str,str,str,str,str,str,str,str,str,str,str,str,str,str,str,str,str,str,str,str,str,str,str,str,str,str,str,str,str,str,str,str,str,str,str,str,str,str,str,str,str,str,str,str,str,str,str,str,str,str,str,str,str,str,str,str,str,str,str,str,str,str,str,str,str,str,str,str,str,str,str,str,str,str,str,str,str,str,str,str,str,str,str,str,str,str,str,str,str,str,str,str,str,str,str,str,str,str,str,str,str,str,str,str,str,str,str,str,str,str,str,str,str,str,str,str,str,str,str,str,str,str,str,str,str,str,str,str,str,str,str,str,str,str,str,str,str,str,str,str,str,str,str,str,str,str,str,str,str,str,str,str,str,str,str,str,str,str,str,str,str,str,str,str,str,str,str,str,str,str,str,str,str,str,str,str,str,str,str,str,str,str,str,str,str,str,str,str,str,str,str,str,str,str,str,str,str,str,str,str,str,str,str,str,str,str,str,str,str,str,str,str,str,str,str,str,str,str,str,str,str,str,str,str,str,str,str,str,str,str,str,str,str,str,str,str,str,str,str,str,str,str,str,str,str,str,str,str,str,str,str,str,str,str,str,str,str,str,str,str,str,str,str,str,str,str,str,str,str,str,str,str,str,str,str,str,str,str,str,str,str,str,str,str,str,str,str,str,str,str,str,str,str,str,str,str,str,str,str,str,str,str,str,str,str,str,str,str,str,str,str,str,str,str,str,str,str,str,str,str,str,str,str,str,str,str,str,str,str,str,str,str,str,str,str,str,str,str,str,str,str,str,str,str,str,str,str,str,str,str,str,str,str,str,str,str,str,str,str,str,str,str,str,str,str,str,str,str,str,str,str,str,str,str,str,str,str,str,str,str,str,str,str,str,str,str,str,str,str,str,str,str,str,str,str,str,str,str,str,str,str,str,str,str,str,str,str,str,str,str,str,str,str,str,str,str,str,str,str,str,str,str,str,str,str,str,str,str,str,str,str,str,str,str,str,str,str,str,str,str,str,str,str,str,str,str,str,str,str,str,str,str,str,str,str,str,str,str,str,str,str,str,str,str,str,str,str,str,str,str,str,str,str,str,str,str,str,str,str,str,str,str,str,str,str,str,str,str,str,str,str,str,str,str,str,str,str,str,str,str,str,str,str,str,str,str,str,str,str,str,str,str,str,str,str,str,str,str,str,str,str,str,str,str,str,str,str,str,str,str,str,str,str,str,str,str,str,str,str,str,str,str,str,str,str,str,str,str,str,str,str,str,str,str,str,str,str,str,str,str,str,str,str,str,str,str,str,str,str,str,str,str,str,str,str,str,str,str,str,str,str,str,str,str,str,str,str,str,str,str,str,str,str,str,str,str,str,str,str,str,str,str,str,str,str,str,str,str,str,str,str,str,str,str,str,str,str,str,str,str,str,str,str,str,str,str,str,str,str,str,str,str,str,str,str,str,str,str,str,str,str,str,str,str,str,str,str,str,str,str,str,str,str,str,str,str,str,str,str,str,str,str,str,str,str,str,str,str,str,str,str,str,str,str,str,str,str,str,str,str,str,str,str,str,str,str,str,str,str,str,str,str,str,str,str,str,str,str,str,str,str,str,str,str,str,str,str,str,str,str,str,str,str,str,str,str,str,str,str,str,str,str,str,str,str,str,str,str,str,str,str,str,str,str,str,str,str,str,str,str,str,str,str,str,str,str,str,str,str,str,str,str,str,str,str,str,str,str,str,str,str,str,str,str,str,str,str,str,str,str,str,str,str,str,str,str,str,str,str,str,str,str,str,str,str,str,str,str,str,str,str,str,str,str,str,str,str,str,str,str,str,str,str,str,str,str,str,str,str,str,str,str,str,str,str,str,str,str,str,str,str,str,str,str,str,str,str,str,str,str,str,str,str,str,str,str,str,str,str,str,str,str,str,str,str,str,str,str,str,str,str,str,str,str,str,str,str,str,str,str,str,str,str,str,str,str,str,str,str,str,str,str,str,str,str,str,str,str,str,str,str,str,str,str,str,str,str,str,str,str,str,str,str,str,str,str,str,str,str,str,str,str,str,str,str,str,str,str,str,str,str,str,str,str,str,str,str,str,str,str,str,str,str,str,str,str,str,str,str,str,str,str,str,str,str,str,str,str,str,str,str,str,str,str,str,str,str,str,str,str,str,str,str,str,str,str,str,str,str,str,str,str,str,str,str,str,str,str,str,str,str,str,str,str,str,str,str,str,str,str,str,str,str,str,str,str,str,str,str,str,str,str,str,str,str,str,str,str,str,str,str,str,str,str,str,str,str,str,str,str,str,str,str,str,str,str,str,str,str,str,str,str,str,str,str,str,str,str,str,str,str,str,str,str,str,str,str,str,str,str,str,str,str,str,str,str,str,str,str,str,str,str,str,str,str,str,str,str,str,str,str,str,str,str,str,str,str,str,str,str,str,str,str,str,str,str,str,str,str,str,str,str,str,str,str,str,str,str,str,str,str,str,str,str,str,str,str,str,str,str,str,str,str,str,str,str,str,str,str,str,str,str,str,str,str,str,str,str,str,str,str,str,str,str,str,str,str,str,str,str,str,str,str,str,str,str,str,str,str,str,str,str,str,str,str,str,str,str,str,str,str,str,str,str,str,str,str,str,str,str,str,str,str,str,str,str,str,str,str,str,str,str,str,str,str,str,str,str,str,str,str,str,str,str,str,str,str,str,str,str,str,str,str,str,str,str,str,str,str,str,str,str,str,str,str,str,str,str,str,str,str,str,str,str,str,str,str,str,str,str,str,str,str,str,str,str,str,str,str,str,str,str,str,str,str,str,str,str,str,str,str,str,str,str,str,str,str,str,str,str,str,str,str,str,str,str,str,str,str,str,str,str,str,str,str,str,str,str,str,str,str,str,str,str,str,str,str,str,str,str,str,str,str,str,str,str,str,str,str,str,str,str,str,str,str,str,str,str,str,str,str,str,str,str,str,str,str,str,str,str,str,str,str,str,str,str,str,str,str,str,str,str,str,str,str,str,str,str,str,str,str,str,str,str,str,str,str,str,str,str,str,str,str,str,str,str,str,str,str,str,str,str,str,str,str,str,str,str,str,str,str,str,str,str,str,str,str,str,str,str,str,str,str,str,str,str,str,str,str,str,str,str,str,str,str,str,str,str,str,str,str,str,str,str,str,str,str,str,str,str,str,str,str,str,str,str,str,str,str,str,str,str,str,str,str,str,str,str,str,str,str,str,str,str,str,str,str,str,str,str,str,str,str,str,str,str,str,str,str,str,str,str,str,str,str,str,str,str,str,str,str,str,str,str,str,str,str,str,str,str,str,str,str,str,str,str,str,str,str,str,str,str,str,str,str,str,str,str,str,str,str,str,str,str,str]\n",
      "If parsing fails due to incorrect types, you can correct\n",
      "the inferred type list above and pass it to read_csv in\n",
      "the column_type_hints argument\n",
      "------------------------------------------------------\n"
     ]
    },
    {
     "data": {
      "text/html": [
       "<pre>Finished parsing file D:\\01 - DATA_SRC_01\\Jacinta\\test\\2552_2016-07-01.csv</pre>"
      ],
      "text/plain": [
       "Finished parsing file D:\\01 - DATA_SRC_01\\Jacinta\\test\\2552_2016-07-01.csv"
      ]
     },
     "metadata": {},
     "output_type": "display_data"
    },
    {
     "data": {
      "text/html": [
       "<pre>Parsing completed. Parsed 11 lines in 0.025001 secs.</pre>"
      ],
      "text/plain": [
       "Parsing completed. Parsed 11 lines in 0.025001 secs."
      ]
     },
     "metadata": {},
     "output_type": "display_data"
    },
    {
     "name": "stdout",
     "output_type": "stream",
     "text": [
      "CT01 process\n",
      "CT17 process\n",
      "CT14 process\n",
      "CT02 process\n",
      "CT12 process\n",
      "CT13 process\n",
      "CT10 process\n",
      "CT11 process\n",
      "CT09 process\n",
      "CT08 process\n",
      "CT06 process\n",
      "CT03 process\n",
      "CT18 process\n",
      "CT19 process\n",
      "CT16 process\n",
      "CT15 process\n",
      "datalogger_name process\n",
      "CT07 process\n",
      "CT05 process\n",
      "CT04 process\n",
      "CT06___Módulo inversor 06.2.3 process\n",
      "CT06___Módulo inversor 06.2.2 process\n",
      "CT06___Módulo inversor 06.2.1 process\n",
      "CT01___Inversor 01.1 process\n",
      "CT01___Inversor 01.2 process\n",
      "CT06___Módulo inversor 06.2.4 process\n",
      "CT06___Módulo inversor 06.1.4 process\n",
      "CT18___Detector fuego 18 process\n",
      "CT12___Módulo inversor 12.1.2 process\n",
      "CT19___Inversor 19.2 process\n",
      "CT06___Módulo inversor 06.1.3 process\n",
      "CT13___Detector fuego 13 process\n",
      "CT17___Módulo inversor 17.1.4 process\n",
      "CT15___Combinador CN1 15.1 process\n",
      "CT15___Combinador CN1 15.2 process\n",
      "CT06___Módulo inversor 06.1.1 process\n",
      "CT17___Módulo inversor 17.1.1 process\n",
      "CT17___Módulo inversor 17.1.2 process\n",
      "CT17___Módulo inversor 17.1.3 process\n",
      "CT08___Módulo inversor 08.1.1 process\n",
      "CT08___Módulo inversor 08.1.2 process\n",
      "CT08___Módulo inversor 08.1.3 process\n",
      "CT08___Módulo inversor 08.1.4 process\n",
      "CT18___Combinador CN1 18.1 process\n",
      "CT18___Combinador CN1 18.2 process\n",
      "CT11___Detector fuego 11 process\n",
      "CT06___Detector fuego 06 process\n",
      "CT15___Módulo inversor 15.2.3 process\n",
      "CT15___Módulo inversor 15.2.2 process\n",
      "CT05___Detector fuego 05 process\n",
      "CT15___Módulo inversor 15.2.4 process\n",
      "CT07___Combinador CN1 07.1 process\n",
      "CT07___Combinador CN1 07.2 process\n",
      "CT05___Inversor 05.1 process\n",
      "CT12___Módulo inversor 12.1.4 process\n",
      "CT05___Inversor 05.2 process\n",
      "CT02___Combinador CN1 02.1 process\n",
      "CT03___Inversor 03.1 process\n",
      "CT03___Inversor 03.2 process\n",
      "CT19___Inversor 19.1 process\n",
      "CT17___Detector fuego 17 process\n",
      "CT08___Módulo inversor 08.2.4 process\n",
      "CT08___Módulo inversor 08.2.3 process\n",
      "CT06___Módulo inversor 06.1.2 process\n",
      "CT08___Módulo inversor 08.2.1 process\n",
      "CT12___Detector fuego 12 process\n",
      "CT12___Combinador CN1 12.1 process\n",
      "CT12___Combinador CN1 12.2 process\n",
      "CT12___Módulo inversor 12.1.1 process\n",
      "CT18___Módulo inversor 18.1.4 process\n",
      "CT17___Combinador CN1 17.1 process\n",
      "CT17___Combinador CN1 17.2 process\n",
      "CT14___Combinador CN1 14.1 process\n",
      "CT14___Combinador CN1 14.2 process\n",
      "CT18___Módulo inversor 18.1.3 process\n",
      "CT13___Combinador CN1 13.1 process\n",
      "CT13___Combinador CN1 13.2 process\n",
      "CT12___Módulo inversor 12.1.3 process\n",
      "CT05___Módulo inversor 05.2.3 process\n",
      "CT02___Módulo inversor 02.1.4 process\n",
      "CT08___Combinador CN1 08.1 process\n",
      "CT02___Módulo inversor 02.1.2 process\n",
      "CT02___Módulo inversor 02.1.3 process\n",
      "CT07___Detector fuego 07 process\n",
      "CT10___Inversor 10.1 process\n",
      "CT03___Módulo inversor 03.1.1 process\n",
      "CT03___Módulo inversor 03.1.2 process\n",
      "CT03___Módulo inversor 03.1.3 process\n",
      "CT03___Módulo inversor 03.1.4 process\n",
      "CT10___Inversor 10.2 process\n",
      "CT05___Módulo inversor 05.2.2 process\n",
      "CT18___Módulo inversor 18.2.3 process\n",
      "CT12___Módulo inversor 12.2.2 process\n",
      "CT18___Módulo inversor 18.2.1 process\n",
      "CT05___Módulo inversor 05.2.1 process\n",
      "CT18___Módulo inversor 18.2.4 process\n",
      "CT13___Inversor 13.1 process\n",
      "CT13___Inversor 13.2 process\n",
      "CT11___Inversor 11.1 process\n",
      "CT11___Inversor 11.2 process\n",
      "CT10___Detector fuego 10 process\n",
      "CT05___Módulo inversor 05.2.4 process\n",
      "CT08___Inversor 08.1 process\n",
      "CT09___Módulo inversor 09.1.1 process\n",
      "CT09___Inversor 09.2 process\n",
      "CT06___Inversor 06.1 process\n",
      "CT04___Módulo inversor 04.2.4 process\n",
      "CT04___Módulo inversor 04.2.3 process\n",
      "CT06___Inversor 06.2 process\n",
      "CT04___Módulo inversor 04.2.1 process\n",
      "CT04___Módulo inversor 04.2.2 process\n",
      "CT13___Módulo inversor 13.1.4 process\n",
      "CT17___Módulo inversor 17.2.2 process\n",
      "CT17___Módulo inversor 17.2.1 process\n",
      "CT13___Módulo inversor 13.1.1 process\n",
      "CT13___Módulo inversor 13.1.2 process\n",
      "CT17___Módulo inversor 17.2.4 process\n",
      "CT08___Inversor 08.2 process\n",
      "CT02___Inversor 02.1 process\n",
      "CT01___Módulo inversor 01.1.4 process\n",
      "CT17___Módulo inversor 17.2.3 process\n",
      "CT01___Módulo inversor 01.1.1 process\n",
      "CT01___Módulo inversor 01.1.2 process\n",
      "CT01___Módulo inversor 01.1.3 process\n",
      "CT04___Detector fuego 04 process\n",
      "CT01___Combinador CN1 01.1 process\n",
      "CT01___Combinador CN1 01.2 process\n",
      "CT02___Módulo inversor 02.1.1 process\n",
      "CT11___Módulo inversor 11.1.4 process\n",
      "CT11___Módulo inversor 11.1.1 process\n",
      "CT11___Módulo inversor 11.1.2 process\n",
      "CT11___Módulo inversor 11.1.3 process\n",
      "CT16___Módulo inversor 16.1.4 process\n",
      "CT04___Módulo inversor 04.1.1 process\n",
      "CT04___Módulo inversor 04.1.2 process\n",
      "CT04___Módulo inversor 04.1.3 process\n",
      "CT04___Módulo inversor 04.1.4 process\n",
      "CT16___Módulo inversor 16.1.1 process\n",
      "CT16___Módulo inversor 16.1.2 process\n",
      "CT16___Módulo inversor 16.1.3 process\n",
      "CT03___Módulo inversor 03.2.4 process\n",
      "CT03___Módulo inversor 03.2.3 process\n",
      "CT03___Módulo inversor 03.2.2 process\n",
      "CT03___Módulo inversor 03.2.1 process\n",
      "CT13___Módulo inversor 13.1.3 process\n",
      "CT06___Combinador CN1 06.2 process\n",
      "CT16___Detector fuego 16 process\n",
      "CT01___Módulo inversor 01.2.3 process\n",
      "CT01___Módulo inversor 01.2.2 process\n",
      "CT01___Módulo inversor 01.2.1 process\n",
      "CT01___Módulo inversor 01.2.4 process\n",
      "CT04___Inversor 04.1 process\n",
      "CT04___Inversor 04.2 process\n",
      "CT12___Inversor 12.1 process\n",
      "CT02___Inversor 02.2 process\n",
      "CT15___Módulo inversor 15.2.1 process\n",
      "CT18___Módulo inversor 18.1.1 process\n",
      "CT02___Módulo inversor 02.2.3 process\n",
      "CT02___Módulo inversor 02.2.2 process\n",
      "CT02___Módulo inversor 02.2.1 process\n",
      "CT15___Inversor 15.1 process\n",
      "CT15___Inversor 15.2 process\n",
      "CT02___Módulo inversor 02.2.4 process\n",
      "CT03___Combinador CN1 03.1 process\n",
      "CT03___Combinador CN1 03.2 process\n",
      "CT05___Módulo inversor 05.1.4 process\n",
      "CT13___Módulo inversor 13.2.3 process\n",
      "CT13___Módulo inversor 13.2.2 process\n",
      "CT13___Módulo inversor 13.2.1 process\n",
      "CT18___Módulo inversor 18.1.2 process\n",
      "CT13___Módulo inversor 13.2.4 process\n",
      "CT10___Módulo inversor 10.1.4 process\n",
      "CT05___Módulo inversor 05.1.2 process\n",
      "CT10___Módulo inversor 10.1.1 process\n",
      "CT10___Módulo inversor 10.1.2 process\n",
      "CT10___Módulo inversor 10.1.3 process\n",
      "CT06___Combinador CN1 06.1 process\n",
      "CT15___Detector fuego 15 process\n",
      "CT09___Detector fuego 09 process\n",
      "CT02___Detector fuego 02 process\n",
      "CT05___Módulo inversor 05.1.1 process\n",
      "CT11___Combinador CN1 11.1 process\n",
      "CT11___Combinador CN1 11.2 process\n",
      "CT10___Combinador CN1 10.1 process\n",
      "CT10___Combinador CN1 10.2 process\n",
      "CT11___Módulo inversor 11.2.3 process\n",
      "CT11___Módulo inversor 11.2.2 process\n",
      "CT11___Módulo inversor 11.2.1 process\n",
      "CT05___Módulo inversor 05.1.3 process\n",
      "CT07___Inversor 07.1 process\n",
      "CT07___Inversor 07.2 process\n",
      "CT11___Módulo inversor 11.2.4 process\n",
      "CT09___Módulo inversor 09.1.4 process\n",
      "CT03___Detector fuego 03 process\n",
      "CT09___Inversor 09.1 process\n",
      "CT09___Módulo inversor 09.1.2 process\n",
      "CT09___Módulo inversor 09.1.3 process\n",
      "CT15___Módulo inversor 15.1.4 process\n",
      "CT16___Inversor 16.1 process\n",
      "CT16___Inversor 16.2 process\n",
      "CT15___Módulo inversor 15.1.1 process\n",
      "CT15___Módulo inversor 15.1.2 process\n",
      "CT15___Módulo inversor 15.1.3 process\n",
      "CT14___Módulo inversor 14.2.3 process\n",
      "CT14___Módulo inversor 14.2.2 process\n",
      "CT14___Módulo inversor 14.2.1 process\n",
      "CT05___Combinador CN1 05.1 process\n",
      "CT05___Combinador CN1 05.2 process\n",
      "CT14___Módulo inversor 14.2.4 process\n",
      "CT14___Módulo inversor 14.1.4 process\n",
      "CT14___Módulo inversor 14.1.1 process\n",
      "CT14___Módulo inversor 14.1.2 process\n",
      "CT14___Módulo inversor 14.1.3 process\n",
      "CT12___Módulo inversor 12.2.3 process\n",
      "CT04___Combinador CN1 04.1 process\n",
      "CT04___Combinador CN1 04.2 process\n",
      "CT18___Módulo inversor 18.2.2 process\n",
      "CT02___Combinador CN1 02.2 process\n",
      "datalogger_name___device_name process\n",
      "CT01___Detector fuego 01 process\n",
      "CT18___Inversor 18.1 process\n",
      "CT18___Inversor 18.2 process\n",
      "CT16___Módulo inversor 16.2.3 process\n",
      "CT16___Módulo inversor 16.2.2 process\n",
      "CT16___Módulo inversor 16.2.1 process\n",
      "CT14___Inversor 14.1 process\n",
      "CT14___Inversor 14.2 process\n",
      "CT16___Módulo inversor 16.2.4 process\n",
      "CT12___Módulo inversor 12.2.4 process\n",
      "CT08___Combinador CN1 08.2 process\n",
      "CT17___Inversor 17.1 process\n",
      "CT17___Inversor 17.2 process\n",
      "CT12___Módulo inversor 12.2.1 process\n",
      "CT10___Módulo inversor 10.2.3 process\n",
      "CT10___Módulo inversor 10.2.2 process\n",
      "CT10___Módulo inversor 10.2.1 process\n",
      "CT07___Módulo inversor 07.2.4 process\n",
      "CT07___Módulo inversor 07.2.3 process\n",
      "CT07___Módulo inversor 07.2.2 process\n",
      "CT07___Módulo inversor 07.2.1 process\n",
      "CT10___Módulo inversor 10.2.4 process\n",
      "CT16___Combinador CN1 16.1 process\n",
      "CT07___Módulo inversor 07.1.2 process\n",
      "CT08___Detector fuego 08 process\n",
      "CT09___Módulo inversor 09.2.3 process\n",
      "CT09___Módulo inversor 09.2.2 process\n",
      "CT09___Módulo inversor 09.2.1 process\n",
      "CT12___Inversor 12.2 process\n",
      "CT09___Módulo inversor 09.2.4 process\n",
      "CT16___Combinador CN1 16.2 process\n",
      "CT07___Módulo inversor 07.1.1 process\n",
      "CT14___Detector fuego 14 process\n",
      "CT07___Módulo inversor 07.1.3 process\n",
      "CT07___Módulo inversor 07.1.4 process\n",
      "CT09___Combinador CN1 09.1 process\n",
      "CT09___Combinador CN1 09.2 process\n",
      "CT08___Módulo inversor 08.2.2 process\n",
      "### 0716 done ###\n"
     ]
    }
   ],
   "source": [
    "jac0716 = '2552_2016-07-01.csv'\n",
    "dst = 'D:/01 - DATA_SRC_01/Jacinta/test/0716'\n",
    "\n",
    "jacinta_0716 = graphlab.SFrame.read_csv(src + jac0716, delimiter=';',header= False)\n",
    "\n",
    "#ResetContext()\n",
    "#Creamos lista de Tablas\n",
    "logger_list = getDataLoggerList(jacinta_0716)\n",
    "dev_list = getDevicesList(jacinta_0716)\n",
    "#Procesamos los datos separando en tablas\n",
    "ProcessData(logger_list)\n",
    "#Procesamos los datos separando en tablas\n",
    "ProcessDataComposed(dev_list)\n",
    "print '### 0716 done ###'"
   ]
  },
  {
   "cell_type": "code",
   "execution_count": null,
   "metadata": {
    "collapsed": true
   },
   "outputs": [],
   "source": [
    "jac0816 = '2552_2016-08-01.csv'\n",
    "dst = 'D:/01 - DATA_SRC_01/Jacinta/test/0816'\n",
    "\n",
    "jacinta_0816 = graphlab.SFrame.read_csv(src + jac0816, delimiter=';',header= False)\n",
    "\n",
    "#ResetContext()\n",
    "#Creamos lista de Tablas\n",
    "logger_list = getDataLoggerList(jacinta_0816)\n",
    "dev_list = getDevicesList(jacinta_0816)\n",
    "#Procesamos los datos separando en tablas\n",
    "ProcessData(logger_list)\n",
    "#Procesamos los datos separando en tablas\n",
    "ProcessDataComposed(dev_list)\n",
    "print '### 0816 done ###'"
   ]
  },
  {
   "cell_type": "markdown",
   "metadata": {},
   "source": [
    "# Datos de producción"
   ]
  },
  {
   "cell_type": "code",
   "execution_count": null,
   "metadata": {
    "collapsed": false,
    "scrolled": true
   },
   "outputs": [
    {
     "data": {
      "text/html": [
       "<pre>Finished parsing file D:\\01 - DATA_SRC_01\\Jacinta\\2552_2016-07-01.csv</pre>"
      ],
      "text/plain": [
       "Finished parsing file D:\\01 - DATA_SRC_01\\Jacinta\\2552_2016-07-01.csv"
      ]
     },
     "metadata": {},
     "output_type": "display_data"
    },
    {
     "data": {
      "text/html": [
       "<pre>Parsing completed. Parsed 100 lines in 0.87205 secs.</pre>"
      ],
      "text/plain": [
       "Parsing completed. Parsed 100 lines in 0.87205 secs."
      ]
     },
     "metadata": {},
     "output_type": "display_data"
    },
    {
     "name": "stdout",
     "output_type": "stream",
     "text": [
      "------------------------------------------------------\n",
      "Inferred types from first 100 line(s) of file as \n",
      "column_type_hints=[str,str,str,str,str,str,str,str,str,str,str,str,str,str,str,str,str,str,str,str,str,str,str,str,str,str,str,str,str,str,str,str,str,str,str,str,str,str,str,str,str,str,str,str,str,str,str,str,str,str,str,str,str,str,str,str,str,str,str,str,str,str,str,str,str,str,str,str,str,str,str,str,str,str,str,str,str,str,str,str,str,str,str,str,str,str,str,str,str,str,str,str,str,str,str,str,str,str,str,str,str,str,str,str,str,str,str,str,str,str,str,str,str,str,str,str,str,str,str,str,str,str,str,str,str,str,str,str,str,str,str,str,str,str,str,str,str,str,str,str,str,str,str,str,str,str,str,str,str,str,str,str,str,str,str,str,str,str,str,str,str,str,str,str,str,str,str,str,str,str,str,str,str,str,str,str,str,str,str,str,str,str,str,str,str,str,str,str,str,str,str,str,str,str,str,str,str,str,str,str,str,str,str,str,str,str,str,str,str,str,str,str,str,str,str,str,str,str,str,str,str,str,str,str,str,str,str,str,str,str,str,str,str,str,str,str,str,str,str,str,str,str,str,str,str,str,str,str,str,str,str,str,str,str,str,str,str,str,str,str,str,str,str,str,str,str,str,str,str,str,str,str,str,str,str,str,str,str,str,str,str,str,str,str,str,str,str,str,str,str,str,str,str,str,str,str,str,str,str,str,str,str,str,str,str,str,str,str,str,str,str,str,str,str,str,str,str,str,str,str,str,str,str,str,str,str,str,str,str,str,str,str,str,str,str,str,str,str,str,str,str,str,str,str,str,str,str,str,str,str,str,str,str,str,str,str,str,str,str,str,str,str,str,str,str,str,str,str,str,str,str,str,str,str,str,str,str,str,str,str,str,str,str,str,str,str,str,str,str,str,str,str,str,str,str,str,str,str,str,str,str,str,str,str,str,str,str,str,str,str,str,str,str,str,str,str,str,str,str,str,str,str,str,str,str,str,str,str,str,str,str,str,str,str,str,str,str,str,str,str,str,str,str,str,str,str,str,str,str,str,str,str,str,str,str,str,str,str,str,str,str,str,str,str,str,str,str,str,str,str,str,str,str,str,str,str,str,str,str,str,str,str,str,str,str,str,str,str,str,str,str,str,str,str,str,str,str,str,str,str,str,str,str,str,str,str,str,str,str,str,str,str,str,str,str,str,str,str,str,str,str,str,str,str,str,str,str,str,str,str,str,str,str,str,str,str,str,str,str,str,str,str,str,str,str,str,str,str,str,str,str,str,str,str,str,str,str,str,str,str,str,str,str,str,str,str,str,str,str,str,str,str,str,str,str,str,str,str,str,str,str,str,str,str,str,str,str,str,str,str,str,str,str,str,str,str,str,str,str,str,str,str,str,str,str,str,str,str,str,str,str,str,str,str,str,str,str,str,str,str,str,str,str,str,str,str,str,str,str,str,str,str,str,str,str,str,str,str,str,str,str,str,str,str,str,str,str,str,str,str,str,str,str,str,str,str,str,str,str,str,str,str,str,str,str,str,str,str,str,str,str,str,str,str,str,str,str,str,str,str,str,str,str,str,str,str,str,str,str,str,str,str,str,str,str,str,str,str,str,str,str,str,str,str,str,str,str,str,str,str,str,str,str,str,str,str,str,str,str,str,str,str,str,str,str,str,str,str,str,str,str,str,str,str,str,str,str,str,str,str,str,str,str,str,str,str,str,str,str,str,str,str,str,str,str,str,str,str,str,str,str,str,str,str,str,str,str,str,str,str,str,str,str,str,str,str,str,str,str,str,str,str,str,str,str,str,str,str,str,str,str,str,str,str,str,str,str,str,str,str,str,str,str,str,str,str,str,str,str,str,str,str,str,str,str,str,str,str,str,str,str,str,str,str,str,str,str,str,str,str,str,str,str,str,str,str,str,str,str,str,str,str,str,str,str,str,str,str,str,str,str,str,str,str,str,str,str,str,str,str,str,str,str,str,str,str,str,str,str,str,str,str,str,str,str,str,str,str,str,str,str,str,str,str,str,str,str,str,str,str,str,str,str,str,str,str,str,str,str,str,str,str,str,str,str,str,str,str,str,str,str,str,str,str,str,str,str,str,str,str,str,str,str,str,str,str,str,str,str,str,str,str,str,str,str,str,str,str,str,str,str,str,str,str,str,str,str,str,str,str,str,str,str,str,str,str,str,str,str,str,str,str,str,str,str,str,str,str,str,str,str,str,str,str,str,str,str,str,str,str,str,str,str,str,str,str,str,str,str,str,str,str,str,str,str,str,str,str,str,str,str,str,str,str,str,str,str,str,str,str,str,str,str,str,str,str,str,str,str,str,str,str,str,str,str,str,str,str,str,str,str,str,str,str,str,str,str,str,str,str,str,str,str,str,str,str,str,str,str,str,str,str,str,str,str,str,str,str,str,str,str,str,str,str,str,str,str,str,str,str,str,str,str,str,str,str,str,str,str,str,str,str,str,str,str,str,str,str,str,str,str,str,str,str,str,str,str,str,str,str,str,str,str,str,str,str,str,str,str,str,str,str,str,str,str,str,str,str,str,str,str,str,str,str,str,str,str,str,str,str,str,str,str,str,str,str,str,str,str,str,str,str,str,str,str,str,str,str,str,str,str,str,str,str,str,str,str,str,str,str,str,str,str,str,str,str,str,str,str,str,str,str,str,str,str,str,str,str,str,str,str,str,str,str,str,str,str,str,str,str,str,str,str,str,str,str,str,str,str,str,str,str,str,str,str,str,str,str,str,str,str,str,str,str,str,str,str,str,str,str,str,str,str,str,str,str,str,str,str,str,str,str,str,str,str,str,str,str,str,str,str,str,str,str,str,str,str,str,str,str,str,str,str,str,str,str,str,str,str,str,str,str,str,str,str,str,str,str,str,str,str,str,str,str,str,str,str,str,str,str,str,str,str,str,str,str,str,str,str,str,str,str,str,str,str,str,str,str,str,str,str,str,str,str,str,str,str,str,str,str,str,str,str,str,str,str,str,str,str,str,str,str,str,str,str,str,str,str,str,str,str,str,str,str,str,str,str,str,str,str,str,str,str,str,str,str,str,str,str,str,str,str,str,str,str,str,str,str,str,str,str,str,str,str,str,str,str,str,str,str,str,str,str,str,str,str,str,str,str,str,str,str,str,str,str,str,str,str,str,str,str,str,str,str,str,str,str,str,str,str,str,str,str,str,str,str,str,str,str,str,str,str,str,str,str,str,str,str,str,str,str,str,str,str,str,str,str,str,str,str,str,str,str,str,str,str,str,str,str,str,str,str,str,str,str,str,str,str,str,str,str,str,str,str,str,str,str,str,str,str,str,str,str,str,str,str,str,str,str,str,str,str,str,str,str,str,str,str,str,str,str,str,str,str,str,str,str,str,str,str,str,str,str,str,str,str,str,str,str,str,str,str,str,str,str,str,str,str,str,str,str,str,str,str,str,str,str,str,str,str,str,str,str,str,str,str,str,str,str,str,str,str,str,str,str,str,str,str,str,str,str,str,str,str,str,str,str,str,str,str,str,str,str,str,str,str,str,str,str,str,str,str,str,str,str,str,str,str,str,str,str,str,str,str,str,str,str,str,str,str,str,str,str,str,str,str,str,str,str,str,str,str,str,str,str,str,str,str,str,str,str,str,str,str,str,str,str,str,str,str,str,str,str,str,str,str,str,str,str,str,str,str,str,str,str,str,str,str,str,str,str,str,str,str,str,str,str,str,str,str,str,str,str,str,str,str,str,str,str,str,str,str,str,str,str,str,str,str,str,str,str,str,str,str,str,str,str,str,str,str,str,str,str,str,str,str,str,str,str,str,str,str,str,str,str,str,str,str,str,str,str,str,str,str,str,str,str,str,str,str,str,str,str,str,str,str,str,str,str,str,str,str,str,str,str,str,str,str,str,str,str,str,str,str,str,str,str,str,str,str,str,str,str,str,str,str,str,str,str,str,str,str,str,str,str,str,str,str,str,str,str,str,str,str,str,str,str,str,str,str,str,str,str,str,str,str,str,str,str,str,str,str,str,str,str,str,str,str,str,str,str,str,str,str,str,str,str,str,str,str,str,str,str,str,str,str,str,str,str,str,str,str,str,str,str,str,str,str,str,str,str,str,str,str,str,str,str,str,str,str,str,str,str,str,str,str,str,str,str,str,str,str,str,str,str,str,str,str,str,str,str,str,str,str,str,str,str,str,str,str,str,str,str,str,str,str,str,str,str,str,str,str,str,str,str,str,str,str,str,str,str,str,str,str,str,str,str,str,str,str,str,str,str,str,str,str,str,str,str,str,str,str,str,str,str,str,str,str,str,str,str,str,str,str,str,str,str,str,str,str,str,str,str,str,str,str,str,str,str,str,str,str,str,str,str,str,str,str,str,str,str,str,str,str,str,str,str,str,str,str,str,str,str,str,str,str,str,str,str,str,str,str,str,str,str,str,str,str,str,str,str,str,str,str,str,str,str,str,str,str,str,str,str,str,str,str,str,str,str,str,str,str,str,str,str,str,str,str,str,str,str,str,str,str,str,str,str,str,str,str,str,str,str,str,str,str,str,str,str,str,str,str,str,str,str,str,str,str,str,str,str,str,str,str,str,str,str,str,str,str,str,str,str,str,str,str,str,str,str,str,str,str,str,str,str,str,str,str,str,str,str,str,str,str,str,str,str,str,str,str,str,str,str,str,str,str,str,str,str,str,str,str,str,str,str,str,str,str,str,str,str,str,str,str,str,str,str,str,str,str,str,str,str,str,str,str,str,str,str,str,str,str,str,str,str,str,str,str,str,str,str,str,str,str,str,str,str,str,str,str,str,str,str,str,str,str,str,str,str,str,str,str,str,str,str,str,str,str,str,str,str,str,str,str,str,str,str,str,str,str,str,str,str,str,str,str,str,str,str,str,str,str,str,str,str,str,str,str,str,str,str,str,str,str,str,str,str,str,str,str,str,str,str,str,str,str,str,str,str,str,str,str,str,str,str,str,str,str,str,str,str,str,str,str,str,str,str,str,str,str,str,str,str,str,str,str,str,str,str,str,str,str,str,str,str,str,str,str,str,str,str,str,str,str,str,str,str,str,str,str,str,str,str,str,str,str,str,str,str,str,str,str,str,str,str,str,str,str,str,str,str,str,str,str,str,str,str,str,str,str,str,str,str,str,str,str,str,str,str,str,str,str,str,str,str,str,str,str,str,str,str,str,str,str,str,str,str,str,str,str,str,str,str,str,str,str,str,str,str,str,str,str,str,str,str,str,str,str,str,str,str,str,str,str,str,str,str,str,str,str,str,str,str,str,str,str,str,str,str,str,str,str,str,str,str,str,str,str,str,str,str,str,str,str,str,str,str,str,str,str,str,str,str,str,str,str,str,str,str,str,str,str,str,str,str,str,str,str,str,str,str,str,str,str,str,str,str,str,str,str,str,str,str,str,str,str,str,str,str,str,str,str,str,str,str,str,str,str,str,str,str,str,str,str,str,str,str,str,str,str,str,str,str,str,str,str,str,str,str,str,str,str,str,str,str,str,str,str,str,str,str,str,str,str,str,str,str,str,str,str,str,str,str,str,str,str,str,str,str,str,str,str,str,str,str,str,str,str,str,str,str,str,str,str,str,str,str,str,str,str,str,str,str,str,str,str,str,str,str,str,str,str,str,str,str,str,str,str,str,str,str,str,str,str,str,str,str,str,str,str,str,str,str,str,str,str,str,str,str,str,str,str,str,str,str,str,str,str,str,str,str,str,str,str,str,str,str,str,str,str,str,str,str,str,str,str,str,str,str,str,str,str,str,str,str,str,str,str,str,str,str,str,str,str,str,str,str,str,str,str,str,str,str,str,str,str,str,str,str,str,str,str,str,str,str,str,str,str,str,str,str,str,str,str,str,str,str,str,str,str,str,str,str,str,str,str,str,str,str,str,str,str,str,str,str,str,str,str,str,str,str,str,str,str,str,str,str,str,str,str,str,str,str,str,str,str,str,str,str,str,str,str,str,str,str,str,str,str,str,str,str,str,str,str,str,str,str,str,str,str,str,str,str,str,str,str,str,str,str,str,str,str,str,str,str,str,str,str,str,str,str,str,str,str,str,str,str,str,str,str,str,str,str,str,str,str,str,str,str,str,str,str,str,str,str,str,str,str,str,str,str,str,str,str,str,str,str,str,str,str,str,str,str,str,str,str,str,str,str,str,str,str,str,str,str,str,str,str,str,str,str,str,str,str,str,str,str,str,str,str,str,str,str,str,str,str,str,str,str,str,str,str,str,str,str,str,str,str,str,str,str,str,str,str,str,str,str,str,str,str,str,str,str,str,str,str,str,str,str,str,str,str,str,str,str,str,str,str,str,str,str,str,str,str,str,str,str,str,str,str,str,str,str,str,str,str,str,str,str,str,str,str,str,str,str,str,str,str,str,str,str,str,str,str,str,str,str,str,str,str,str,str,str,str,str,str,str,str,str,str,str,str,str,str,str,str,str,str,str,str,str,str,str,str,str,str,str,str,str,str,str,str,str,str,str,str,str,str,str,str,str,str,str,str,str,str,str,str,str,str,str,str,str,str,str,str,str,str,str,str,str,str,str,str,str,str,str,str,str,str,str,str,str,str,str,str,str,str,str,str,str,str,str,str,str,str,str,str,str,str,str,str,str,str,str,str,str,str,str,str,str,str,str,str,str,str,str,str,str,str,str,str,str,str,str,str,str,str,str,str,str,str,str,str,str,str,str,str,str,str,str,str,str,str,str,str,str,str,str,str,str,str,str,str,str,str,str,str,str,str,str,str,str,str,str,str,str,str,str,str,str,str,str,str,str,str,str,str,str,str,str,str,str,str,str,str,str,str,str,str,str,str,str,str,str,str,str,str,str,str,str,str,str,str,str,str,str,str,str,str,str,str,str,str,str,str,str,str,str,str,str,str,str,str,str,str,str,str,str,str,str,str,str,str,str,str,str,str,str,str,str,str,str,str,str,str,str,str,str,str,str,str,str,str,str,str,str,str,str,str,str,str,str,str,str,str,str,str,str,str,str,str,str,str,str,str,str,str,str,str,str,str,str,str,str,str,str,str,str,str,str,str,str,str,str,str,str,str,str,str,str,str,str,str,str,str,str,str,str,str,str,str,str,str,str,str,str,str,str,str,str,str,str,str,str,str,str,str,str,str,str,str,str,str,str,str,str,str,str,str,str,str,str,str,str,str,str,str,str,str,str,str,str,str,str,str,str,str,str,str,str,str,str,str,str,str,str,str,str,str,str,str,str,str,str,str,str,str,str,str,str,str,str,str,str,str,str,str,str,str,str,str,str,str,str,str,str,str,str,str,str,str,str,str,str,str,str,str,str,str,str,str,str,str,str,str,str,str,str,str,str,str,str,str,str,str,str,str,str,str,str,str,str,str,str,str,str,str,str,str,str,str,str,str,str,str,str,str,str,str,str,str,str,str,str,str,str,str,str,str,str,str,str,str,str,str,str,str,str,str,str,str,str,str,str,str,str,str,str,str,str,str,str,str,str,str,str,str,str,str,str,str,str,str,str,str,str,str,str,str,str,str,str,str,str,str,str,str,str,str,str,str,str,str,str,str,str,str,str,str,str,str,str,str,str,str,str,str,str,str,str,str,str,str,str,str,str,str,str,str,str,str,str,str,str,str,str,str,str,str,str,str,str,str,str,str,str,str,str,str,str,str,str,str,str,str,str,str,str,str,str,str,str,str,str,str,str,str,str,str,str,str,str,str,str,str,str,str,str,str,str,str,str,str,str,str,str,str,str,str,str,str,str,str,str,str,str,str,str,str,str,str,str,str,str,str,str,str,str,str,str,str,str,str,str,str,str,str,str,str,str,str,str,str,str,str,str,str,str,str,str,str,str,str,str,str,str,str,str,str,str,str,str,str,str,str,str,str,str,str,str,str,str,str,str,str,str,str,str,str,str,str,str,str,str,str,str,str,str,str,str,str,str,str,str,str,str,str,str,str,str,str,str,str,str,str,str,str,str,str,str,str,str,str,str,str,str,str,str,str,str,str,str,str,str,str,str,str,str,str,str,str,str,str,str,str,str,str,str,str,str,str,str,str,str,str,str,str,str,str,str,str,str,str,str,str,str,str,str,str,str,str,str,str,str,str,str,str,str,str,str,str,str,str,str,str,str,str,str,str,str,str,str,str,str,str,str,str,str,str,str,str,str,str,str,str,str,str,str,str,str,str,str,str,str,str,str,str,str,str,str,str,str,str,str,str,str,str,str,str,str,str,str,str,str,str,str,str,str,str,str,str,str,str,str,str,str,str,str,str,str,str,str,str,str,str,str,str,str,str,str,str,str,str,str,str,str,str,str,str,str,str,str,str,str,str,str,str,str,str,str,str,str,str,str,str,str,str,str,str,str,str,str,str,str,str,str,str,str,str,str,str,str,str,str,str,str,str,str,str,str,str,str,str,str,str,str,str,str,str,str,str,str,str,str,str,str,str,str,str,str,str,str,str,str,str,str,str,str,str,str,str,str,str,str,str,str,str,str,str,str,str,str,str,str,str,str,str,str,str,str,str,str,str,str,str,str,str,str,str,str,str,str,str,str,str,str,str,str,str,str,str,str,str,str,str,str,str,str,str,str,str,str,str,str,str,str,str,str,str,str,str,str,str,str,str,str,str,str,str,str,str,str,str,str,str,str,str,str,str,str,str,str,str,str,str,str,str,str,str,str,str,str,str,str,str,str,str,str,str,str,str,str,str,str,str,str,str,str,str,str,str,str,str,str,str,str,str,str,str,str,str,str,str,str,str,str,str,str,str,str,str,str,str,str,str,str,str,str,str,str,str,str,str,str,str,str,str,str,str,str,str,str,str,str,str,str,str,str,str,str,str,str,str,str,str,str,str,str,str,str,str,str,str,str,str,str,str,str,str,str,str,str,str,str,str,str,str,str,str,str,str,str,str,str,str,str,str,str,str,str,str,str,str,str,str,str,str,str,str,str,str,str,str,str,str,str,str,str,str,str,str,str,str,str,str,str,str,str,str,str,str,str,str,str,str,str,str,str,str,str,str,str,str,str,str,str,str,str,str,str,str,str,str,str,str,str,str,str,str,str,str,str,str,str,str,str,str,str,str,str,str,str,str,str,str,str,str,str,str,str,str,str,str,str,str,str,str,str,str,str,str,str,str,str,str,str,str,str,str,str,str,str,str,str,str,str,str,str,str,str,str,str,str,str,str,str,str,str,str,str,str,str,str,str,str,str,str,str,str,str,str,str,str,str,str,str,str,str,str,str,str,str,str,str,str,str,str,str,str,str,str,str,str,str,str,str,str,str,str,str,str,str,str,str,str,str,str,str,str,str,str,str,str,str,str,str,str,str,str,str,str,str,str,str,str,str,str,str,str,str,str,str,str,str,str,str,str,str,str,str,str,str,str,str,str,str,str,str,str,str,str,str,str,str,str,str,str,str,str,str,str,str,str,str,str,str,str,str,str,str,str,str,str,str,str,str,str,str,str,str,str,str,str,str,str,str,str,str,str,str,str,str,str,str,str,str,str,str,str,str,str,str,str,str,str,str,str,str,str,str,str,str,str,str,str,str,str,str,str,str,str,str,str,str,str,str,str,str,str,str,str,str,str,str,str,str,str,str,str,str,str,str,str,str,str,str,str,str,str,str,str,str,str,str,str,str,str,str,str,str,str,str,str,str,str,str,str,str,str,str,str,str,str,str,str,str,str,str,str,str,str,str,str,str,str,str,str,str,str,str,str,str,str,str,str,str,str,str,str,str,str,str,str,str,str,str,str,str,str,str,str,str,str,str,str,str,str,str,str,str,str,str,str,str,str,str,str,str,str,str,str,str,str,str,str,str,str,str,str,str,str,str,str,str,str,str,str,str,str,str,str,str,str,str,str,str,str,str,str,str,str,str,str,str,str,str,str,str,str,str,str,str,str,str,str,str,str,str,str,str,str,str,str,str,str,str,str,str,str,str,str,str,str,str,str,str,str,str,str,str,str,str,str,str,str,str,str,str,str,str,str,str,str,str,str,str,str,str,str,str,str,str,str,str,str,str,str,str,str,str,str,str,str,str,str,str,str,str,str,str,str,str,str,str,str,str,str,str,str,str,str,str,str,str,str,str,str,str,str,str,str,str,str,str,str,str,str,str,str,str,str,str,str,str,str,str,str,str,str,str,str,str,str,str,str,str,str,str,str,str,str,str,str,str,str,str,str,str,str,str,str,str,str,str,str,str,str,str,str,str,str,str,str,str,str,str,str,str,str,str,str,str,str,str,str,str,str,str,str,str,str,str,str,str,str,str,str,str,str,str,str,str,str,str,str,str,str,str,str,str,str,str,str,str,str,str,str,str,str,str,str,str,str,str,str,str,str,str,str,str,str,str,str,str,str,str,str,str,str,str,str,str,str,str,str,str,str,str,str,str,str,str,str,str,str,str,str,str,str,str,str,str,str,str,str,str,str,str,str,str,str,str,str,str,str,str,str,str,str,str,str,str,str,str,str,str,str,str,str,str,str,str,str,str,str,str,str,str,str,str,str,str,str,str,str,str,str,str,str,str,str,str,str,str,str,str,str,str,str,str,str,str,str,str,str,str,str,str,str,str,str,str,str,str,str,str,str,str,str,str,str,str,str,str,str,str,str,str,str,str,str,str,str,str,str,str,str,str,str,str,str,str,str,str,str,str,str,str,str,str,str,str,str,str,str,str,str,str,str,str,str,str,str,str,str,str,str,str,str,str,str,str,str,str,str,str,str,str,str,str,str,str,str,str,str,str,str,str,str,str,str,str,str,str,str,str,str,str,str,str,str,str,str,str,str,str,str,str,str,str,str,str,str,str,str,str,str,str,str,str,str,str,str,str,str,str,str,str,str,str,str,str,str,str,str,str,str,str,str,str,str,str,str,str,str,str,str,str,str,str,str,str,str,str,str,str,str,str,str,str,str,str,str,str,str,str,str,str,str,str,str,str,str,str,str,str,str,str,str,str,str,str,str,str,str,str,str,str,str,str,str,str,str,str,str,str,str,str,str,str,str,str,str,str,str,str,str,str,str,str,str,str,str,str,str,str,str,str,str,str,str,str,str,str,str,str,str,str,str,str,str,str,str,str,str,str,str,str,str,str,str,str,str,str,str,str,str,str,str,str,str,str,str,str,str,str,str,str,str,str,str,str,str,str,str,str,str,str,str,str,str,str,str,str,str,str,str,str,str,str,str,str,str,str,str,str,str,str,str,str,str,str,str,str,str,str,str,str,str,str,str,str,str,str,str,str,str,str,str,str,str,str,str,str,str,str,str,str,str,str,str,str,str,str,str,str,str,str,str,str,str,str,str,str,str,str,str,str,str,str,str,str,str,str,str,str,str,str,str,str,str,str,str,str,str,str,str,str,str,str,str,str,str,str,str,str,str,str,str,str,str,str,str,str,str,str,str,str,str,str,str,str,str,str,str,str,str,str,str,str,str,str,str,str,str,str,str,str,str,str,str,str,str,str,str,str,str,str,str,str,str,str,str,str,str,str,str,str,str,str,str,str,str,str,str,str,str,str,str,str,str,str,str,str,str,str,str,str,str,str,str,str,str,str,str,str,str,str,str,str,str,str,str,str,str,str,str,str,str,str,str,str,str,str,str,str,str,str,str,str,str,str,str,str,str,str,str,str,str,str,str,str,str,str,str,str,str,str,str,str,str,str,str,str,str,str,str,str,str,str,str,str,str,str,str,str,str,str,str,str,str,str,str,str,str,str,str,str,str,str,str,str,str,str,str,str,str,str,str,str,str,str,str,str,str,str,str,str,str,str,str,str,str,str,str,str,str,str,str,str,str,str,str,str,str,str,str,str,str,str,str,str,str,str,str,str,str,str,str,str,str,str,str,str,str,str,str,str,str,str,str,str,str,str,str,str,str,str,str,str,str,str,str,str,str,str,str,str,str,str,str,str,str,str,str,str,str,str,str,str,str,str,str,str,str,str,str,str,str,str,str,str,str,str,str,str,str,str,str,str,str,str,str,str,str,str,str,str,str,str,str,str,str,str,str,str,str,str,str,str,str,str,str,str,str,str,str,str,str,str,str,str,str,str,str,str,str,str,str,str,str,str,str,str,str,str,str,str,str,str,str,str,str,str,str,str,str,str,str,str,str,str,str,str,str,str,str,str,str,str,str,str,str,str,str,str,str,str,str,str,str,str,str,str,str,str,str,str,str,str,str,str,str,str,str,str,str,str,str,str,str,str,str,str,str,str,str,str,str,str,str,str,str,str,str,str,str,str,str,str,str,str,str,str,str,str,str,str,str,str,str,str,str,str,str,str,str,str,str,str,str,str,str,str,str,str,str,str,str,str,str,str,str,str,str,str,str,str,str,str,str,str,str,str,str,str,str,str,str,str,str,str,str,str,str,str,str,str,str,str,str,str,str,str,str,str,str,str,str,str,str,str,str,str,str,str,str,str,str,str,str,str,str,str,str,str,str,str,str,str,str,str,str,str,str,str,str,str,str,str,str,str,str,str,str,str,str,str,str,str,str,str,str,str,str,str,str,str,str,str,str,str,str,str,str,str,str,str,str,str,str,str,str,str,str,str,str,str,str,str,str,str,str,str,str,str,str,str,str,str,str,str,str,str,str,str,str,str,str,str,str,str,str,str,str,str,str,str,str,str,str,str,str,str,str,str,str,str,str,str,str,str,str,str,str,str,str,str,str,str,str,str,str,str,str,str,str,str,str,str,str,str,str,str,str,str,str,str,str,str,str,str,str,str,str,str,str,str,str,str,str,str,str,str,str,str,str,str,str,str,str,str,str,str,str,str,str,str,str,str,str,str,str,str,str,str,str,str,str,str,str,str,str,str,str,str,str,str,str,str,str,str,str,str,str,str,str,str,str,str,str,str,str,str,str,str,str,str,str,str,str,str,str,str,str,str,str,str,str,str,str,str,str,str,str,str,str,str,str,str,str,str,str,str,str,str,str,str,str,str,str,str,str,str,str,str,str,str,str,str,str,str,str,str,str,str,str,str,str,str,str,str,str,str,str,str,str,str,str,str,str,str,str,str,str,str,str,str,str,str,str,str,str,str,str,str,str,str,str,str,str,str,str,str,str,str,str,str,str,str,str,str,str,str,str,str,str,str,str,str,str,str,str,str,str,str,str,str,str,str,str,str,str,str,str,str,str,str,str,str,str,str,str,str,str,str,str,str,str,str,str,str,str,str,str,str,str,str,str,str,str,str,str,str,str,str,str,str,str,str,str,str,str,str,str,str,str,str,str,str,str,str,str,str,str,str,str,str,str,str,str,str,str,str,str,str,str,str,str,str,str,str,str,str,str,str,str,str,str,str,str,str,str,str,str,str,str,str,str,str,str,str,str,str,str,str,str,str,str,str,str,str,str,str,str,str,str,str,str,str,str,str,str,str,str,str,str,str,str,str,str,str,str,str,str,str,str,str,str,str,str,str,str,str,str,str,str,str,str,str,str,str,str,str,str,str,str,str,str,str,str,str,str,str,str,str,str,str,str,str,str,str,str,str,str,str,str,str,str,str,str,str,str,str,str,str,str,str,str,str,str,str,str,str,str,str,str,str,str,str,str,str,str,str,str,str,str,str,str,str,str,str,str,str,str,str,str,str,str,str,str,str,str,str,str,str,str,str,str,str,str,str,str,str,str,str,str,str,str,str,str,str,str,str,str,str,str,str,str,str,str,str,str,str,str,str,str,str,str,str,str,str,str,str,str,str,str,str,str,str,str,str,str,str,str,str,str,str,str,str,str,str,str,str,str,str,str,str,str,str,str,str,str,str,str,str,str,str,str,str,str,str,str,str,str,str,str,str,str,str,str,str,str,str,str]\n",
      "If parsing fails due to incorrect types, you can correct\n",
      "the inferred type list above and pass it to read_csv in\n",
      "the column_type_hints argument\n",
      "------------------------------------------------------\n"
     ]
    },
    {
     "data": {
      "text/html": [
       "<pre>Read 2839 lines. Lines per second: 775.004</pre>"
      ],
      "text/plain": [
       "Read 2839 lines. Lines per second: 775.004"
      ]
     },
     "metadata": {},
     "output_type": "display_data"
    },
    {
     "data": {
      "text/html": [
       "<pre>Read 5713 lines. Lines per second: 395.779</pre>"
      ],
      "text/plain": [
       "Read 5713 lines. Lines per second: 395.779"
      ]
     },
     "metadata": {},
     "output_type": "display_data"
    },
    {
     "data": {
      "text/html": [
       "<pre>Finished parsing file D:\\01 - DATA_SRC_01\\Jacinta\\2552_2016-07-01.csv</pre>"
      ],
      "text/plain": [
       "Finished parsing file D:\\01 - DATA_SRC_01\\Jacinta\\2552_2016-07-01.csv"
      ]
     },
     "metadata": {},
     "output_type": "display_data"
    },
    {
     "data": {
      "text/html": [
       "<pre>Parsing completed. Parsed 8847 lines in 15.1629 secs.</pre>"
      ],
      "text/plain": [
       "Parsing completed. Parsed 8847 lines in 15.1629 secs."
      ]
     },
     "metadata": {},
     "output_type": "display_data"
    }
   ],
   "source": [
    "# Procesamos todo\n",
    "src = 'D:/01 - DATA_SRC_01/Jacinta/'\n",
    "\n",
    "\n",
    "#jac0616 = '2552_2016-06-01.csv'\n",
    "#dst = 'D:/01 - DATA_SRC_01/Jacinta/0616'\n",
    "\n",
    "#jacinta_0616 = graphlab.SFrame.read_csv(src + jac0616, delimiter=';',header= False)\n",
    "\n",
    "##Creamos lista de Tablas\n",
    "#logger_list = getDataLoggerList(jacinta_0616)\n",
    "#dev_list = getDevicesList(jacinta_0616)\n",
    "##Procesamos los datos separando en tablas\n",
    "#ProcessData(logger_list,jacinta_0616)\n",
    "##Procesamos los datos separando en tablas\n",
    "#ProcessDataComposed(dev_list,jacinta_0616)\n",
    "#print '### 0616 done ###'\n",
    "\n",
    "\n",
    "jac0716 = '2552_2016-07-01.csv'\n",
    "dst = 'D:/01 - DATA_SRC_01/Jacinta/0716'\n",
    "\n",
    "jacinta_0716 = graphlab.SFrame.read_csv(src + jac0716, delimiter=';',header= False)\n",
    "\n",
    "#ResetContext()\n",
    "#Creamos lista de Tablas\n",
    "logger_list = getDataLoggerList(jacinta_0716)\n",
    "dev_list = getDevicesList(jacinta_0716)\n",
    "#Procesamos los datos separando en tablas\n",
    "ProcessData(logger_list,jacinta_0716)\n",
    "#Procesamos los datos separando en tablas\n",
    "ProcessDataComposed(dev_list,jacinta_0716)\n",
    "print '### 0716 done ###'\n",
    "\n",
    "\n",
    "jac0816 = '2552_2016-08-01.csv'\n",
    "dst = 'D:/01 - DATA_SRC_01/Jacinta/0816'\n",
    "\n",
    "jacinta_0816 = graphlab.SFrame.read_csv(src + jac0816, delimiter=';',header= False)\n",
    "\n",
    "ResetContext()\n",
    "#Creamos lista de Tablas\n",
    "logger_list = getDataLoggerList(jacinta_0816)\n",
    "dev_list = getDevicesList(jacinta_0816)\n",
    "#Procesamos los datos separando en tablas\n",
    "ProcessData(logger_list,jacinta_0816)\n",
    "#Procesamos los datos separando en tablas\n",
    "ProcessDataComposed(dev_list,jacinta_0816)\n",
    "print '### 0816 done ###'\n",
    "\n",
    "\n",
    "jac0916 = '2552_2016-09-01.csv'\n",
    "dst = 'D:/01 - DATA_SRC_01/Jacinta/0916'\n",
    "\n",
    "jacinta_0916 = graphlab.SFrame.read_csv(src + jac0916, delimiter=';',header= False)\n",
    "\n",
    "ResetContext()\n",
    "#Creamos lista de Tablas\n",
    "logger_list = getDataLoggerList(jacinta_0916)\n",
    "dev_list = getDevicesList(jacinta_0916)\n",
    "#Procesamos los datos separando en tablas\n",
    "ProcessData(logger_list,jacinta_0916)\n",
    "#Procesamos los datos separando en tablas\n",
    "ProcessDataComposed(dev_list,jacinta_0916)\n",
    "print '### 0916 done ###'\n",
    "\n",
    "\n",
    "jac1016 = '2552_2016-10-01.csv'\n",
    "dst = 'D:/01 - DATA_SRC_01/Jacinta/1016'\n",
    "\n",
    "jacinta_1016 = graphlab.SFrame.read_csv(src + jac1016, delimiter=';',header= False)\n",
    "\n",
    "ResetContext()\n",
    "#Creamos lista de Tablas\n",
    "logger_list = getDataLoggerList(jacinta_1016)\n",
    "dev_list = getDevicesList(jacinta_1016)\n",
    "#Procesamos los datos separando en tablas\n",
    "ProcessData(logger_list,jacinta_1016)\n",
    "#Procesamos los datos separando en tablas\n",
    "ProcessDataComposed(dev_list,jacinta_1016)\n",
    "print '### 1016 done ###'\n",
    "\n",
    "\n",
    "jac1116 = '2552_2016-11-01.csv'\n",
    "dst = 'D:/01 - DATA_SRC_01/Jacinta/1116'\n",
    "\n",
    "jacinta_1116 = graphlab.SFrame.read_csv(src + jac1116, delimiter=';',header= False)\n",
    "\n",
    "ResetContext()\n",
    "#Creamos lista de Tablas\n",
    "logger_list = getDataLoggerList(jacinta_1116)\n",
    "dev_list = getDevicesList(jacinta_1116)\n",
    "#Procesamos los datos separando en tablas\n",
    "ProcessData(logger_list,jacinta_1116)\n",
    "#Procesamos los datos separando en tablas\n",
    "ProcessDataComposed(dev_list,jacinta_1116)\n",
    "print '### 1116 done ###'\n",
    "\n",
    "\n",
    "jac1216 = '2552_2016-12-01.csv'\n",
    "dst = 'D:/01 - DATA_SRC_01/Jacinta/1216'\n",
    "\n",
    "jacinta_1216 = graphlab.SFrame.read_csv(src + jac1216, delimiter=';',header= False)\n",
    "\n",
    "ResetContext()\n",
    "#Creamos lista de Tablas\n",
    "logger_list = getDataLoggerList(jacinta_1216)\n",
    "dev_list = getDevicesList(jacinta_1216)\n",
    "#Procesamos los datos separando en tablas\n",
    "ProcessData(logger_list,jacinta_1216)\n",
    "#Procesamos los datos separando en tablas\n",
    "ProcessDataComposed(dev_list,jacinta_1216)\n",
    "print '### 1216 done ###'\n",
    "\n",
    "\n",
    "jac0117 = '2552_2017-01-01.csv'\n",
    "dst = 'D:/01 - DATA_SRC_01/Jacinta/0117'\n",
    "\n",
    "jacinta_0117 = graphlab.SFrame.read_csv(src + jac0117, delimiter=';',header= False)\n",
    "\n",
    "ResetContext()\n",
    "#Creamos lista de Tablas\n",
    "logger_list = getDataLoggerList(jacinta_0117)\n",
    "dev_list = getDevicesList(jacinta_0117)\n",
    "#Procesamos los datos separando en tablas\n",
    "ProcessData(logger_list,jacinta_0117)\n",
    "#Procesamos los datos separando en tablas\n",
    "ProcessDataComposed(dev_list,jacinta_0117)\n",
    "print '### 0117 done ###'\n",
    "\n",
    "\n",
    "jac0217 = '2552_2017-02-01.csv'\n",
    "dst = 'D:/01 - DATA_SRC_01/Jacinta/0217'\n",
    "\n",
    "jacinta_0217 = graphlab.SFrame.read_csv(src + jac0217, delimiter=';',header= False)\n",
    "\n",
    "ResetContext()\n",
    "#Creamos lista de Tablas\n",
    "logger_list = getDataLoggerList(jacinta_0217)\n",
    "dev_list = getDevicesList(jacinta_0217)\n",
    "#Procesamos los datos separando en tablas\n",
    "ProcessData(logger_list,jacinta_0217)\n",
    "#Procesamos los datos separando en tablas\n",
    "ProcessDataComposed(dev_list,jacinta_0217)\n",
    "print '### 0217 done ###'\n",
    "\n",
    "\n",
    "jac0317 = '2552_2017-03-01.csv'\n",
    "dst = 'D:/01 - DATA_SRC_01/Jacinta/0317'\n",
    "\n",
    "jacinta_0317 = graphlab.SFrame.read_csv(src + jac0317, delimiter=';',header= False)\n",
    "\n",
    "ResetContext()\n",
    "#Creamos lista de Tablas\n",
    "logger_list = getDataLoggerList(jacinta_0317)\n",
    "dev_list = getDevicesList(jacinta_0317)\n",
    "#Procesamos los datos separando en tablas\n",
    "ProcessData(logger_list,jacinta_0317)\n",
    "#Procesamos los datos separando en tablas\n",
    "ProcessDataComposed(dev_list,jacinta_0317)\n",
    "print '### 0317 done ###'\n",
    "\n"
   ]
  },
  {
   "cell_type": "code",
   "execution_count": null,
   "metadata": {
    "collapsed": true
   },
   "outputs": [],
   "source": []
  },
  {
   "cell_type": "code",
   "execution_count": 130,
   "metadata": {
    "collapsed": false
   },
   "outputs": [],
   "source": [
    "#Creamos lista de Tablas\n",
    "logger_list = getDataLoggerList(jacinta_0616)\n",
    "dev_list = getDevicesList(jacinta_0616)"
   ]
  },
  {
   "cell_type": "code",
   "execution_count": 135,
   "metadata": {
    "collapsed": true
   },
   "outputs": [
    {
     "name": "stdout",
     "output_type": "stream",
     "text": [
      "CT16 process\n",
      "CT17 process\n"
     ]
    },
    {
     "ename": "KeyboardInterrupt",
     "evalue": "",
     "output_type": "error",
     "traceback": [
      "\u001b[1;31m---------------------------------------------------------------------------\u001b[0m",
      "\u001b[1;31mKeyboardInterrupt\u001b[0m                         Traceback (most recent call last)",
      "\u001b[1;32m<ipython-input-135-9f10fb3ae729>\u001b[0m in \u001b[0;36m<module>\u001b[1;34m()\u001b[0m\n\u001b[0;32m      1\u001b[0m \u001b[1;31m#Procesamos los datos separando en tablas\u001b[0m\u001b[1;33m\u001b[0m\u001b[1;33m\u001b[0m\u001b[0m\n\u001b[1;32m----> 2\u001b[1;33m \u001b[0mProcessData\u001b[0m\u001b[1;33m(\u001b[0m\u001b[0mlogger_list\u001b[0m\u001b[1;33m)\u001b[0m\u001b[1;33m\u001b[0m\u001b[0m\n\u001b[0m",
      "\u001b[1;32m<ipython-input-134-93ce7814d349>\u001b[0m in \u001b[0;36mProcessData\u001b[1;34m(list)\u001b[0m\n\u001b[0;32m      2\u001b[0m \u001b[1;32mdef\u001b[0m \u001b[0mProcessData\u001b[0m\u001b[1;33m(\u001b[0m\u001b[0mlist\u001b[0m\u001b[1;33m)\u001b[0m\u001b[1;33m:\u001b[0m\u001b[1;33m\u001b[0m\u001b[0m\n\u001b[0;32m      3\u001b[0m     \u001b[1;32mfor\u001b[0m \u001b[0ml\u001b[0m \u001b[1;32min\u001b[0m \u001b[0mlist\u001b[0m\u001b[1;33m:\u001b[0m\u001b[1;33m\u001b[0m\u001b[0m\n\u001b[1;32m----> 4\u001b[1;33m         \u001b[0msub_table\u001b[0m \u001b[1;33m=\u001b[0m \u001b[0mgetTableBy_datalogger_name\u001b[0m\u001b[1;33m(\u001b[0m\u001b[0mjacinta_0616\u001b[0m\u001b[1;33m,\u001b[0m\u001b[0ml\u001b[0m\u001b[1;33m)\u001b[0m\u001b[1;33m\u001b[0m\u001b[0m\n\u001b[0m\u001b[0;32m      5\u001b[0m         \u001b[0msub_table\u001b[0m\u001b[1;33m.\u001b[0m\u001b[0mexport_csv\u001b[0m\u001b[1;33m(\u001b[0m\u001b[1;34m'D:/01 - DATA_SRC_01/Jacinta/test/'\u001b[0m \u001b[1;33m+\u001b[0m \u001b[0mstr\u001b[0m\u001b[1;33m(\u001b[0m\u001b[0ml\u001b[0m\u001b[1;33m)\u001b[0m \u001b[1;33m+\u001b[0m \u001b[1;34m'.csv'\u001b[0m\u001b[1;33m,\u001b[0m\u001b[1;34m';'\u001b[0m\u001b[1;33m)\u001b[0m\u001b[1;33m\u001b[0m\u001b[0m\n\u001b[0;32m      6\u001b[0m         \u001b[1;32mprint\u001b[0m \u001b[0mstr\u001b[0m\u001b[1;33m(\u001b[0m\u001b[0ml\u001b[0m\u001b[1;33m)\u001b[0m \u001b[1;33m+\u001b[0m \u001b[1;34m' process'\u001b[0m\u001b[1;33m\u001b[0m\u001b[0m\n",
      "\u001b[1;32m<ipython-input-58-e17e219148f0>\u001b[0m in \u001b[0;36mgetTableBy_datalogger_name\u001b[1;34m(jacintaTable, dl_name)\u001b[0m\n\u001b[0;32m     10\u001b[0m \u001b[1;33m\u001b[0m\u001b[0m\n\u001b[0;32m     11\u001b[0m     \u001b[1;32mfor\u001b[0m \u001b[0mi\u001b[0m \u001b[1;32min\u001b[0m \u001b[0mrange\u001b[0m\u001b[1;33m(\u001b[0m\u001b[0mjacintaTable\u001b[0m\u001b[1;33m.\u001b[0m\u001b[0mnum_cols\u001b[0m\u001b[1;33m(\u001b[0m\u001b[1;33m)\u001b[0m\u001b[1;33m)\u001b[0m\u001b[1;33m:\u001b[0m\u001b[1;33m\u001b[0m\u001b[0m\n\u001b[1;32m---> 12\u001b[1;33m         \u001b[1;32mif\u001b[0m \u001b[0mjacintaTable\u001b[0m\u001b[1;33m[\u001b[0m\u001b[1;34m\"X\"\u001b[0m \u001b[1;33m+\u001b[0m \u001b[0mstr\u001b[0m\u001b[1;33m(\u001b[0m\u001b[0mi\u001b[0m\u001b[1;33m+\u001b[0m\u001b[1;36m1\u001b[0m\u001b[1;33m)\u001b[0m\u001b[1;33m]\u001b[0m\u001b[1;33m[\u001b[0m\u001b[1;36m0\u001b[0m\u001b[1;33m]\u001b[0m \u001b[1;33m==\u001b[0m \u001b[0mdl_name\u001b[0m\u001b[1;33m:\u001b[0m\u001b[1;33m\u001b[0m\u001b[0m\n\u001b[0m\u001b[0;32m     13\u001b[0m             \u001b[0mcol_list\u001b[0m\u001b[1;33m.\u001b[0m\u001b[0mappend\u001b[0m\u001b[1;33m(\u001b[0m\u001b[1;34m\"X\"\u001b[0m \u001b[1;33m+\u001b[0m \u001b[0mstr\u001b[0m\u001b[1;33m(\u001b[0m\u001b[0mi\u001b[0m\u001b[1;33m+\u001b[0m\u001b[1;36m1\u001b[0m\u001b[1;33m)\u001b[0m\u001b[1;33m)\u001b[0m\u001b[1;33m\u001b[0m\u001b[0m\n\u001b[0;32m     14\u001b[0m             \u001b[1;32mif\u001b[0m \u001b[0mjacintaTable\u001b[0m\u001b[1;33m[\u001b[0m\u001b[1;34m\"X\"\u001b[0m \u001b[1;33m+\u001b[0m \u001b[0mstr\u001b[0m\u001b[1;33m(\u001b[0m\u001b[0mi\u001b[0m\u001b[1;33m+\u001b[0m\u001b[1;36m1\u001b[0m\u001b[1;33m)\u001b[0m\u001b[1;33m]\u001b[0m\u001b[1;33m[\u001b[0m\u001b[1;36m2\u001b[0m\u001b[1;33m]\u001b[0m \u001b[1;33m==\u001b[0m \u001b[1;34m''\u001b[0m\u001b[1;33m:\u001b[0m\u001b[1;33m\u001b[0m\u001b[0m\n",
      "\u001b[1;32mC:\\Users\\rico\\Anaconda2\\envs\\gl-env\\lib\\site-packages\\graphlab\\data_structures\\sarray.pyc\u001b[0m in \u001b[0;36m__getitem__\u001b[1;34m(self, other)\u001b[0m\n\u001b[0;32m   1235\u001b[0m             \u001b[0mub\u001b[0m \u001b[1;33m=\u001b[0m \u001b[0mmin\u001b[0m\u001b[1;33m(\u001b[0m\u001b[0msa_len\u001b[0m\u001b[1;33m,\u001b[0m \u001b[0mlb\u001b[0m \u001b[1;33m+\u001b[0m \u001b[0mblock_size\u001b[0m\u001b[1;33m)\u001b[0m\u001b[1;33m\u001b[0m\u001b[0m\n\u001b[0;32m   1236\u001b[0m \u001b[1;33m\u001b[0m\u001b[0m\n\u001b[1;32m-> 1237\u001b[1;33m             \u001b[0mval_list\u001b[0m \u001b[1;33m=\u001b[0m \u001b[0mlist\u001b[0m\u001b[1;33m(\u001b[0m\u001b[0mSArray\u001b[0m\u001b[1;33m(\u001b[0m\u001b[0m_proxy\u001b[0m \u001b[1;33m=\u001b[0m \u001b[0mself\u001b[0m\u001b[1;33m.\u001b[0m\u001b[0m__proxy__\u001b[0m\u001b[1;33m.\u001b[0m\u001b[0mcopy_range\u001b[0m\u001b[1;33m(\u001b[0m\u001b[0mlb\u001b[0m\u001b[1;33m,\u001b[0m \u001b[1;36m1\u001b[0m\u001b[1;33m,\u001b[0m \u001b[0mub\u001b[0m\u001b[1;33m)\u001b[0m\u001b[1;33m)\u001b[0m\u001b[1;33m)\u001b[0m\u001b[1;33m\u001b[0m\u001b[0m\n\u001b[0m\u001b[0;32m   1238\u001b[0m             \u001b[0mself\u001b[0m\u001b[1;33m.\u001b[0m\u001b[0m_getitem_cache\u001b[0m \u001b[1;33m=\u001b[0m \u001b[1;33m(\u001b[0m\u001b[0mlb\u001b[0m\u001b[1;33m,\u001b[0m \u001b[0mub\u001b[0m\u001b[1;33m,\u001b[0m \u001b[0mval_list\u001b[0m\u001b[1;33m)\u001b[0m\u001b[1;33m\u001b[0m\u001b[0m\n\u001b[0;32m   1239\u001b[0m             \u001b[1;32mreturn\u001b[0m \u001b[0mval_list\u001b[0m\u001b[1;33m[\u001b[0m\u001b[0mother\u001b[0m \u001b[1;33m-\u001b[0m \u001b[0mlb\u001b[0m\u001b[1;33m]\u001b[0m\u001b[1;33m\u001b[0m\u001b[0m\n",
      "\u001b[1;32mC:\\Users\\rico\\Anaconda2\\envs\\gl-env\\lib\\site-packages\\graphlab\\data_structures\\sarray.pyc\u001b[0m in \u001b[0;36mgenerator\u001b[1;34m()\u001b[0m\n\u001b[0;32m    778\u001b[0m             \u001b[1;32mwhile\u001b[0m\u001b[1;33m(\u001b[0m\u001b[0mTrue\u001b[0m\u001b[1;33m)\u001b[0m\u001b[1;33m:\u001b[0m\u001b[1;33m\u001b[0m\u001b[0m\n\u001b[0;32m    779\u001b[0m                 \u001b[1;32mfor\u001b[0m \u001b[0mj\u001b[0m \u001b[1;32min\u001b[0m \u001b[0mret\u001b[0m\u001b[1;33m:\u001b[0m\u001b[1;33m\u001b[0m\u001b[0m\n\u001b[1;32m--> 780\u001b[1;33m                     \u001b[1;32myield\u001b[0m \u001b[0mj\u001b[0m\u001b[1;33m\u001b[0m\u001b[0m\n\u001b[0m\u001b[0;32m    781\u001b[0m \u001b[1;33m\u001b[0m\u001b[0m\n\u001b[0;32m    782\u001b[0m                 \u001b[1;32mif\u001b[0m \u001b[0mlen\u001b[0m\u001b[1;33m(\u001b[0m\u001b[0mret\u001b[0m\u001b[1;33m)\u001b[0m \u001b[1;33m==\u001b[0m \u001b[0melems_at_a_time\u001b[0m\u001b[1;33m:\u001b[0m\u001b[1;33m\u001b[0m\u001b[0m\n",
      "\u001b[1;31mKeyboardInterrupt\u001b[0m: "
     ]
    }
   ],
   "source": [
    "#Procesamos los datos separando en tablas\n",
    "ProcessData(logger_list)"
   ]
  },
  {
   "cell_type": "code",
   "execution_count": 149,
   "metadata": {
    "collapsed": true
   },
   "outputs": [
    {
     "name": "stdout",
     "output_type": "stream",
     "text": [
      "CT24_Módulo inversor 24.1.1 process\n",
      "CT24_Módulo inversor 24.1.2 process\n",
      "CT24_Módulo inversor 24.1.3 process\n",
      "CT24_Módulo inversor 24.1.4 process\n",
      "CT06_Módulo inversor 06.2.2 process\n",
      "CT06_Módulo inversor 06.2.1 process\n",
      "CT07_Inversor 07.1 process\n",
      "CT07_Inversor 07.2 process\n",
      "CT05_Inversor 05.1 process\n",
      "CT21_Inversor 21.1 process\n",
      "CT21_Inversor 21.2 process\n"
     ]
    },
    {
     "ename": "KeyboardInterrupt",
     "evalue": "",
     "output_type": "error",
     "traceback": [
      "\u001b[1;31m---------------------------------------------------------------------------\u001b[0m",
      "\u001b[1;31mKeyboardInterrupt\u001b[0m                         Traceback (most recent call last)",
      "\u001b[1;32m<ipython-input-149-1d46c102f5c7>\u001b[0m in \u001b[0;36m<module>\u001b[1;34m()\u001b[0m\n\u001b[0;32m      1\u001b[0m \u001b[1;31m#Procesamos los datos separando en tablas\u001b[0m\u001b[1;33m\u001b[0m\u001b[1;33m\u001b[0m\u001b[0m\n\u001b[1;32m----> 2\u001b[1;33m \u001b[0mProcessDataComposed\u001b[0m\u001b[1;33m(\u001b[0m\u001b[0mdev_list\u001b[0m\u001b[1;33m)\u001b[0m\u001b[1;33m\u001b[0m\u001b[0m\n\u001b[0m",
      "\u001b[1;32m<ipython-input-148-0c6ba8bdfcff>\u001b[0m in \u001b[0;36mProcessDataComposed\u001b[1;34m(list)\u001b[0m\n\u001b[0;32m     13\u001b[0m         \u001b[0msuf\u001b[0m \u001b[1;33m=\u001b[0m \u001b[0mparts\u001b[0m\u001b[1;33m[\u001b[0m\u001b[1;36m1\u001b[0m\u001b[1;33m]\u001b[0m\u001b[1;33m\u001b[0m\u001b[0m\n\u001b[0;32m     14\u001b[0m \u001b[1;33m\u001b[0m\u001b[0m\n\u001b[1;32m---> 15\u001b[1;33m         \u001b[0msub_table\u001b[0m \u001b[1;33m=\u001b[0m \u001b[0mgetTableBy_device_name\u001b[0m\u001b[1;33m(\u001b[0m\u001b[0mjacinta_0616\u001b[0m\u001b[1;33m,\u001b[0m\u001b[0mpre\u001b[0m\u001b[1;33m,\u001b[0m\u001b[0msuf\u001b[0m\u001b[1;33m)\u001b[0m\u001b[1;33m\u001b[0m\u001b[0m\n\u001b[0m\u001b[0;32m     16\u001b[0m         \u001b[0msub_table\u001b[0m\u001b[1;33m.\u001b[0m\u001b[0mexport_csv\u001b[0m\u001b[1;33m(\u001b[0m\u001b[1;34m'D:/01 - DATA_SRC_01/Jacinta/test/'\u001b[0m \u001b[1;33m+\u001b[0m \u001b[0mstr\u001b[0m\u001b[1;33m(\u001b[0m\u001b[0ml\u001b[0m\u001b[1;33m)\u001b[0m \u001b[1;33m+\u001b[0m \u001b[1;34m'.csv'\u001b[0m\u001b[1;33m,\u001b[0m\u001b[1;34m';'\u001b[0m\u001b[1;33m)\u001b[0m\u001b[1;33m\u001b[0m\u001b[0m\n\u001b[0;32m     17\u001b[0m         \u001b[1;32mprint\u001b[0m \u001b[0mstr\u001b[0m\u001b[1;33m(\u001b[0m\u001b[0ml\u001b[0m\u001b[1;33m)\u001b[0m \u001b[1;33m+\u001b[0m \u001b[1;34m' process'\u001b[0m\u001b[1;33m\u001b[0m\u001b[0m\n",
      "\u001b[1;32m<ipython-input-60-f16762561883>\u001b[0m in \u001b[0;36mgetTableBy_device_name\u001b[1;34m(jacintaTable, dl_name, dv_name)\u001b[0m\n\u001b[0;32m      9\u001b[0m \u001b[1;33m\u001b[0m\u001b[0m\n\u001b[0;32m     10\u001b[0m     \u001b[1;32mfor\u001b[0m \u001b[0mi\u001b[0m \u001b[1;32min\u001b[0m \u001b[0mrange\u001b[0m\u001b[1;33m(\u001b[0m\u001b[0mjacintaTable\u001b[0m\u001b[1;33m.\u001b[0m\u001b[0mnum_cols\u001b[0m\u001b[1;33m(\u001b[0m\u001b[1;33m)\u001b[0m\u001b[1;33m)\u001b[0m\u001b[1;33m:\u001b[0m\u001b[1;33m\u001b[0m\u001b[0m\n\u001b[1;32m---> 11\u001b[1;33m         \u001b[1;32mif\u001b[0m \u001b[1;33m(\u001b[0m\u001b[0mjacintaTable\u001b[0m\u001b[1;33m[\u001b[0m\u001b[1;34m\"X\"\u001b[0m \u001b[1;33m+\u001b[0m \u001b[0mstr\u001b[0m\u001b[1;33m(\u001b[0m\u001b[0mi\u001b[0m\u001b[1;33m+\u001b[0m\u001b[1;36m1\u001b[0m\u001b[1;33m)\u001b[0m\u001b[1;33m]\u001b[0m\u001b[1;33m[\u001b[0m\u001b[1;36m0\u001b[0m\u001b[1;33m]\u001b[0m \u001b[1;33m==\u001b[0m \u001b[0mdl_name\u001b[0m\u001b[1;33m)\u001b[0m \u001b[1;32mand\u001b[0m \u001b[1;33m(\u001b[0m\u001b[0mjacintaTable\u001b[0m\u001b[1;33m[\u001b[0m\u001b[1;34m\"X\"\u001b[0m \u001b[1;33m+\u001b[0m \u001b[0mstr\u001b[0m\u001b[1;33m(\u001b[0m\u001b[0mi\u001b[0m\u001b[1;33m+\u001b[0m\u001b[1;36m1\u001b[0m\u001b[1;33m)\u001b[0m\u001b[1;33m]\u001b[0m\u001b[1;33m[\u001b[0m\u001b[1;36m1\u001b[0m\u001b[1;33m]\u001b[0m \u001b[1;33m==\u001b[0m \u001b[0mdv_name\u001b[0m\u001b[1;33m)\u001b[0m\u001b[1;33m:\u001b[0m\u001b[1;33m\u001b[0m\u001b[0m\n\u001b[0m\u001b[0;32m     12\u001b[0m             \u001b[0mcol_list\u001b[0m\u001b[1;33m.\u001b[0m\u001b[0mappend\u001b[0m\u001b[1;33m(\u001b[0m\u001b[1;34m\"X\"\u001b[0m \u001b[1;33m+\u001b[0m \u001b[0mstr\u001b[0m\u001b[1;33m(\u001b[0m\u001b[0mi\u001b[0m\u001b[1;33m+\u001b[0m\u001b[1;36m1\u001b[0m\u001b[1;33m)\u001b[0m\u001b[1;33m)\u001b[0m\u001b[1;33m\u001b[0m\u001b[0m\n\u001b[0;32m     13\u001b[0m             \u001b[1;32mif\u001b[0m \u001b[0mjacintaTable\u001b[0m\u001b[1;33m[\u001b[0m\u001b[1;34m\"X\"\u001b[0m \u001b[1;33m+\u001b[0m \u001b[0mstr\u001b[0m\u001b[1;33m(\u001b[0m\u001b[0mi\u001b[0m\u001b[1;33m+\u001b[0m\u001b[1;36m1\u001b[0m\u001b[1;33m)\u001b[0m\u001b[1;33m]\u001b[0m\u001b[1;33m[\u001b[0m\u001b[1;36m2\u001b[0m\u001b[1;33m]\u001b[0m \u001b[1;33m==\u001b[0m \u001b[1;34m''\u001b[0m\u001b[1;33m:\u001b[0m\u001b[1;33m\u001b[0m\u001b[0m\n",
      "\u001b[1;32mC:\\Users\\rico\\Anaconda2\\envs\\gl-env\\lib\\site-packages\\graphlab\\data_structures\\sarray.pyc\u001b[0m in \u001b[0;36m__getitem__\u001b[1;34m(self, other)\u001b[0m\n\u001b[0;32m   1235\u001b[0m             \u001b[0mub\u001b[0m \u001b[1;33m=\u001b[0m \u001b[0mmin\u001b[0m\u001b[1;33m(\u001b[0m\u001b[0msa_len\u001b[0m\u001b[1;33m,\u001b[0m \u001b[0mlb\u001b[0m \u001b[1;33m+\u001b[0m \u001b[0mblock_size\u001b[0m\u001b[1;33m)\u001b[0m\u001b[1;33m\u001b[0m\u001b[0m\n\u001b[0;32m   1236\u001b[0m \u001b[1;33m\u001b[0m\u001b[0m\n\u001b[1;32m-> 1237\u001b[1;33m             \u001b[0mval_list\u001b[0m \u001b[1;33m=\u001b[0m \u001b[0mlist\u001b[0m\u001b[1;33m(\u001b[0m\u001b[0mSArray\u001b[0m\u001b[1;33m(\u001b[0m\u001b[0m_proxy\u001b[0m \u001b[1;33m=\u001b[0m \u001b[0mself\u001b[0m\u001b[1;33m.\u001b[0m\u001b[0m__proxy__\u001b[0m\u001b[1;33m.\u001b[0m\u001b[0mcopy_range\u001b[0m\u001b[1;33m(\u001b[0m\u001b[0mlb\u001b[0m\u001b[1;33m,\u001b[0m \u001b[1;36m1\u001b[0m\u001b[1;33m,\u001b[0m \u001b[0mub\u001b[0m\u001b[1;33m)\u001b[0m\u001b[1;33m)\u001b[0m\u001b[1;33m)\u001b[0m\u001b[1;33m\u001b[0m\u001b[0m\n\u001b[0m\u001b[0;32m   1238\u001b[0m             \u001b[0mself\u001b[0m\u001b[1;33m.\u001b[0m\u001b[0m_getitem_cache\u001b[0m \u001b[1;33m=\u001b[0m \u001b[1;33m(\u001b[0m\u001b[0mlb\u001b[0m\u001b[1;33m,\u001b[0m \u001b[0mub\u001b[0m\u001b[1;33m,\u001b[0m \u001b[0mval_list\u001b[0m\u001b[1;33m)\u001b[0m\u001b[1;33m\u001b[0m\u001b[0m\n\u001b[0;32m   1239\u001b[0m             \u001b[1;32mreturn\u001b[0m \u001b[0mval_list\u001b[0m\u001b[1;33m[\u001b[0m\u001b[0mother\u001b[0m \u001b[1;33m-\u001b[0m \u001b[0mlb\u001b[0m\u001b[1;33m]\u001b[0m\u001b[1;33m\u001b[0m\u001b[0m\n",
      "\u001b[1;32mC:\\Users\\rico\\Anaconda2\\envs\\gl-env\\lib\\site-packages\\graphlab\\data_structures\\sarray.pyc\u001b[0m in \u001b[0;36mgenerator\u001b[1;34m()\u001b[0m\n\u001b[0;32m    778\u001b[0m             \u001b[1;32mwhile\u001b[0m\u001b[1;33m(\u001b[0m\u001b[0mTrue\u001b[0m\u001b[1;33m)\u001b[0m\u001b[1;33m:\u001b[0m\u001b[1;33m\u001b[0m\u001b[0m\n\u001b[0;32m    779\u001b[0m                 \u001b[1;32mfor\u001b[0m \u001b[0mj\u001b[0m \u001b[1;32min\u001b[0m \u001b[0mret\u001b[0m\u001b[1;33m:\u001b[0m\u001b[1;33m\u001b[0m\u001b[0m\n\u001b[1;32m--> 780\u001b[1;33m                     \u001b[1;32myield\u001b[0m \u001b[0mj\u001b[0m\u001b[1;33m\u001b[0m\u001b[0m\n\u001b[0m\u001b[0;32m    781\u001b[0m \u001b[1;33m\u001b[0m\u001b[0m\n\u001b[0;32m    782\u001b[0m                 \u001b[1;32mif\u001b[0m \u001b[0mlen\u001b[0m\u001b[1;33m(\u001b[0m\u001b[0mret\u001b[0m\u001b[1;33m)\u001b[0m \u001b[1;33m==\u001b[0m \u001b[0melems_at_a_time\u001b[0m\u001b[1;33m:\u001b[0m\u001b[1;33m\u001b[0m\u001b[0m\n",
      "\u001b[1;31mKeyboardInterrupt\u001b[0m: "
     ]
    }
   ],
   "source": [
    "#Procesamos los datos separando en tablas\n",
    "ProcessDataComposed(dev_list)"
   ]
  },
  {
   "cell_type": "code",
   "execution_count": 43,
   "metadata": {
    "collapsed": true
   },
   "outputs": [
    {
     "name": "stdout",
     "output_type": "stream",
     "text": [
      "CT01 done\n",
      "CT02 done\n",
      "CT03 done\n",
      "CT04 done\n",
      "CT05 done\n",
      "CT06 done\n",
      "CT07 done\n",
      "CT08 done\n",
      "CT09 done\n",
      "CT10 done\n",
      "CT11 done\n",
      "CT12 done\n",
      "CT13 done\n",
      "CT14 done\n",
      "CT15 done\n",
      "CT16 done\n",
      "CT17 done\n",
      "CT18 done\n",
      "CT19 done\n",
      "CT20 done\n",
      "CT21 done\n",
      "CT22 done\n",
      "CT23 done\n",
      "CT24 done\n",
      "CT25 done\n"
     ]
    }
   ],
   "source": [
    "CT01 = getTableBy_datalogger_name(jacinta_0616,\"CT01\")\n",
    "CT01.export_csv('D:/01 - DATA_SRC_01/Jacinta/process/CT01.csv',';')\n",
    "print \"CT01 done\"\n",
    "\n",
    "CT02 = getTableBy_datalogger_name(jacinta_0616,\"CT02\")\n",
    "CT02.export_csv('D:/01 - DATA_SRC_01/Jacinta/process/CT02.csv',';')\n",
    "print \"CT02 done\"\n",
    "\n",
    "CT03 = getTableBy_datalogger_name(jacinta_0616,\"CT03\")\n",
    "CT03.export_csv('D:/01 - DATA_SRC_01/Jacinta/process/CT03.csv',';')\n",
    "print \"CT03 done\"\n",
    "\n",
    "CT04 = getTableBy_datalogger_name(jacinta_0616,\"CT04\")\n",
    "CT04.export_csv('D:/01 - DATA_SRC_01/Jacinta/process/CT04.csv',';')\n",
    "print \"CT04 done\"\n",
    "\n",
    "CT05 = getTableBy_datalogger_name(jacinta_0616,\"CT05\")\n",
    "CT05.export_csv('D:/01 - DATA_SRC_01/Jacinta/process/CT05.csv',';')\n",
    "print \"CT05 done\"\n",
    "\n",
    "CT06 = getTableBy_datalogger_name(jacinta_0616,\"CT06\")\n",
    "CT06.export_csv('D:/01 - DATA_SRC_01/Jacinta/process/CT06.csv',';')\n",
    "print \"CT06 done\"\n",
    "\n",
    "CT07 = getTableBy_datalogger_name(jacinta_0616,\"CT07\")\n",
    "CT07.export_csv('D:/01 - DATA_SRC_01/Jacinta/process/CT07.csv',';')\n",
    "print \"CT07 done\"\n",
    "\n",
    "CT08 = getTableBy_datalogger_name(jacinta_0616,\"CT08\")\n",
    "CT08.export_csv('D:/01 - DATA_SRC_01/Jacinta/process/CT08.csv',';')\n",
    "print \"CT08 done\"\n",
    "\n",
    "CT09 = getTableBy_datalogger_name(jacinta_0616,\"CT09\")\n",
    "CT09.export_csv('D:/01 - DATA_SRC_01/Jacinta/process/CT09.csv',';')\n",
    "print \"CT09 done\"\n",
    "\n",
    "CT10 = getTableBy_datalogger_name(jacinta_0616,\"CT10\")\n",
    "CT10.export_csv('D:/01 - DATA_SRC_01/Jacinta/process/CT10.csv',';')\n",
    "print \"CT10 done\"\n",
    "\n",
    "CT11 = getTableBy_datalogger_name(jacinta_0616,\"CT11\")\n",
    "CT11.export_csv('D:/01 - DATA_SRC_01/Jacinta/process/CT11.csv',';')\n",
    "print \"CT11 done\"\n",
    "\n",
    "CT12 = getTableBy_datalogger_name(jacinta_0616,\"CT12\")\n",
    "CT12.export_csv('D:/01 - DATA_SRC_01/Jacinta/process/CT12.csv',';')\n",
    "print \"CT12 done\"\n",
    "\n",
    "CT13 = getTableBy_datalogger_name(jacinta_0616,\"CT13\")\n",
    "CT13.export_csv('D:/01 - DATA_SRC_01/Jacinta/process/CT13.csv',';')\n",
    "print \"CT13 done\"\n",
    "\n",
    "CT14 = getTableBy_datalogger_name(jacinta_0616,\"CT14\")\n",
    "CT14.export_csv('D:/01 - DATA_SRC_01/Jacinta/process/CT14.csv',';')\n",
    "print \"CT14 done\"\n",
    "\n",
    "CT15 = getTableBy_datalogger_name(jacinta_0616,\"CT15\")\n",
    "CT15.export_csv('D:/01 - DATA_SRC_01/Jacinta/process/CT15.csv',';')\n",
    "print \"CT15 done\"\n",
    "\n",
    "CT16 = getTableBy_datalogger_name(jacinta_0616,\"CT01\")\n",
    "CT16.export_csv('D:/01 - DATA_SRC_01/Jacinta/process/CT16.csv',';')\n",
    "print \"CT16 done\"\n",
    "\n",
    "CT17 = getTableBy_datalogger_name(jacinta_0616,\"CT02\")\n",
    "CT17.export_csv('D:/01 - DATA_SRC_01/Jacinta/process/CT17.csv',';')\n",
    "print \"CT17 done\"\n",
    "\n",
    "CT18 = getTableBy_datalogger_name(jacinta_0616,\"CT03\")\n",
    "CT18.export_csv('D:/01 - DATA_SRC_01/Jacinta/process/CT18.csv',';')\n",
    "print \"CT18 done\"\n",
    "\n",
    "CT19 = getTableBy_datalogger_name(jacinta_0616,\"CT04\")\n",
    "CT19.export_csv('D:/01 - DATA_SRC_01/Jacinta/process/CT19.csv',';')\n",
    "print \"CT19 done\"\n",
    "\n",
    "CT20 = getTableBy_datalogger_name(jacinta_0616,\"CT05\")\n",
    "CT20.export_csv('D:/01 - DATA_SRC_01/Jacinta/process/CT20.csv',';')\n",
    "print \"CT20 done\"\n",
    "\n",
    "CT21 = getTableBy_datalogger_name(jacinta_0616,\"CT06\")\n",
    "CT21.export_csv('D:/01 - DATA_SRC_01/Jacinta/process/CT21.csv',';')\n",
    "print \"CT21 done\"\n",
    "\n",
    "CT22 = getTableBy_datalogger_name(jacinta_0616,\"CT07\")\n",
    "CT22.export_csv('D:/01 - DATA_SRC_01/Jacinta/process/CT22.csv',';')\n",
    "print \"CT22 done\"\n",
    "\n",
    "CT23 = getTableBy_datalogger_name(jacinta_0616,\"CT08\")\n",
    "CT23.export_csv('D:/01 - DATA_SRC_01/Jacinta/process/CT23.csv',';')\n",
    "print \"CT23 done\"\n",
    "\n",
    "CT24 = getTableBy_datalogger_name(jacinta_0616,\"CT09\")\n",
    "CT24.export_csv('D:/01 - DATA_SRC_01/Jacinta/process/CT24.csv',';')\n",
    "print \"CT24 done\"\n",
    "\n",
    "CT25 = getTableBy_datalogger_name(jacinta_0616,\"CT10\")\n",
    "CT25.export_csv('D:/01 - DATA_SRC_01/Jacinta/process/CT25.csv',';')\n",
    "print \"CT25 done\"\n"
   ]
  },
  {
   "cell_type": "code",
   "execution_count": 69,
   "metadata": {
    "collapsed": true
   },
   "outputs": [
    {
     "name": "stdout",
     "output_type": "stream",
     "text": [
      "JACINTA_METER done\n",
      "METEO done\n",
      "METEO done\n",
      "METER_CURVES done\n",
      "SUB done\n"
     ]
    }
   ],
   "source": [
    "JACINTA_METER = getTableBy_datalogger_name(jacinta_0616,\"Jacinta Meter\")\n",
    "JACINTA_METER.export_csv('D:/01 - DATA_SRC_01/Jacinta/process/JACINTA_METER.csv',';')\n",
    "print \"JACINTA_METER done\"\n",
    "\n",
    "METEO = getTableBy_datalogger_name(jacinta_0616,\"Meteo\")\n",
    "METEO.export_csv('D:/01 - DATA_SRC_01/Jacinta/process/METEO.csv',';')\n",
    "print \"METEO done\"\n",
    "\n",
    "METEO_5_MIN = getTableBy_datalogger_name(jacinta_0616,\"Meteo 5 MIn\")\n",
    "METEO_5_MIN.export_csv('D:/01 - DATA_SRC_01/Jacinta/process/METEO_5_MIN.csv',';')\n",
    "print \"METEO done\"\n",
    "\n",
    "METER_CURVES = getTableBy_datalogger_name(jacinta_0616,\"Meter Curves\")\n",
    "METER_CURVES.export_csv('D:/01 - DATA_SRC_01/Jacinta/process/METER_CURVES.csv',';')\n",
    "print \"METER_CURVES done\"\n",
    "\n",
    "SUB = getTableBy_datalogger_name(jacinta_0616,\"Sub\")\n",
    "SUB.export_csv('D:/01 - DATA_SRC_01/Jacinta/process/SUB.csv',';')\n",
    "print \"SUB done\"\n"
   ]
  },
  {
   "cell_type": "code",
   "execution_count": null,
   "metadata": {
    "collapsed": true
   },
   "outputs": [],
   "source": []
  }
 ],
 "metadata": {
  "kernelspec": {
   "display_name": "Python 2",
   "language": "python",
   "name": "python2"
  },
  "language_info": {
   "codemirror_mode": {
    "name": "ipython",
    "version": 2
   },
   "file_extension": ".py",
   "mimetype": "text/x-python",
   "name": "python",
   "nbconvert_exporter": "python",
   "pygments_lexer": "ipython2",
   "version": "2.7.11"
  }
 },
 "nbformat": 4,
 "nbformat_minor": 0
}
