{
 "cells": [
  {
   "cell_type": "code",
   "execution_count": 1,
   "metadata": {
    "collapsed": true
   },
   "outputs": [],
   "source": [
    "import graphlab"
   ]
  },
  {
   "cell_type": "markdown",
   "metadata": {},
   "source": [
    "# Split datos originales"
   ]
  },
  {
   "cell_type": "code",
   "execution_count": 2,
   "metadata": {
    "collapsed": true
   },
   "outputs": [],
   "source": [
    "# Creamos función para separar tabla bulk en multiples tablas\n",
    "def getTableBy_datalogger_name(jacintaTable,dl_name):\n",
    "    #Iteramos por columnas buscando dl_name en fila 2 de cada columna\n",
    "    retorno = []\n",
    "    col_list = []\n",
    "    if dl_name != 'datalogger_name':\n",
    "        col_list = ['X1']\n",
    "    col_names = {}\n",
    "    newTable = []\n",
    "    \n",
    "    for i in range(jacintaTable.num_cols()):\n",
    "        if jacintaTable[\"X\" + str(i+1)][0] == dl_name:\n",
    "            col_list.append(\"X\" + str(i+1))\n",
    "            col_names[\"X\" + str(i+1)] = jacintaTable[\"X\" + str(i+1)][1] + ' - ' + jacintaTable[\"X\" + str(i+1)][2] + ' - ' + jacintaTable[\"X\" + str(i+1)][3]\n",
    "    \n",
    "    newTable = jacintaTable[col_list]\n",
    "    #Copiamos de la fila 4 en adelante\n",
    "    newTable = newTable[4:]\n",
    "    col_names['X1'] = 'Timestamp'\n",
    "    newTable.rename(col_names)\n",
    "    retorno = newTable\n",
    "    return retorno\n",
    "\n",
    "# Creamos función para separar por 'device_name' de cada 'datalogger_name'\n",
    "def getTableBy_device_name(jacintaTable,dl_name,dv_name):\n",
    "    #Iteramos por columnas buscando dl_name en fila 2 de cada columna\n",
    "    retorno = []\n",
    "    col_list = []\n",
    "    if dl_name != 'datalogger_name':\n",
    "        col_list = ['X1']\n",
    "    col_names = {}\n",
    "    \n",
    "    for i in range(jacintaTable.num_cols()):\n",
    "        if (jacintaTable[\"X\" + str(i+1)][0] == dl_name) and (jacintaTable[\"X\" + str(i+1)][1] == dv_name):\n",
    "            col_list.append(\"X\" + str(i+1))\n",
    "            col_names[\"X\" + str(i+1)] = jacintaTable[\"X\" + str(i+1)][1] + ' - ' + jacintaTable[\"X\" + str(i+1)][2] + ' - ' + jacintaTable[\"X\" + str(i+1)][3]\n",
    "                \n",
    "\n",
    "    newTable = jacintaTable[col_list]\n",
    "    #Copiamos de la fila 4 en adelante\n",
    "    newTable = newTable[4:]\n",
    "    col_names['X1'] = 'Timestamp'\n",
    "    newTable.rename(col_names)\n",
    "    retorno = newTable\n",
    "    return retorno\n",
    "\n",
    "# Función que crea una lista de los valores que contiene las filas 1 y 2 sin repetidos\n",
    "def getDevicesList(jacintaTable):\n",
    "    devList = []\n",
    "    for i in jacintaTable[0]:\n",
    "        devList.append(jacintaTable[i][0] + '___' + jacintaTable[i][1])\n",
    "    return set(devList)\n",
    "\n",
    "def getDataLoggerList(jt):\n",
    "    loggerList = set(jt[0].values())\n",
    "    return loggerList\n",
    "\n",
    "#Función que recorre la lista de Tablas, separa los datos y los guarda en un CSV con el nombre de la tabla\n",
    "def ProcessData(list,jacintaTable):\n",
    "    for l in list:\n",
    "        sub_table = getTableBy_datalogger_name(jacintaTable,l)\n",
    "        sub_table.export_csv(dst + '/' + str(l) + '.csv',';')\n",
    "        print str(l) + ' process'\n",
    "\n",
    "def ProcessDataComposed(list,jacintaTable):\n",
    "    for l in list:\n",
    "        parts = []\n",
    "        pre = \"\"\n",
    "        suf = \"\"\n",
    "        #Separamos por símbolo '_'\n",
    "        parts = l.split('___')\n",
    "        pre = parts[0]\n",
    "        suf = parts[1]\n",
    "        \n",
    "        sub_table = getTableBy_device_name(jacintaTable,pre,suf)\n",
    "        sub_table.export_csv(dst + '/'  + str(l) + '.csv',';')\n",
    "        print str(l) + ' process'\n",
    "\n",
    "def ResetContext():\n",
    "    logger_list.clear()\n",
    "    dev_list.clear()"
   ]
  },
  {
   "cell_type": "code",
   "execution_count": 8,
   "metadata": {
    "collapsed": false,
    "scrolled": true
   },
   "outputs": [
    {
     "data": {
      "text/html": [
       "<pre>Finished parsing file D:\\01 - DATA_SRC_01\\Jacinta\\test\\2552_2016-07-01.csv</pre>"
      ],
      "text/plain": [
       "Finished parsing file D:\\01 - DATA_SRC_01\\Jacinta\\test\\2552_2016-07-01.csv"
      ]
     },
     "metadata": {},
     "output_type": "display_data"
    },
    {
     "data": {
      "text/html": [
       "<pre>Parsing completed. Parsed 16 lines in 0.016001 secs.</pre>"
      ],
      "text/plain": [
       "Parsing completed. Parsed 16 lines in 0.016001 secs."
      ]
     },
     "metadata": {},
     "output_type": "display_data"
    },
    {
     "name": "stdout",
     "output_type": "stream",
     "text": [
      "------------------------------------------------------\n",
      "Inferred types from first 100 line(s) of file as \n",
      "column_type_hints=[str,str,str,str,str,str,str,str,str,str,str,str,str,str,str,str,str,str,str,str,str,str,str,str,str,str,str,str,str,str,str,str,str,str,str,str,str,str,str,str,str,str,str,str,str,str,str,str,str,str,str,str,str,str,str,str,str,str,str,str,str,str,str,str,str,str,str,str,str,str,str,str,str,str,str,str,str,str,str,str,str,str,str,str,str,str,str,str,str,str,str,str,str,str,str,str,str,str,str,str,str,str,str,str,str,str,str,str,str,str,str,str,str,str,str,str,str,str,str,str,str,str,str,str,str,str,str,str,str,str,str,str,str,str,str,str,str,str,str,str,str,str,str,str,str,str,str,str,str,str,str,str,str,str,str,str,str,str,str,str,str,str,str,str,str,str,str,str,str,str,str,str,str,str,str,str,str,str,str,str,str,str,str,str,str,str,str,str,str,str,str,str,str,str,str,str,str,str,str,str,str,str,str,str,str,str,str,str,str,str,str,str,str,str,str,str,str,str,str,str,str,str,str,str,str,str,str,str,str,str,str,str,str,str,str,str,str,str,str,str,str,str,str,str,str,str,str,str,str,str,str,str,str,str,str,str,str,str,str,str,str,str,str,str,str,str,str,str,str,str,str,str,str,str,str,str,str,str,str,str,str,str,str,str,str,str,str,str,str,str,str,str,str,str,str,str,str,str,str,str,str,str,str,str,str,str,str,str,str,str,str,str,str,str,str,str,str,str,str,str,str,str,str,str,str,str,str,str,str,str,str,str,str,str,str,str,str,str,str,str]\n",
      "If parsing fails due to incorrect types, you can correct\n",
      "the inferred type list above and pass it to read_csv in\n",
      "the column_type_hints argument\n",
      "------------------------------------------------------\n"
     ]
    },
    {
     "data": {
      "text/html": [
       "<pre>Finished parsing file D:\\01 - DATA_SRC_01\\Jacinta\\test\\2552_2016-07-01.csv</pre>"
      ],
      "text/plain": [
       "Finished parsing file D:\\01 - DATA_SRC_01\\Jacinta\\test\\2552_2016-07-01.csv"
      ]
     },
     "metadata": {},
     "output_type": "display_data"
    },
    {
     "data": {
      "text/html": [
       "<pre>Parsing completed. Parsed 16 lines in 0.017001 secs.</pre>"
      ],
      "text/plain": [
       "Parsing completed. Parsed 16 lines in 0.017001 secs."
      ]
     },
     "metadata": {},
     "output_type": "display_data"
    },
    {
     "name": "stdout",
     "output_type": "stream",
     "text": [
      "CT01 process\n",
      "datalogger_name process\n",
      "CT02 process\n",
      "CT01___Módulo inversor 01.1.4 process\n",
      "CT01___Inversor 01.2 process\n",
      "CT01___Módulo inversor 01.1.1 process\n",
      "CT01___Módulo inversor 01.1.2 process\n",
      "CT01___Módulo inversor 01.1.3 process\n",
      "datalogger_name___device_name process\n",
      "CT02___Inversor 02.1 process\n",
      "CT01___Detector fuego 01 process\n",
      "CT01___Combinador CN1 01.1 process\n",
      "CT01___Combinador CN1 01.2 process\n",
      "CT02___Módulo inversor 02.2.3 process\n",
      "CT02___Módulo inversor 02.2.2 process\n",
      "CT02___Módulo inversor 02.2.1 process\n",
      "CT02___Módulo inversor 02.2.4 process\n",
      "CT01___Módulo inversor 01.2.3 process\n",
      "CT01___Módulo inversor 01.2.2 process\n",
      "CT01___Módulo inversor 01.2.1 process\n",
      "CT01___Inversor 01.1 process\n",
      "CT02___Inversor 02.2 process\n",
      "CT01___Módulo inversor 01.2.4 process\n",
      "### 0716 done ###\n"
     ]
    },
    {
     "data": {
      "text/html": [
       "<pre>Finished parsing file D:\\01 - DATA_SRC_01\\Jacinta\\test\\2552_2016-08-01.csv</pre>"
      ],
      "text/plain": [
       "Finished parsing file D:\\01 - DATA_SRC_01\\Jacinta\\test\\2552_2016-08-01.csv"
      ]
     },
     "metadata": {},
     "output_type": "display_data"
    },
    {
     "data": {
      "text/html": [
       "<pre>Parsing completed. Parsed 25 lines in 0.015001 secs.</pre>"
      ],
      "text/plain": [
       "Parsing completed. Parsed 25 lines in 0.015001 secs."
      ]
     },
     "metadata": {},
     "output_type": "display_data"
    },
    {
     "name": "stdout",
     "output_type": "stream",
     "text": [
      "------------------------------------------------------\n",
      "Inferred types from first 100 line(s) of file as \n",
      "column_type_hints=[str,str,str,str,str,str,str,str,str,str,str,str,str,str,str,str,str,str,str,str,str,str,str,str,str,str,str,str,str,str,str,str,str,str,str,str,str,str,str,str,str,str,str,str,str,str,str,str,str,str,str,str,str,str,str,str,str,str,str,str,str,str,str,str,str,str,str,str,str,str,str,str,str,str,str,str,str,str,str,str,str,str,str,str,str,str,str,str,str,str,str,str,str,str,str,str,str,str,str,str,str,str,str,str,str,str,str,str,str,str,str,str,str,str,str,str,str,str,str,str,str,str,str,str,str,str,str,str,str,str,str,str,str,str,str,str,str,str,str,str,str,str,str,str,str,str,str,str,str,str,str,str,str,str,str,str,str,str,str,str,str,str,str,str,str,str,str,str,str,str,str,str,str,str,str,str,str,str,str,str,str,str,str,str,str,str,str,str,str,str,str,str,str,str,str,str,str,str,str,str,str,str,str,str,str,str,str,str,str,str,str,str,str,str,str,str,str,str,str,str,str,str,str,str,str,str,str,str,str,str,str,str,str,str,str,str,str,str,str,str,str,str,str,str,str,str,str,str,str,str,str,str,str,str,str,str,str,str,str,str,str,str,str,str,str,str,str,str,str,str,str,str,str,str,str,str,str,str,str,str,str,str,str,str,str,str,str,str,str,str,str,str,str,str,str,str,str,str,str,str,str,str,str,str,str,str,str,str,str,str,str,str,str,str,str,str,str,str,str,str,str,str,str,str,str,str,str,str,str,str,str,str,str,str,str,str,str,str,str,str]\n",
      "If parsing fails due to incorrect types, you can correct\n",
      "the inferred type list above and pass it to read_csv in\n",
      "the column_type_hints argument\n",
      "------------------------------------------------------\n"
     ]
    },
    {
     "data": {
      "text/html": [
       "<pre>Finished parsing file D:\\01 - DATA_SRC_01\\Jacinta\\test\\2552_2016-08-01.csv</pre>"
      ],
      "text/plain": [
       "Finished parsing file D:\\01 - DATA_SRC_01\\Jacinta\\test\\2552_2016-08-01.csv"
      ]
     },
     "metadata": {},
     "output_type": "display_data"
    },
    {
     "data": {
      "text/html": [
       "<pre>Parsing completed. Parsed 25 lines in 0.015001 secs.</pre>"
      ],
      "text/plain": [
       "Parsing completed. Parsed 25 lines in 0.015001 secs."
      ]
     },
     "metadata": {},
     "output_type": "display_data"
    },
    {
     "name": "stdout",
     "output_type": "stream",
     "text": [
      "CT01 process\n",
      "datalogger_name process\n",
      "CT02 process\n",
      "CT01___Módulo inversor 01.1.4 process\n",
      "CT01___Inversor 01.2 process\n",
      "CT01___Módulo inversor 01.1.1 process\n",
      "CT01___Módulo inversor 01.1.2 process\n",
      "CT01___Módulo inversor 01.1.3 process\n",
      "datalogger_name___device_name process\n",
      "CT02___Inversor 02.1 process\n",
      "CT01___Detector fuego 01 process\n",
      "CT01___Combinador CN1 01.1 process\n",
      "CT01___Combinador CN1 01.2 process\n",
      "CT02___Módulo inversor 02.2.3 process\n",
      "CT02___Módulo inversor 02.2.2 process\n",
      "CT02___Módulo inversor 02.2.1 process\n",
      "CT02___Módulo inversor 02.2.4 process\n",
      "CT01___Módulo inversor 01.2.3 process\n",
      "CT01___Módulo inversor 01.2.2 process\n",
      "CT01___Módulo inversor 01.2.1 process\n",
      "CT01___Inversor 01.1 process\n",
      "CT02___Inversor 02.2 process\n",
      "CT01___Módulo inversor 01.2.4 process\n",
      "### 0816 done ###\n"
     ]
    }
   ],
   "source": [
    "# Procesamos datos simplificados\n",
    "src = 'D:/01 - DATA_SRC_01/Jacinta/test/'\n",
    "\n",
    "\n",
    "jac0616 = '2552_2016-06-01.csv'\n",
    "dst = 'D:/01 - DATA_SRC_01/Jacinta/test/0616'\n",
    "\n",
    "jacinta_0616 = graphlab.SFrame.read_csv(src + jac0616, delimiter=';',header= False)\n",
    "\n",
    "#Creamos lista de Tablas\n",
    "logger_list = getDataLoggerList(jacinta_0616)\n",
    "dev_list = getDevicesList(jacinta_0616)\n",
    "#Procesamos los datos separando en tablas\n",
    "ProcessData(logger_list,jacinta_0616)\n",
    "#Procesamos los datos separando en tablas\n",
    "ProcessDataComposed(dev_list,jacinta_0616)\n",
    "print '### 0616 done ###'\n",
    "\n",
    "\n",
    "jac0716 = '2552_2016-07-01.csv'\n",
    "dst = 'D:/01 - DATA_SRC_01/Jacinta/test/0716'\n",
    "\n",
    "jacinta_0716 = graphlab.SFrame.read_csv(src + jac0716, delimiter=';',header= False)\n",
    "\n",
    "#ResetContext()\n",
    "#Creamos lista de Tablas\n",
    "logger_list = getDataLoggerList(jacinta_0716)\n",
    "dev_list = getDevicesList(jacinta_0716)\n",
    "#Procesamos los datos separando en tablas\n",
    "ProcessData(logger_list,jacinta_0716)\n",
    "#Procesamos los datos separando en tablas\n",
    "ProcessDataComposed(dev_list,jacinta_0716)\n",
    "print '### 0716 done ###'\n",
    "\n",
    "\n",
    "jac0816 = '2552_2016-08-01.csv'\n",
    "dst = 'D:/01 - DATA_SRC_01/Jacinta/test/0816'\n",
    "\n",
    "jacinta_0816 = graphlab.SFrame.read_csv(src + jac0816, delimiter=';',header= False)\n",
    "\n",
    "ResetContext()\n",
    "#Creamos lista de Tablas\n",
    "logger_list = getDataLoggerList(jacinta_0816)\n",
    "dev_list = getDevicesList(jacinta_0816)\n",
    "#Procesamos los datos separando en tablas\n",
    "ProcessData(logger_list,jacinta_0816)\n",
    "#Procesamos los datos separando en tablas\n",
    "ProcessDataComposed(dev_list,jacinta_0816)\n",
    "print '### 0816 done ###'"
   ]
  },
  {
   "cell_type": "markdown",
   "metadata": {},
   "source": [
    "# Cargamos CSVs en SFrames acumulando todos los meses de datos"
   ]
  },
  {
   "cell_type": "code",
   "execution_count": 1,
   "metadata": {
    "collapsed": true
   },
   "outputs": [],
   "source": [
    "import graphlab"
   ]
  },
  {
   "cell_type": "code",
   "execution_count": 3,
   "metadata": {
    "collapsed": true
   },
   "outputs": [],
   "source": [
    "# Función que recorre una lista de carpeta buscando un fichero para mergear sus contenidos en una variable\n",
    "# Supone que todos los CSVs tienen el mismo esquema\n",
    "def MergeFiles(src_list, file_name):\n",
    "    col_types = ()\n",
    "    i = 1\n",
    "    for src in src_list:\n",
    "        if i == 1:\n",
    "            dataFrame = graphlab.SFrame.read_csv(src + file_name, delimiter=';',header= True)\n",
    "            col_types = dataFrame.column_types()\n",
    "            i = i+1\n",
    "        else:\n",
    "            dataFrame = dataFrame.append(graphlab.SFrame.read_csv(src + file_name, delimiter= ';', header = True,column_type_hints=col_types))\n",
    "    return dataFrame"
   ]
  },
  {
   "cell_type": "code",
   "execution_count": 4,
   "metadata": {
    "collapsed": true
   },
   "outputs": [],
   "source": [
    "# Función que recorre una lista de carpeta buscando un fichero para mergear sus contenidos en una variable\n",
    "# Supone que todos los CSVs tienen el mismo esquema\n",
    "def MergeFiles2(src_list, file_name):\n",
    "    col_types = ()\n",
    "    i = 1\n",
    "    dataFrame = []\n",
    "    for src in src_list:\n",
    "        try:\n",
    "            if i == 1:\n",
    "                dataFrame = graphlab.SFrame.read_csv(src + file_name, delimiter=';',header= True)\n",
    "                col_types = dataFrame.column_types()\n",
    "                i = i+1\n",
    "            else:\n",
    "                dataFrame = dataFrame.append(graphlab.SFrame.read_csv(src + file_name, delimiter= ';', header = True,column_type_hints=col_types))\n",
    "        except:\n",
    "            print src  + file_name + \" - file not found!\"\n",
    "    return dataFrame"
   ]
  },
  {
   "cell_type": "code",
   "execution_count": null,
   "metadata": {
    "collapsed": true
   },
   "outputs": [],
   "source": []
  },
  {
   "cell_type": "markdown",
   "metadata": {},
   "source": [
    "## Datos ejemplo"
   ]
  },
  {
   "cell_type": "code",
   "execution_count": 15,
   "metadata": {
    "collapsed": false
   },
   "outputs": [
    {
     "name": "stdout",
     "output_type": "stream",
     "text": [
      "C:/TURI/Jacinta/clean/0616/CT01.csv - file not found!\n",
      "C:/TURI/Jacinta/clean/0716/CT01.csv - file not found!\n",
      "C:/TURI/Jacinta/clean/0816/CT01.csv - file not found!\n",
      "C:/TURI/Jacinta/clean/0916/CT01.csv - file not found!\n",
      "C:/TURI/Jacinta/clean/1016/CT01.csv - file not found!\n",
      "C:/TURI/Jacinta/clean/1116/CT01.csv - file not found!\n",
      "C:/TURI/Jacinta/clean/1216/CT01.csv - file not found!\n",
      "C:/TURI/Jacinta/clean/0117/CT01.csv - file not found!\n",
      "C:/TURI/Jacinta/clean/0217/CT01.csv - file not found!\n",
      "C:/TURI/Jacinta/clean/0317/CT01.csv - file not found!\n"
     ]
    },
    {
     "ename": "AttributeError",
     "evalue": "'list' object has no attribute 'num_rows'",
     "output_type": "error",
     "traceback": [
      "\u001b[1;31m---------------------------------------------------------------------------\u001b[0m",
      "\u001b[1;31mAttributeError\u001b[0m                            Traceback (most recent call last)",
      "\u001b[1;32m<ipython-input-15-ff6ad1ace91b>\u001b[0m in \u001b[0;36m<module>\u001b[1;34m()\u001b[0m\n\u001b[0;32m     13\u001b[0m \u001b[1;33m\u001b[0m\u001b[0m\n\u001b[0;32m     14\u001b[0m \u001b[0mCT01\u001b[0m \u001b[1;33m=\u001b[0m \u001b[0mMergeFiles2\u001b[0m\u001b[1;33m(\u001b[0m\u001b[0msrc_list\u001b[0m\u001b[1;33m,\u001b[0m\u001b[1;34m'CT01.csv'\u001b[0m\u001b[1;33m)\u001b[0m\u001b[1;33m\u001b[0m\u001b[0m\n\u001b[1;32m---> 15\u001b[1;33m \u001b[0mCT01\u001b[0m\u001b[1;33m.\u001b[0m\u001b[0mnum_rows\u001b[0m\u001b[1;33m(\u001b[0m\u001b[1;33m)\u001b[0m\u001b[1;33m\u001b[0m\u001b[0m\n\u001b[0m",
      "\u001b[1;31mAttributeError\u001b[0m: 'list' object has no attribute 'num_rows'"
     ]
    }
   ],
   "source": [
    "#Iteramos por carpetas cargando csvs en SFrames\n",
    "# Listamos carpetas a consultar\n",
    "src_list =('D:/01 - DATA_SRC_01/Jacinta/0616/',\n",
    "           'D:/01 - DATA_SRC_01/Jacinta/0716/',\n",
    "          'D:/01 - DATA_SRC_01/Jacinta/0816/')\n",
    "\n",
    "CT01 = MergeFiles2(src_list,'CT01.csv')\n",
    "CT01.num_rows()"
   ]
  },
  {
   "cell_type": "code",
   "execution_count": 6,
   "metadata": {
    "collapsed": true
   },
   "outputs": [
    {
     "name": "stdout",
     "output_type": "stream",
     "text": [
      "D:/01 - DATA_SRC_01/Jacinta/0616/CT01.csv - file not found!\n",
      "D:/01 - DATA_SRC_01/Jacinta/0716/CT01.csv - file not found!\n",
      "D:/01 - DATA_SRC_01/Jacinta/0816/CT01.csv - file not found!\n"
     ]
    },
    {
     "ename": "UnboundLocalError",
     "evalue": "local variable 'dataFrame' referenced before assignment",
     "output_type": "error",
     "traceback": [
      "\u001b[1;31m---------------------------------------------------------------------------\u001b[0m",
      "\u001b[1;31mUnboundLocalError\u001b[0m                         Traceback (most recent call last)",
      "\u001b[1;32m<ipython-input-6-9a4aa4564cbd>\u001b[0m in \u001b[0;36m<module>\u001b[1;34m()\u001b[0m\n\u001b[0;32m      7\u001b[0m \u001b[1;32mfor\u001b[0m \u001b[0mf\u001b[0m \u001b[1;32min\u001b[0m \u001b[0mfile_list\u001b[0m\u001b[1;33m:\u001b[0m\u001b[1;33m\u001b[0m\u001b[0m\n\u001b[0;32m      8\u001b[0m     \u001b[1;32mexec\u001b[0m\u001b[1;33m(\u001b[0m\u001b[0mf\u001b[0m \u001b[1;33m+\u001b[0m \u001b[1;34m\" = []\"\u001b[0m\u001b[1;33m)\u001b[0m\u001b[1;33m\u001b[0m\u001b[0m\n\u001b[1;32m----> 9\u001b[1;33m     \u001b[1;32mexec\u001b[0m\u001b[1;33m(\u001b[0m\u001b[0mf\u001b[0m \u001b[1;33m+\u001b[0m \u001b[1;34m\"=  MergeFiles2(src_list,'\"\u001b[0m \u001b[1;33m+\u001b[0m \u001b[0mf\u001b[0m \u001b[1;33m+\u001b[0m \u001b[1;34m\".csv')\"\u001b[0m\u001b[1;33m)\u001b[0m\u001b[1;33m\u001b[0m\u001b[0m\n\u001b[0m\u001b[0;32m     10\u001b[0m     \u001b[1;31m# Exportamos a CSV\u001b[0m\u001b[1;33m\u001b[0m\u001b[1;33m\u001b[0m\u001b[0m\n\u001b[0;32m     11\u001b[0m     \u001b[1;32mexec\u001b[0m\u001b[1;33m(\u001b[0m\u001b[0mf\u001b[0m \u001b[1;33m+\u001b[0m \u001b[1;34m\".export_csv(\"\u001b[0m \u001b[1;33m+\u001b[0m \u001b[0mdst\u001b[0m \u001b[1;33m+\u001b[0m \u001b[1;34m'/'\u001b[0m  \u001b[1;33m+\u001b[0m \u001b[0mf\u001b[0m \u001b[1;33m+\u001b[0m \u001b[1;34m'.csv'\u001b[0m\u001b[1;33m,\u001b[0m\u001b[1;34m';'\u001b[0m\u001b[1;33m)\u001b[0m\u001b[1;33m\u001b[0m\u001b[0m\n",
      "\u001b[1;32m<string>\u001b[0m in \u001b[0;36m<module>\u001b[1;34m()\u001b[0m\n",
      "\u001b[1;32m<ipython-input-2-9c0836951c02>\u001b[0m in \u001b[0;36mMergeFiles2\u001b[1;34m(src_list, file_name)\u001b[0m\n\u001b[0;32m     14\u001b[0m         \u001b[1;32mexcept\u001b[0m\u001b[1;33m:\u001b[0m\u001b[1;33m\u001b[0m\u001b[0m\n\u001b[0;32m     15\u001b[0m             \u001b[1;32mprint\u001b[0m \u001b[0msrc\u001b[0m  \u001b[1;33m+\u001b[0m \u001b[0mfile_name\u001b[0m \u001b[1;33m+\u001b[0m \u001b[1;34m\" - file not found!\"\u001b[0m\u001b[1;33m\u001b[0m\u001b[0m\n\u001b[1;32m---> 16\u001b[1;33m     \u001b[1;32mreturn\u001b[0m \u001b[0mdataFrame\u001b[0m\u001b[1;33m\u001b[0m\u001b[0m\n\u001b[0m",
      "\u001b[1;31mUnboundLocalError\u001b[0m: local variable 'dataFrame' referenced before assignment"
     ]
    }
   ],
   "source": [
    "#Iteramos por lista de ficheros\n",
    "file_list = ('CT01','CT02','CT03','CT04','CT05','CT06','CT07','CT08','CT09','CT10','CT11','CT12','CT13','CT14','CT15','CT16',\n",
    "             'CT17','CT18','CT19','CT20','CT21','CT22','CT23','CT24','CT25','Meteo','Sub')\n",
    "\n",
    "dst = 'C:/TURI/Jacinta/merged/'\n",
    "\n",
    "for f in file_list:\n",
    "    exec(f + \" = []\")\n",
    "    exec(f + \"=  MergeFiles2(src_list,'\" + f + \".csv')\")\n",
    "    # Exportamos a CSV\n",
    "    exec(f + \".export_csv(\" + dst + '/'  + f + '.csv',';')"
   ]
  },
  {
   "cell_type": "markdown",
   "metadata": {},
   "source": [
    "## Datos Producción"
   ]
  },
  {
   "cell_type": "code",
   "execution_count": 6,
   "metadata": {
    "collapsed": false,
    "scrolled": true
   },
   "outputs": [
    {
     "data": {
      "text/html": [
       "<pre>Finished parsing file C:\\TURI\\Jacinta\\clean\\0616\\CT01.csv</pre>"
      ],
      "text/plain": [
       "Finished parsing file C:\\TURI\\Jacinta\\clean\\0616\\CT01.csv"
      ]
     },
     "metadata": {},
     "output_type": "display_data"
    },
    {
     "data": {
      "text/html": [
       "<pre>Parsing completed. Parsed 100 lines in 0.040002 secs.</pre>"
      ],
      "text/plain": [
       "Parsing completed. Parsed 100 lines in 0.040002 secs."
      ]
     },
     "metadata": {},
     "output_type": "display_data"
    },
    {
     "name": "stdout",
     "output_type": "stream",
     "text": [
      "------------------------------------------------------\n",
      "Inferred types from first 100 line(s) of file as \n",
      "column_type_hints=[str,long,long,long,float,float,float,long,float,long,long,long,long,float,float,float,long,float,long,long,float,float,long,long,long,long,long,long,float,long,float,long,long,float,long,long,long,long,float,long,long,long,long,long,float,float,long,long,long,long,long,long,float,long,float,long,long,float,long,long,long,long,float,long,long,long,long,long,float,float,long,long,long,long,long,long,float,long,float,long,long,float,long,long,long,long,float,long,long,long,long,long,float,float,long,long,long,long,long,long,float,long,float,long,long,float,long,long,long,long,float,long,long,long,long,long,float,float,long,long,long,long,long,long,float,long,float,long,long,float,long,long,long,long,float,long,long,long,long,long,float,float,long,long,long,long,long,long,float,long,float,long,long,float,long,long,long,long,float,long,long,long,long,long,float,float,long,long,long,long,long,long,float,long,float,long,long,float,long,long,long,long,float,long,long,long,long,long,float,float,long,long,long,long,long,long,float,long,float,long,long,float,long,long,long,long,float,long,long,long,long,long,float,float,float,float,float,float,float,float,float,float,float,float,long,float,float,float,float,float,float,float,float,float,float,float,float,long,long]\n",
      "If parsing fails due to incorrect types, you can correct\n",
      "the inferred type list above and pass it to read_csv in\n",
      "the column_type_hints argument\n",
      "------------------------------------------------------\n"
     ]
    },
    {
     "data": {
      "text/html": [
       "<pre>Finished parsing file C:\\TURI\\Jacinta\\clean\\0616\\CT01.csv</pre>"
      ],
      "text/plain": [
       "Finished parsing file C:\\TURI\\Jacinta\\clean\\0616\\CT01.csv"
      ]
     },
     "metadata": {},
     "output_type": "display_data"
    },
    {
     "data": {
      "text/html": [
       "<pre>Parsing completed. Parsed 2482 lines in 0.053003 secs.</pre>"
      ],
      "text/plain": [
       "Parsing completed. Parsed 2482 lines in 0.053003 secs."
      ]
     },
     "metadata": {},
     "output_type": "display_data"
    },
    {
     "data": {
      "text/html": [
       "<pre>Finished parsing file C:\\TURI\\Jacinta\\clean\\0716\\CT01.csv</pre>"
      ],
      "text/plain": [
       "Finished parsing file C:\\TURI\\Jacinta\\clean\\0716\\CT01.csv"
      ]
     },
     "metadata": {},
     "output_type": "display_data"
    },
    {
     "data": {
      "text/html": [
       "<pre>Parsing completed. Parsed 8843 lines in 0.161009 secs.</pre>"
      ],
      "text/plain": [
       "Parsing completed. Parsed 8843 lines in 0.161009 secs."
      ]
     },
     "metadata": {},
     "output_type": "display_data"
    },
    {
     "data": {
      "text/html": [
       "<pre>Finished parsing file C:\\TURI\\Jacinta\\clean\\0816\\CT01.csv</pre>"
      ],
      "text/plain": [
       "Finished parsing file C:\\TURI\\Jacinta\\clean\\0816\\CT01.csv"
      ]
     },
     "metadata": {},
     "output_type": "display_data"
    },
    {
     "data": {
      "text/html": [
       "<pre>Parsing completed. Parsed 8881 lines in 0.16601 secs.</pre>"
      ],
      "text/plain": [
       "Parsing completed. Parsed 8881 lines in 0.16601 secs."
      ]
     },
     "metadata": {},
     "output_type": "display_data"
    },
    {
     "data": {
      "text/html": [
       "<pre>Finished parsing file C:\\TURI\\Jacinta\\clean\\0916\\CT01.csv</pre>"
      ],
      "text/plain": [
       "Finished parsing file C:\\TURI\\Jacinta\\clean\\0916\\CT01.csv"
      ]
     },
     "metadata": {},
     "output_type": "display_data"
    },
    {
     "data": {
      "text/html": [
       "<pre>Parsing completed. Parsed 8573 lines in 0.161009 secs.</pre>"
      ],
      "text/plain": [
       "Parsing completed. Parsed 8573 lines in 0.161009 secs."
      ]
     },
     "metadata": {},
     "output_type": "display_data"
    },
    {
     "data": {
      "text/html": [
       "<pre>Finished parsing file C:\\TURI\\Jacinta\\clean\\1016\\CT01.csv</pre>"
      ],
      "text/plain": [
       "Finished parsing file C:\\TURI\\Jacinta\\clean\\1016\\CT01.csv"
      ]
     },
     "metadata": {},
     "output_type": "display_data"
    },
    {
     "data": {
      "text/html": [
       "<pre>Parsing completed. Parsed 8889 lines in 0.17101 secs.</pre>"
      ],
      "text/plain": [
       "Parsing completed. Parsed 8889 lines in 0.17101 secs."
      ]
     },
     "metadata": {},
     "output_type": "display_data"
    },
    {
     "data": {
      "text/html": [
       "<pre>Finished parsing file C:\\TURI\\Jacinta\\clean\\1116\\CT01.csv</pre>"
      ],
      "text/plain": [
       "Finished parsing file C:\\TURI\\Jacinta\\clean\\1116\\CT01.csv"
      ]
     },
     "metadata": {},
     "output_type": "display_data"
    },
    {
     "data": {
      "text/html": [
       "<pre>Parsing completed. Parsed 8632 lines in 0.16301 secs.</pre>"
      ],
      "text/plain": [
       "Parsing completed. Parsed 8632 lines in 0.16301 secs."
      ]
     },
     "metadata": {},
     "output_type": "display_data"
    },
    {
     "data": {
      "text/html": [
       "<pre>Finished parsing file C:\\TURI\\Jacinta\\clean\\1216\\CT01.csv</pre>"
      ],
      "text/plain": [
       "Finished parsing file C:\\TURI\\Jacinta\\clean\\1216\\CT01.csv"
      ]
     },
     "metadata": {},
     "output_type": "display_data"
    },
    {
     "data": {
      "text/html": [
       "<pre>Parsing completed. Parsed 8920 lines in 0.17101 secs.</pre>"
      ],
      "text/plain": [
       "Parsing completed. Parsed 8920 lines in 0.17101 secs."
      ]
     },
     "metadata": {},
     "output_type": "display_data"
    },
    {
     "data": {
      "text/html": [
       "<pre>Finished parsing file C:\\TURI\\Jacinta\\clean\\0117\\CT01.csv</pre>"
      ],
      "text/plain": [
       "Finished parsing file C:\\TURI\\Jacinta\\clean\\0117\\CT01.csv"
      ]
     },
     "metadata": {},
     "output_type": "display_data"
    },
    {
     "data": {
      "text/html": [
       "<pre>Parsing completed. Parsed 8822 lines in 0.168009 secs.</pre>"
      ],
      "text/plain": [
       "Parsing completed. Parsed 8822 lines in 0.168009 secs."
      ]
     },
     "metadata": {},
     "output_type": "display_data"
    },
    {
     "data": {
      "text/html": [
       "<pre>Finished parsing file C:\\TURI\\Jacinta\\clean\\0217\\CT01.csv</pre>"
      ],
      "text/plain": [
       "Finished parsing file C:\\TURI\\Jacinta\\clean\\0217\\CT01.csv"
      ]
     },
     "metadata": {},
     "output_type": "display_data"
    },
    {
     "data": {
      "text/html": [
       "<pre>Parsing completed. Parsed 8035 lines in 0.137008 secs.</pre>"
      ],
      "text/plain": [
       "Parsing completed. Parsed 8035 lines in 0.137008 secs."
      ]
     },
     "metadata": {},
     "output_type": "display_data"
    },
    {
     "data": {
      "text/html": [
       "<pre>Finished parsing file C:\\TURI\\Jacinta\\clean\\0317\\CT01.csv</pre>"
      ],
      "text/plain": [
       "Finished parsing file C:\\TURI\\Jacinta\\clean\\0317\\CT01.csv"
      ]
     },
     "metadata": {},
     "output_type": "display_data"
    },
    {
     "data": {
      "text/html": [
       "<pre>Parsing completed. Parsed 5935 lines in 0.110006 secs.</pre>"
      ],
      "text/plain": [
       "Parsing completed. Parsed 5935 lines in 0.110006 secs."
      ]
     },
     "metadata": {},
     "output_type": "display_data"
    },
    {
     "data": {
      "text/html": [
       "<pre>Finished parsing file C:\\TURI\\Jacinta\\clean\\0616\\CT02.csv</pre>"
      ],
      "text/plain": [
       "Finished parsing file C:\\TURI\\Jacinta\\clean\\0616\\CT02.csv"
      ]
     },
     "metadata": {},
     "output_type": "display_data"
    },
    {
     "data": {
      "text/html": [
       "<pre>Parsing completed. Parsed 100 lines in 0.043002 secs.</pre>"
      ],
      "text/plain": [
       "Parsing completed. Parsed 100 lines in 0.043002 secs."
      ]
     },
     "metadata": {},
     "output_type": "display_data"
    },
    {
     "name": "stdout",
     "output_type": "stream",
     "text": [
      "------------------------------------------------------\n",
      "Inferred types from first 100 line(s) of file as \n",
      "column_type_hints=[str,long,long,long,float,float,float,long,float,long,long,long,long,float,float,float,long,float,long,long,float,float,long,long,long,long,long,long,float,long,float,long,long,float,long,long,long,long,float,long,long,long,long,long,float,float,long,long,long,long,long,long,float,long,float,long,long,float,long,long,long,long,float,long,long,long,long,long,float,float,long,long,long,long,long,long,float,long,float,long,long,float,long,long,long,long,float,long,long,long,long,long,float,float,long,long,long,long,long,long,float,long,float,long,long,float,long,long,long,long,float,long,long,long,long,long,float,float,long,long,long,long,long,long,float,long,float,long,long,float,long,long,long,str,float,long,long,long,long,long,float,float,long,long,long,long,long,long,float,long,float,long,long,float,long,long,long,str,float,long,long,long,long,long,float,float,long,long,long,long,long,long,float,long,float,long,long,float,long,long,long,str,float,long,long,long,long,long,float,float,long,long,long,long,long,long,float,long,float,long,long,float,long,long,long,str,float,long,long,long,long,long,float,float,float,float,float,float,float,float,float,float,float,float,long,long,long,long,long,long,long,long,long,long,long,long,long,long,long]\n",
      "If parsing fails due to incorrect types, you can correct\n",
      "the inferred type list above and pass it to read_csv in\n",
      "the column_type_hints argument\n",
      "------------------------------------------------------\n"
     ]
    },
    {
     "data": {
      "text/html": [
       "<pre>Finished parsing file C:\\TURI\\Jacinta\\clean\\0616\\CT02.csv</pre>"
      ],
      "text/plain": [
       "Finished parsing file C:\\TURI\\Jacinta\\clean\\0616\\CT02.csv"
      ]
     },
     "metadata": {},
     "output_type": "display_data"
    },
    {
     "data": {
      "text/html": [
       "<pre>Parsing completed. Parsed 2482 lines in 0.054003 secs.</pre>"
      ],
      "text/plain": [
       "Parsing completed. Parsed 2482 lines in 0.054003 secs."
      ]
     },
     "metadata": {},
     "output_type": "display_data"
    },
    {
     "data": {
      "text/html": [
       "<pre>Finished parsing file C:\\TURI\\Jacinta\\clean\\0716\\CT02.csv</pre>"
      ],
      "text/plain": [
       "Finished parsing file C:\\TURI\\Jacinta\\clean\\0716\\CT02.csv"
      ]
     },
     "metadata": {},
     "output_type": "display_data"
    },
    {
     "data": {
      "text/html": [
       "<pre>Parsing completed. Parsed 8843 lines in 0.165009 secs.</pre>"
      ],
      "text/plain": [
       "Parsing completed. Parsed 8843 lines in 0.165009 secs."
      ]
     },
     "metadata": {},
     "output_type": "display_data"
    },
    {
     "data": {
      "text/html": [
       "<pre>Finished parsing file C:\\TURI\\Jacinta\\clean\\0816\\CT02.csv</pre>"
      ],
      "text/plain": [
       "Finished parsing file C:\\TURI\\Jacinta\\clean\\0816\\CT02.csv"
      ]
     },
     "metadata": {},
     "output_type": "display_data"
    },
    {
     "data": {
      "text/html": [
       "<pre>Parsing completed. Parsed 8881 lines in 0.16901 secs.</pre>"
      ],
      "text/plain": [
       "Parsing completed. Parsed 8881 lines in 0.16901 secs."
      ]
     },
     "metadata": {},
     "output_type": "display_data"
    },
    {
     "data": {
      "text/html": [
       "<pre>Finished parsing file C:\\TURI\\Jacinta\\clean\\0916\\CT02.csv</pre>"
      ],
      "text/plain": [
       "Finished parsing file C:\\TURI\\Jacinta\\clean\\0916\\CT02.csv"
      ]
     },
     "metadata": {},
     "output_type": "display_data"
    },
    {
     "data": {
      "text/html": [
       "<pre>Parsing completed. Parsed 8573 lines in 0.18701 secs.</pre>"
      ],
      "text/plain": [
       "Parsing completed. Parsed 8573 lines in 0.18701 secs."
      ]
     },
     "metadata": {},
     "output_type": "display_data"
    },
    {
     "data": {
      "text/html": [
       "<pre>Finished parsing file C:\\TURI\\Jacinta\\clean\\1016\\CT02.csv</pre>"
      ],
      "text/plain": [
       "Finished parsing file C:\\TURI\\Jacinta\\clean\\1016\\CT02.csv"
      ]
     },
     "metadata": {},
     "output_type": "display_data"
    },
    {
     "data": {
      "text/html": [
       "<pre>Parsing completed. Parsed 8889 lines in 0.164009 secs.</pre>"
      ],
      "text/plain": [
       "Parsing completed. Parsed 8889 lines in 0.164009 secs."
      ]
     },
     "metadata": {},
     "output_type": "display_data"
    },
    {
     "data": {
      "text/html": [
       "<pre>Finished parsing file C:\\TURI\\Jacinta\\clean\\1116\\CT02.csv</pre>"
      ],
      "text/plain": [
       "Finished parsing file C:\\TURI\\Jacinta\\clean\\1116\\CT02.csv"
      ]
     },
     "metadata": {},
     "output_type": "display_data"
    },
    {
     "data": {
      "text/html": [
       "<pre>Parsing completed. Parsed 8632 lines in 0.16701 secs.</pre>"
      ],
      "text/plain": [
       "Parsing completed. Parsed 8632 lines in 0.16701 secs."
      ]
     },
     "metadata": {},
     "output_type": "display_data"
    },
    {
     "data": {
      "text/html": [
       "<pre>Finished parsing file C:\\TURI\\Jacinta\\clean\\1216\\CT02.csv</pre>"
      ],
      "text/plain": [
       "Finished parsing file C:\\TURI\\Jacinta\\clean\\1216\\CT02.csv"
      ]
     },
     "metadata": {},
     "output_type": "display_data"
    },
    {
     "data": {
      "text/html": [
       "<pre>Parsing completed. Parsed 8920 lines in 0.166009 secs.</pre>"
      ],
      "text/plain": [
       "Parsing completed. Parsed 8920 lines in 0.166009 secs."
      ]
     },
     "metadata": {},
     "output_type": "display_data"
    },
    {
     "data": {
      "text/html": [
       "<pre>Finished parsing file C:\\TURI\\Jacinta\\clean\\0117\\CT02.csv</pre>"
      ],
      "text/plain": [
       "Finished parsing file C:\\TURI\\Jacinta\\clean\\0117\\CT02.csv"
      ]
     },
     "metadata": {},
     "output_type": "display_data"
    },
    {
     "data": {
      "text/html": [
       "<pre>Parsing completed. Parsed 8822 lines in 0.156009 secs.</pre>"
      ],
      "text/plain": [
       "Parsing completed. Parsed 8822 lines in 0.156009 secs."
      ]
     },
     "metadata": {},
     "output_type": "display_data"
    },
    {
     "data": {
      "text/html": [
       "<pre>Finished parsing file C:\\TURI\\Jacinta\\clean\\0217\\CT02.csv</pre>"
      ],
      "text/plain": [
       "Finished parsing file C:\\TURI\\Jacinta\\clean\\0217\\CT02.csv"
      ]
     },
     "metadata": {},
     "output_type": "display_data"
    },
    {
     "data": {
      "text/html": [
       "<pre>Parsing completed. Parsed 8035 lines in 0.161009 secs.</pre>"
      ],
      "text/plain": [
       "Parsing completed. Parsed 8035 lines in 0.161009 secs."
      ]
     },
     "metadata": {},
     "output_type": "display_data"
    },
    {
     "data": {
      "text/html": [
       "<pre>Finished parsing file C:\\TURI\\Jacinta\\clean\\0317\\CT02.csv</pre>"
      ],
      "text/plain": [
       "Finished parsing file C:\\TURI\\Jacinta\\clean\\0317\\CT02.csv"
      ]
     },
     "metadata": {},
     "output_type": "display_data"
    },
    {
     "data": {
      "text/html": [
       "<pre>Parsing completed. Parsed 5935 lines in 0.125007 secs.</pre>"
      ],
      "text/plain": [
       "Parsing completed. Parsed 5935 lines in 0.125007 secs."
      ]
     },
     "metadata": {},
     "output_type": "display_data"
    },
    {
     "data": {
      "text/html": [
       "<pre>Finished parsing file C:\\TURI\\Jacinta\\clean\\0616\\CT03.csv</pre>"
      ],
      "text/plain": [
       "Finished parsing file C:\\TURI\\Jacinta\\clean\\0616\\CT03.csv"
      ]
     },
     "metadata": {},
     "output_type": "display_data"
    },
    {
     "data": {
      "text/html": [
       "<pre>Parsing completed. Parsed 100 lines in 0.042002 secs.</pre>"
      ],
      "text/plain": [
       "Parsing completed. Parsed 100 lines in 0.042002 secs."
      ]
     },
     "metadata": {},
     "output_type": "display_data"
    },
    {
     "name": "stdout",
     "output_type": "stream",
     "text": [
      "------------------------------------------------------\n",
      "Inferred types from first 100 line(s) of file as \n",
      "column_type_hints=[str,long,long,long,float,float,float,long,float,long,long,long,long,float,float,float,long,float,long,long,float,float,long,long,long,long,long,long,float,long,float,long,long,float,long,long,long,long,float,long,long,long,long,long,float,float,long,long,long,long,long,long,float,long,float,long,long,float,long,long,long,long,float,long,long,long,long,long,float,float,long,long,long,long,long,long,float,long,float,long,long,float,long,long,long,long,float,long,long,long,long,long,float,float,long,long,long,long,long,long,float,long,float,long,long,float,long,long,long,long,float,long,long,long,long,long,float,float,long,long,long,long,long,long,float,long,float,long,long,float,long,long,long,long,float,long,long,long,long,long,float,float,long,long,long,long,long,long,float,long,float,long,long,float,long,long,long,long,float,long,long,long,long,long,float,float,long,long,long,long,long,long,float,long,float,long,long,float,long,long,long,long,float,long,long,long,long,long,float,float,long,long,long,long,long,long,float,long,float,long,long,float,long,long,long,long,float,long,long,long,long,long,float,float,float,float,float,float,float,float,float,float,float,float,long,float,float,float,float,float,float,float,float,float,float,float,float,long,long]\n",
      "If parsing fails due to incorrect types, you can correct\n",
      "the inferred type list above and pass it to read_csv in\n",
      "the column_type_hints argument\n",
      "------------------------------------------------------\n"
     ]
    },
    {
     "data": {
      "text/html": [
       "<pre>Finished parsing file C:\\TURI\\Jacinta\\clean\\0616\\CT03.csv</pre>"
      ],
      "text/plain": [
       "Finished parsing file C:\\TURI\\Jacinta\\clean\\0616\\CT03.csv"
      ]
     },
     "metadata": {},
     "output_type": "display_data"
    },
    {
     "data": {
      "text/html": [
       "<pre>Parsing completed. Parsed 2482 lines in 0.054003 secs.</pre>"
      ],
      "text/plain": [
       "Parsing completed. Parsed 2482 lines in 0.054003 secs."
      ]
     },
     "metadata": {},
     "output_type": "display_data"
    },
    {
     "data": {
      "text/html": [
       "<pre>Finished parsing file C:\\TURI\\Jacinta\\clean\\0716\\CT03.csv</pre>"
      ],
      "text/plain": [
       "Finished parsing file C:\\TURI\\Jacinta\\clean\\0716\\CT03.csv"
      ]
     },
     "metadata": {},
     "output_type": "display_data"
    },
    {
     "data": {
      "text/html": [
       "<pre>Parsing completed. Parsed 8843 lines in 0.165009 secs.</pre>"
      ],
      "text/plain": [
       "Parsing completed. Parsed 8843 lines in 0.165009 secs."
      ]
     },
     "metadata": {},
     "output_type": "display_data"
    },
    {
     "data": {
      "text/html": [
       "<pre>Finished parsing file C:\\TURI\\Jacinta\\clean\\0816\\CT03.csv</pre>"
      ],
      "text/plain": [
       "Finished parsing file C:\\TURI\\Jacinta\\clean\\0816\\CT03.csv"
      ]
     },
     "metadata": {},
     "output_type": "display_data"
    },
    {
     "data": {
      "text/html": [
       "<pre>Parsing completed. Parsed 8881 lines in 0.17101 secs.</pre>"
      ],
      "text/plain": [
       "Parsing completed. Parsed 8881 lines in 0.17101 secs."
      ]
     },
     "metadata": {},
     "output_type": "display_data"
    },
    {
     "data": {
      "text/html": [
       "<pre>Finished parsing file C:\\TURI\\Jacinta\\clean\\0916\\CT03.csv</pre>"
      ],
      "text/plain": [
       "Finished parsing file C:\\TURI\\Jacinta\\clean\\0916\\CT03.csv"
      ]
     },
     "metadata": {},
     "output_type": "display_data"
    },
    {
     "data": {
      "text/html": [
       "<pre>Parsing completed. Parsed 8573 lines in 0.163009 secs.</pre>"
      ],
      "text/plain": [
       "Parsing completed. Parsed 8573 lines in 0.163009 secs."
      ]
     },
     "metadata": {},
     "output_type": "display_data"
    },
    {
     "data": {
      "text/html": [
       "<pre>Finished parsing file C:\\TURI\\Jacinta\\clean\\1016\\CT03.csv</pre>"
      ],
      "text/plain": [
       "Finished parsing file C:\\TURI\\Jacinta\\clean\\1016\\CT03.csv"
      ]
     },
     "metadata": {},
     "output_type": "display_data"
    },
    {
     "data": {
      "text/html": [
       "<pre>Parsing completed. Parsed 8889 lines in 0.168009 secs.</pre>"
      ],
      "text/plain": [
       "Parsing completed. Parsed 8889 lines in 0.168009 secs."
      ]
     },
     "metadata": {},
     "output_type": "display_data"
    },
    {
     "data": {
      "text/html": [
       "<pre>Finished parsing file C:\\TURI\\Jacinta\\clean\\1116\\CT03.csv</pre>"
      ],
      "text/plain": [
       "Finished parsing file C:\\TURI\\Jacinta\\clean\\1116\\CT03.csv"
      ]
     },
     "metadata": {},
     "output_type": "display_data"
    },
    {
     "data": {
      "text/html": [
       "<pre>Parsing completed. Parsed 8632 lines in 0.16701 secs.</pre>"
      ],
      "text/plain": [
       "Parsing completed. Parsed 8632 lines in 0.16701 secs."
      ]
     },
     "metadata": {},
     "output_type": "display_data"
    },
    {
     "data": {
      "text/html": [
       "<pre>Finished parsing file C:\\TURI\\Jacinta\\clean\\1216\\CT03.csv</pre>"
      ],
      "text/plain": [
       "Finished parsing file C:\\TURI\\Jacinta\\clean\\1216\\CT03.csv"
      ]
     },
     "metadata": {},
     "output_type": "display_data"
    },
    {
     "data": {
      "text/html": [
       "<pre>Parsing completed. Parsed 8920 lines in 0.169009 secs.</pre>"
      ],
      "text/plain": [
       "Parsing completed. Parsed 8920 lines in 0.169009 secs."
      ]
     },
     "metadata": {},
     "output_type": "display_data"
    },
    {
     "data": {
      "text/html": [
       "<pre>Finished parsing file C:\\TURI\\Jacinta\\clean\\0117\\CT03.csv</pre>"
      ],
      "text/plain": [
       "Finished parsing file C:\\TURI\\Jacinta\\clean\\0117\\CT03.csv"
      ]
     },
     "metadata": {},
     "output_type": "display_data"
    },
    {
     "data": {
      "text/html": [
       "<pre>Parsing completed. Parsed 8822 lines in 0.16801 secs.</pre>"
      ],
      "text/plain": [
       "Parsing completed. Parsed 8822 lines in 0.16801 secs."
      ]
     },
     "metadata": {},
     "output_type": "display_data"
    },
    {
     "data": {
      "text/html": [
       "<pre>Finished parsing file C:\\TURI\\Jacinta\\clean\\0217\\CT03.csv</pre>"
      ],
      "text/plain": [
       "Finished parsing file C:\\TURI\\Jacinta\\clean\\0217\\CT03.csv"
      ]
     },
     "metadata": {},
     "output_type": "display_data"
    },
    {
     "data": {
      "text/html": [
       "<pre>Parsing completed. Parsed 8035 lines in 0.135008 secs.</pre>"
      ],
      "text/plain": [
       "Parsing completed. Parsed 8035 lines in 0.135008 secs."
      ]
     },
     "metadata": {},
     "output_type": "display_data"
    },
    {
     "data": {
      "text/html": [
       "<pre>Finished parsing file C:\\TURI\\Jacinta\\clean\\0317\\CT03.csv</pre>"
      ],
      "text/plain": [
       "Finished parsing file C:\\TURI\\Jacinta\\clean\\0317\\CT03.csv"
      ]
     },
     "metadata": {},
     "output_type": "display_data"
    },
    {
     "data": {
      "text/html": [
       "<pre>Parsing completed. Parsed 5935 lines in 0.112007 secs.</pre>"
      ],
      "text/plain": [
       "Parsing completed. Parsed 5935 lines in 0.112007 secs."
      ]
     },
     "metadata": {},
     "output_type": "display_data"
    },
    {
     "data": {
      "text/html": [
       "<pre>Finished parsing file C:\\TURI\\Jacinta\\clean\\0616\\CT04.csv</pre>"
      ],
      "text/plain": [
       "Finished parsing file C:\\TURI\\Jacinta\\clean\\0616\\CT04.csv"
      ]
     },
     "metadata": {},
     "output_type": "display_data"
    },
    {
     "data": {
      "text/html": [
       "<pre>Parsing completed. Parsed 100 lines in 0.039002 secs.</pre>"
      ],
      "text/plain": [
       "Parsing completed. Parsed 100 lines in 0.039002 secs."
      ]
     },
     "metadata": {},
     "output_type": "display_data"
    },
    {
     "name": "stdout",
     "output_type": "stream",
     "text": [
      "------------------------------------------------------\n",
      "Inferred types from first 100 line(s) of file as \n",
      "column_type_hints=[str,long,long,long,float,float,float,long,float,long,long,long,long,float,float,float,long,float,long,long,float,float,long,long,long,long,long,long,float,long,float,long,long,float,long,long,long,long,float,long,long,long,long,long,float,float,long,long,long,long,long,long,float,long,float,long,long,float,long,long,long,long,float,long,long,long,long,long,float,float,long,long,long,long,long,long,float,long,float,long,long,float,long,long,long,long,float,long,long,long,long,long,float,float,long,long,long,long,long,long,float,long,float,long,long,float,long,long,long,long,float,long,long,long,long,long,float,float,long,long,long,long,long,long,float,long,float,long,long,float,long,long,long,long,float,long,long,long,long,long,float,float,long,long,long,long,long,long,float,long,float,long,long,float,long,long,long,long,float,long,long,long,long,long,float,float,long,long,long,long,long,long,float,long,float,long,long,float,long,long,long,long,float,long,long,long,long,long,float,float,long,long,long,long,long,long,float,long,float,long,long,float,long,long,long,long,float,long,long,long,long,long,float,float,float,float,float,float,float,float,float,float,float,float,long,float,float,float,float,float,float,float,float,float,float,float,float,long,long]\n",
      "If parsing fails due to incorrect types, you can correct\n",
      "the inferred type list above and pass it to read_csv in\n",
      "the column_type_hints argument\n",
      "------------------------------------------------------\n"
     ]
    },
    {
     "data": {
      "text/html": [
       "<pre>Finished parsing file C:\\TURI\\Jacinta\\clean\\0616\\CT04.csv</pre>"
      ],
      "text/plain": [
       "Finished parsing file C:\\TURI\\Jacinta\\clean\\0616\\CT04.csv"
      ]
     },
     "metadata": {},
     "output_type": "display_data"
    },
    {
     "data": {
      "text/html": [
       "<pre>Parsing completed. Parsed 2482 lines in 0.054003 secs.</pre>"
      ],
      "text/plain": [
       "Parsing completed. Parsed 2482 lines in 0.054003 secs."
      ]
     },
     "metadata": {},
     "output_type": "display_data"
    },
    {
     "data": {
      "text/html": [
       "<pre>Finished parsing file C:\\TURI\\Jacinta\\clean\\0716\\CT04.csv</pre>"
      ],
      "text/plain": [
       "Finished parsing file C:\\TURI\\Jacinta\\clean\\0716\\CT04.csv"
      ]
     },
     "metadata": {},
     "output_type": "display_data"
    },
    {
     "data": {
      "text/html": [
       "<pre>Parsing completed. Parsed 8843 lines in 0.16701 secs.</pre>"
      ],
      "text/plain": [
       "Parsing completed. Parsed 8843 lines in 0.16701 secs."
      ]
     },
     "metadata": {},
     "output_type": "display_data"
    },
    {
     "data": {
      "text/html": [
       "<pre>Finished parsing file C:\\TURI\\Jacinta\\clean\\0816\\CT04.csv</pre>"
      ],
      "text/plain": [
       "Finished parsing file C:\\TURI\\Jacinta\\clean\\0816\\CT04.csv"
      ]
     },
     "metadata": {},
     "output_type": "display_data"
    },
    {
     "data": {
      "text/html": [
       "<pre>Parsing completed. Parsed 8881 lines in 0.164009 secs.</pre>"
      ],
      "text/plain": [
       "Parsing completed. Parsed 8881 lines in 0.164009 secs."
      ]
     },
     "metadata": {},
     "output_type": "display_data"
    },
    {
     "data": {
      "text/html": [
       "<pre>Finished parsing file C:\\TURI\\Jacinta\\clean\\0916\\CT04.csv</pre>"
      ],
      "text/plain": [
       "Finished parsing file C:\\TURI\\Jacinta\\clean\\0916\\CT04.csv"
      ]
     },
     "metadata": {},
     "output_type": "display_data"
    },
    {
     "data": {
      "text/html": [
       "<pre>Parsing completed. Parsed 8573 lines in 0.162009 secs.</pre>"
      ],
      "text/plain": [
       "Parsing completed. Parsed 8573 lines in 0.162009 secs."
      ]
     },
     "metadata": {},
     "output_type": "display_data"
    },
    {
     "data": {
      "text/html": [
       "<pre>Finished parsing file C:\\TURI\\Jacinta\\clean\\1016\\CT04.csv</pre>"
      ],
      "text/plain": [
       "Finished parsing file C:\\TURI\\Jacinta\\clean\\1016\\CT04.csv"
      ]
     },
     "metadata": {},
     "output_type": "display_data"
    },
    {
     "data": {
      "text/html": [
       "<pre>Parsing completed. Parsed 8889 lines in 0.167009 secs.</pre>"
      ],
      "text/plain": [
       "Parsing completed. Parsed 8889 lines in 0.167009 secs."
      ]
     },
     "metadata": {},
     "output_type": "display_data"
    },
    {
     "data": {
      "text/html": [
       "<pre>Finished parsing file C:\\TURI\\Jacinta\\clean\\1116\\CT04.csv</pre>"
      ],
      "text/plain": [
       "Finished parsing file C:\\TURI\\Jacinta\\clean\\1116\\CT04.csv"
      ]
     },
     "metadata": {},
     "output_type": "display_data"
    },
    {
     "data": {
      "text/html": [
       "<pre>Parsing completed. Parsed 8632 lines in 0.16501 secs.</pre>"
      ],
      "text/plain": [
       "Parsing completed. Parsed 8632 lines in 0.16501 secs."
      ]
     },
     "metadata": {},
     "output_type": "display_data"
    },
    {
     "data": {
      "text/html": [
       "<pre>Finished parsing file C:\\TURI\\Jacinta\\clean\\1216\\CT04.csv</pre>"
      ],
      "text/plain": [
       "Finished parsing file C:\\TURI\\Jacinta\\clean\\1216\\CT04.csv"
      ]
     },
     "metadata": {},
     "output_type": "display_data"
    },
    {
     "data": {
      "text/html": [
       "<pre>Parsing completed. Parsed 8920 lines in 0.170009 secs.</pre>"
      ],
      "text/plain": [
       "Parsing completed. Parsed 8920 lines in 0.170009 secs."
      ]
     },
     "metadata": {},
     "output_type": "display_data"
    },
    {
     "data": {
      "text/html": [
       "<pre>Finished parsing file C:\\TURI\\Jacinta\\clean\\0117\\CT04.csv</pre>"
      ],
      "text/plain": [
       "Finished parsing file C:\\TURI\\Jacinta\\clean\\0117\\CT04.csv"
      ]
     },
     "metadata": {},
     "output_type": "display_data"
    },
    {
     "data": {
      "text/html": [
       "<pre>Parsing completed. Parsed 8822 lines in 0.17301 secs.</pre>"
      ],
      "text/plain": [
       "Parsing completed. Parsed 8822 lines in 0.17301 secs."
      ]
     },
     "metadata": {},
     "output_type": "display_data"
    },
    {
     "data": {
      "text/html": [
       "<pre>Finished parsing file C:\\TURI\\Jacinta\\clean\\0217\\CT04.csv</pre>"
      ],
      "text/plain": [
       "Finished parsing file C:\\TURI\\Jacinta\\clean\\0217\\CT04.csv"
      ]
     },
     "metadata": {},
     "output_type": "display_data"
    },
    {
     "data": {
      "text/html": [
       "<pre>Parsing completed. Parsed 8035 lines in 0.145009 secs.</pre>"
      ],
      "text/plain": [
       "Parsing completed. Parsed 8035 lines in 0.145009 secs."
      ]
     },
     "metadata": {},
     "output_type": "display_data"
    },
    {
     "data": {
      "text/html": [
       "<pre>Finished parsing file C:\\TURI\\Jacinta\\clean\\0317\\CT04.csv</pre>"
      ],
      "text/plain": [
       "Finished parsing file C:\\TURI\\Jacinta\\clean\\0317\\CT04.csv"
      ]
     },
     "metadata": {},
     "output_type": "display_data"
    },
    {
     "data": {
      "text/html": [
       "<pre>Parsing completed. Parsed 5935 lines in 0.123007 secs.</pre>"
      ],
      "text/plain": [
       "Parsing completed. Parsed 5935 lines in 0.123007 secs."
      ]
     },
     "metadata": {},
     "output_type": "display_data"
    },
    {
     "data": {
      "text/html": [
       "<pre>Finished parsing file C:\\TURI\\Jacinta\\clean\\0616\\CT05.csv</pre>"
      ],
      "text/plain": [
       "Finished parsing file C:\\TURI\\Jacinta\\clean\\0616\\CT05.csv"
      ]
     },
     "metadata": {},
     "output_type": "display_data"
    },
    {
     "data": {
      "text/html": [
       "<pre>Parsing completed. Parsed 100 lines in 0.040002 secs.</pre>"
      ],
      "text/plain": [
       "Parsing completed. Parsed 100 lines in 0.040002 secs."
      ]
     },
     "metadata": {},
     "output_type": "display_data"
    },
    {
     "name": "stdout",
     "output_type": "stream",
     "text": [
      "------------------------------------------------------\n",
      "Inferred types from first 100 line(s) of file as \n",
      "column_type_hints=[str,long,long,long,float,float,float,long,float,long,long,long,long,float,float,float,long,float,long,long,float,float,long,long,long,long,long,long,float,long,float,long,long,float,long,long,long,long,float,long,long,long,long,long,float,float,long,long,long,long,long,long,float,long,float,long,long,float,long,long,long,long,float,long,long,long,long,long,float,float,long,long,long,long,long,long,float,long,float,long,long,float,long,long,long,long,float,long,long,long,long,long,float,float,long,long,long,long,long,long,float,long,float,long,long,float,long,long,long,long,float,long,long,long,long,long,float,float,long,long,long,long,long,long,float,long,float,long,long,float,long,long,long,long,float,long,long,long,long,long,float,float,long,long,long,long,long,long,float,long,float,long,long,float,long,long,long,long,float,long,long,long,long,long,float,float,long,long,long,long,long,long,float,long,float,long,long,float,long,long,long,long,float,long,long,long,long,long,float,float,long,long,long,long,long,long,float,long,float,long,long,float,long,long,long,long,float,long,long,long,long,long,float,float,float,float,float,float,float,float,float,float,float,float,long,float,float,float,float,float,float,float,float,float,float,float,float,long,long]\n",
      "If parsing fails due to incorrect types, you can correct\n",
      "the inferred type list above and pass it to read_csv in\n",
      "the column_type_hints argument\n",
      "------------------------------------------------------\n"
     ]
    },
    {
     "data": {
      "text/html": [
       "<pre>Finished parsing file C:\\TURI\\Jacinta\\clean\\0616\\CT05.csv</pre>"
      ],
      "text/plain": [
       "Finished parsing file C:\\TURI\\Jacinta\\clean\\0616\\CT05.csv"
      ]
     },
     "metadata": {},
     "output_type": "display_data"
    },
    {
     "data": {
      "text/html": [
       "<pre>Parsing completed. Parsed 2482 lines in 0.055003 secs.</pre>"
      ],
      "text/plain": [
       "Parsing completed. Parsed 2482 lines in 0.055003 secs."
      ]
     },
     "metadata": {},
     "output_type": "display_data"
    },
    {
     "data": {
      "text/html": [
       "<pre>Finished parsing file C:\\TURI\\Jacinta\\clean\\0716\\CT05.csv</pre>"
      ],
      "text/plain": [
       "Finished parsing file C:\\TURI\\Jacinta\\clean\\0716\\CT05.csv"
      ]
     },
     "metadata": {},
     "output_type": "display_data"
    },
    {
     "data": {
      "text/html": [
       "<pre>Parsing completed. Parsed 8843 lines in 0.16701 secs.</pre>"
      ],
      "text/plain": [
       "Parsing completed. Parsed 8843 lines in 0.16701 secs."
      ]
     },
     "metadata": {},
     "output_type": "display_data"
    },
    {
     "data": {
      "text/html": [
       "<pre>Finished parsing file C:\\TURI\\Jacinta\\clean\\0816\\CT05.csv</pre>"
      ],
      "text/plain": [
       "Finished parsing file C:\\TURI\\Jacinta\\clean\\0816\\CT05.csv"
      ]
     },
     "metadata": {},
     "output_type": "display_data"
    },
    {
     "data": {
      "text/html": [
       "<pre>Parsing completed. Parsed 8881 lines in 0.16501 secs.</pre>"
      ],
      "text/plain": [
       "Parsing completed. Parsed 8881 lines in 0.16501 secs."
      ]
     },
     "metadata": {},
     "output_type": "display_data"
    },
    {
     "data": {
      "text/html": [
       "<pre>Finished parsing file C:\\TURI\\Jacinta\\clean\\0916\\CT05.csv</pre>"
      ],
      "text/plain": [
       "Finished parsing file C:\\TURI\\Jacinta\\clean\\0916\\CT05.csv"
      ]
     },
     "metadata": {},
     "output_type": "display_data"
    },
    {
     "data": {
      "text/html": [
       "<pre>Parsing completed. Parsed 8573 lines in 0.164009 secs.</pre>"
      ],
      "text/plain": [
       "Parsing completed. Parsed 8573 lines in 0.164009 secs."
      ]
     },
     "metadata": {},
     "output_type": "display_data"
    },
    {
     "data": {
      "text/html": [
       "<pre>Finished parsing file C:\\TURI\\Jacinta\\clean\\1016\\CT05.csv</pre>"
      ],
      "text/plain": [
       "Finished parsing file C:\\TURI\\Jacinta\\clean\\1016\\CT05.csv"
      ]
     },
     "metadata": {},
     "output_type": "display_data"
    },
    {
     "data": {
      "text/html": [
       "<pre>Parsing completed. Parsed 8889 lines in 0.171009 secs.</pre>"
      ],
      "text/plain": [
       "Parsing completed. Parsed 8889 lines in 0.171009 secs."
      ]
     },
     "metadata": {},
     "output_type": "display_data"
    },
    {
     "data": {
      "text/html": [
       "<pre>Finished parsing file C:\\TURI\\Jacinta\\clean\\1116\\CT05.csv</pre>"
      ],
      "text/plain": [
       "Finished parsing file C:\\TURI\\Jacinta\\clean\\1116\\CT05.csv"
      ]
     },
     "metadata": {},
     "output_type": "display_data"
    },
    {
     "data": {
      "text/html": [
       "<pre>Parsing completed. Parsed 8632 lines in 0.156009 secs.</pre>"
      ],
      "text/plain": [
       "Parsing completed. Parsed 8632 lines in 0.156009 secs."
      ]
     },
     "metadata": {},
     "output_type": "display_data"
    },
    {
     "data": {
      "text/html": [
       "<pre>Finished parsing file C:\\TURI\\Jacinta\\clean\\1216\\CT05.csv</pre>"
      ],
      "text/plain": [
       "Finished parsing file C:\\TURI\\Jacinta\\clean\\1216\\CT05.csv"
      ]
     },
     "metadata": {},
     "output_type": "display_data"
    },
    {
     "data": {
      "text/html": [
       "<pre>Parsing completed. Parsed 8920 lines in 0.157009 secs.</pre>"
      ],
      "text/plain": [
       "Parsing completed. Parsed 8920 lines in 0.157009 secs."
      ]
     },
     "metadata": {},
     "output_type": "display_data"
    },
    {
     "data": {
      "text/html": [
       "<pre>Finished parsing file C:\\TURI\\Jacinta\\clean\\0117\\CT05.csv</pre>"
      ],
      "text/plain": [
       "Finished parsing file C:\\TURI\\Jacinta\\clean\\0117\\CT05.csv"
      ]
     },
     "metadata": {},
     "output_type": "display_data"
    },
    {
     "data": {
      "text/html": [
       "<pre>Parsing completed. Parsed 8822 lines in 0.156009 secs.</pre>"
      ],
      "text/plain": [
       "Parsing completed. Parsed 8822 lines in 0.156009 secs."
      ]
     },
     "metadata": {},
     "output_type": "display_data"
    },
    {
     "data": {
      "text/html": [
       "<pre>Finished parsing file C:\\TURI\\Jacinta\\clean\\0217\\CT05.csv</pre>"
      ],
      "text/plain": [
       "Finished parsing file C:\\TURI\\Jacinta\\clean\\0217\\CT05.csv"
      ]
     },
     "metadata": {},
     "output_type": "display_data"
    },
    {
     "data": {
      "text/html": [
       "<pre>Parsing completed. Parsed 8035 lines in 0.148009 secs.</pre>"
      ],
      "text/plain": [
       "Parsing completed. Parsed 8035 lines in 0.148009 secs."
      ]
     },
     "metadata": {},
     "output_type": "display_data"
    },
    {
     "data": {
      "text/html": [
       "<pre>Finished parsing file C:\\TURI\\Jacinta\\clean\\0317\\CT05.csv</pre>"
      ],
      "text/plain": [
       "Finished parsing file C:\\TURI\\Jacinta\\clean\\0317\\CT05.csv"
      ]
     },
     "metadata": {},
     "output_type": "display_data"
    },
    {
     "data": {
      "text/html": [
       "<pre>Parsing completed. Parsed 5935 lines in 0.117007 secs.</pre>"
      ],
      "text/plain": [
       "Parsing completed. Parsed 5935 lines in 0.117007 secs."
      ]
     },
     "metadata": {},
     "output_type": "display_data"
    },
    {
     "data": {
      "text/html": [
       "<pre>Finished parsing file C:\\TURI\\Jacinta\\clean\\0616\\CT06.csv</pre>"
      ],
      "text/plain": [
       "Finished parsing file C:\\TURI\\Jacinta\\clean\\0616\\CT06.csv"
      ]
     },
     "metadata": {},
     "output_type": "display_data"
    },
    {
     "data": {
      "text/html": [
       "<pre>Parsing completed. Parsed 100 lines in 0.039002 secs.</pre>"
      ],
      "text/plain": [
       "Parsing completed. Parsed 100 lines in 0.039002 secs."
      ]
     },
     "metadata": {},
     "output_type": "display_data"
    },
    {
     "name": "stdout",
     "output_type": "stream",
     "text": [
      "------------------------------------------------------\n",
      "Inferred types from first 100 line(s) of file as \n",
      "column_type_hints=[str,long,long,long,float,float,float,long,float,long,long,long,long,float,float,float,long,float,long,long,float,float,long,long,long,long,long,long,float,long,float,long,long,float,long,long,long,long,float,long,long,long,long,long,float,float,long,long,long,long,long,long,float,long,float,long,long,float,long,long,long,long,float,long,long,long,long,long,float,float,long,long,long,long,long,long,float,long,float,long,long,float,long,long,long,long,float,long,long,long,long,long,float,float,long,long,long,long,long,long,float,long,float,long,long,float,long,long,long,long,float,long,long,long,long,long,float,float,long,long,long,long,long,long,float,long,float,long,long,float,long,long,long,str,float,long,long,long,long,long,float,float,long,long,long,long,long,long,float,long,float,long,long,float,long,long,long,str,float,long,long,long,long,long,float,float,long,long,long,long,long,long,float,long,float,long,long,float,long,long,long,str,float,long,long,long,long,long,float,float,long,long,long,long,long,long,float,long,float,long,long,float,long,long,long,str,float,long,long,long,long,long,float,float,float,float,float,float,float,float,float,float,float,float,long,long,long,long,long,long,long,long,long,long,long,long,long,long,long]\n",
      "If parsing fails due to incorrect types, you can correct\n",
      "the inferred type list above and pass it to read_csv in\n",
      "the column_type_hints argument\n",
      "------------------------------------------------------\n"
     ]
    },
    {
     "data": {
      "text/html": [
       "<pre>Finished parsing file C:\\TURI\\Jacinta\\clean\\0616\\CT06.csv</pre>"
      ],
      "text/plain": [
       "Finished parsing file C:\\TURI\\Jacinta\\clean\\0616\\CT06.csv"
      ]
     },
     "metadata": {},
     "output_type": "display_data"
    },
    {
     "data": {
      "text/html": [
       "<pre>Parsing completed. Parsed 2482 lines in 0.054003 secs.</pre>"
      ],
      "text/plain": [
       "Parsing completed. Parsed 2482 lines in 0.054003 secs."
      ]
     },
     "metadata": {},
     "output_type": "display_data"
    },
    {
     "data": {
      "text/html": [
       "<pre>Finished parsing file C:\\TURI\\Jacinta\\clean\\0716\\CT06.csv</pre>"
      ],
      "text/plain": [
       "Finished parsing file C:\\TURI\\Jacinta\\clean\\0716\\CT06.csv"
      ]
     },
     "metadata": {},
     "output_type": "display_data"
    },
    {
     "data": {
      "text/html": [
       "<pre>Parsing completed. Parsed 8843 lines in 0.165009 secs.</pre>"
      ],
      "text/plain": [
       "Parsing completed. Parsed 8843 lines in 0.165009 secs."
      ]
     },
     "metadata": {},
     "output_type": "display_data"
    },
    {
     "data": {
      "text/html": [
       "<pre>Finished parsing file C:\\TURI\\Jacinta\\clean\\0816\\CT06.csv</pre>"
      ],
      "text/plain": [
       "Finished parsing file C:\\TURI\\Jacinta\\clean\\0816\\CT06.csv"
      ]
     },
     "metadata": {},
     "output_type": "display_data"
    },
    {
     "data": {
      "text/html": [
       "<pre>Parsing completed. Parsed 8881 lines in 0.16801 secs.</pre>"
      ],
      "text/plain": [
       "Parsing completed. Parsed 8881 lines in 0.16801 secs."
      ]
     },
     "metadata": {},
     "output_type": "display_data"
    },
    {
     "data": {
      "text/html": [
       "<pre>Finished parsing file C:\\TURI\\Jacinta\\clean\\0916\\CT06.csv</pre>"
      ],
      "text/plain": [
       "Finished parsing file C:\\TURI\\Jacinta\\clean\\0916\\CT06.csv"
      ]
     },
     "metadata": {},
     "output_type": "display_data"
    },
    {
     "data": {
      "text/html": [
       "<pre>Parsing completed. Parsed 8573 lines in 0.165009 secs.</pre>"
      ],
      "text/plain": [
       "Parsing completed. Parsed 8573 lines in 0.165009 secs."
      ]
     },
     "metadata": {},
     "output_type": "display_data"
    },
    {
     "data": {
      "text/html": [
       "<pre>Finished parsing file C:\\TURI\\Jacinta\\clean\\1016\\CT06.csv</pre>"
      ],
      "text/plain": [
       "Finished parsing file C:\\TURI\\Jacinta\\clean\\1016\\CT06.csv"
      ]
     },
     "metadata": {},
     "output_type": "display_data"
    },
    {
     "data": {
      "text/html": [
       "<pre>Parsing completed. Parsed 8889 lines in 0.16501 secs.</pre>"
      ],
      "text/plain": [
       "Parsing completed. Parsed 8889 lines in 0.16501 secs."
      ]
     },
     "metadata": {},
     "output_type": "display_data"
    },
    {
     "data": {
      "text/html": [
       "<pre>Finished parsing file C:\\TURI\\Jacinta\\clean\\1116\\CT06.csv</pre>"
      ],
      "text/plain": [
       "Finished parsing file C:\\TURI\\Jacinta\\clean\\1116\\CT06.csv"
      ]
     },
     "metadata": {},
     "output_type": "display_data"
    },
    {
     "data": {
      "text/html": [
       "<pre>Parsing completed. Parsed 8632 lines in 0.162009 secs.</pre>"
      ],
      "text/plain": [
       "Parsing completed. Parsed 8632 lines in 0.162009 secs."
      ]
     },
     "metadata": {},
     "output_type": "display_data"
    },
    {
     "data": {
      "text/html": [
       "<pre>Finished parsing file C:\\TURI\\Jacinta\\clean\\1216\\CT06.csv</pre>"
      ],
      "text/plain": [
       "Finished parsing file C:\\TURI\\Jacinta\\clean\\1216\\CT06.csv"
      ]
     },
     "metadata": {},
     "output_type": "display_data"
    },
    {
     "data": {
      "text/html": [
       "<pre>Parsing completed. Parsed 8920 lines in 0.158009 secs.</pre>"
      ],
      "text/plain": [
       "Parsing completed. Parsed 8920 lines in 0.158009 secs."
      ]
     },
     "metadata": {},
     "output_type": "display_data"
    },
    {
     "data": {
      "text/html": [
       "<pre>Finished parsing file C:\\TURI\\Jacinta\\clean\\0117\\CT06.csv</pre>"
      ],
      "text/plain": [
       "Finished parsing file C:\\TURI\\Jacinta\\clean\\0117\\CT06.csv"
      ]
     },
     "metadata": {},
     "output_type": "display_data"
    },
    {
     "data": {
      "text/html": [
       "<pre>Parsing completed. Parsed 8822 lines in 0.152009 secs.</pre>"
      ],
      "text/plain": [
       "Parsing completed. Parsed 8822 lines in 0.152009 secs."
      ]
     },
     "metadata": {},
     "output_type": "display_data"
    },
    {
     "data": {
      "text/html": [
       "<pre>Finished parsing file C:\\TURI\\Jacinta\\clean\\0217\\CT06.csv</pre>"
      ],
      "text/plain": [
       "Finished parsing file C:\\TURI\\Jacinta\\clean\\0217\\CT06.csv"
      ]
     },
     "metadata": {},
     "output_type": "display_data"
    },
    {
     "data": {
      "text/html": [
       "<pre>Parsing completed. Parsed 8035 lines in 0.146009 secs.</pre>"
      ],
      "text/plain": [
       "Parsing completed. Parsed 8035 lines in 0.146009 secs."
      ]
     },
     "metadata": {},
     "output_type": "display_data"
    },
    {
     "data": {
      "text/html": [
       "<pre>Finished parsing file C:\\TURI\\Jacinta\\clean\\0317\\CT06.csv</pre>"
      ],
      "text/plain": [
       "Finished parsing file C:\\TURI\\Jacinta\\clean\\0317\\CT06.csv"
      ]
     },
     "metadata": {},
     "output_type": "display_data"
    },
    {
     "data": {
      "text/html": [
       "<pre>Parsing completed. Parsed 5935 lines in 0.129007 secs.</pre>"
      ],
      "text/plain": [
       "Parsing completed. Parsed 5935 lines in 0.129007 secs."
      ]
     },
     "metadata": {},
     "output_type": "display_data"
    },
    {
     "data": {
      "text/html": [
       "<pre>Finished parsing file C:\\TURI\\Jacinta\\clean\\0616\\CT07.csv</pre>"
      ],
      "text/plain": [
       "Finished parsing file C:\\TURI\\Jacinta\\clean\\0616\\CT07.csv"
      ]
     },
     "metadata": {},
     "output_type": "display_data"
    },
    {
     "data": {
      "text/html": [
       "<pre>Parsing completed. Parsed 100 lines in 0.043003 secs.</pre>"
      ],
      "text/plain": [
       "Parsing completed. Parsed 100 lines in 0.043003 secs."
      ]
     },
     "metadata": {},
     "output_type": "display_data"
    },
    {
     "name": "stdout",
     "output_type": "stream",
     "text": [
      "------------------------------------------------------\n",
      "Inferred types from first 100 line(s) of file as \n",
      "column_type_hints=[str,long,long,long,float,float,float,long,float,long,long,long,long,float,float,float,long,float,long,long,float,float,long,long,long,long,long,long,float,long,float,long,long,float,long,long,long,long,float,long,long,long,long,long,float,float,long,long,long,long,long,long,float,long,float,long,long,float,long,long,long,long,float,long,long,long,long,long,float,float,long,long,long,long,long,long,float,long,float,long,long,float,long,long,long,long,float,long,long,long,long,long,float,float,long,long,long,long,long,long,float,long,float,long,long,float,long,long,long,long,float,long,long,long,long,long,float,float,long,long,long,long,long,long,float,long,float,long,long,float,long,long,long,long,float,long,long,long,long,long,float,float,long,long,long,long,long,long,float,long,float,long,long,float,long,long,long,long,float,long,long,long,long,long,float,float,long,long,long,long,long,long,float,long,float,long,long,float,long,long,long,long,float,long,long,long,long,long,float,float,long,long,long,long,long,long,float,long,float,long,long,float,long,long,long,long,float,long,long,long,long,long,float,float,float,float,float,float,float,float,float,float,float,float,long,float,float,float,float,float,float,float,float,float,float,float,float,long,long]\n",
      "If parsing fails due to incorrect types, you can correct\n",
      "the inferred type list above and pass it to read_csv in\n",
      "the column_type_hints argument\n",
      "------------------------------------------------------\n"
     ]
    },
    {
     "data": {
      "text/html": [
       "<pre>Finished parsing file C:\\TURI\\Jacinta\\clean\\0616\\CT07.csv</pre>"
      ],
      "text/plain": [
       "Finished parsing file C:\\TURI\\Jacinta\\clean\\0616\\CT07.csv"
      ]
     },
     "metadata": {},
     "output_type": "display_data"
    },
    {
     "data": {
      "text/html": [
       "<pre>Parsing completed. Parsed 2482 lines in 0.062003 secs.</pre>"
      ],
      "text/plain": [
       "Parsing completed. Parsed 2482 lines in 0.062003 secs."
      ]
     },
     "metadata": {},
     "output_type": "display_data"
    },
    {
     "data": {
      "text/html": [
       "<pre>Finished parsing file C:\\TURI\\Jacinta\\clean\\0716\\CT07.csv</pre>"
      ],
      "text/plain": [
       "Finished parsing file C:\\TURI\\Jacinta\\clean\\0716\\CT07.csv"
      ]
     },
     "metadata": {},
     "output_type": "display_data"
    },
    {
     "data": {
      "text/html": [
       "<pre>Parsing completed. Parsed 8843 lines in 0.196012 secs.</pre>"
      ],
      "text/plain": [
       "Parsing completed. Parsed 8843 lines in 0.196012 secs."
      ]
     },
     "metadata": {},
     "output_type": "display_data"
    },
    {
     "data": {
      "text/html": [
       "<pre>Finished parsing file C:\\TURI\\Jacinta\\clean\\0816\\CT07.csv</pre>"
      ],
      "text/plain": [
       "Finished parsing file C:\\TURI\\Jacinta\\clean\\0816\\CT07.csv"
      ]
     },
     "metadata": {},
     "output_type": "display_data"
    },
    {
     "data": {
      "text/html": [
       "<pre>Parsing completed. Parsed 8881 lines in 0.17901 secs.</pre>"
      ],
      "text/plain": [
       "Parsing completed. Parsed 8881 lines in 0.17901 secs."
      ]
     },
     "metadata": {},
     "output_type": "display_data"
    },
    {
     "data": {
      "text/html": [
       "<pre>Finished parsing file C:\\TURI\\Jacinta\\clean\\0916\\CT07.csv</pre>"
      ],
      "text/plain": [
       "Finished parsing file C:\\TURI\\Jacinta\\clean\\0916\\CT07.csv"
      ]
     },
     "metadata": {},
     "output_type": "display_data"
    },
    {
     "data": {
      "text/html": [
       "<pre>Parsing completed. Parsed 8573 lines in 0.18101 secs.</pre>"
      ],
      "text/plain": [
       "Parsing completed. Parsed 8573 lines in 0.18101 secs."
      ]
     },
     "metadata": {},
     "output_type": "display_data"
    },
    {
     "data": {
      "text/html": [
       "<pre>Finished parsing file C:\\TURI\\Jacinta\\clean\\1016\\CT07.csv</pre>"
      ],
      "text/plain": [
       "Finished parsing file C:\\TURI\\Jacinta\\clean\\1016\\CT07.csv"
      ]
     },
     "metadata": {},
     "output_type": "display_data"
    },
    {
     "data": {
      "text/html": [
       "<pre>Parsing completed. Parsed 8889 lines in 0.187011 secs.</pre>"
      ],
      "text/plain": [
       "Parsing completed. Parsed 8889 lines in 0.187011 secs."
      ]
     },
     "metadata": {},
     "output_type": "display_data"
    },
    {
     "data": {
      "text/html": [
       "<pre>Finished parsing file C:\\TURI\\Jacinta\\clean\\1116\\CT07.csv</pre>"
      ],
      "text/plain": [
       "Finished parsing file C:\\TURI\\Jacinta\\clean\\1116\\CT07.csv"
      ]
     },
     "metadata": {},
     "output_type": "display_data"
    },
    {
     "data": {
      "text/html": [
       "<pre>Parsing completed. Parsed 8632 lines in 0.16601 secs.</pre>"
      ],
      "text/plain": [
       "Parsing completed. Parsed 8632 lines in 0.16601 secs."
      ]
     },
     "metadata": {},
     "output_type": "display_data"
    },
    {
     "data": {
      "text/html": [
       "<pre>Finished parsing file C:\\TURI\\Jacinta\\clean\\1216\\CT07.csv</pre>"
      ],
      "text/plain": [
       "Finished parsing file C:\\TURI\\Jacinta\\clean\\1216\\CT07.csv"
      ]
     },
     "metadata": {},
     "output_type": "display_data"
    },
    {
     "data": {
      "text/html": [
       "<pre>Parsing completed. Parsed 8920 lines in 0.152009 secs.</pre>"
      ],
      "text/plain": [
       "Parsing completed. Parsed 8920 lines in 0.152009 secs."
      ]
     },
     "metadata": {},
     "output_type": "display_data"
    },
    {
     "data": {
      "text/html": [
       "<pre>Finished parsing file C:\\TURI\\Jacinta\\clean\\0117\\CT07.csv</pre>"
      ],
      "text/plain": [
       "Finished parsing file C:\\TURI\\Jacinta\\clean\\0117\\CT07.csv"
      ]
     },
     "metadata": {},
     "output_type": "display_data"
    },
    {
     "data": {
      "text/html": [
       "<pre>Parsing completed. Parsed 8822 lines in 0.17501 secs.</pre>"
      ],
      "text/plain": [
       "Parsing completed. Parsed 8822 lines in 0.17501 secs."
      ]
     },
     "metadata": {},
     "output_type": "display_data"
    },
    {
     "data": {
      "text/html": [
       "<pre>Finished parsing file C:\\TURI\\Jacinta\\clean\\0217\\CT07.csv</pre>"
      ],
      "text/plain": [
       "Finished parsing file C:\\TURI\\Jacinta\\clean\\0217\\CT07.csv"
      ]
     },
     "metadata": {},
     "output_type": "display_data"
    },
    {
     "data": {
      "text/html": [
       "<pre>Parsing completed. Parsed 8035 lines in 0.153008 secs.</pre>"
      ],
      "text/plain": [
       "Parsing completed. Parsed 8035 lines in 0.153008 secs."
      ]
     },
     "metadata": {},
     "output_type": "display_data"
    },
    {
     "data": {
      "text/html": [
       "<pre>Finished parsing file C:\\TURI\\Jacinta\\clean\\0317\\CT07.csv</pre>"
      ],
      "text/plain": [
       "Finished parsing file C:\\TURI\\Jacinta\\clean\\0317\\CT07.csv"
      ]
     },
     "metadata": {},
     "output_type": "display_data"
    },
    {
     "data": {
      "text/html": [
       "<pre>Parsing completed. Parsed 5935 lines in 0.135008 secs.</pre>"
      ],
      "text/plain": [
       "Parsing completed. Parsed 5935 lines in 0.135008 secs."
      ]
     },
     "metadata": {},
     "output_type": "display_data"
    },
    {
     "data": {
      "text/html": [
       "<pre>Finished parsing file C:\\TURI\\Jacinta\\clean\\0616\\CT08.csv</pre>"
      ],
      "text/plain": [
       "Finished parsing file C:\\TURI\\Jacinta\\clean\\0616\\CT08.csv"
      ]
     },
     "metadata": {},
     "output_type": "display_data"
    },
    {
     "data": {
      "text/html": [
       "<pre>Parsing completed. Parsed 100 lines in 0.039003 secs.</pre>"
      ],
      "text/plain": [
       "Parsing completed. Parsed 100 lines in 0.039003 secs."
      ]
     },
     "metadata": {},
     "output_type": "display_data"
    },
    {
     "name": "stdout",
     "output_type": "stream",
     "text": [
      "------------------------------------------------------\n",
      "Inferred types from first 100 line(s) of file as \n",
      "column_type_hints=[str,long,long,long,float,float,float,long,float,long,long,long,long,float,float,float,long,float,long,long,float,float,long,long,long,long,long,long,float,long,float,long,long,float,long,long,long,long,float,long,long,long,long,long,float,float,long,long,long,long,long,long,float,long,float,long,long,float,long,long,long,long,float,long,long,long,long,long,float,float,long,long,long,long,long,long,float,long,float,long,long,float,long,long,long,long,float,long,long,long,long,long,float,float,long,long,long,long,long,long,float,long,float,long,long,float,long,long,long,long,float,long,long,long,long,long,float,float,long,long,long,long,long,long,float,long,float,long,long,float,long,long,long,long,float,long,long,long,long,long,float,float,long,long,long,long,long,long,float,long,float,long,long,float,long,long,long,long,float,long,long,long,long,long,float,float,long,long,long,long,long,long,float,long,float,long,long,float,long,long,long,long,float,long,long,long,long,long,float,float,long,long,long,long,long,long,float,long,float,long,long,float,long,long,long,long,float,long,long,long,long,long,long,long,long,long,long,long,long,long,long,long,long,long,long,long,long,long,long,long,long,long,long,long,long,long,long,long,long]\n",
      "If parsing fails due to incorrect types, you can correct\n",
      "the inferred type list above and pass it to read_csv in\n",
      "the column_type_hints argument\n",
      "------------------------------------------------------\n"
     ]
    },
    {
     "data": {
      "text/html": [
       "<pre>Finished parsing file C:\\TURI\\Jacinta\\clean\\0616\\CT08.csv</pre>"
      ],
      "text/plain": [
       "Finished parsing file C:\\TURI\\Jacinta\\clean\\0616\\CT08.csv"
      ]
     },
     "metadata": {},
     "output_type": "display_data"
    },
    {
     "data": {
      "text/html": [
       "<pre>Parsing completed. Parsed 2482 lines in 0.050003 secs.</pre>"
      ],
      "text/plain": [
       "Parsing completed. Parsed 2482 lines in 0.050003 secs."
      ]
     },
     "metadata": {},
     "output_type": "display_data"
    },
    {
     "data": {
      "text/html": [
       "<pre>Finished parsing file C:\\TURI\\Jacinta\\clean\\0716\\CT08.csv</pre>"
      ],
      "text/plain": [
       "Finished parsing file C:\\TURI\\Jacinta\\clean\\0716\\CT08.csv"
      ]
     },
     "metadata": {},
     "output_type": "display_data"
    },
    {
     "data": {
      "text/html": [
       "<pre>Parsing completed. Parsed 8843 lines in 0.157009 secs.</pre>"
      ],
      "text/plain": [
       "Parsing completed. Parsed 8843 lines in 0.157009 secs."
      ]
     },
     "metadata": {},
     "output_type": "display_data"
    },
    {
     "data": {
      "text/html": [
       "<pre>Finished parsing file C:\\TURI\\Jacinta\\clean\\0816\\CT08.csv</pre>"
      ],
      "text/plain": [
       "Finished parsing file C:\\TURI\\Jacinta\\clean\\0816\\CT08.csv"
      ]
     },
     "metadata": {},
     "output_type": "display_data"
    },
    {
     "data": {
      "text/html": [
       "<pre>Parsing completed. Parsed 8881 lines in 0.154009 secs.</pre>"
      ],
      "text/plain": [
       "Parsing completed. Parsed 8881 lines in 0.154009 secs."
      ]
     },
     "metadata": {},
     "output_type": "display_data"
    },
    {
     "data": {
      "text/html": [
       "<pre>Finished parsing file C:\\TURI\\Jacinta\\clean\\0916\\CT08.csv</pre>"
      ],
      "text/plain": [
       "Finished parsing file C:\\TURI\\Jacinta\\clean\\0916\\CT08.csv"
      ]
     },
     "metadata": {},
     "output_type": "display_data"
    },
    {
     "data": {
      "text/html": [
       "<pre>Parsing completed. Parsed 8573 lines in 0.151009 secs.</pre>"
      ],
      "text/plain": [
       "Parsing completed. Parsed 8573 lines in 0.151009 secs."
      ]
     },
     "metadata": {},
     "output_type": "display_data"
    },
    {
     "data": {
      "text/html": [
       "<pre>Finished parsing file C:\\TURI\\Jacinta\\clean\\1016\\CT08.csv</pre>"
      ],
      "text/plain": [
       "Finished parsing file C:\\TURI\\Jacinta\\clean\\1016\\CT08.csv"
      ]
     },
     "metadata": {},
     "output_type": "display_data"
    },
    {
     "data": {
      "text/html": [
       "<pre>Parsing completed. Parsed 8889 lines in 0.167009 secs.</pre>"
      ],
      "text/plain": [
       "Parsing completed. Parsed 8889 lines in 0.167009 secs."
      ]
     },
     "metadata": {},
     "output_type": "display_data"
    },
    {
     "data": {
      "text/html": [
       "<pre>Finished parsing file C:\\TURI\\Jacinta\\clean\\1116\\CT08.csv</pre>"
      ],
      "text/plain": [
       "Finished parsing file C:\\TURI\\Jacinta\\clean\\1116\\CT08.csv"
      ]
     },
     "metadata": {},
     "output_type": "display_data"
    },
    {
     "data": {
      "text/html": [
       "<pre>Parsing completed. Parsed 8632 lines in 0.154009 secs.</pre>"
      ],
      "text/plain": [
       "Parsing completed. Parsed 8632 lines in 0.154009 secs."
      ]
     },
     "metadata": {},
     "output_type": "display_data"
    },
    {
     "data": {
      "text/html": [
       "<pre>Finished parsing file C:\\TURI\\Jacinta\\clean\\1216\\CT08.csv</pre>"
      ],
      "text/plain": [
       "Finished parsing file C:\\TURI\\Jacinta\\clean\\1216\\CT08.csv"
      ]
     },
     "metadata": {},
     "output_type": "display_data"
    },
    {
     "data": {
      "text/html": [
       "<pre>Parsing completed. Parsed 8920 lines in 0.17101 secs.</pre>"
      ],
      "text/plain": [
       "Parsing completed. Parsed 8920 lines in 0.17101 secs."
      ]
     },
     "metadata": {},
     "output_type": "display_data"
    },
    {
     "data": {
      "text/html": [
       "<pre>Finished parsing file C:\\TURI\\Jacinta\\clean\\0117\\CT08.csv</pre>"
      ],
      "text/plain": [
       "Finished parsing file C:\\TURI\\Jacinta\\clean\\0117\\CT08.csv"
      ]
     },
     "metadata": {},
     "output_type": "display_data"
    },
    {
     "data": {
      "text/html": [
       "<pre>Parsing completed. Parsed 8822 lines in 0.167009 secs.</pre>"
      ],
      "text/plain": [
       "Parsing completed. Parsed 8822 lines in 0.167009 secs."
      ]
     },
     "metadata": {},
     "output_type": "display_data"
    },
    {
     "data": {
      "text/html": [
       "<pre>Finished parsing file C:\\TURI\\Jacinta\\clean\\0217\\CT08.csv</pre>"
      ],
      "text/plain": [
       "Finished parsing file C:\\TURI\\Jacinta\\clean\\0217\\CT08.csv"
      ]
     },
     "metadata": {},
     "output_type": "display_data"
    },
    {
     "data": {
      "text/html": [
       "<pre>Parsing completed. Parsed 8035 lines in 0.143008 secs.</pre>"
      ],
      "text/plain": [
       "Parsing completed. Parsed 8035 lines in 0.143008 secs."
      ]
     },
     "metadata": {},
     "output_type": "display_data"
    },
    {
     "data": {
      "text/html": [
       "<pre>Finished parsing file C:\\TURI\\Jacinta\\clean\\0317\\CT08.csv</pre>"
      ],
      "text/plain": [
       "Finished parsing file C:\\TURI\\Jacinta\\clean\\0317\\CT08.csv"
      ]
     },
     "metadata": {},
     "output_type": "display_data"
    },
    {
     "data": {
      "text/html": [
       "<pre>Parsing completed. Parsed 5935 lines in 0.129007 secs.</pre>"
      ],
      "text/plain": [
       "Parsing completed. Parsed 5935 lines in 0.129007 secs."
      ]
     },
     "metadata": {},
     "output_type": "display_data"
    },
    {
     "data": {
      "text/html": [
       "<pre>Finished parsing file C:\\TURI\\Jacinta\\clean\\0616\\CT09.csv</pre>"
      ],
      "text/plain": [
       "Finished parsing file C:\\TURI\\Jacinta\\clean\\0616\\CT09.csv"
      ]
     },
     "metadata": {},
     "output_type": "display_data"
    },
    {
     "data": {
      "text/html": [
       "<pre>Parsing completed. Parsed 100 lines in 0.042003 secs.</pre>"
      ],
      "text/plain": [
       "Parsing completed. Parsed 100 lines in 0.042003 secs."
      ]
     },
     "metadata": {},
     "output_type": "display_data"
    },
    {
     "name": "stdout",
     "output_type": "stream",
     "text": [
      "------------------------------------------------------\n",
      "Inferred types from first 100 line(s) of file as \n",
      "column_type_hints=[str,long,long,long,float,float,float,long,float,long,long,long,long,float,float,float,long,float,long,long,float,float,long,long,long,long,long,long,float,long,float,long,long,float,long,long,long,long,float,long,long,long,long,long,float,float,long,long,long,long,long,long,float,long,float,long,long,float,long,long,long,long,float,long,long,long,long,long,float,float,long,long,long,long,long,long,float,long,float,long,long,float,long,long,long,long,float,long,long,long,long,long,float,float,long,long,long,long,long,long,float,long,float,long,long,float,long,long,long,long,float,long,long,long,long,long,float,float,long,long,long,long,long,long,float,long,float,long,long,float,long,long,long,long,float,long,long,long,long,long,float,float,long,long,long,long,long,long,float,long,float,long,long,float,long,long,long,long,float,long,long,long,long,long,float,float,long,long,long,long,long,long,float,long,float,long,long,float,long,long,long,long,float,long,long,long,long,long,float,float,long,long,long,long,long,long,float,long,float,long,long,float,long,long,long,long,float,long,long,long,long,long,float,float,float,float,float,float,float,float,float,float,float,float,long,float,float,float,float,float,float,float,float,float,float,float,float,long,long]\n",
      "If parsing fails due to incorrect types, you can correct\n",
      "the inferred type list above and pass it to read_csv in\n",
      "the column_type_hints argument\n",
      "------------------------------------------------------\n"
     ]
    },
    {
     "data": {
      "text/html": [
       "<pre>Finished parsing file C:\\TURI\\Jacinta\\clean\\0616\\CT09.csv</pre>"
      ],
      "text/plain": [
       "Finished parsing file C:\\TURI\\Jacinta\\clean\\0616\\CT09.csv"
      ]
     },
     "metadata": {},
     "output_type": "display_data"
    },
    {
     "data": {
      "text/html": [
       "<pre>Parsing completed. Parsed 2482 lines in 0.056004 secs.</pre>"
      ],
      "text/plain": [
       "Parsing completed. Parsed 2482 lines in 0.056004 secs."
      ]
     },
     "metadata": {},
     "output_type": "display_data"
    },
    {
     "data": {
      "text/html": [
       "<pre>Finished parsing file C:\\TURI\\Jacinta\\clean\\0716\\CT09.csv</pre>"
      ],
      "text/plain": [
       "Finished parsing file C:\\TURI\\Jacinta\\clean\\0716\\CT09.csv"
      ]
     },
     "metadata": {},
     "output_type": "display_data"
    },
    {
     "data": {
      "text/html": [
       "<pre>Parsing completed. Parsed 8843 lines in 0.17301 secs.</pre>"
      ],
      "text/plain": [
       "Parsing completed. Parsed 8843 lines in 0.17301 secs."
      ]
     },
     "metadata": {},
     "output_type": "display_data"
    },
    {
     "data": {
      "text/html": [
       "<pre>Finished parsing file C:\\TURI\\Jacinta\\clean\\0816\\CT09.csv</pre>"
      ],
      "text/plain": [
       "Finished parsing file C:\\TURI\\Jacinta\\clean\\0816\\CT09.csv"
      ]
     },
     "metadata": {},
     "output_type": "display_data"
    },
    {
     "data": {
      "text/html": [
       "<pre>Parsing completed. Parsed 8881 lines in 0.16601 secs.</pre>"
      ],
      "text/plain": [
       "Parsing completed. Parsed 8881 lines in 0.16601 secs."
      ]
     },
     "metadata": {},
     "output_type": "display_data"
    },
    {
     "data": {
      "text/html": [
       "<pre>Finished parsing file C:\\TURI\\Jacinta\\clean\\0916\\CT09.csv</pre>"
      ],
      "text/plain": [
       "Finished parsing file C:\\TURI\\Jacinta\\clean\\0916\\CT09.csv"
      ]
     },
     "metadata": {},
     "output_type": "display_data"
    },
    {
     "data": {
      "text/html": [
       "<pre>Parsing completed. Parsed 8573 lines in 0.162009 secs.</pre>"
      ],
      "text/plain": [
       "Parsing completed. Parsed 8573 lines in 0.162009 secs."
      ]
     },
     "metadata": {},
     "output_type": "display_data"
    },
    {
     "data": {
      "text/html": [
       "<pre>Finished parsing file C:\\TURI\\Jacinta\\clean\\1016\\CT09.csv</pre>"
      ],
      "text/plain": [
       "Finished parsing file C:\\TURI\\Jacinta\\clean\\1016\\CT09.csv"
      ]
     },
     "metadata": {},
     "output_type": "display_data"
    },
    {
     "data": {
      "text/html": [
       "<pre>Parsing completed. Parsed 8889 lines in 0.167009 secs.</pre>"
      ],
      "text/plain": [
       "Parsing completed. Parsed 8889 lines in 0.167009 secs."
      ]
     },
     "metadata": {},
     "output_type": "display_data"
    },
    {
     "data": {
      "text/html": [
       "<pre>Finished parsing file C:\\TURI\\Jacinta\\clean\\1116\\CT09.csv</pre>"
      ],
      "text/plain": [
       "Finished parsing file C:\\TURI\\Jacinta\\clean\\1116\\CT09.csv"
      ]
     },
     "metadata": {},
     "output_type": "display_data"
    },
    {
     "data": {
      "text/html": [
       "<pre>Parsing completed. Parsed 8632 lines in 0.16701 secs.</pre>"
      ],
      "text/plain": [
       "Parsing completed. Parsed 8632 lines in 0.16701 secs."
      ]
     },
     "metadata": {},
     "output_type": "display_data"
    },
    {
     "data": {
      "text/html": [
       "<pre>Finished parsing file C:\\TURI\\Jacinta\\clean\\1216\\CT09.csv</pre>"
      ],
      "text/plain": [
       "Finished parsing file C:\\TURI\\Jacinta\\clean\\1216\\CT09.csv"
      ]
     },
     "metadata": {},
     "output_type": "display_data"
    },
    {
     "data": {
      "text/html": [
       "<pre>Parsing completed. Parsed 8920 lines in 0.17101 secs.</pre>"
      ],
      "text/plain": [
       "Parsing completed. Parsed 8920 lines in 0.17101 secs."
      ]
     },
     "metadata": {},
     "output_type": "display_data"
    },
    {
     "data": {
      "text/html": [
       "<pre>Finished parsing file C:\\TURI\\Jacinta\\clean\\0117\\CT09.csv</pre>"
      ],
      "text/plain": [
       "Finished parsing file C:\\TURI\\Jacinta\\clean\\0117\\CT09.csv"
      ]
     },
     "metadata": {},
     "output_type": "display_data"
    },
    {
     "data": {
      "text/html": [
       "<pre>Parsing completed. Parsed 8822 lines in 0.17001 secs.</pre>"
      ],
      "text/plain": [
       "Parsing completed. Parsed 8822 lines in 0.17001 secs."
      ]
     },
     "metadata": {},
     "output_type": "display_data"
    },
    {
     "data": {
      "text/html": [
       "<pre>Finished parsing file C:\\TURI\\Jacinta\\clean\\0217\\CT09.csv</pre>"
      ],
      "text/plain": [
       "Finished parsing file C:\\TURI\\Jacinta\\clean\\0217\\CT09.csv"
      ]
     },
     "metadata": {},
     "output_type": "display_data"
    },
    {
     "data": {
      "text/html": [
       "<pre>Parsing completed. Parsed 8035 lines in 0.139008 secs.</pre>"
      ],
      "text/plain": [
       "Parsing completed. Parsed 8035 lines in 0.139008 secs."
      ]
     },
     "metadata": {},
     "output_type": "display_data"
    },
    {
     "data": {
      "text/html": [
       "<pre>Finished parsing file C:\\TURI\\Jacinta\\clean\\0317\\CT09.csv</pre>"
      ],
      "text/plain": [
       "Finished parsing file C:\\TURI\\Jacinta\\clean\\0317\\CT09.csv"
      ]
     },
     "metadata": {},
     "output_type": "display_data"
    },
    {
     "data": {
      "text/html": [
       "<pre>Parsing completed. Parsed 5935 lines in 0.123007 secs.</pre>"
      ],
      "text/plain": [
       "Parsing completed. Parsed 5935 lines in 0.123007 secs."
      ]
     },
     "metadata": {},
     "output_type": "display_data"
    },
    {
     "data": {
      "text/html": [
       "<pre>Finished parsing file C:\\TURI\\Jacinta\\clean\\0616\\CT10.csv</pre>"
      ],
      "text/plain": [
       "Finished parsing file C:\\TURI\\Jacinta\\clean\\0616\\CT10.csv"
      ]
     },
     "metadata": {},
     "output_type": "display_data"
    },
    {
     "data": {
      "text/html": [
       "<pre>Parsing completed. Parsed 100 lines in 0.040003 secs.</pre>"
      ],
      "text/plain": [
       "Parsing completed. Parsed 100 lines in 0.040003 secs."
      ]
     },
     "metadata": {},
     "output_type": "display_data"
    },
    {
     "name": "stdout",
     "output_type": "stream",
     "text": [
      "------------------------------------------------------\n",
      "Inferred types from first 100 line(s) of file as \n",
      "column_type_hints=[str,long,long,long,float,float,float,long,float,long,long,long,long,float,float,float,long,float,long,long,float,float,long,long,long,long,long,long,float,long,float,long,long,float,long,long,long,long,float,long,long,long,long,long,float,float,long,long,long,long,long,long,float,long,float,long,long,float,long,long,long,long,float,long,long,long,long,long,float,float,long,long,long,long,long,long,float,long,float,long,long,float,long,long,long,long,float,long,long,long,long,long,float,float,long,long,long,long,long,long,float,long,float,long,long,float,long,long,long,long,float,long,long,long,long,long,float,float,long,long,long,long,long,long,float,long,float,long,long,float,long,long,long,long,float,long,long,long,long,long,float,float,long,long,long,long,long,long,float,long,float,long,long,float,long,long,long,long,float,long,long,long,long,long,float,float,long,long,long,long,long,long,float,long,float,long,long,float,long,long,long,long,float,long,long,long,long,long,float,float,long,long,long,long,long,long,float,long,float,long,long,float,long,long,long,long,float,long,long,long,long,long,long,long,long,long,long,long,long,long,long,long,long,long,long,float,float,float,float,float,float,float,float,float,float,float,float,long,long]\n",
      "If parsing fails due to incorrect types, you can correct\n",
      "the inferred type list above and pass it to read_csv in\n",
      "the column_type_hints argument\n",
      "------------------------------------------------------\n"
     ]
    },
    {
     "data": {
      "text/html": [
       "<pre>Finished parsing file C:\\TURI\\Jacinta\\clean\\0616\\CT10.csv</pre>"
      ],
      "text/plain": [
       "Finished parsing file C:\\TURI\\Jacinta\\clean\\0616\\CT10.csv"
      ]
     },
     "metadata": {},
     "output_type": "display_data"
    },
    {
     "data": {
      "text/html": [
       "<pre>Parsing completed. Parsed 2482 lines in 0.054003 secs.</pre>"
      ],
      "text/plain": [
       "Parsing completed. Parsed 2482 lines in 0.054003 secs."
      ]
     },
     "metadata": {},
     "output_type": "display_data"
    },
    {
     "data": {
      "text/html": [
       "<pre>Finished parsing file C:\\TURI\\Jacinta\\clean\\0716\\CT10.csv</pre>"
      ],
      "text/plain": [
       "Finished parsing file C:\\TURI\\Jacinta\\clean\\0716\\CT10.csv"
      ]
     },
     "metadata": {},
     "output_type": "display_data"
    },
    {
     "data": {
      "text/html": [
       "<pre>Parsing completed. Parsed 8843 lines in 0.166009 secs.</pre>"
      ],
      "text/plain": [
       "Parsing completed. Parsed 8843 lines in 0.166009 secs."
      ]
     },
     "metadata": {},
     "output_type": "display_data"
    },
    {
     "data": {
      "text/html": [
       "<pre>Finished parsing file C:\\TURI\\Jacinta\\clean\\0816\\CT10.csv</pre>"
      ],
      "text/plain": [
       "Finished parsing file C:\\TURI\\Jacinta\\clean\\0816\\CT10.csv"
      ]
     },
     "metadata": {},
     "output_type": "display_data"
    },
    {
     "data": {
      "text/html": [
       "<pre>Parsing completed. Parsed 8881 lines in 0.165009 secs.</pre>"
      ],
      "text/plain": [
       "Parsing completed. Parsed 8881 lines in 0.165009 secs."
      ]
     },
     "metadata": {},
     "output_type": "display_data"
    },
    {
     "data": {
      "text/html": [
       "<pre>Finished parsing file C:\\TURI\\Jacinta\\clean\\0916\\CT10.csv</pre>"
      ],
      "text/plain": [
       "Finished parsing file C:\\TURI\\Jacinta\\clean\\0916\\CT10.csv"
      ]
     },
     "metadata": {},
     "output_type": "display_data"
    },
    {
     "data": {
      "text/html": [
       "<pre>Parsing completed. Parsed 8573 lines in 0.165009 secs.</pre>"
      ],
      "text/plain": [
       "Parsing completed. Parsed 8573 lines in 0.165009 secs."
      ]
     },
     "metadata": {},
     "output_type": "display_data"
    },
    {
     "data": {
      "text/html": [
       "<pre>Finished parsing file C:\\TURI\\Jacinta\\clean\\1016\\CT10.csv</pre>"
      ],
      "text/plain": [
       "Finished parsing file C:\\TURI\\Jacinta\\clean\\1016\\CT10.csv"
      ]
     },
     "metadata": {},
     "output_type": "display_data"
    },
    {
     "data": {
      "text/html": [
       "<pre>Parsing completed. Parsed 8889 lines in 0.166009 secs.</pre>"
      ],
      "text/plain": [
       "Parsing completed. Parsed 8889 lines in 0.166009 secs."
      ]
     },
     "metadata": {},
     "output_type": "display_data"
    },
    {
     "data": {
      "text/html": [
       "<pre>Finished parsing file C:\\TURI\\Jacinta\\clean\\1116\\CT10.csv</pre>"
      ],
      "text/plain": [
       "Finished parsing file C:\\TURI\\Jacinta\\clean\\1116\\CT10.csv"
      ]
     },
     "metadata": {},
     "output_type": "display_data"
    },
    {
     "data": {
      "text/html": [
       "<pre>Parsing completed. Parsed 8632 lines in 0.15901 secs.</pre>"
      ],
      "text/plain": [
       "Parsing completed. Parsed 8632 lines in 0.15901 secs."
      ]
     },
     "metadata": {},
     "output_type": "display_data"
    },
    {
     "data": {
      "text/html": [
       "<pre>Finished parsing file C:\\TURI\\Jacinta\\clean\\1216\\CT10.csv</pre>"
      ],
      "text/plain": [
       "Finished parsing file C:\\TURI\\Jacinta\\clean\\1216\\CT10.csv"
      ]
     },
     "metadata": {},
     "output_type": "display_data"
    },
    {
     "data": {
      "text/html": [
       "<pre>Parsing completed. Parsed 8920 lines in 0.16501 secs.</pre>"
      ],
      "text/plain": [
       "Parsing completed. Parsed 8920 lines in 0.16501 secs."
      ]
     },
     "metadata": {},
     "output_type": "display_data"
    },
    {
     "data": {
      "text/html": [
       "<pre>Finished parsing file C:\\TURI\\Jacinta\\clean\\0117\\CT10.csv</pre>"
      ],
      "text/plain": [
       "Finished parsing file C:\\TURI\\Jacinta\\clean\\0117\\CT10.csv"
      ]
     },
     "metadata": {},
     "output_type": "display_data"
    },
    {
     "data": {
      "text/html": [
       "<pre>Parsing completed. Parsed 8822 lines in 0.168009 secs.</pre>"
      ],
      "text/plain": [
       "Parsing completed. Parsed 8822 lines in 0.168009 secs."
      ]
     },
     "metadata": {},
     "output_type": "display_data"
    },
    {
     "data": {
      "text/html": [
       "<pre>Finished parsing file C:\\TURI\\Jacinta\\clean\\0217\\CT10.csv</pre>"
      ],
      "text/plain": [
       "Finished parsing file C:\\TURI\\Jacinta\\clean\\0217\\CT10.csv"
      ]
     },
     "metadata": {},
     "output_type": "display_data"
    },
    {
     "data": {
      "text/html": [
       "<pre>Parsing completed. Parsed 8035 lines in 0.125007 secs.</pre>"
      ],
      "text/plain": [
       "Parsing completed. Parsed 8035 lines in 0.125007 secs."
      ]
     },
     "metadata": {},
     "output_type": "display_data"
    },
    {
     "data": {
      "text/html": [
       "<pre>Finished parsing file C:\\TURI\\Jacinta\\clean\\0317\\CT10.csv</pre>"
      ],
      "text/plain": [
       "Finished parsing file C:\\TURI\\Jacinta\\clean\\0317\\CT10.csv"
      ]
     },
     "metadata": {},
     "output_type": "display_data"
    },
    {
     "data": {
      "text/html": [
       "<pre>Parsing completed. Parsed 5935 lines in 0.118007 secs.</pre>"
      ],
      "text/plain": [
       "Parsing completed. Parsed 5935 lines in 0.118007 secs."
      ]
     },
     "metadata": {},
     "output_type": "display_data"
    },
    {
     "data": {
      "text/html": [
       "<pre>Finished parsing file C:\\TURI\\Jacinta\\clean\\0616\\CT11.csv</pre>"
      ],
      "text/plain": [
       "Finished parsing file C:\\TURI\\Jacinta\\clean\\0616\\CT11.csv"
      ]
     },
     "metadata": {},
     "output_type": "display_data"
    },
    {
     "data": {
      "text/html": [
       "<pre>Parsing completed. Parsed 100 lines in 0.040003 secs.</pre>"
      ],
      "text/plain": [
       "Parsing completed. Parsed 100 lines in 0.040003 secs."
      ]
     },
     "metadata": {},
     "output_type": "display_data"
    },
    {
     "name": "stdout",
     "output_type": "stream",
     "text": [
      "------------------------------------------------------\n",
      "Inferred types from first 100 line(s) of file as \n",
      "column_type_hints=[str,long,long,long,float,float,float,long,float,long,long,long,long,float,float,float,long,float,long,long,float,float,long,long,long,long,long,long,float,long,float,long,long,float,long,long,long,long,float,long,long,long,long,long,float,float,long,long,long,long,long,long,float,long,float,long,long,float,long,long,long,long,float,long,long,long,long,long,float,float,long,long,long,long,long,long,float,long,float,long,long,float,long,long,long,long,float,long,long,long,long,long,float,float,long,long,long,long,long,long,float,long,float,long,long,float,long,long,long,long,float,long,long,long,long,long,float,float,long,long,long,long,long,long,float,long,float,long,long,float,long,long,long,long,float,long,long,long,long,long,float,float,long,long,long,long,long,long,float,long,float,long,long,float,long,long,long,long,float,long,long,long,long,long,float,float,long,long,long,long,long,long,float,long,float,long,long,float,long,long,long,long,float,long,long,long,long,long,float,float,long,long,long,long,long,long,float,long,float,long,long,float,long,long,long,long,float,long,long,long,long,long,float,float,float,float,float,float,float,float,float,float,float,float,long,float,float,float,float,float,float,float,float,float,float,float,float,long,long]\n",
      "If parsing fails due to incorrect types, you can correct\n",
      "the inferred type list above and pass it to read_csv in\n",
      "the column_type_hints argument\n",
      "------------------------------------------------------\n"
     ]
    },
    {
     "data": {
      "text/html": [
       "<pre>Finished parsing file C:\\TURI\\Jacinta\\clean\\0616\\CT11.csv</pre>"
      ],
      "text/plain": [
       "Finished parsing file C:\\TURI\\Jacinta\\clean\\0616\\CT11.csv"
      ]
     },
     "metadata": {},
     "output_type": "display_data"
    },
    {
     "data": {
      "text/html": [
       "<pre>Parsing completed. Parsed 2482 lines in 0.055003 secs.</pre>"
      ],
      "text/plain": [
       "Parsing completed. Parsed 2482 lines in 0.055003 secs."
      ]
     },
     "metadata": {},
     "output_type": "display_data"
    },
    {
     "data": {
      "text/html": [
       "<pre>Finished parsing file C:\\TURI\\Jacinta\\clean\\0716\\CT11.csv</pre>"
      ],
      "text/plain": [
       "Finished parsing file C:\\TURI\\Jacinta\\clean\\0716\\CT11.csv"
      ]
     },
     "metadata": {},
     "output_type": "display_data"
    },
    {
     "data": {
      "text/html": [
       "<pre>Parsing completed. Parsed 8843 lines in 0.16501 secs.</pre>"
      ],
      "text/plain": [
       "Parsing completed. Parsed 8843 lines in 0.16501 secs."
      ]
     },
     "metadata": {},
     "output_type": "display_data"
    },
    {
     "data": {
      "text/html": [
       "<pre>Finished parsing file C:\\TURI\\Jacinta\\clean\\0816\\CT11.csv</pre>"
      ],
      "text/plain": [
       "Finished parsing file C:\\TURI\\Jacinta\\clean\\0816\\CT11.csv"
      ]
     },
     "metadata": {},
     "output_type": "display_data"
    },
    {
     "data": {
      "text/html": [
       "<pre>Parsing completed. Parsed 8881 lines in 0.167009 secs.</pre>"
      ],
      "text/plain": [
       "Parsing completed. Parsed 8881 lines in 0.167009 secs."
      ]
     },
     "metadata": {},
     "output_type": "display_data"
    },
    {
     "data": {
      "text/html": [
       "<pre>Finished parsing file C:\\TURI\\Jacinta\\clean\\0916\\CT11.csv</pre>"
      ],
      "text/plain": [
       "Finished parsing file C:\\TURI\\Jacinta\\clean\\0916\\CT11.csv"
      ]
     },
     "metadata": {},
     "output_type": "display_data"
    },
    {
     "data": {
      "text/html": [
       "<pre>Parsing completed. Parsed 8573 lines in 0.165009 secs.</pre>"
      ],
      "text/plain": [
       "Parsing completed. Parsed 8573 lines in 0.165009 secs."
      ]
     },
     "metadata": {},
     "output_type": "display_data"
    },
    {
     "data": {
      "text/html": [
       "<pre>Finished parsing file C:\\TURI\\Jacinta\\clean\\1016\\CT11.csv</pre>"
      ],
      "text/plain": [
       "Finished parsing file C:\\TURI\\Jacinta\\clean\\1016\\CT11.csv"
      ]
     },
     "metadata": {},
     "output_type": "display_data"
    },
    {
     "data": {
      "text/html": [
       "<pre>Parsing completed. Parsed 8889 lines in 0.16701 secs.</pre>"
      ],
      "text/plain": [
       "Parsing completed. Parsed 8889 lines in 0.16701 secs."
      ]
     },
     "metadata": {},
     "output_type": "display_data"
    },
    {
     "data": {
      "text/html": [
       "<pre>Finished parsing file C:\\TURI\\Jacinta\\clean\\1116\\CT11.csv</pre>"
      ],
      "text/plain": [
       "Finished parsing file C:\\TURI\\Jacinta\\clean\\1116\\CT11.csv"
      ]
     },
     "metadata": {},
     "output_type": "display_data"
    },
    {
     "data": {
      "text/html": [
       "<pre>Parsing completed. Parsed 8632 lines in 0.16001 secs.</pre>"
      ],
      "text/plain": [
       "Parsing completed. Parsed 8632 lines in 0.16001 secs."
      ]
     },
     "metadata": {},
     "output_type": "display_data"
    },
    {
     "data": {
      "text/html": [
       "<pre>Finished parsing file C:\\TURI\\Jacinta\\clean\\1216\\CT11.csv</pre>"
      ],
      "text/plain": [
       "Finished parsing file C:\\TURI\\Jacinta\\clean\\1216\\CT11.csv"
      ]
     },
     "metadata": {},
     "output_type": "display_data"
    },
    {
     "data": {
      "text/html": [
       "<pre>Parsing completed. Parsed 8920 lines in 0.168009 secs.</pre>"
      ],
      "text/plain": [
       "Parsing completed. Parsed 8920 lines in 0.168009 secs."
      ]
     },
     "metadata": {},
     "output_type": "display_data"
    },
    {
     "data": {
      "text/html": [
       "<pre>Finished parsing file C:\\TURI\\Jacinta\\clean\\0117\\CT11.csv</pre>"
      ],
      "text/plain": [
       "Finished parsing file C:\\TURI\\Jacinta\\clean\\0117\\CT11.csv"
      ]
     },
     "metadata": {},
     "output_type": "display_data"
    },
    {
     "data": {
      "text/html": [
       "<pre>Parsing completed. Parsed 8822 lines in 0.160009 secs.</pre>"
      ],
      "text/plain": [
       "Parsing completed. Parsed 8822 lines in 0.160009 secs."
      ]
     },
     "metadata": {},
     "output_type": "display_data"
    },
    {
     "data": {
      "text/html": [
       "<pre>Finished parsing file C:\\TURI\\Jacinta\\clean\\0217\\CT11.csv</pre>"
      ],
      "text/plain": [
       "Finished parsing file C:\\TURI\\Jacinta\\clean\\0217\\CT11.csv"
      ]
     },
     "metadata": {},
     "output_type": "display_data"
    },
    {
     "data": {
      "text/html": [
       "<pre>Parsing completed. Parsed 8035 lines in 0.134008 secs.</pre>"
      ],
      "text/plain": [
       "Parsing completed. Parsed 8035 lines in 0.134008 secs."
      ]
     },
     "metadata": {},
     "output_type": "display_data"
    },
    {
     "data": {
      "text/html": [
       "<pre>Finished parsing file C:\\TURI\\Jacinta\\clean\\0317\\CT11.csv</pre>"
      ],
      "text/plain": [
       "Finished parsing file C:\\TURI\\Jacinta\\clean\\0317\\CT11.csv"
      ]
     },
     "metadata": {},
     "output_type": "display_data"
    },
    {
     "data": {
      "text/html": [
       "<pre>Parsing completed. Parsed 5935 lines in 0.124007 secs.</pre>"
      ],
      "text/plain": [
       "Parsing completed. Parsed 5935 lines in 0.124007 secs."
      ]
     },
     "metadata": {},
     "output_type": "display_data"
    },
    {
     "data": {
      "text/html": [
       "<pre>Finished parsing file C:\\TURI\\Jacinta\\clean\\0616\\CT12.csv</pre>"
      ],
      "text/plain": [
       "Finished parsing file C:\\TURI\\Jacinta\\clean\\0616\\CT12.csv"
      ]
     },
     "metadata": {},
     "output_type": "display_data"
    },
    {
     "data": {
      "text/html": [
       "<pre>Parsing completed. Parsed 100 lines in 0.039002 secs.</pre>"
      ],
      "text/plain": [
       "Parsing completed. Parsed 100 lines in 0.039002 secs."
      ]
     },
     "metadata": {},
     "output_type": "display_data"
    },
    {
     "name": "stdout",
     "output_type": "stream",
     "text": [
      "------------------------------------------------------\n",
      "Inferred types from first 100 line(s) of file as \n",
      "column_type_hints=[str,long,long,long,float,float,float,long,float,long,long,long,long,float,float,float,long,float,long,long,float,float,long,long,long,long,long,long,float,long,float,long,long,float,long,long,long,long,float,long,long,long,long,long,float,float,long,long,long,long,long,long,float,long,float,long,long,float,long,long,long,long,float,long,long,long,long,long,float,float,long,long,long,long,long,long,float,long,float,long,long,float,long,long,long,long,float,long,long,long,long,long,float,float,long,long,long,long,long,long,float,long,float,long,long,float,long,long,long,long,float,long,long,long,long,long,float,float,long,long,long,long,long,long,float,long,float,long,long,float,long,long,long,long,float,long,long,long,long,long,float,float,long,long,long,long,long,long,float,long,float,long,long,float,long,long,long,long,float,long,long,long,long,long,float,float,long,long,long,long,long,long,float,long,float,long,long,float,long,long,long,long,float,long,long,long,long,long,float,float,long,long,long,long,long,long,float,long,float,long,long,float,long,long,long,long,float,long,long,long,long,long,float,float,float,float,float,float,float,float,float,float,float,float,long,float,float,float,float,float,float,float,float,float,float,float,float,long,long]\n",
      "If parsing fails due to incorrect types, you can correct\n",
      "the inferred type list above and pass it to read_csv in\n",
      "the column_type_hints argument\n",
      "------------------------------------------------------\n"
     ]
    },
    {
     "data": {
      "text/html": [
       "<pre>Finished parsing file C:\\TURI\\Jacinta\\clean\\0616\\CT12.csv</pre>"
      ],
      "text/plain": [
       "Finished parsing file C:\\TURI\\Jacinta\\clean\\0616\\CT12.csv"
      ]
     },
     "metadata": {},
     "output_type": "display_data"
    },
    {
     "data": {
      "text/html": [
       "<pre>Parsing completed. Parsed 2482 lines in 0.052003 secs.</pre>"
      ],
      "text/plain": [
       "Parsing completed. Parsed 2482 lines in 0.052003 secs."
      ]
     },
     "metadata": {},
     "output_type": "display_data"
    },
    {
     "data": {
      "text/html": [
       "<pre>Finished parsing file C:\\TURI\\Jacinta\\clean\\0716\\CT12.csv</pre>"
      ],
      "text/plain": [
       "Finished parsing file C:\\TURI\\Jacinta\\clean\\0716\\CT12.csv"
      ]
     },
     "metadata": {},
     "output_type": "display_data"
    },
    {
     "data": {
      "text/html": [
       "<pre>Parsing completed. Parsed 8843 lines in 0.157009 secs.</pre>"
      ],
      "text/plain": [
       "Parsing completed. Parsed 8843 lines in 0.157009 secs."
      ]
     },
     "metadata": {},
     "output_type": "display_data"
    },
    {
     "data": {
      "text/html": [
       "<pre>Finished parsing file C:\\TURI\\Jacinta\\clean\\0816\\CT12.csv</pre>"
      ],
      "text/plain": [
       "Finished parsing file C:\\TURI\\Jacinta\\clean\\0816\\CT12.csv"
      ]
     },
     "metadata": {},
     "output_type": "display_data"
    },
    {
     "data": {
      "text/html": [
       "<pre>Parsing completed. Parsed 8881 lines in 0.159009 secs.</pre>"
      ],
      "text/plain": [
       "Parsing completed. Parsed 8881 lines in 0.159009 secs."
      ]
     },
     "metadata": {},
     "output_type": "display_data"
    },
    {
     "data": {
      "text/html": [
       "<pre>Finished parsing file C:\\TURI\\Jacinta\\clean\\0916\\CT12.csv</pre>"
      ],
      "text/plain": [
       "Finished parsing file C:\\TURI\\Jacinta\\clean\\0916\\CT12.csv"
      ]
     },
     "metadata": {},
     "output_type": "display_data"
    },
    {
     "data": {
      "text/html": [
       "<pre>Parsing completed. Parsed 8573 lines in 0.151009 secs.</pre>"
      ],
      "text/plain": [
       "Parsing completed. Parsed 8573 lines in 0.151009 secs."
      ]
     },
     "metadata": {},
     "output_type": "display_data"
    },
    {
     "data": {
      "text/html": [
       "<pre>Finished parsing file C:\\TURI\\Jacinta\\clean\\1016\\CT12.csv</pre>"
      ],
      "text/plain": [
       "Finished parsing file C:\\TURI\\Jacinta\\clean\\1016\\CT12.csv"
      ]
     },
     "metadata": {},
     "output_type": "display_data"
    },
    {
     "data": {
      "text/html": [
       "<pre>Parsing completed. Parsed 8889 lines in 0.164009 secs.</pre>"
      ],
      "text/plain": [
       "Parsing completed. Parsed 8889 lines in 0.164009 secs."
      ]
     },
     "metadata": {},
     "output_type": "display_data"
    },
    {
     "data": {
      "text/html": [
       "<pre>Finished parsing file C:\\TURI\\Jacinta\\clean\\1116\\CT12.csv</pre>"
      ],
      "text/plain": [
       "Finished parsing file C:\\TURI\\Jacinta\\clean\\1116\\CT12.csv"
      ]
     },
     "metadata": {},
     "output_type": "display_data"
    },
    {
     "data": {
      "text/html": [
       "<pre>Parsing completed. Parsed 8632 lines in 0.166009 secs.</pre>"
      ],
      "text/plain": [
       "Parsing completed. Parsed 8632 lines in 0.166009 secs."
      ]
     },
     "metadata": {},
     "output_type": "display_data"
    },
    {
     "data": {
      "text/html": [
       "<pre>Finished parsing file C:\\TURI\\Jacinta\\clean\\1216\\CT12.csv</pre>"
      ],
      "text/plain": [
       "Finished parsing file C:\\TURI\\Jacinta\\clean\\1216\\CT12.csv"
      ]
     },
     "metadata": {},
     "output_type": "display_data"
    },
    {
     "data": {
      "text/html": [
       "<pre>Parsing completed. Parsed 8920 lines in 0.17001 secs.</pre>"
      ],
      "text/plain": [
       "Parsing completed. Parsed 8920 lines in 0.17001 secs."
      ]
     },
     "metadata": {},
     "output_type": "display_data"
    },
    {
     "data": {
      "text/html": [
       "<pre>Finished parsing file C:\\TURI\\Jacinta\\clean\\0117\\CT12.csv</pre>"
      ],
      "text/plain": [
       "Finished parsing file C:\\TURI\\Jacinta\\clean\\0117\\CT12.csv"
      ]
     },
     "metadata": {},
     "output_type": "display_data"
    },
    {
     "data": {
      "text/html": [
       "<pre>Parsing completed. Parsed 8822 lines in 0.16701 secs.</pre>"
      ],
      "text/plain": [
       "Parsing completed. Parsed 8822 lines in 0.16701 secs."
      ]
     },
     "metadata": {},
     "output_type": "display_data"
    },
    {
     "data": {
      "text/html": [
       "<pre>Finished parsing file C:\\TURI\\Jacinta\\clean\\0217\\CT12.csv</pre>"
      ],
      "text/plain": [
       "Finished parsing file C:\\TURI\\Jacinta\\clean\\0217\\CT12.csv"
      ]
     },
     "metadata": {},
     "output_type": "display_data"
    },
    {
     "data": {
      "text/html": [
       "<pre>Parsing completed. Parsed 8035 lines in 0.134007 secs.</pre>"
      ],
      "text/plain": [
       "Parsing completed. Parsed 8035 lines in 0.134007 secs."
      ]
     },
     "metadata": {},
     "output_type": "display_data"
    },
    {
     "data": {
      "text/html": [
       "<pre>Finished parsing file C:\\TURI\\Jacinta\\clean\\0317\\CT12.csv</pre>"
      ],
      "text/plain": [
       "Finished parsing file C:\\TURI\\Jacinta\\clean\\0317\\CT12.csv"
      ]
     },
     "metadata": {},
     "output_type": "display_data"
    },
    {
     "data": {
      "text/html": [
       "<pre>Parsing completed. Parsed 5935 lines in 0.122007 secs.</pre>"
      ],
      "text/plain": [
       "Parsing completed. Parsed 5935 lines in 0.122007 secs."
      ]
     },
     "metadata": {},
     "output_type": "display_data"
    },
    {
     "data": {
      "text/html": [
       "<pre>Finished parsing file C:\\TURI\\Jacinta\\clean\\0616\\CT13.csv</pre>"
      ],
      "text/plain": [
       "Finished parsing file C:\\TURI\\Jacinta\\clean\\0616\\CT13.csv"
      ]
     },
     "metadata": {},
     "output_type": "display_data"
    },
    {
     "data": {
      "text/html": [
       "<pre>Parsing completed. Parsed 100 lines in 0.039003 secs.</pre>"
      ],
      "text/plain": [
       "Parsing completed. Parsed 100 lines in 0.039003 secs."
      ]
     },
     "metadata": {},
     "output_type": "display_data"
    },
    {
     "name": "stdout",
     "output_type": "stream",
     "text": [
      "------------------------------------------------------\n",
      "Inferred types from first 100 line(s) of file as \n",
      "column_type_hints=[str,long,long,long,float,float,float,long,float,long,long,long,long,float,float,float,long,float,long,long,float,float,long,long,long,long,long,long,float,long,float,long,long,float,long,long,long,long,float,long,long,long,long,long,float,float,long,long,long,long,long,long,float,long,float,long,long,float,long,long,long,long,float,long,long,long,long,long,float,float,long,long,long,long,long,long,float,long,float,long,long,float,long,long,long,long,float,long,long,long,long,long,float,float,long,long,long,long,long,long,float,long,float,long,long,float,long,long,long,long,float,long,long,long,long,long,float,float,long,long,long,long,long,long,float,long,float,long,long,float,long,long,long,long,float,long,long,long,long,long,float,float,long,long,long,long,long,long,float,long,float,long,long,float,long,long,long,long,float,long,long,long,long,long,float,float,long,long,long,long,long,long,float,long,float,long,long,float,long,long,long,long,float,long,long,long,long,long,float,float,long,long,long,long,long,long,float,long,float,long,long,float,long,long,long,long,float,long,long,long,long,long,float,float,float,float,float,float,float,float,float,float,float,float,long,float,float,float,float,float,float,float,float,float,float,float,float,long,long]\n",
      "If parsing fails due to incorrect types, you can correct\n",
      "the inferred type list above and pass it to read_csv in\n",
      "the column_type_hints argument\n",
      "------------------------------------------------------\n"
     ]
    },
    {
     "data": {
      "text/html": [
       "<pre>Finished parsing file C:\\TURI\\Jacinta\\clean\\0616\\CT13.csv</pre>"
      ],
      "text/plain": [
       "Finished parsing file C:\\TURI\\Jacinta\\clean\\0616\\CT13.csv"
      ]
     },
     "metadata": {},
     "output_type": "display_data"
    },
    {
     "data": {
      "text/html": [
       "<pre>Parsing completed. Parsed 2482 lines in 0.054003 secs.</pre>"
      ],
      "text/plain": [
       "Parsing completed. Parsed 2482 lines in 0.054003 secs."
      ]
     },
     "metadata": {},
     "output_type": "display_data"
    },
    {
     "data": {
      "text/html": [
       "<pre>Finished parsing file C:\\TURI\\Jacinta\\clean\\0716\\CT13.csv</pre>"
      ],
      "text/plain": [
       "Finished parsing file C:\\TURI\\Jacinta\\clean\\0716\\CT13.csv"
      ]
     },
     "metadata": {},
     "output_type": "display_data"
    },
    {
     "data": {
      "text/html": [
       "<pre>Parsing completed. Parsed 8843 lines in 0.16401 secs.</pre>"
      ],
      "text/plain": [
       "Parsing completed. Parsed 8843 lines in 0.16401 secs."
      ]
     },
     "metadata": {},
     "output_type": "display_data"
    },
    {
     "data": {
      "text/html": [
       "<pre>Finished parsing file C:\\TURI\\Jacinta\\clean\\0816\\CT13.csv</pre>"
      ],
      "text/plain": [
       "Finished parsing file C:\\TURI\\Jacinta\\clean\\0816\\CT13.csv"
      ]
     },
     "metadata": {},
     "output_type": "display_data"
    },
    {
     "data": {
      "text/html": [
       "<pre>Parsing completed. Parsed 8881 lines in 0.16601 secs.</pre>"
      ],
      "text/plain": [
       "Parsing completed. Parsed 8881 lines in 0.16601 secs."
      ]
     },
     "metadata": {},
     "output_type": "display_data"
    },
    {
     "data": {
      "text/html": [
       "<pre>Finished parsing file C:\\TURI\\Jacinta\\clean\\0916\\CT13.csv</pre>"
      ],
      "text/plain": [
       "Finished parsing file C:\\TURI\\Jacinta\\clean\\0916\\CT13.csv"
      ]
     },
     "metadata": {},
     "output_type": "display_data"
    },
    {
     "data": {
      "text/html": [
       "<pre>Parsing completed. Parsed 8573 lines in 0.163009 secs.</pre>"
      ],
      "text/plain": [
       "Parsing completed. Parsed 8573 lines in 0.163009 secs."
      ]
     },
     "metadata": {},
     "output_type": "display_data"
    },
    {
     "data": {
      "text/html": [
       "<pre>Finished parsing file C:\\TURI\\Jacinta\\clean\\1016\\CT13.csv</pre>"
      ],
      "text/plain": [
       "Finished parsing file C:\\TURI\\Jacinta\\clean\\1016\\CT13.csv"
      ]
     },
     "metadata": {},
     "output_type": "display_data"
    },
    {
     "data": {
      "text/html": [
       "<pre>Parsing completed. Parsed 8889 lines in 0.169009 secs.</pre>"
      ],
      "text/plain": [
       "Parsing completed. Parsed 8889 lines in 0.169009 secs."
      ]
     },
     "metadata": {},
     "output_type": "display_data"
    },
    {
     "data": {
      "text/html": [
       "<pre>Finished parsing file C:\\TURI\\Jacinta\\clean\\1116\\CT13.csv</pre>"
      ],
      "text/plain": [
       "Finished parsing file C:\\TURI\\Jacinta\\clean\\1116\\CT13.csv"
      ]
     },
     "metadata": {},
     "output_type": "display_data"
    },
    {
     "data": {
      "text/html": [
       "<pre>Parsing completed. Parsed 8632 lines in 0.16201 secs.</pre>"
      ],
      "text/plain": [
       "Parsing completed. Parsed 8632 lines in 0.16201 secs."
      ]
     },
     "metadata": {},
     "output_type": "display_data"
    },
    {
     "data": {
      "text/html": [
       "<pre>Finished parsing file C:\\TURI\\Jacinta\\clean\\1216\\CT13.csv</pre>"
      ],
      "text/plain": [
       "Finished parsing file C:\\TURI\\Jacinta\\clean\\1216\\CT13.csv"
      ]
     },
     "metadata": {},
     "output_type": "display_data"
    },
    {
     "data": {
      "text/html": [
       "<pre>Parsing completed. Parsed 8920 lines in 0.157009 secs.</pre>"
      ],
      "text/plain": [
       "Parsing completed. Parsed 8920 lines in 0.157009 secs."
      ]
     },
     "metadata": {},
     "output_type": "display_data"
    },
    {
     "data": {
      "text/html": [
       "<pre>Finished parsing file C:\\TURI\\Jacinta\\clean\\0117\\CT13.csv</pre>"
      ],
      "text/plain": [
       "Finished parsing file C:\\TURI\\Jacinta\\clean\\0117\\CT13.csv"
      ]
     },
     "metadata": {},
     "output_type": "display_data"
    },
    {
     "data": {
      "text/html": [
       "<pre>Parsing completed. Parsed 8822 lines in 0.16401 secs.</pre>"
      ],
      "text/plain": [
       "Parsing completed. Parsed 8822 lines in 0.16401 secs."
      ]
     },
     "metadata": {},
     "output_type": "display_data"
    },
    {
     "data": {
      "text/html": [
       "<pre>Finished parsing file C:\\TURI\\Jacinta\\clean\\0217\\CT13.csv</pre>"
      ],
      "text/plain": [
       "Finished parsing file C:\\TURI\\Jacinta\\clean\\0217\\CT13.csv"
      ]
     },
     "metadata": {},
     "output_type": "display_data"
    },
    {
     "data": {
      "text/html": [
       "<pre>Parsing completed. Parsed 8035 lines in 0.137008 secs.</pre>"
      ],
      "text/plain": [
       "Parsing completed. Parsed 8035 lines in 0.137008 secs."
      ]
     },
     "metadata": {},
     "output_type": "display_data"
    },
    {
     "data": {
      "text/html": [
       "<pre>Finished parsing file C:\\TURI\\Jacinta\\clean\\0317\\CT13.csv</pre>"
      ],
      "text/plain": [
       "Finished parsing file C:\\TURI\\Jacinta\\clean\\0317\\CT13.csv"
      ]
     },
     "metadata": {},
     "output_type": "display_data"
    },
    {
     "data": {
      "text/html": [
       "<pre>Parsing completed. Parsed 5935 lines in 0.125007 secs.</pre>"
      ],
      "text/plain": [
       "Parsing completed. Parsed 5935 lines in 0.125007 secs."
      ]
     },
     "metadata": {},
     "output_type": "display_data"
    },
    {
     "data": {
      "text/html": [
       "<pre>Finished parsing file C:\\TURI\\Jacinta\\clean\\0616\\CT14.csv</pre>"
      ],
      "text/plain": [
       "Finished parsing file C:\\TURI\\Jacinta\\clean\\0616\\CT14.csv"
      ]
     },
     "metadata": {},
     "output_type": "display_data"
    },
    {
     "data": {
      "text/html": [
       "<pre>Parsing completed. Parsed 100 lines in 0.040002 secs.</pre>"
      ],
      "text/plain": [
       "Parsing completed. Parsed 100 lines in 0.040002 secs."
      ]
     },
     "metadata": {},
     "output_type": "display_data"
    },
    {
     "name": "stdout",
     "output_type": "stream",
     "text": [
      "------------------------------------------------------\n",
      "Inferred types from first 100 line(s) of file as \n",
      "column_type_hints=[str,long,long,long,float,float,float,long,float,long,long,long,long,float,float,float,long,float,long,long,float,float,long,long,long,long,long,long,float,long,float,long,long,float,long,long,long,long,float,long,long,long,long,long,float,float,long,long,long,long,long,long,float,long,float,long,long,float,long,long,long,long,float,long,long,long,long,long,float,float,long,long,long,long,long,long,float,long,float,long,long,float,long,long,long,long,float,long,long,long,long,long,float,float,long,long,long,long,long,long,float,long,float,long,long,float,long,long,long,long,float,long,long,long,long,long,float,float,long,long,long,long,long,long,float,long,float,long,long,float,long,long,long,long,float,long,long,long,long,long,float,float,long,long,long,long,long,long,float,long,float,long,long,float,long,long,long,long,float,long,long,long,long,long,float,float,long,long,long,long,long,long,float,long,float,long,long,float,long,long,long,long,float,long,long,long,long,long,float,float,long,long,long,long,long,long,float,long,float,long,long,float,long,long,long,long,float,long,long,long,long,long,float,float,float,float,float,float,float,float,float,float,float,float,long,float,float,float,float,float,float,float,float,float,float,float,float,long,long]\n",
      "If parsing fails due to incorrect types, you can correct\n",
      "the inferred type list above and pass it to read_csv in\n",
      "the column_type_hints argument\n",
      "------------------------------------------------------\n"
     ]
    },
    {
     "data": {
      "text/html": [
       "<pre>Finished parsing file C:\\TURI\\Jacinta\\clean\\0616\\CT14.csv</pre>"
      ],
      "text/plain": [
       "Finished parsing file C:\\TURI\\Jacinta\\clean\\0616\\CT14.csv"
      ]
     },
     "metadata": {},
     "output_type": "display_data"
    },
    {
     "data": {
      "text/html": [
       "<pre>Parsing completed. Parsed 2482 lines in 0.050003 secs.</pre>"
      ],
      "text/plain": [
       "Parsing completed. Parsed 2482 lines in 0.050003 secs."
      ]
     },
     "metadata": {},
     "output_type": "display_data"
    },
    {
     "data": {
      "text/html": [
       "<pre>Finished parsing file C:\\TURI\\Jacinta\\clean\\0716\\CT14.csv</pre>"
      ],
      "text/plain": [
       "Finished parsing file C:\\TURI\\Jacinta\\clean\\0716\\CT14.csv"
      ]
     },
     "metadata": {},
     "output_type": "display_data"
    },
    {
     "data": {
      "text/html": [
       "<pre>Parsing completed. Parsed 8843 lines in 0.153009 secs.</pre>"
      ],
      "text/plain": [
       "Parsing completed. Parsed 8843 lines in 0.153009 secs."
      ]
     },
     "metadata": {},
     "output_type": "display_data"
    },
    {
     "data": {
      "text/html": [
       "<pre>Finished parsing file C:\\TURI\\Jacinta\\clean\\0816\\CT14.csv</pre>"
      ],
      "text/plain": [
       "Finished parsing file C:\\TURI\\Jacinta\\clean\\0816\\CT14.csv"
      ]
     },
     "metadata": {},
     "output_type": "display_data"
    },
    {
     "data": {
      "text/html": [
       "<pre>Parsing completed. Parsed 8881 lines in 0.154009 secs.</pre>"
      ],
      "text/plain": [
       "Parsing completed. Parsed 8881 lines in 0.154009 secs."
      ]
     },
     "metadata": {},
     "output_type": "display_data"
    },
    {
     "data": {
      "text/html": [
       "<pre>Finished parsing file C:\\TURI\\Jacinta\\clean\\0916\\CT14.csv</pre>"
      ],
      "text/plain": [
       "Finished parsing file C:\\TURI\\Jacinta\\clean\\0916\\CT14.csv"
      ]
     },
     "metadata": {},
     "output_type": "display_data"
    },
    {
     "data": {
      "text/html": [
       "<pre>Parsing completed. Parsed 8573 lines in 0.151008 secs.</pre>"
      ],
      "text/plain": [
       "Parsing completed. Parsed 8573 lines in 0.151008 secs."
      ]
     },
     "metadata": {},
     "output_type": "display_data"
    },
    {
     "data": {
      "text/html": [
       "<pre>Finished parsing file C:\\TURI\\Jacinta\\clean\\1016\\CT14.csv</pre>"
      ],
      "text/plain": [
       "Finished parsing file C:\\TURI\\Jacinta\\clean\\1016\\CT14.csv"
      ]
     },
     "metadata": {},
     "output_type": "display_data"
    },
    {
     "data": {
      "text/html": [
       "<pre>Parsing completed. Parsed 8889 lines in 0.164009 secs.</pre>"
      ],
      "text/plain": [
       "Parsing completed. Parsed 8889 lines in 0.164009 secs."
      ]
     },
     "metadata": {},
     "output_type": "display_data"
    },
    {
     "data": {
      "text/html": [
       "<pre>Finished parsing file C:\\TURI\\Jacinta\\clean\\1116\\CT14.csv</pre>"
      ],
      "text/plain": [
       "Finished parsing file C:\\TURI\\Jacinta\\clean\\1116\\CT14.csv"
      ]
     },
     "metadata": {},
     "output_type": "display_data"
    },
    {
     "data": {
      "text/html": [
       "<pre>Parsing completed. Parsed 8632 lines in 0.16301 secs.</pre>"
      ],
      "text/plain": [
       "Parsing completed. Parsed 8632 lines in 0.16301 secs."
      ]
     },
     "metadata": {},
     "output_type": "display_data"
    },
    {
     "data": {
      "text/html": [
       "<pre>Finished parsing file C:\\TURI\\Jacinta\\clean\\1216\\CT14.csv</pre>"
      ],
      "text/plain": [
       "Finished parsing file C:\\TURI\\Jacinta\\clean\\1216\\CT14.csv"
      ]
     },
     "metadata": {},
     "output_type": "display_data"
    },
    {
     "data": {
      "text/html": [
       "<pre>Parsing completed. Parsed 8920 lines in 0.166009 secs.</pre>"
      ],
      "text/plain": [
       "Parsing completed. Parsed 8920 lines in 0.166009 secs."
      ]
     },
     "metadata": {},
     "output_type": "display_data"
    },
    {
     "data": {
      "text/html": [
       "<pre>Finished parsing file C:\\TURI\\Jacinta\\clean\\0117\\CT14.csv</pre>"
      ],
      "text/plain": [
       "Finished parsing file C:\\TURI\\Jacinta\\clean\\0117\\CT14.csv"
      ]
     },
     "metadata": {},
     "output_type": "display_data"
    },
    {
     "data": {
      "text/html": [
       "<pre>Parsing completed. Parsed 8822 lines in 0.16801 secs.</pre>"
      ],
      "text/plain": [
       "Parsing completed. Parsed 8822 lines in 0.16801 secs."
      ]
     },
     "metadata": {},
     "output_type": "display_data"
    },
    {
     "data": {
      "text/html": [
       "<pre>Finished parsing file C:\\TURI\\Jacinta\\clean\\0217\\CT14.csv</pre>"
      ],
      "text/plain": [
       "Finished parsing file C:\\TURI\\Jacinta\\clean\\0217\\CT14.csv"
      ]
     },
     "metadata": {},
     "output_type": "display_data"
    },
    {
     "data": {
      "text/html": [
       "<pre>Parsing completed. Parsed 8035 lines in 0.135007 secs.</pre>"
      ],
      "text/plain": [
       "Parsing completed. Parsed 8035 lines in 0.135007 secs."
      ]
     },
     "metadata": {},
     "output_type": "display_data"
    },
    {
     "data": {
      "text/html": [
       "<pre>Finished parsing file C:\\TURI\\Jacinta\\clean\\0317\\CT14.csv</pre>"
      ],
      "text/plain": [
       "Finished parsing file C:\\TURI\\Jacinta\\clean\\0317\\CT14.csv"
      ]
     },
     "metadata": {},
     "output_type": "display_data"
    },
    {
     "data": {
      "text/html": [
       "<pre>Parsing completed. Parsed 5935 lines in 0.121007 secs.</pre>"
      ],
      "text/plain": [
       "Parsing completed. Parsed 5935 lines in 0.121007 secs."
      ]
     },
     "metadata": {},
     "output_type": "display_data"
    },
    {
     "data": {
      "text/html": [
       "<pre>Finished parsing file C:\\TURI\\Jacinta\\clean\\0616\\CT15.csv</pre>"
      ],
      "text/plain": [
       "Finished parsing file C:\\TURI\\Jacinta\\clean\\0616\\CT15.csv"
      ]
     },
     "metadata": {},
     "output_type": "display_data"
    },
    {
     "data": {
      "text/html": [
       "<pre>Parsing completed. Parsed 100 lines in 0.040002 secs.</pre>"
      ],
      "text/plain": [
       "Parsing completed. Parsed 100 lines in 0.040002 secs."
      ]
     },
     "metadata": {},
     "output_type": "display_data"
    },
    {
     "name": "stdout",
     "output_type": "stream",
     "text": [
      "------------------------------------------------------\n",
      "Inferred types from first 100 line(s) of file as \n",
      "column_type_hints=[str,long,long,long,float,float,float,long,float,long,long,long,long,float,float,float,long,float,long,long,float,float,long,long,long,long,long,long,float,long,float,long,long,float,long,long,long,long,float,long,long,long,long,long,float,float,long,long,long,long,long,long,float,long,float,long,long,float,long,long,long,long,float,long,long,long,long,long,float,float,long,long,long,long,long,long,float,long,float,long,long,float,long,long,long,long,float,long,long,long,long,long,float,float,long,long,long,long,long,long,float,long,float,long,long,float,long,long,long,long,float,long,long,long,long,long,float,float,long,long,long,long,long,long,float,long,float,long,long,float,long,long,long,long,float,long,long,long,long,long,float,float,long,long,long,long,long,long,float,long,float,long,long,float,long,long,long,long,float,long,long,long,long,long,float,float,long,long,long,long,long,long,float,long,float,long,long,float,long,long,long,long,float,long,long,long,long,long,float,float,long,long,long,long,long,long,float,long,float,long,long,float,long,long,long,long,float,long,long,long,long,long,float,float,float,float,float,float,float,float,float,float,float,float,long,float,float,float,float,float,float,float,float,float,float,float,float,long,long]\n",
      "If parsing fails due to incorrect types, you can correct\n",
      "the inferred type list above and pass it to read_csv in\n",
      "the column_type_hints argument\n",
      "------------------------------------------------------\n"
     ]
    },
    {
     "data": {
      "text/html": [
       "<pre>Finished parsing file C:\\TURI\\Jacinta\\clean\\0616\\CT15.csv</pre>"
      ],
      "text/plain": [
       "Finished parsing file C:\\TURI\\Jacinta\\clean\\0616\\CT15.csv"
      ]
     },
     "metadata": {},
     "output_type": "display_data"
    },
    {
     "data": {
      "text/html": [
       "<pre>Parsing completed. Parsed 2482 lines in 0.054003 secs.</pre>"
      ],
      "text/plain": [
       "Parsing completed. Parsed 2482 lines in 0.054003 secs."
      ]
     },
     "metadata": {},
     "output_type": "display_data"
    },
    {
     "data": {
      "text/html": [
       "<pre>Finished parsing file C:\\TURI\\Jacinta\\clean\\0716\\CT15.csv</pre>"
      ],
      "text/plain": [
       "Finished parsing file C:\\TURI\\Jacinta\\clean\\0716\\CT15.csv"
      ]
     },
     "metadata": {},
     "output_type": "display_data"
    },
    {
     "data": {
      "text/html": [
       "<pre>Parsing completed. Parsed 8843 lines in 0.163009 secs.</pre>"
      ],
      "text/plain": [
       "Parsing completed. Parsed 8843 lines in 0.163009 secs."
      ]
     },
     "metadata": {},
     "output_type": "display_data"
    },
    {
     "data": {
      "text/html": [
       "<pre>Finished parsing file C:\\TURI\\Jacinta\\clean\\0816\\CT15.csv</pre>"
      ],
      "text/plain": [
       "Finished parsing file C:\\TURI\\Jacinta\\clean\\0816\\CT15.csv"
      ]
     },
     "metadata": {},
     "output_type": "display_data"
    },
    {
     "data": {
      "text/html": [
       "<pre>Parsing completed. Parsed 8881 lines in 0.166009 secs.</pre>"
      ],
      "text/plain": [
       "Parsing completed. Parsed 8881 lines in 0.166009 secs."
      ]
     },
     "metadata": {},
     "output_type": "display_data"
    },
    {
     "data": {
      "text/html": [
       "<pre>Finished parsing file C:\\TURI\\Jacinta\\clean\\0916\\CT15.csv</pre>"
      ],
      "text/plain": [
       "Finished parsing file C:\\TURI\\Jacinta\\clean\\0916\\CT15.csv"
      ]
     },
     "metadata": {},
     "output_type": "display_data"
    },
    {
     "data": {
      "text/html": [
       "<pre>Parsing completed. Parsed 8573 lines in 0.161009 secs.</pre>"
      ],
      "text/plain": [
       "Parsing completed. Parsed 8573 lines in 0.161009 secs."
      ]
     },
     "metadata": {},
     "output_type": "display_data"
    },
    {
     "data": {
      "text/html": [
       "<pre>Finished parsing file C:\\TURI\\Jacinta\\clean\\1016\\CT15.csv</pre>"
      ],
      "text/plain": [
       "Finished parsing file C:\\TURI\\Jacinta\\clean\\1016\\CT15.csv"
      ]
     },
     "metadata": {},
     "output_type": "display_data"
    },
    {
     "data": {
      "text/html": [
       "<pre>Parsing completed. Parsed 8889 lines in 0.154009 secs.</pre>"
      ],
      "text/plain": [
       "Parsing completed. Parsed 8889 lines in 0.154009 secs."
      ]
     },
     "metadata": {},
     "output_type": "display_data"
    },
    {
     "data": {
      "text/html": [
       "<pre>Finished parsing file C:\\TURI\\Jacinta\\clean\\1116\\CT15.csv</pre>"
      ],
      "text/plain": [
       "Finished parsing file C:\\TURI\\Jacinta\\clean\\1116\\CT15.csv"
      ]
     },
     "metadata": {},
     "output_type": "display_data"
    },
    {
     "data": {
      "text/html": [
       "<pre>Parsing completed. Parsed 8632 lines in 0.161009 secs.</pre>"
      ],
      "text/plain": [
       "Parsing completed. Parsed 8632 lines in 0.161009 secs."
      ]
     },
     "metadata": {},
     "output_type": "display_data"
    },
    {
     "data": {
      "text/html": [
       "<pre>Finished parsing file C:\\TURI\\Jacinta\\clean\\1216\\CT15.csv</pre>"
      ],
      "text/plain": [
       "Finished parsing file C:\\TURI\\Jacinta\\clean\\1216\\CT15.csv"
      ]
     },
     "metadata": {},
     "output_type": "display_data"
    },
    {
     "data": {
      "text/html": [
       "<pre>Parsing completed. Parsed 8920 lines in 0.165009 secs.</pre>"
      ],
      "text/plain": [
       "Parsing completed. Parsed 8920 lines in 0.165009 secs."
      ]
     },
     "metadata": {},
     "output_type": "display_data"
    },
    {
     "data": {
      "text/html": [
       "<pre>Finished parsing file C:\\TURI\\Jacinta\\clean\\0117\\CT15.csv</pre>"
      ],
      "text/plain": [
       "Finished parsing file C:\\TURI\\Jacinta\\clean\\0117\\CT15.csv"
      ]
     },
     "metadata": {},
     "output_type": "display_data"
    },
    {
     "data": {
      "text/html": [
       "<pre>Parsing completed. Parsed 8822 lines in 0.16701 secs.</pre>"
      ],
      "text/plain": [
       "Parsing completed. Parsed 8822 lines in 0.16701 secs."
      ]
     },
     "metadata": {},
     "output_type": "display_data"
    },
    {
     "data": {
      "text/html": [
       "<pre>Finished parsing file C:\\TURI\\Jacinta\\clean\\0217\\CT15.csv</pre>"
      ],
      "text/plain": [
       "Finished parsing file C:\\TURI\\Jacinta\\clean\\0217\\CT15.csv"
      ]
     },
     "metadata": {},
     "output_type": "display_data"
    },
    {
     "data": {
      "text/html": [
       "<pre>Parsing completed. Parsed 8035 lines in 0.138008 secs.</pre>"
      ],
      "text/plain": [
       "Parsing completed. Parsed 8035 lines in 0.138008 secs."
      ]
     },
     "metadata": {},
     "output_type": "display_data"
    },
    {
     "data": {
      "text/html": [
       "<pre>Finished parsing file C:\\TURI\\Jacinta\\clean\\0317\\CT15.csv</pre>"
      ],
      "text/plain": [
       "Finished parsing file C:\\TURI\\Jacinta\\clean\\0317\\CT15.csv"
      ]
     },
     "metadata": {},
     "output_type": "display_data"
    },
    {
     "data": {
      "text/html": [
       "<pre>Parsing completed. Parsed 5935 lines in 0.117007 secs.</pre>"
      ],
      "text/plain": [
       "Parsing completed. Parsed 5935 lines in 0.117007 secs."
      ]
     },
     "metadata": {},
     "output_type": "display_data"
    },
    {
     "data": {
      "text/html": [
       "<pre>Finished parsing file C:\\TURI\\Jacinta\\clean\\0616\\CT16.csv</pre>"
      ],
      "text/plain": [
       "Finished parsing file C:\\TURI\\Jacinta\\clean\\0616\\CT16.csv"
      ]
     },
     "metadata": {},
     "output_type": "display_data"
    },
    {
     "data": {
      "text/html": [
       "<pre>Parsing completed. Parsed 100 lines in 0.039002 secs.</pre>"
      ],
      "text/plain": [
       "Parsing completed. Parsed 100 lines in 0.039002 secs."
      ]
     },
     "metadata": {},
     "output_type": "display_data"
    },
    {
     "name": "stdout",
     "output_type": "stream",
     "text": [
      "------------------------------------------------------\n",
      "Inferred types from first 100 line(s) of file as \n",
      "column_type_hints=[str,long,long,long,float,float,float,long,float,long,long,long,long,float,float,float,long,float,long,long,float,float,long,long,long,long,long,long,float,long,float,long,long,float,long,long,long,long,float,long,long,long,long,long,float,float,long,long,long,long,long,long,float,long,float,long,long,float,long,long,long,long,float,long,long,long,long,long,float,float,long,long,long,long,long,long,float,long,float,long,long,float,long,long,long,long,float,long,long,long,long,long,float,float,long,long,long,long,long,long,float,long,float,long,long,float,long,long,long,long,float,long,long,long,long,long,float,float,long,long,long,long,long,long,float,long,float,long,long,float,long,long,long,long,float,long,long,long,long,long,float,float,long,long,long,long,long,long,float,long,float,long,long,float,long,long,long,long,float,long,long,long,long,long,float,float,long,long,long,long,long,long,float,long,float,long,long,float,long,long,long,long,float,long,long,long,long,long,float,float,long,long,long,long,long,long,float,long,float,long,long,float,long,long,long,long,float,long,long,long,long,long,float,float,float,float,float,float,float,float,float,float,float,float,long,float,float,float,float,float,float,float,float,float,float,float,float,long,long]\n",
      "If parsing fails due to incorrect types, you can correct\n",
      "the inferred type list above and pass it to read_csv in\n",
      "the column_type_hints argument\n",
      "------------------------------------------------------\n"
     ]
    },
    {
     "data": {
      "text/html": [
       "<pre>Finished parsing file C:\\TURI\\Jacinta\\clean\\0616\\CT16.csv</pre>"
      ],
      "text/plain": [
       "Finished parsing file C:\\TURI\\Jacinta\\clean\\0616\\CT16.csv"
      ]
     },
     "metadata": {},
     "output_type": "display_data"
    },
    {
     "data": {
      "text/html": [
       "<pre>Parsing completed. Parsed 2482 lines in 0.051003 secs.</pre>"
      ],
      "text/plain": [
       "Parsing completed. Parsed 2482 lines in 0.051003 secs."
      ]
     },
     "metadata": {},
     "output_type": "display_data"
    },
    {
     "data": {
      "text/html": [
       "<pre>Finished parsing file C:\\TURI\\Jacinta\\clean\\0716\\CT16.csv</pre>"
      ],
      "text/plain": [
       "Finished parsing file C:\\TURI\\Jacinta\\clean\\0716\\CT16.csv"
      ]
     },
     "metadata": {},
     "output_type": "display_data"
    },
    {
     "data": {
      "text/html": [
       "<pre>Parsing completed. Parsed 8843 lines in 0.154009 secs.</pre>"
      ],
      "text/plain": [
       "Parsing completed. Parsed 8843 lines in 0.154009 secs."
      ]
     },
     "metadata": {},
     "output_type": "display_data"
    },
    {
     "data": {
      "text/html": [
       "<pre>Finished parsing file C:\\TURI\\Jacinta\\clean\\0816\\CT16.csv</pre>"
      ],
      "text/plain": [
       "Finished parsing file C:\\TURI\\Jacinta\\clean\\0816\\CT16.csv"
      ]
     },
     "metadata": {},
     "output_type": "display_data"
    },
    {
     "data": {
      "text/html": [
       "<pre>Parsing completed. Parsed 8881 lines in 0.154009 secs.</pre>"
      ],
      "text/plain": [
       "Parsing completed. Parsed 8881 lines in 0.154009 secs."
      ]
     },
     "metadata": {},
     "output_type": "display_data"
    },
    {
     "data": {
      "text/html": [
       "<pre>Finished parsing file C:\\TURI\\Jacinta\\clean\\0916\\CT16.csv</pre>"
      ],
      "text/plain": [
       "Finished parsing file C:\\TURI\\Jacinta\\clean\\0916\\CT16.csv"
      ]
     },
     "metadata": {},
     "output_type": "display_data"
    },
    {
     "data": {
      "text/html": [
       "<pre>Parsing completed. Parsed 8573 lines in 0.150008 secs.</pre>"
      ],
      "text/plain": [
       "Parsing completed. Parsed 8573 lines in 0.150008 secs."
      ]
     },
     "metadata": {},
     "output_type": "display_data"
    },
    {
     "data": {
      "text/html": [
       "<pre>Finished parsing file C:\\TURI\\Jacinta\\clean\\1016\\CT16.csv</pre>"
      ],
      "text/plain": [
       "Finished parsing file C:\\TURI\\Jacinta\\clean\\1016\\CT16.csv"
      ]
     },
     "metadata": {},
     "output_type": "display_data"
    },
    {
     "data": {
      "text/html": [
       "<pre>Parsing completed. Parsed 8889 lines in 0.165009 secs.</pre>"
      ],
      "text/plain": [
       "Parsing completed. Parsed 8889 lines in 0.165009 secs."
      ]
     },
     "metadata": {},
     "output_type": "display_data"
    },
    {
     "data": {
      "text/html": [
       "<pre>Finished parsing file C:\\TURI\\Jacinta\\clean\\1116\\CT16.csv</pre>"
      ],
      "text/plain": [
       "Finished parsing file C:\\TURI\\Jacinta\\clean\\1116\\CT16.csv"
      ]
     },
     "metadata": {},
     "output_type": "display_data"
    },
    {
     "data": {
      "text/html": [
       "<pre>Parsing completed. Parsed 8632 lines in 0.153009 secs.</pre>"
      ],
      "text/plain": [
       "Parsing completed. Parsed 8632 lines in 0.153009 secs."
      ]
     },
     "metadata": {},
     "output_type": "display_data"
    },
    {
     "data": {
      "text/html": [
       "<pre>Finished parsing file C:\\TURI\\Jacinta\\clean\\1216\\CT16.csv</pre>"
      ],
      "text/plain": [
       "Finished parsing file C:\\TURI\\Jacinta\\clean\\1216\\CT16.csv"
      ]
     },
     "metadata": {},
     "output_type": "display_data"
    },
    {
     "data": {
      "text/html": [
       "<pre>Parsing completed. Parsed 8920 lines in 0.165009 secs.</pre>"
      ],
      "text/plain": [
       "Parsing completed. Parsed 8920 lines in 0.165009 secs."
      ]
     },
     "metadata": {},
     "output_type": "display_data"
    },
    {
     "data": {
      "text/html": [
       "<pre>Finished parsing file C:\\TURI\\Jacinta\\clean\\0117\\CT16.csv</pre>"
      ],
      "text/plain": [
       "Finished parsing file C:\\TURI\\Jacinta\\clean\\0117\\CT16.csv"
      ]
     },
     "metadata": {},
     "output_type": "display_data"
    },
    {
     "data": {
      "text/html": [
       "<pre>Parsing completed. Parsed 8822 lines in 0.16501 secs.</pre>"
      ],
      "text/plain": [
       "Parsing completed. Parsed 8822 lines in 0.16501 secs."
      ]
     },
     "metadata": {},
     "output_type": "display_data"
    },
    {
     "data": {
      "text/html": [
       "<pre>Finished parsing file C:\\TURI\\Jacinta\\clean\\0217\\CT16.csv</pre>"
      ],
      "text/plain": [
       "Finished parsing file C:\\TURI\\Jacinta\\clean\\0217\\CT16.csv"
      ]
     },
     "metadata": {},
     "output_type": "display_data"
    },
    {
     "data": {
      "text/html": [
       "<pre>Parsing completed. Parsed 8035 lines in 0.137008 secs.</pre>"
      ],
      "text/plain": [
       "Parsing completed. Parsed 8035 lines in 0.137008 secs."
      ]
     },
     "metadata": {},
     "output_type": "display_data"
    },
    {
     "data": {
      "text/html": [
       "<pre>Finished parsing file C:\\TURI\\Jacinta\\clean\\0317\\CT16.csv</pre>"
      ],
      "text/plain": [
       "Finished parsing file C:\\TURI\\Jacinta\\clean\\0317\\CT16.csv"
      ]
     },
     "metadata": {},
     "output_type": "display_data"
    },
    {
     "data": {
      "text/html": [
       "<pre>Parsing completed. Parsed 5935 lines in 0.124007 secs.</pre>"
      ],
      "text/plain": [
       "Parsing completed. Parsed 5935 lines in 0.124007 secs."
      ]
     },
     "metadata": {},
     "output_type": "display_data"
    },
    {
     "data": {
      "text/html": [
       "<pre>Finished parsing file C:\\TURI\\Jacinta\\clean\\0616\\CT17.csv</pre>"
      ],
      "text/plain": [
       "Finished parsing file C:\\TURI\\Jacinta\\clean\\0616\\CT17.csv"
      ]
     },
     "metadata": {},
     "output_type": "display_data"
    },
    {
     "data": {
      "text/html": [
       "<pre>Parsing completed. Parsed 100 lines in 0.038002 secs.</pre>"
      ],
      "text/plain": [
       "Parsing completed. Parsed 100 lines in 0.038002 secs."
      ]
     },
     "metadata": {},
     "output_type": "display_data"
    },
    {
     "name": "stdout",
     "output_type": "stream",
     "text": [
      "------------------------------------------------------\n",
      "Inferred types from first 100 line(s) of file as \n",
      "column_type_hints=[str,long,long,long,float,float,float,long,float,long,long,long,long,float,float,float,long,float,long,long,float,float,long,long,long,long,long,long,float,long,float,long,long,float,long,long,long,long,float,long,long,long,long,long,float,float,long,long,long,long,long,long,float,long,float,long,long,float,long,long,long,long,float,long,long,long,long,long,float,float,long,long,long,long,long,long,float,long,float,long,long,float,long,long,long,long,float,long,long,long,long,long,float,float,long,long,long,long,long,long,float,long,float,long,long,float,long,long,long,long,float,long,long,long,long,long,float,float,long,long,long,long,long,long,float,long,float,long,long,float,long,long,long,long,float,long,long,long,long,long,float,float,long,long,long,long,long,long,float,long,float,long,long,float,long,long,long,long,float,long,long,long,long,long,float,float,long,long,long,long,long,long,float,long,float,long,long,float,long,long,long,long,float,long,long,long,long,long,float,float,long,long,long,long,long,long,float,long,float,long,long,float,long,long,long,long,float,long,long,long,long,long,float,float,float,float,float,float,float,float,float,float,float,float,long,float,float,float,float,float,float,float,float,float,float,float,float,long,long]\n",
      "If parsing fails due to incorrect types, you can correct\n",
      "the inferred type list above and pass it to read_csv in\n",
      "the column_type_hints argument\n",
      "------------------------------------------------------\n"
     ]
    },
    {
     "data": {
      "text/html": [
       "<pre>Finished parsing file C:\\TURI\\Jacinta\\clean\\0616\\CT17.csv</pre>"
      ],
      "text/plain": [
       "Finished parsing file C:\\TURI\\Jacinta\\clean\\0616\\CT17.csv"
      ]
     },
     "metadata": {},
     "output_type": "display_data"
    },
    {
     "data": {
      "text/html": [
       "<pre>Parsing completed. Parsed 2482 lines in 0.053003 secs.</pre>"
      ],
      "text/plain": [
       "Parsing completed. Parsed 2482 lines in 0.053003 secs."
      ]
     },
     "metadata": {},
     "output_type": "display_data"
    },
    {
     "data": {
      "text/html": [
       "<pre>Finished parsing file C:\\TURI\\Jacinta\\clean\\0716\\CT17.csv</pre>"
      ],
      "text/plain": [
       "Finished parsing file C:\\TURI\\Jacinta\\clean\\0716\\CT17.csv"
      ]
     },
     "metadata": {},
     "output_type": "display_data"
    },
    {
     "data": {
      "text/html": [
       "<pre>Parsing completed. Parsed 8843 lines in 0.166009 secs.</pre>"
      ],
      "text/plain": [
       "Parsing completed. Parsed 8843 lines in 0.166009 secs."
      ]
     },
     "metadata": {},
     "output_type": "display_data"
    },
    {
     "data": {
      "text/html": [
       "<pre>Finished parsing file C:\\TURI\\Jacinta\\clean\\0816\\CT17.csv</pre>"
      ],
      "text/plain": [
       "Finished parsing file C:\\TURI\\Jacinta\\clean\\0816\\CT17.csv"
      ]
     },
     "metadata": {},
     "output_type": "display_data"
    },
    {
     "data": {
      "text/html": [
       "<pre>Parsing completed. Parsed 8881 lines in 0.168009 secs.</pre>"
      ],
      "text/plain": [
       "Parsing completed. Parsed 8881 lines in 0.168009 secs."
      ]
     },
     "metadata": {},
     "output_type": "display_data"
    },
    {
     "data": {
      "text/html": [
       "<pre>Finished parsing file C:\\TURI\\Jacinta\\clean\\0916\\CT17.csv</pre>"
      ],
      "text/plain": [
       "Finished parsing file C:\\TURI\\Jacinta\\clean\\0916\\CT17.csv"
      ]
     },
     "metadata": {},
     "output_type": "display_data"
    },
    {
     "data": {
      "text/html": [
       "<pre>Parsing completed. Parsed 8573 lines in 0.16301 secs.</pre>"
      ],
      "text/plain": [
       "Parsing completed. Parsed 8573 lines in 0.16301 secs."
      ]
     },
     "metadata": {},
     "output_type": "display_data"
    },
    {
     "data": {
      "text/html": [
       "<pre>Finished parsing file C:\\TURI\\Jacinta\\clean\\1016\\CT17.csv</pre>"
      ],
      "text/plain": [
       "Finished parsing file C:\\TURI\\Jacinta\\clean\\1016\\CT17.csv"
      ]
     },
     "metadata": {},
     "output_type": "display_data"
    },
    {
     "data": {
      "text/html": [
       "<pre>Parsing completed. Parsed 8889 lines in 0.16001 secs.</pre>"
      ],
      "text/plain": [
       "Parsing completed. Parsed 8889 lines in 0.16001 secs."
      ]
     },
     "metadata": {},
     "output_type": "display_data"
    },
    {
     "data": {
      "text/html": [
       "<pre>Finished parsing file C:\\TURI\\Jacinta\\clean\\1116\\CT17.csv</pre>"
      ],
      "text/plain": [
       "Finished parsing file C:\\TURI\\Jacinta\\clean\\1116\\CT17.csv"
      ]
     },
     "metadata": {},
     "output_type": "display_data"
    },
    {
     "data": {
      "text/html": [
       "<pre>Parsing completed. Parsed 8632 lines in 0.16501 secs.</pre>"
      ],
      "text/plain": [
       "Parsing completed. Parsed 8632 lines in 0.16501 secs."
      ]
     },
     "metadata": {},
     "output_type": "display_data"
    },
    {
     "data": {
      "text/html": [
       "<pre>Finished parsing file C:\\TURI\\Jacinta\\clean\\1216\\CT17.csv</pre>"
      ],
      "text/plain": [
       "Finished parsing file C:\\TURI\\Jacinta\\clean\\1216\\CT17.csv"
      ]
     },
     "metadata": {},
     "output_type": "display_data"
    },
    {
     "data": {
      "text/html": [
       "<pre>Parsing completed. Parsed 8920 lines in 0.17001 secs.</pre>"
      ],
      "text/plain": [
       "Parsing completed. Parsed 8920 lines in 0.17001 secs."
      ]
     },
     "metadata": {},
     "output_type": "display_data"
    },
    {
     "data": {
      "text/html": [
       "<pre>Finished parsing file C:\\TURI\\Jacinta\\clean\\0117\\CT17.csv</pre>"
      ],
      "text/plain": [
       "Finished parsing file C:\\TURI\\Jacinta\\clean\\0117\\CT17.csv"
      ]
     },
     "metadata": {},
     "output_type": "display_data"
    },
    {
     "data": {
      "text/html": [
       "<pre>Parsing completed. Parsed 8822 lines in 0.165009 secs.</pre>"
      ],
      "text/plain": [
       "Parsing completed. Parsed 8822 lines in 0.165009 secs."
      ]
     },
     "metadata": {},
     "output_type": "display_data"
    },
    {
     "data": {
      "text/html": [
       "<pre>Finished parsing file C:\\TURI\\Jacinta\\clean\\0217\\CT17.csv</pre>"
      ],
      "text/plain": [
       "Finished parsing file C:\\TURI\\Jacinta\\clean\\0217\\CT17.csv"
      ]
     },
     "metadata": {},
     "output_type": "display_data"
    },
    {
     "data": {
      "text/html": [
       "<pre>Parsing completed. Parsed 8035 lines in 0.130007 secs.</pre>"
      ],
      "text/plain": [
       "Parsing completed. Parsed 8035 lines in 0.130007 secs."
      ]
     },
     "metadata": {},
     "output_type": "display_data"
    },
    {
     "data": {
      "text/html": [
       "<pre>Finished parsing file C:\\TURI\\Jacinta\\clean\\0317\\CT17.csv</pre>"
      ],
      "text/plain": [
       "Finished parsing file C:\\TURI\\Jacinta\\clean\\0317\\CT17.csv"
      ]
     },
     "metadata": {},
     "output_type": "display_data"
    },
    {
     "data": {
      "text/html": [
       "<pre>Parsing completed. Parsed 5935 lines in 0.123007 secs.</pre>"
      ],
      "text/plain": [
       "Parsing completed. Parsed 5935 lines in 0.123007 secs."
      ]
     },
     "metadata": {},
     "output_type": "display_data"
    },
    {
     "data": {
      "text/html": [
       "<pre>Finished parsing file C:\\TURI\\Jacinta\\clean\\0616\\CT18.csv</pre>"
      ],
      "text/plain": [
       "Finished parsing file C:\\TURI\\Jacinta\\clean\\0616\\CT18.csv"
      ]
     },
     "metadata": {},
     "output_type": "display_data"
    },
    {
     "data": {
      "text/html": [
       "<pre>Parsing completed. Parsed 100 lines in 0.041002 secs.</pre>"
      ],
      "text/plain": [
       "Parsing completed. Parsed 100 lines in 0.041002 secs."
      ]
     },
     "metadata": {},
     "output_type": "display_data"
    },
    {
     "name": "stdout",
     "output_type": "stream",
     "text": [
      "------------------------------------------------------\n",
      "Inferred types from first 100 line(s) of file as \n",
      "column_type_hints=[str,long,long,long,float,float,float,long,float,long,long,long,long,float,float,float,long,float,long,long,float,float,long,long,long,long,long,long,float,long,float,long,long,float,long,long,long,long,float,long,long,long,long,long,float,float,long,long,long,long,long,long,float,long,float,long,long,float,long,long,long,long,float,long,long,long,long,long,float,float,long,long,long,long,long,long,float,long,float,long,long,float,long,long,long,long,float,long,long,long,long,long,float,float,long,long,long,long,long,long,float,long,float,long,long,float,long,long,long,long,float,long,long,long,long,long,float,float,long,long,long,long,long,long,float,long,float,long,long,float,long,long,long,long,float,long,long,long,long,long,float,float,long,long,long,long,long,long,float,long,float,long,long,float,long,long,long,long,float,long,long,long,long,long,float,float,long,long,long,long,long,long,float,long,float,long,long,float,long,long,long,long,float,long,long,long,long,long,float,float,long,long,long,long,long,long,float,long,float,long,long,float,long,long,long,long,float,long,long,long,long,long,float,float,float,float,float,float,float,float,float,float,float,float,long,float,float,float,float,float,float,float,float,float,float,float,float,long,long]\n",
      "If parsing fails due to incorrect types, you can correct\n",
      "the inferred type list above and pass it to read_csv in\n",
      "the column_type_hints argument\n",
      "------------------------------------------------------\n"
     ]
    },
    {
     "data": {
      "text/html": [
       "<pre>Finished parsing file C:\\TURI\\Jacinta\\clean\\0616\\CT18.csv</pre>"
      ],
      "text/plain": [
       "Finished parsing file C:\\TURI\\Jacinta\\clean\\0616\\CT18.csv"
      ]
     },
     "metadata": {},
     "output_type": "display_data"
    },
    {
     "data": {
      "text/html": [
       "<pre>Parsing completed. Parsed 2482 lines in 0.053003 secs.</pre>"
      ],
      "text/plain": [
       "Parsing completed. Parsed 2482 lines in 0.053003 secs."
      ]
     },
     "metadata": {},
     "output_type": "display_data"
    },
    {
     "data": {
      "text/html": [
       "<pre>Finished parsing file C:\\TURI\\Jacinta\\clean\\0716\\CT18.csv</pre>"
      ],
      "text/plain": [
       "Finished parsing file C:\\TURI\\Jacinta\\clean\\0716\\CT18.csv"
      ]
     },
     "metadata": {},
     "output_type": "display_data"
    },
    {
     "data": {
      "text/html": [
       "<pre>Parsing completed. Parsed 8843 lines in 0.161009 secs.</pre>"
      ],
      "text/plain": [
       "Parsing completed. Parsed 8843 lines in 0.161009 secs."
      ]
     },
     "metadata": {},
     "output_type": "display_data"
    },
    {
     "data": {
      "text/html": [
       "<pre>Finished parsing file C:\\TURI\\Jacinta\\clean\\0816\\CT18.csv</pre>"
      ],
      "text/plain": [
       "Finished parsing file C:\\TURI\\Jacinta\\clean\\0816\\CT18.csv"
      ]
     },
     "metadata": {},
     "output_type": "display_data"
    },
    {
     "data": {
      "text/html": [
       "<pre>Parsing completed. Parsed 8881 lines in 0.161009 secs.</pre>"
      ],
      "text/plain": [
       "Parsing completed. Parsed 8881 lines in 0.161009 secs."
      ]
     },
     "metadata": {},
     "output_type": "display_data"
    },
    {
     "data": {
      "text/html": [
       "<pre>Finished parsing file C:\\TURI\\Jacinta\\clean\\0916\\CT18.csv</pre>"
      ],
      "text/plain": [
       "Finished parsing file C:\\TURI\\Jacinta\\clean\\0916\\CT18.csv"
      ]
     },
     "metadata": {},
     "output_type": "display_data"
    },
    {
     "data": {
      "text/html": [
       "<pre>Parsing completed. Parsed 8573 lines in 0.150009 secs.</pre>"
      ],
      "text/plain": [
       "Parsing completed. Parsed 8573 lines in 0.150009 secs."
      ]
     },
     "metadata": {},
     "output_type": "display_data"
    },
    {
     "data": {
      "text/html": [
       "<pre>Finished parsing file C:\\TURI\\Jacinta\\clean\\1016\\CT18.csv</pre>"
      ],
      "text/plain": [
       "Finished parsing file C:\\TURI\\Jacinta\\clean\\1016\\CT18.csv"
      ]
     },
     "metadata": {},
     "output_type": "display_data"
    },
    {
     "data": {
      "text/html": [
       "<pre>Parsing completed. Parsed 8889 lines in 0.16301 secs.</pre>"
      ],
      "text/plain": [
       "Parsing completed. Parsed 8889 lines in 0.16301 secs."
      ]
     },
     "metadata": {},
     "output_type": "display_data"
    },
    {
     "data": {
      "text/html": [
       "<pre>Finished parsing file C:\\TURI\\Jacinta\\clean\\1116\\CT18.csv</pre>"
      ],
      "text/plain": [
       "Finished parsing file C:\\TURI\\Jacinta\\clean\\1116\\CT18.csv"
      ]
     },
     "metadata": {},
     "output_type": "display_data"
    },
    {
     "data": {
      "text/html": [
       "<pre>Parsing completed. Parsed 8632 lines in 0.161009 secs.</pre>"
      ],
      "text/plain": [
       "Parsing completed. Parsed 8632 lines in 0.161009 secs."
      ]
     },
     "metadata": {},
     "output_type": "display_data"
    },
    {
     "data": {
      "text/html": [
       "<pre>Finished parsing file C:\\TURI\\Jacinta\\clean\\1216\\CT18.csv</pre>"
      ],
      "text/plain": [
       "Finished parsing file C:\\TURI\\Jacinta\\clean\\1216\\CT18.csv"
      ]
     },
     "metadata": {},
     "output_type": "display_data"
    },
    {
     "data": {
      "text/html": [
       "<pre>Parsing completed. Parsed 8920 lines in 0.165009 secs.</pre>"
      ],
      "text/plain": [
       "Parsing completed. Parsed 8920 lines in 0.165009 secs."
      ]
     },
     "metadata": {},
     "output_type": "display_data"
    },
    {
     "data": {
      "text/html": [
       "<pre>Finished parsing file C:\\TURI\\Jacinta\\clean\\0117\\CT18.csv</pre>"
      ],
      "text/plain": [
       "Finished parsing file C:\\TURI\\Jacinta\\clean\\0117\\CT18.csv"
      ]
     },
     "metadata": {},
     "output_type": "display_data"
    },
    {
     "data": {
      "text/html": [
       "<pre>Parsing completed. Parsed 8822 lines in 0.16701 secs.</pre>"
      ],
      "text/plain": [
       "Parsing completed. Parsed 8822 lines in 0.16701 secs."
      ]
     },
     "metadata": {},
     "output_type": "display_data"
    },
    {
     "data": {
      "text/html": [
       "<pre>Finished parsing file C:\\TURI\\Jacinta\\clean\\0217\\CT18.csv</pre>"
      ],
      "text/plain": [
       "Finished parsing file C:\\TURI\\Jacinta\\clean\\0217\\CT18.csv"
      ]
     },
     "metadata": {},
     "output_type": "display_data"
    },
    {
     "data": {
      "text/html": [
       "<pre>Parsing completed. Parsed 8035 lines in 0.127007 secs.</pre>"
      ],
      "text/plain": [
       "Parsing completed. Parsed 8035 lines in 0.127007 secs."
      ]
     },
     "metadata": {},
     "output_type": "display_data"
    },
    {
     "data": {
      "text/html": [
       "<pre>Finished parsing file C:\\TURI\\Jacinta\\clean\\0317\\CT18.csv</pre>"
      ],
      "text/plain": [
       "Finished parsing file C:\\TURI\\Jacinta\\clean\\0317\\CT18.csv"
      ]
     },
     "metadata": {},
     "output_type": "display_data"
    },
    {
     "data": {
      "text/html": [
       "<pre>Parsing completed. Parsed 5935 lines in 0.115006 secs.</pre>"
      ],
      "text/plain": [
       "Parsing completed. Parsed 5935 lines in 0.115006 secs."
      ]
     },
     "metadata": {},
     "output_type": "display_data"
    },
    {
     "data": {
      "text/html": [
       "<pre>Finished parsing file C:\\TURI\\Jacinta\\clean\\0616\\CT19.csv</pre>"
      ],
      "text/plain": [
       "Finished parsing file C:\\TURI\\Jacinta\\clean\\0616\\CT19.csv"
      ]
     },
     "metadata": {},
     "output_type": "display_data"
    },
    {
     "data": {
      "text/html": [
       "<pre>Parsing completed. Parsed 100 lines in 0.038002 secs.</pre>"
      ],
      "text/plain": [
       "Parsing completed. Parsed 100 lines in 0.038002 secs."
      ]
     },
     "metadata": {},
     "output_type": "display_data"
    },
    {
     "name": "stdout",
     "output_type": "stream",
     "text": [
      "------------------------------------------------------\n",
      "Inferred types from first 100 line(s) of file as \n",
      "column_type_hints=[str,long,long,long,float,float,float,long,float,long,long,long,long,float,float,float,long,float,long,long,float,float,long,long,long,long,long,long,float,long,float,long,long,float,long,long,long,long,float,long,long,long,long,long,float,float,long,long,long,long,long,long,float,long,float,long,long,float,long,long,long,long,float,long,long,long,long,long,float,float,long,long,long,long,long,long,float,long,float,long,long,float,long,long,long,long,float,long,long,long,long,long,float,float,long,long,long,long,long,long,float,long,float,long,long,float,long,long,long,long,float,long,long,long,long,long,float,float,long,long,long,long,long,long,float,long,float,long,long,float,long,long,long,long,float,long,long,long,long,long,float,float,long,long,long,long,long,long,float,long,float,long,long,float,long,long,long,long,float,long,long,long,long,long,float,float,long,long,long,long,long,long,float,long,float,long,long,float,long,long,long,long,float,long,long,long,long,long,float,float,long,long,long,long,long,long,float,long,float,long,long,float,long,long,long,long,float,long,long,long,long,long,float,float,float,float,float,float,float,float,float,float,float,float,long,float,float,float,float,float,float,float,float,float,float,float,float,long,long]\n",
      "If parsing fails due to incorrect types, you can correct\n",
      "the inferred type list above and pass it to read_csv in\n",
      "the column_type_hints argument\n",
      "------------------------------------------------------\n"
     ]
    },
    {
     "data": {
      "text/html": [
       "<pre>Finished parsing file C:\\TURI\\Jacinta\\clean\\0616\\CT19.csv</pre>"
      ],
      "text/plain": [
       "Finished parsing file C:\\TURI\\Jacinta\\clean\\0616\\CT19.csv"
      ]
     },
     "metadata": {},
     "output_type": "display_data"
    },
    {
     "data": {
      "text/html": [
       "<pre>Parsing completed. Parsed 2482 lines in 0.052003 secs.</pre>"
      ],
      "text/plain": [
       "Parsing completed. Parsed 2482 lines in 0.052003 secs."
      ]
     },
     "metadata": {},
     "output_type": "display_data"
    },
    {
     "data": {
      "text/html": [
       "<pre>Finished parsing file C:\\TURI\\Jacinta\\clean\\0716\\CT19.csv</pre>"
      ],
      "text/plain": [
       "Finished parsing file C:\\TURI\\Jacinta\\clean\\0716\\CT19.csv"
      ]
     },
     "metadata": {},
     "output_type": "display_data"
    },
    {
     "data": {
      "text/html": [
       "<pre>Parsing completed. Parsed 8843 lines in 0.156009 secs.</pre>"
      ],
      "text/plain": [
       "Parsing completed. Parsed 8843 lines in 0.156009 secs."
      ]
     },
     "metadata": {},
     "output_type": "display_data"
    },
    {
     "data": {
      "text/html": [
       "<pre>Finished parsing file C:\\TURI\\Jacinta\\clean\\0816\\CT19.csv</pre>"
      ],
      "text/plain": [
       "Finished parsing file C:\\TURI\\Jacinta\\clean\\0816\\CT19.csv"
      ]
     },
     "metadata": {},
     "output_type": "display_data"
    },
    {
     "data": {
      "text/html": [
       "<pre>Parsing completed. Parsed 8881 lines in 0.160009 secs.</pre>"
      ],
      "text/plain": [
       "Parsing completed. Parsed 8881 lines in 0.160009 secs."
      ]
     },
     "metadata": {},
     "output_type": "display_data"
    },
    {
     "data": {
      "text/html": [
       "<pre>Finished parsing file C:\\TURI\\Jacinta\\clean\\0916\\CT19.csv</pre>"
      ],
      "text/plain": [
       "Finished parsing file C:\\TURI\\Jacinta\\clean\\0916\\CT19.csv"
      ]
     },
     "metadata": {},
     "output_type": "display_data"
    },
    {
     "data": {
      "text/html": [
       "<pre>Parsing completed. Parsed 8573 lines in 0.166009 secs.</pre>"
      ],
      "text/plain": [
       "Parsing completed. Parsed 8573 lines in 0.166009 secs."
      ]
     },
     "metadata": {},
     "output_type": "display_data"
    },
    {
     "data": {
      "text/html": [
       "<pre>Finished parsing file C:\\TURI\\Jacinta\\clean\\1016\\CT19.csv</pre>"
      ],
      "text/plain": [
       "Finished parsing file C:\\TURI\\Jacinta\\clean\\1016\\CT19.csv"
      ]
     },
     "metadata": {},
     "output_type": "display_data"
    },
    {
     "data": {
      "text/html": [
       "<pre>Parsing completed. Parsed 8889 lines in 0.16801 secs.</pre>"
      ],
      "text/plain": [
       "Parsing completed. Parsed 8889 lines in 0.16801 secs."
      ]
     },
     "metadata": {},
     "output_type": "display_data"
    },
    {
     "data": {
      "text/html": [
       "<pre>Finished parsing file C:\\TURI\\Jacinta\\clean\\1116\\CT19.csv</pre>"
      ],
      "text/plain": [
       "Finished parsing file C:\\TURI\\Jacinta\\clean\\1116\\CT19.csv"
      ]
     },
     "metadata": {},
     "output_type": "display_data"
    },
    {
     "data": {
      "text/html": [
       "<pre>Parsing completed. Parsed 8632 lines in 0.158009 secs.</pre>"
      ],
      "text/plain": [
       "Parsing completed. Parsed 8632 lines in 0.158009 secs."
      ]
     },
     "metadata": {},
     "output_type": "display_data"
    },
    {
     "data": {
      "text/html": [
       "<pre>Finished parsing file C:\\TURI\\Jacinta\\clean\\1216\\CT19.csv</pre>"
      ],
      "text/plain": [
       "Finished parsing file C:\\TURI\\Jacinta\\clean\\1216\\CT19.csv"
      ]
     },
     "metadata": {},
     "output_type": "display_data"
    },
    {
     "data": {
      "text/html": [
       "<pre>Parsing completed. Parsed 8920 lines in 0.169009 secs.</pre>"
      ],
      "text/plain": [
       "Parsing completed. Parsed 8920 lines in 0.169009 secs."
      ]
     },
     "metadata": {},
     "output_type": "display_data"
    },
    {
     "data": {
      "text/html": [
       "<pre>Finished parsing file C:\\TURI\\Jacinta\\clean\\0117\\CT19.csv</pre>"
      ],
      "text/plain": [
       "Finished parsing file C:\\TURI\\Jacinta\\clean\\0117\\CT19.csv"
      ]
     },
     "metadata": {},
     "output_type": "display_data"
    },
    {
     "data": {
      "text/html": [
       "<pre>Parsing completed. Parsed 8822 lines in 0.16801 secs.</pre>"
      ],
      "text/plain": [
       "Parsing completed. Parsed 8822 lines in 0.16801 secs."
      ]
     },
     "metadata": {},
     "output_type": "display_data"
    },
    {
     "data": {
      "text/html": [
       "<pre>Finished parsing file C:\\TURI\\Jacinta\\clean\\0217\\CT19.csv</pre>"
      ],
      "text/plain": [
       "Finished parsing file C:\\TURI\\Jacinta\\clean\\0217\\CT19.csv"
      ]
     },
     "metadata": {},
     "output_type": "display_data"
    },
    {
     "data": {
      "text/html": [
       "<pre>Parsing completed. Parsed 8035 lines in 0.137008 secs.</pre>"
      ],
      "text/plain": [
       "Parsing completed. Parsed 8035 lines in 0.137008 secs."
      ]
     },
     "metadata": {},
     "output_type": "display_data"
    },
    {
     "data": {
      "text/html": [
       "<pre>Finished parsing file C:\\TURI\\Jacinta\\clean\\0317\\CT19.csv</pre>"
      ],
      "text/plain": [
       "Finished parsing file C:\\TURI\\Jacinta\\clean\\0317\\CT19.csv"
      ]
     },
     "metadata": {},
     "output_type": "display_data"
    },
    {
     "data": {
      "text/html": [
       "<pre>Parsing completed. Parsed 5935 lines in 0.124007 secs.</pre>"
      ],
      "text/plain": [
       "Parsing completed. Parsed 5935 lines in 0.124007 secs."
      ]
     },
     "metadata": {},
     "output_type": "display_data"
    },
    {
     "data": {
      "text/html": [
       "<pre>Finished parsing file C:\\TURI\\Jacinta\\clean\\0616\\CT20.csv</pre>"
      ],
      "text/plain": [
       "Finished parsing file C:\\TURI\\Jacinta\\clean\\0616\\CT20.csv"
      ]
     },
     "metadata": {},
     "output_type": "display_data"
    },
    {
     "data": {
      "text/html": [
       "<pre>Parsing completed. Parsed 100 lines in 0.040002 secs.</pre>"
      ],
      "text/plain": [
       "Parsing completed. Parsed 100 lines in 0.040002 secs."
      ]
     },
     "metadata": {},
     "output_type": "display_data"
    },
    {
     "name": "stdout",
     "output_type": "stream",
     "text": [
      "------------------------------------------------------\n",
      "Inferred types from first 100 line(s) of file as \n",
      "column_type_hints=[str,long,long,long,long,long,long,long,long,long,long,long,long,long,long,long,long,long,long,long,long,long,long,long,long,long,long,long,long,long,long,long,long,long,long,long,long,long,long,long,long,long,long,long,long,long,long,long,long,long,long,long,long,long,long,long,long,long,long,long,long,long,long,long,long,long,long,long,long,long,long,long,long,long,long,long,long,long,long,long,long,long,long,long,long,long,long,long,long,long,long,long,long,long,long,long,long,long,long,long,long,long,long,long,long,long,long,long,long,long,long,long,long,long,long,long,long,long,long,long,long,long,long,long,long,long,long,long,long,long,long,long,long,long,long,long,long,long,long,long,long,long,long,long,long,long,long,long,long,long,long,long,long,long,long,long,long,long,long,long,long,long,long,long,long,long,long,long,long,long,long,long,long,long,long,long,long,long,long,long,long,long,long,long,long,long,long,long,long,long,long,long,long,long,long,long,long,long,long,long,long,long,long,long,long,long,long,long,long,long,long,long,long,long,long,long,long,long,long,long,long,long,long,long,long,long,long,long,long,long,long,long,long,long,long,long,long,long,long]\n",
      "If parsing fails due to incorrect types, you can correct\n",
      "the inferred type list above and pass it to read_csv in\n",
      "the column_type_hints argument\n",
      "------------------------------------------------------\n"
     ]
    },
    {
     "data": {
      "text/html": [
       "<pre>Finished parsing file C:\\TURI\\Jacinta\\clean\\0616\\CT20.csv</pre>"
      ],
      "text/plain": [
       "Finished parsing file C:\\TURI\\Jacinta\\clean\\0616\\CT20.csv"
      ]
     },
     "metadata": {},
     "output_type": "display_data"
    },
    {
     "data": {
      "text/html": [
       "<pre>Parsing completed. Parsed 2482 lines in 0.052003 secs.</pre>"
      ],
      "text/plain": [
       "Parsing completed. Parsed 2482 lines in 0.052003 secs."
      ]
     },
     "metadata": {},
     "output_type": "display_data"
    },
    {
     "data": {
      "text/html": [
       "<pre>Finished parsing file C:\\TURI\\Jacinta\\clean\\0716\\CT20.csv</pre>"
      ],
      "text/plain": [
       "Finished parsing file C:\\TURI\\Jacinta\\clean\\0716\\CT20.csv"
      ]
     },
     "metadata": {},
     "output_type": "display_data"
    },
    {
     "data": {
      "text/html": [
       "<pre>Parsing completed. Parsed 8843 lines in 0.163009 secs.</pre>"
      ],
      "text/plain": [
       "Parsing completed. Parsed 8843 lines in 0.163009 secs."
      ]
     },
     "metadata": {},
     "output_type": "display_data"
    },
    {
     "data": {
      "text/html": [
       "<pre>Finished parsing file C:\\TURI\\Jacinta\\clean\\0816\\CT20.csv</pre>"
      ],
      "text/plain": [
       "Finished parsing file C:\\TURI\\Jacinta\\clean\\0816\\CT20.csv"
      ]
     },
     "metadata": {},
     "output_type": "display_data"
    },
    {
     "data": {
      "text/html": [
       "<pre>Parsing completed. Parsed 8881 lines in 0.16001 secs.</pre>"
      ],
      "text/plain": [
       "Parsing completed. Parsed 8881 lines in 0.16001 secs."
      ]
     },
     "metadata": {},
     "output_type": "display_data"
    },
    {
     "data": {
      "text/html": [
       "<pre>Finished parsing file C:\\TURI\\Jacinta\\clean\\0916\\CT20.csv</pre>"
      ],
      "text/plain": [
       "Finished parsing file C:\\TURI\\Jacinta\\clean\\0916\\CT20.csv"
      ]
     },
     "metadata": {},
     "output_type": "display_data"
    },
    {
     "data": {
      "text/html": [
       "<pre>Parsing completed. Parsed 8573 lines in 0.160009 secs.</pre>"
      ],
      "text/plain": [
       "Parsing completed. Parsed 8573 lines in 0.160009 secs."
      ]
     },
     "metadata": {},
     "output_type": "display_data"
    },
    {
     "data": {
      "text/html": [
       "<pre>Finished parsing file C:\\TURI\\Jacinta\\clean\\1016\\CT20.csv</pre>"
      ],
      "text/plain": [
       "Finished parsing file C:\\TURI\\Jacinta\\clean\\1016\\CT20.csv"
      ]
     },
     "metadata": {},
     "output_type": "display_data"
    },
    {
     "data": {
      "text/html": [
       "<pre>Parsing completed. Parsed 8889 lines in 0.154008 secs.</pre>"
      ],
      "text/plain": [
       "Parsing completed. Parsed 8889 lines in 0.154008 secs."
      ]
     },
     "metadata": {},
     "output_type": "display_data"
    },
    {
     "data": {
      "text/html": [
       "<pre>Finished parsing file C:\\TURI\\Jacinta\\clean\\1116\\CT20.csv</pre>"
      ],
      "text/plain": [
       "Finished parsing file C:\\TURI\\Jacinta\\clean\\1116\\CT20.csv"
      ]
     },
     "metadata": {},
     "output_type": "display_data"
    },
    {
     "data": {
      "text/html": [
       "<pre>Parsing completed. Parsed 8632 lines in 0.161009 secs.</pre>"
      ],
      "text/plain": [
       "Parsing completed. Parsed 8632 lines in 0.161009 secs."
      ]
     },
     "metadata": {},
     "output_type": "display_data"
    },
    {
     "data": {
      "text/html": [
       "<pre>Finished parsing file C:\\TURI\\Jacinta\\clean\\1216\\CT20.csv</pre>"
      ],
      "text/plain": [
       "Finished parsing file C:\\TURI\\Jacinta\\clean\\1216\\CT20.csv"
      ]
     },
     "metadata": {},
     "output_type": "display_data"
    },
    {
     "data": {
      "text/html": [
       "<pre>Parsing completed. Parsed 8920 lines in 0.169009 secs.</pre>"
      ],
      "text/plain": [
       "Parsing completed. Parsed 8920 lines in 0.169009 secs."
      ]
     },
     "metadata": {},
     "output_type": "display_data"
    },
    {
     "data": {
      "text/html": [
       "<pre>Finished parsing file C:\\TURI\\Jacinta\\clean\\0117\\CT20.csv</pre>"
      ],
      "text/plain": [
       "Finished parsing file C:\\TURI\\Jacinta\\clean\\0117\\CT20.csv"
      ]
     },
     "metadata": {},
     "output_type": "display_data"
    },
    {
     "data": {
      "text/html": [
       "<pre>Parsing completed. Parsed 8822 lines in 0.168009 secs.</pre>"
      ],
      "text/plain": [
       "Parsing completed. Parsed 8822 lines in 0.168009 secs."
      ]
     },
     "metadata": {},
     "output_type": "display_data"
    },
    {
     "data": {
      "text/html": [
       "<pre>Finished parsing file C:\\TURI\\Jacinta\\clean\\0217\\CT20.csv</pre>"
      ],
      "text/plain": [
       "Finished parsing file C:\\TURI\\Jacinta\\clean\\0217\\CT20.csv"
      ]
     },
     "metadata": {},
     "output_type": "display_data"
    },
    {
     "data": {
      "text/html": [
       "<pre>Parsing completed. Parsed 8035 lines in 0.132007 secs.</pre>"
      ],
      "text/plain": [
       "Parsing completed. Parsed 8035 lines in 0.132007 secs."
      ]
     },
     "metadata": {},
     "output_type": "display_data"
    },
    {
     "data": {
      "text/html": [
       "<pre>Finished parsing file C:\\TURI\\Jacinta\\clean\\0317\\CT20.csv</pre>"
      ],
      "text/plain": [
       "Finished parsing file C:\\TURI\\Jacinta\\clean\\0317\\CT20.csv"
      ]
     },
     "metadata": {},
     "output_type": "display_data"
    },
    {
     "data": {
      "text/html": [
       "<pre>Parsing completed. Parsed 5935 lines in 0.114006 secs.</pre>"
      ],
      "text/plain": [
       "Parsing completed. Parsed 5935 lines in 0.114006 secs."
      ]
     },
     "metadata": {},
     "output_type": "display_data"
    },
    {
     "data": {
      "text/html": [
       "<pre>Finished parsing file C:\\TURI\\Jacinta\\clean\\0616\\CT21.csv</pre>"
      ],
      "text/plain": [
       "Finished parsing file C:\\TURI\\Jacinta\\clean\\0616\\CT21.csv"
      ]
     },
     "metadata": {},
     "output_type": "display_data"
    },
    {
     "data": {
      "text/html": [
       "<pre>Parsing completed. Parsed 100 lines in 0.044003 secs.</pre>"
      ],
      "text/plain": [
       "Parsing completed. Parsed 100 lines in 0.044003 secs."
      ]
     },
     "metadata": {},
     "output_type": "display_data"
    },
    {
     "name": "stdout",
     "output_type": "stream",
     "text": [
      "------------------------------------------------------\n",
      "Inferred types from first 100 line(s) of file as \n",
      "column_type_hints=[str,long,long,long,float,float,float,long,float,long,long,long,long,float,float,float,long,float,long,long,float,float,long,long,long,long,long,long,float,long,float,long,long,float,long,long,long,long,float,long,long,long,long,long,float,float,long,long,long,long,long,long,float,long,float,long,long,float,long,long,long,long,float,long,long,long,long,long,float,float,long,long,long,long,long,long,float,long,float,long,long,float,long,long,long,long,float,long,long,long,long,long,float,float,long,long,long,long,long,long,float,long,float,long,long,float,long,long,long,long,float,long,long,long,long,long,float,float,long,long,long,long,long,long,float,long,float,long,long,float,long,long,long,long,float,long,long,long,long,long,float,float,long,long,long,long,long,long,float,long,float,long,long,float,long,long,long,long,float,long,long,long,long,long,float,float,long,long,long,long,long,long,float,long,float,long,long,float,long,long,long,long,float,long,long,long,long,long,float,float,long,long,long,long,long,long,float,long,float,long,long,float,long,long,long,long,float,long,long,long,long,long,float,float,float,float,float,float,float,float,float,float,float,float,long,float,float,float,float,float,float,float,float,float,float,float,float,long,long]\n",
      "If parsing fails due to incorrect types, you can correct\n",
      "the inferred type list above and pass it to read_csv in\n",
      "the column_type_hints argument\n",
      "------------------------------------------------------\n"
     ]
    },
    {
     "data": {
      "text/html": [
       "<pre>Finished parsing file C:\\TURI\\Jacinta\\clean\\0616\\CT21.csv</pre>"
      ],
      "text/plain": [
       "Finished parsing file C:\\TURI\\Jacinta\\clean\\0616\\CT21.csv"
      ]
     },
     "metadata": {},
     "output_type": "display_data"
    },
    {
     "data": {
      "text/html": [
       "<pre>Parsing completed. Parsed 2482 lines in 0.054003 secs.</pre>"
      ],
      "text/plain": [
       "Parsing completed. Parsed 2482 lines in 0.054003 secs."
      ]
     },
     "metadata": {},
     "output_type": "display_data"
    },
    {
     "data": {
      "text/html": [
       "<pre>Finished parsing file C:\\TURI\\Jacinta\\clean\\0716\\CT21.csv</pre>"
      ],
      "text/plain": [
       "Finished parsing file C:\\TURI\\Jacinta\\clean\\0716\\CT21.csv"
      ]
     },
     "metadata": {},
     "output_type": "display_data"
    },
    {
     "data": {
      "text/html": [
       "<pre>Parsing completed. Parsed 8843 lines in 0.161009 secs.</pre>"
      ],
      "text/plain": [
       "Parsing completed. Parsed 8843 lines in 0.161009 secs."
      ]
     },
     "metadata": {},
     "output_type": "display_data"
    },
    {
     "data": {
      "text/html": [
       "<pre>Finished parsing file C:\\TURI\\Jacinta\\clean\\0816\\CT21.csv</pre>"
      ],
      "text/plain": [
       "Finished parsing file C:\\TURI\\Jacinta\\clean\\0816\\CT21.csv"
      ]
     },
     "metadata": {},
     "output_type": "display_data"
    },
    {
     "data": {
      "text/html": [
       "<pre>Parsing completed. Parsed 8881 lines in 0.165009 secs.</pre>"
      ],
      "text/plain": [
       "Parsing completed. Parsed 8881 lines in 0.165009 secs."
      ]
     },
     "metadata": {},
     "output_type": "display_data"
    },
    {
     "data": {
      "text/html": [
       "<pre>Finished parsing file C:\\TURI\\Jacinta\\clean\\0916\\CT21.csv</pre>"
      ],
      "text/plain": [
       "Finished parsing file C:\\TURI\\Jacinta\\clean\\0916\\CT21.csv"
      ]
     },
     "metadata": {},
     "output_type": "display_data"
    },
    {
     "data": {
      "text/html": [
       "<pre>Parsing completed. Parsed 8573 lines in 0.165009 secs.</pre>"
      ],
      "text/plain": [
       "Parsing completed. Parsed 8573 lines in 0.165009 secs."
      ]
     },
     "metadata": {},
     "output_type": "display_data"
    },
    {
     "data": {
      "text/html": [
       "<pre>Finished parsing file C:\\TURI\\Jacinta\\clean\\1016\\CT21.csv</pre>"
      ],
      "text/plain": [
       "Finished parsing file C:\\TURI\\Jacinta\\clean\\1016\\CT21.csv"
      ]
     },
     "metadata": {},
     "output_type": "display_data"
    },
    {
     "data": {
      "text/html": [
       "<pre>Parsing completed. Parsed 8889 lines in 0.16601 secs.</pre>"
      ],
      "text/plain": [
       "Parsing completed. Parsed 8889 lines in 0.16601 secs."
      ]
     },
     "metadata": {},
     "output_type": "display_data"
    },
    {
     "data": {
      "text/html": [
       "<pre>Finished parsing file C:\\TURI\\Jacinta\\clean\\1116\\CT21.csv</pre>"
      ],
      "text/plain": [
       "Finished parsing file C:\\TURI\\Jacinta\\clean\\1116\\CT21.csv"
      ]
     },
     "metadata": {},
     "output_type": "display_data"
    },
    {
     "data": {
      "text/html": [
       "<pre>Parsing completed. Parsed 8632 lines in 0.164009 secs.</pre>"
      ],
      "text/plain": [
       "Parsing completed. Parsed 8632 lines in 0.164009 secs."
      ]
     },
     "metadata": {},
     "output_type": "display_data"
    },
    {
     "data": {
      "text/html": [
       "<pre>Finished parsing file C:\\TURI\\Jacinta\\clean\\1216\\CT21.csv</pre>"
      ],
      "text/plain": [
       "Finished parsing file C:\\TURI\\Jacinta\\clean\\1216\\CT21.csv"
      ]
     },
     "metadata": {},
     "output_type": "display_data"
    },
    {
     "data": {
      "text/html": [
       "<pre>Parsing completed. Parsed 8920 lines in 0.17101 secs.</pre>"
      ],
      "text/plain": [
       "Parsing completed. Parsed 8920 lines in 0.17101 secs."
      ]
     },
     "metadata": {},
     "output_type": "display_data"
    },
    {
     "data": {
      "text/html": [
       "<pre>Finished parsing file C:\\TURI\\Jacinta\\clean\\0117\\CT21.csv</pre>"
      ],
      "text/plain": [
       "Finished parsing file C:\\TURI\\Jacinta\\clean\\0117\\CT21.csv"
      ]
     },
     "metadata": {},
     "output_type": "display_data"
    },
    {
     "data": {
      "text/html": [
       "<pre>Parsing completed. Parsed 8822 lines in 0.168009 secs.</pre>"
      ],
      "text/plain": [
       "Parsing completed. Parsed 8822 lines in 0.168009 secs."
      ]
     },
     "metadata": {},
     "output_type": "display_data"
    },
    {
     "data": {
      "text/html": [
       "<pre>Finished parsing file C:\\TURI\\Jacinta\\clean\\0217\\CT21.csv</pre>"
      ],
      "text/plain": [
       "Finished parsing file C:\\TURI\\Jacinta\\clean\\0217\\CT21.csv"
      ]
     },
     "metadata": {},
     "output_type": "display_data"
    },
    {
     "data": {
      "text/html": [
       "<pre>Parsing completed. Parsed 8035 lines in 0.127007 secs.</pre>"
      ],
      "text/plain": [
       "Parsing completed. Parsed 8035 lines in 0.127007 secs."
      ]
     },
     "metadata": {},
     "output_type": "display_data"
    },
    {
     "data": {
      "text/html": [
       "<pre>Finished parsing file C:\\TURI\\Jacinta\\clean\\0317\\CT21.csv</pre>"
      ],
      "text/plain": [
       "Finished parsing file C:\\TURI\\Jacinta\\clean\\0317\\CT21.csv"
      ]
     },
     "metadata": {},
     "output_type": "display_data"
    },
    {
     "data": {
      "text/html": [
       "<pre>Parsing completed. Parsed 5935 lines in 0.129007 secs.</pre>"
      ],
      "text/plain": [
       "Parsing completed. Parsed 5935 lines in 0.129007 secs."
      ]
     },
     "metadata": {},
     "output_type": "display_data"
    },
    {
     "data": {
      "text/html": [
       "<pre>Finished parsing file C:\\TURI\\Jacinta\\clean\\0616\\CT22.csv</pre>"
      ],
      "text/plain": [
       "Finished parsing file C:\\TURI\\Jacinta\\clean\\0616\\CT22.csv"
      ]
     },
     "metadata": {},
     "output_type": "display_data"
    },
    {
     "data": {
      "text/html": [
       "<pre>Parsing completed. Parsed 100 lines in 0.042002 secs.</pre>"
      ],
      "text/plain": [
       "Parsing completed. Parsed 100 lines in 0.042002 secs."
      ]
     },
     "metadata": {},
     "output_type": "display_data"
    },
    {
     "name": "stdout",
     "output_type": "stream",
     "text": [
      "------------------------------------------------------\n",
      "Inferred types from first 100 line(s) of file as \n",
      "column_type_hints=[str,long,long,long,float,float,float,long,float,long,long,long,long,float,float,float,long,float,long,long,float,float,long,long,long,long,long,long,float,long,float,long,long,float,long,long,long,long,float,long,long,long,long,long,float,float,long,long,long,long,long,long,float,long,float,long,long,float,long,long,long,long,float,long,long,long,long,long,float,float,long,long,long,long,long,long,float,long,float,long,long,float,long,long,long,long,float,long,long,long,long,long,float,float,long,long,long,long,long,long,float,long,float,long,long,float,long,long,long,long,float,long,long,long,long,long,float,float,long,long,long,long,long,long,float,long,float,long,long,float,long,long,long,long,float,long,long,long,long,long,float,float,long,long,long,long,long,long,float,long,float,long,long,float,long,long,long,long,float,long,long,long,long,long,float,float,long,long,long,long,long,long,float,long,float,long,long,float,long,long,long,float,float,long,long,long,long,long,float,float,long,long,long,long,long,long,float,long,float,long,long,float,long,long,long,long,float,long,long,long,long,long,float,float,float,float,float,float,float,float,float,float,float,float,long,float,float,float,float,float,float,float,float,float,float,float,float,long,long]\n",
      "If parsing fails due to incorrect types, you can correct\n",
      "the inferred type list above and pass it to read_csv in\n",
      "the column_type_hints argument\n",
      "------------------------------------------------------\n"
     ]
    },
    {
     "data": {
      "text/html": [
       "<pre>Finished parsing file C:\\TURI\\Jacinta\\clean\\0616\\CT22.csv</pre>"
      ],
      "text/plain": [
       "Finished parsing file C:\\TURI\\Jacinta\\clean\\0616\\CT22.csv"
      ]
     },
     "metadata": {},
     "output_type": "display_data"
    },
    {
     "data": {
      "text/html": [
       "<pre>Parsing completed. Parsed 2482 lines in 0.056003 secs.</pre>"
      ],
      "text/plain": [
       "Parsing completed. Parsed 2482 lines in 0.056003 secs."
      ]
     },
     "metadata": {},
     "output_type": "display_data"
    },
    {
     "data": {
      "text/html": [
       "<pre>Finished parsing file C:\\TURI\\Jacinta\\clean\\0716\\CT22.csv</pre>"
      ],
      "text/plain": [
       "Finished parsing file C:\\TURI\\Jacinta\\clean\\0716\\CT22.csv"
      ]
     },
     "metadata": {},
     "output_type": "display_data"
    },
    {
     "data": {
      "text/html": [
       "<pre>Parsing completed. Parsed 8843 lines in 0.169009 secs.</pre>"
      ],
      "text/plain": [
       "Parsing completed. Parsed 8843 lines in 0.169009 secs."
      ]
     },
     "metadata": {},
     "output_type": "display_data"
    },
    {
     "data": {
      "text/html": [
       "<pre>Finished parsing file C:\\TURI\\Jacinta\\clean\\0816\\CT22.csv</pre>"
      ],
      "text/plain": [
       "Finished parsing file C:\\TURI\\Jacinta\\clean\\0816\\CT22.csv"
      ]
     },
     "metadata": {},
     "output_type": "display_data"
    },
    {
     "data": {
      "text/html": [
       "<pre>Parsing completed. Parsed 8881 lines in 0.165009 secs.</pre>"
      ],
      "text/plain": [
       "Parsing completed. Parsed 8881 lines in 0.165009 secs."
      ]
     },
     "metadata": {},
     "output_type": "display_data"
    },
    {
     "data": {
      "text/html": [
       "<pre>Finished parsing file C:\\TURI\\Jacinta\\clean\\0916\\CT22.csv</pre>"
      ],
      "text/plain": [
       "Finished parsing file C:\\TURI\\Jacinta\\clean\\0916\\CT22.csv"
      ]
     },
     "metadata": {},
     "output_type": "display_data"
    },
    {
     "data": {
      "text/html": [
       "<pre>Parsing completed. Parsed 8573 lines in 0.16501 secs.</pre>"
      ],
      "text/plain": [
       "Parsing completed. Parsed 8573 lines in 0.16501 secs."
      ]
     },
     "metadata": {},
     "output_type": "display_data"
    },
    {
     "data": {
      "text/html": [
       "<pre>Finished parsing file C:\\TURI\\Jacinta\\clean\\1016\\CT22.csv</pre>"
      ],
      "text/plain": [
       "Finished parsing file C:\\TURI\\Jacinta\\clean\\1016\\CT22.csv"
      ]
     },
     "metadata": {},
     "output_type": "display_data"
    },
    {
     "data": {
      "text/html": [
       "<pre>Parsing completed. Parsed 8889 lines in 0.17101 secs.</pre>"
      ],
      "text/plain": [
       "Parsing completed. Parsed 8889 lines in 0.17101 secs."
      ]
     },
     "metadata": {},
     "output_type": "display_data"
    },
    {
     "data": {
      "text/html": [
       "<pre>Finished parsing file C:\\TURI\\Jacinta\\clean\\1116\\CT22.csv</pre>"
      ],
      "text/plain": [
       "Finished parsing file C:\\TURI\\Jacinta\\clean\\1116\\CT22.csv"
      ]
     },
     "metadata": {},
     "output_type": "display_data"
    },
    {
     "data": {
      "text/html": [
       "<pre>Parsing completed. Parsed 8632 lines in 0.17601 secs.</pre>"
      ],
      "text/plain": [
       "Parsing completed. Parsed 8632 lines in 0.17601 secs."
      ]
     },
     "metadata": {},
     "output_type": "display_data"
    },
    {
     "data": {
      "text/html": [
       "<pre>Finished parsing file C:\\TURI\\Jacinta\\clean\\1216\\CT22.csv</pre>"
      ],
      "text/plain": [
       "Finished parsing file C:\\TURI\\Jacinta\\clean\\1216\\CT22.csv"
      ]
     },
     "metadata": {},
     "output_type": "display_data"
    },
    {
     "data": {
      "text/html": [
       "<pre>Parsing completed. Parsed 8920 lines in 0.17201 secs.</pre>"
      ],
      "text/plain": [
       "Parsing completed. Parsed 8920 lines in 0.17201 secs."
      ]
     },
     "metadata": {},
     "output_type": "display_data"
    },
    {
     "data": {
      "text/html": [
       "<pre>Finished parsing file C:\\TURI\\Jacinta\\clean\\0117\\CT22.csv</pre>"
      ],
      "text/plain": [
       "Finished parsing file C:\\TURI\\Jacinta\\clean\\0117\\CT22.csv"
      ]
     },
     "metadata": {},
     "output_type": "display_data"
    },
    {
     "data": {
      "text/html": [
       "<pre>Parsing completed. Parsed 8822 lines in 0.168009 secs.</pre>"
      ],
      "text/plain": [
       "Parsing completed. Parsed 8822 lines in 0.168009 secs."
      ]
     },
     "metadata": {},
     "output_type": "display_data"
    },
    {
     "data": {
      "text/html": [
       "<pre>Finished parsing file C:\\TURI\\Jacinta\\clean\\0217\\CT22.csv</pre>"
      ],
      "text/plain": [
       "Finished parsing file C:\\TURI\\Jacinta\\clean\\0217\\CT22.csv"
      ]
     },
     "metadata": {},
     "output_type": "display_data"
    },
    {
     "data": {
      "text/html": [
       "<pre>Parsing completed. Parsed 8035 lines in 0.143008 secs.</pre>"
      ],
      "text/plain": [
       "Parsing completed. Parsed 8035 lines in 0.143008 secs."
      ]
     },
     "metadata": {},
     "output_type": "display_data"
    },
    {
     "data": {
      "text/html": [
       "<pre>Finished parsing file C:\\TURI\\Jacinta\\clean\\0317\\CT22.csv</pre>"
      ],
      "text/plain": [
       "Finished parsing file C:\\TURI\\Jacinta\\clean\\0317\\CT22.csv"
      ]
     },
     "metadata": {},
     "output_type": "display_data"
    },
    {
     "data": {
      "text/html": [
       "<pre>Parsing completed. Parsed 5935 lines in 0.129007 secs.</pre>"
      ],
      "text/plain": [
       "Parsing completed. Parsed 5935 lines in 0.129007 secs."
      ]
     },
     "metadata": {},
     "output_type": "display_data"
    },
    {
     "data": {
      "text/html": [
       "<pre>Finished parsing file C:\\TURI\\Jacinta\\clean\\0616\\CT23.csv</pre>"
      ],
      "text/plain": [
       "Finished parsing file C:\\TURI\\Jacinta\\clean\\0616\\CT23.csv"
      ]
     },
     "metadata": {},
     "output_type": "display_data"
    },
    {
     "data": {
      "text/html": [
       "<pre>Parsing completed. Parsed 100 lines in 0.039002 secs.</pre>"
      ],
      "text/plain": [
       "Parsing completed. Parsed 100 lines in 0.039002 secs."
      ]
     },
     "metadata": {},
     "output_type": "display_data"
    },
    {
     "name": "stdout",
     "output_type": "stream",
     "text": [
      "------------------------------------------------------\n",
      "Inferred types from first 100 line(s) of file as \n",
      "column_type_hints=[str,long,long,long,float,float,float,long,float,long,long,long,long,float,float,float,long,float,long,long,float,float,long,long,long,long,long,long,float,long,float,long,long,float,long,long,long,long,float,long,long,long,long,long,float,float,long,long,long,long,long,long,float,long,float,long,long,float,long,long,long,long,float,long,long,long,long,long,float,float,long,long,long,long,long,long,float,long,float,long,long,float,long,long,long,long,float,long,long,long,long,long,float,float,long,long,long,long,long,long,float,long,float,long,long,float,long,long,long,long,float,long,long,long,long,long,float,float,long,long,long,long,long,long,float,long,float,long,long,float,long,long,long,long,float,long,long,long,long,long,float,float,long,long,long,long,long,long,float,long,float,long,long,float,long,long,long,long,float,long,long,long,long,long,float,float,long,long,long,long,long,long,float,long,float,long,long,float,long,long,long,long,float,long,long,long,long,long,float,float,long,long,long,long,long,long,float,long,float,long,long,float,long,long,long,long,float,long,long,long,long,long,float,float,float,float,float,float,float,float,float,float,float,float,long,float,float,float,float,float,float,float,float,float,float,float,float,long,long]\n",
      "If parsing fails due to incorrect types, you can correct\n",
      "the inferred type list above and pass it to read_csv in\n",
      "the column_type_hints argument\n",
      "------------------------------------------------------\n"
     ]
    },
    {
     "data": {
      "text/html": [
       "<pre>Finished parsing file C:\\TURI\\Jacinta\\clean\\0616\\CT23.csv</pre>"
      ],
      "text/plain": [
       "Finished parsing file C:\\TURI\\Jacinta\\clean\\0616\\CT23.csv"
      ]
     },
     "metadata": {},
     "output_type": "display_data"
    },
    {
     "data": {
      "text/html": [
       "<pre>Parsing completed. Parsed 2482 lines in 0.052003 secs.</pre>"
      ],
      "text/plain": [
       "Parsing completed. Parsed 2482 lines in 0.052003 secs."
      ]
     },
     "metadata": {},
     "output_type": "display_data"
    },
    {
     "data": {
      "text/html": [
       "<pre>Finished parsing file C:\\TURI\\Jacinta\\clean\\0716\\CT23.csv</pre>"
      ],
      "text/plain": [
       "Finished parsing file C:\\TURI\\Jacinta\\clean\\0716\\CT23.csv"
      ]
     },
     "metadata": {},
     "output_type": "display_data"
    },
    {
     "data": {
      "text/html": [
       "<pre>Parsing completed. Parsed 8843 lines in 0.17401 secs.</pre>"
      ],
      "text/plain": [
       "Parsing completed. Parsed 8843 lines in 0.17401 secs."
      ]
     },
     "metadata": {},
     "output_type": "display_data"
    },
    {
     "data": {
      "text/html": [
       "<pre>Finished parsing file C:\\TURI\\Jacinta\\clean\\0816\\CT23.csv</pre>"
      ],
      "text/plain": [
       "Finished parsing file C:\\TURI\\Jacinta\\clean\\0816\\CT23.csv"
      ]
     },
     "metadata": {},
     "output_type": "display_data"
    },
    {
     "data": {
      "text/html": [
       "<pre>Parsing completed. Parsed 8881 lines in 0.17101 secs.</pre>"
      ],
      "text/plain": [
       "Parsing completed. Parsed 8881 lines in 0.17101 secs."
      ]
     },
     "metadata": {},
     "output_type": "display_data"
    },
    {
     "data": {
      "text/html": [
       "<pre>Finished parsing file C:\\TURI\\Jacinta\\clean\\0916\\CT23.csv</pre>"
      ],
      "text/plain": [
       "Finished parsing file C:\\TURI\\Jacinta\\clean\\0916\\CT23.csv"
      ]
     },
     "metadata": {},
     "output_type": "display_data"
    },
    {
     "data": {
      "text/html": [
       "<pre>Parsing completed. Parsed 8573 lines in 0.158009 secs.</pre>"
      ],
      "text/plain": [
       "Parsing completed. Parsed 8573 lines in 0.158009 secs."
      ]
     },
     "metadata": {},
     "output_type": "display_data"
    },
    {
     "data": {
      "text/html": [
       "<pre>Finished parsing file C:\\TURI\\Jacinta\\clean\\1016\\CT23.csv</pre>"
      ],
      "text/plain": [
       "Finished parsing file C:\\TURI\\Jacinta\\clean\\1016\\CT23.csv"
      ]
     },
     "metadata": {},
     "output_type": "display_data"
    },
    {
     "data": {
      "text/html": [
       "<pre>Parsing completed. Parsed 8889 lines in 0.16301 secs.</pre>"
      ],
      "text/plain": [
       "Parsing completed. Parsed 8889 lines in 0.16301 secs."
      ]
     },
     "metadata": {},
     "output_type": "display_data"
    },
    {
     "data": {
      "text/html": [
       "<pre>Finished parsing file C:\\TURI\\Jacinta\\clean\\1116\\CT23.csv</pre>"
      ],
      "text/plain": [
       "Finished parsing file C:\\TURI\\Jacinta\\clean\\1116\\CT23.csv"
      ]
     },
     "metadata": {},
     "output_type": "display_data"
    },
    {
     "data": {
      "text/html": [
       "<pre>Parsing completed. Parsed 8632 lines in 0.163009 secs.</pre>"
      ],
      "text/plain": [
       "Parsing completed. Parsed 8632 lines in 0.163009 secs."
      ]
     },
     "metadata": {},
     "output_type": "display_data"
    },
    {
     "data": {
      "text/html": [
       "<pre>Finished parsing file C:\\TURI\\Jacinta\\clean\\1216\\CT23.csv</pre>"
      ],
      "text/plain": [
       "Finished parsing file C:\\TURI\\Jacinta\\clean\\1216\\CT23.csv"
      ]
     },
     "metadata": {},
     "output_type": "display_data"
    },
    {
     "data": {
      "text/html": [
       "<pre>Parsing completed. Parsed 8920 lines in 0.17201 secs.</pre>"
      ],
      "text/plain": [
       "Parsing completed. Parsed 8920 lines in 0.17201 secs."
      ]
     },
     "metadata": {},
     "output_type": "display_data"
    },
    {
     "data": {
      "text/html": [
       "<pre>Finished parsing file C:\\TURI\\Jacinta\\clean\\0117\\CT23.csv</pre>"
      ],
      "text/plain": [
       "Finished parsing file C:\\TURI\\Jacinta\\clean\\0117\\CT23.csv"
      ]
     },
     "metadata": {},
     "output_type": "display_data"
    },
    {
     "data": {
      "text/html": [
       "<pre>Parsing completed. Parsed 8822 lines in 0.189011 secs.</pre>"
      ],
      "text/plain": [
       "Parsing completed. Parsed 8822 lines in 0.189011 secs."
      ]
     },
     "metadata": {},
     "output_type": "display_data"
    },
    {
     "data": {
      "text/html": [
       "<pre>Finished parsing file C:\\TURI\\Jacinta\\clean\\0217\\CT23.csv</pre>"
      ],
      "text/plain": [
       "Finished parsing file C:\\TURI\\Jacinta\\clean\\0217\\CT23.csv"
      ]
     },
     "metadata": {},
     "output_type": "display_data"
    },
    {
     "data": {
      "text/html": [
       "<pre>Parsing completed. Parsed 8035 lines in 0.148008 secs.</pre>"
      ],
      "text/plain": [
       "Parsing completed. Parsed 8035 lines in 0.148008 secs."
      ]
     },
     "metadata": {},
     "output_type": "display_data"
    },
    {
     "data": {
      "text/html": [
       "<pre>Finished parsing file C:\\TURI\\Jacinta\\clean\\0317\\CT23.csv</pre>"
      ],
      "text/plain": [
       "Finished parsing file C:\\TURI\\Jacinta\\clean\\0317\\CT23.csv"
      ]
     },
     "metadata": {},
     "output_type": "display_data"
    },
    {
     "data": {
      "text/html": [
       "<pre>Parsing completed. Parsed 5935 lines in 0.125007 secs.</pre>"
      ],
      "text/plain": [
       "Parsing completed. Parsed 5935 lines in 0.125007 secs."
      ]
     },
     "metadata": {},
     "output_type": "display_data"
    },
    {
     "data": {
      "text/html": [
       "<pre>Finished parsing file C:\\TURI\\Jacinta\\clean\\0616\\CT24.csv</pre>"
      ],
      "text/plain": [
       "Finished parsing file C:\\TURI\\Jacinta\\clean\\0616\\CT24.csv"
      ]
     },
     "metadata": {},
     "output_type": "display_data"
    },
    {
     "data": {
      "text/html": [
       "<pre>Parsing completed. Parsed 100 lines in 0.040002 secs.</pre>"
      ],
      "text/plain": [
       "Parsing completed. Parsed 100 lines in 0.040002 secs."
      ]
     },
     "metadata": {},
     "output_type": "display_data"
    },
    {
     "name": "stdout",
     "output_type": "stream",
     "text": [
      "------------------------------------------------------\n",
      "Inferred types from first 100 line(s) of file as \n",
      "column_type_hints=[str,long,long,long,float,float,float,long,float,long,long,long,long,float,float,float,long,float,long,long,float,float,long,long,long,long,long,long,float,long,float,long,long,float,long,long,long,long,float,long,long,long,long,long,float,float,long,long,long,long,long,long,float,long,float,long,long,float,long,long,long,long,float,long,long,long,long,long,float,float,long,long,long,long,long,long,float,long,float,long,long,float,long,long,long,long,float,long,long,long,long,long,float,float,long,long,long,long,long,long,float,long,float,long,long,float,long,long,long,long,float,long,long,long,long,long,float,float,long,long,long,long,long,long,float,long,float,long,long,float,long,long,long,long,float,long,long,long,long,long,float,float,long,long,long,long,long,long,float,long,float,long,long,float,long,long,long,long,float,long,long,long,long,long,float,float,long,long,long,long,long,long,float,long,float,long,long,float,long,long,long,long,float,long,long,long,long,long,float,float,long,long,long,long,long,long,float,long,float,long,long,float,long,long,long,long,float,long,long,long,long,long,float,float,float,float,float,float,float,float,float,float,float,float,long,float,float,float,float,float,float,float,float,float,float,float,float,long,long]\n",
      "If parsing fails due to incorrect types, you can correct\n",
      "the inferred type list above and pass it to read_csv in\n",
      "the column_type_hints argument\n",
      "------------------------------------------------------\n"
     ]
    },
    {
     "data": {
      "text/html": [
       "<pre>Finished parsing file C:\\TURI\\Jacinta\\clean\\0616\\CT24.csv</pre>"
      ],
      "text/plain": [
       "Finished parsing file C:\\TURI\\Jacinta\\clean\\0616\\CT24.csv"
      ]
     },
     "metadata": {},
     "output_type": "display_data"
    },
    {
     "data": {
      "text/html": [
       "<pre>Parsing completed. Parsed 2482 lines in 0.052003 secs.</pre>"
      ],
      "text/plain": [
       "Parsing completed. Parsed 2482 lines in 0.052003 secs."
      ]
     },
     "metadata": {},
     "output_type": "display_data"
    },
    {
     "data": {
      "text/html": [
       "<pre>Finished parsing file C:\\TURI\\Jacinta\\clean\\0716\\CT24.csv</pre>"
      ],
      "text/plain": [
       "Finished parsing file C:\\TURI\\Jacinta\\clean\\0716\\CT24.csv"
      ]
     },
     "metadata": {},
     "output_type": "display_data"
    },
    {
     "data": {
      "text/html": [
       "<pre>Parsing completed. Parsed 8843 lines in 0.156009 secs.</pre>"
      ],
      "text/plain": [
       "Parsing completed. Parsed 8843 lines in 0.156009 secs."
      ]
     },
     "metadata": {},
     "output_type": "display_data"
    },
    {
     "data": {
      "text/html": [
       "<pre>Finished parsing file C:\\TURI\\Jacinta\\clean\\0816\\CT24.csv</pre>"
      ],
      "text/plain": [
       "Finished parsing file C:\\TURI\\Jacinta\\clean\\0816\\CT24.csv"
      ]
     },
     "metadata": {},
     "output_type": "display_data"
    },
    {
     "data": {
      "text/html": [
       "<pre>Parsing completed. Parsed 8881 lines in 0.158009 secs.</pre>"
      ],
      "text/plain": [
       "Parsing completed. Parsed 8881 lines in 0.158009 secs."
      ]
     },
     "metadata": {},
     "output_type": "display_data"
    },
    {
     "data": {
      "text/html": [
       "<pre>Finished parsing file C:\\TURI\\Jacinta\\clean\\0916\\CT24.csv</pre>"
      ],
      "text/plain": [
       "Finished parsing file C:\\TURI\\Jacinta\\clean\\0916\\CT24.csv"
      ]
     },
     "metadata": {},
     "output_type": "display_data"
    },
    {
     "data": {
      "text/html": [
       "<pre>Parsing completed. Parsed 8573 lines in 0.151008 secs.</pre>"
      ],
      "text/plain": [
       "Parsing completed. Parsed 8573 lines in 0.151008 secs."
      ]
     },
     "metadata": {},
     "output_type": "display_data"
    },
    {
     "data": {
      "text/html": [
       "<pre>Finished parsing file C:\\TURI\\Jacinta\\clean\\1016\\CT24.csv</pre>"
      ],
      "text/plain": [
       "Finished parsing file C:\\TURI\\Jacinta\\clean\\1016\\CT24.csv"
      ]
     },
     "metadata": {},
     "output_type": "display_data"
    },
    {
     "data": {
      "text/html": [
       "<pre>Parsing completed. Parsed 8889 lines in 0.17301 secs.</pre>"
      ],
      "text/plain": [
       "Parsing completed. Parsed 8889 lines in 0.17301 secs."
      ]
     },
     "metadata": {},
     "output_type": "display_data"
    },
    {
     "data": {
      "text/html": [
       "<pre>Finished parsing file C:\\TURI\\Jacinta\\clean\\1116\\CT24.csv</pre>"
      ],
      "text/plain": [
       "Finished parsing file C:\\TURI\\Jacinta\\clean\\1116\\CT24.csv"
      ]
     },
     "metadata": {},
     "output_type": "display_data"
    },
    {
     "data": {
      "text/html": [
       "<pre>Parsing completed. Parsed 8632 lines in 0.163009 secs.</pre>"
      ],
      "text/plain": [
       "Parsing completed. Parsed 8632 lines in 0.163009 secs."
      ]
     },
     "metadata": {},
     "output_type": "display_data"
    },
    {
     "data": {
      "text/html": [
       "<pre>Finished parsing file C:\\TURI\\Jacinta\\clean\\1216\\CT24.csv</pre>"
      ],
      "text/plain": [
       "Finished parsing file C:\\TURI\\Jacinta\\clean\\1216\\CT24.csv"
      ]
     },
     "metadata": {},
     "output_type": "display_data"
    },
    {
     "data": {
      "text/html": [
       "<pre>Parsing completed. Parsed 8920 lines in 0.162009 secs.</pre>"
      ],
      "text/plain": [
       "Parsing completed. Parsed 8920 lines in 0.162009 secs."
      ]
     },
     "metadata": {},
     "output_type": "display_data"
    },
    {
     "data": {
      "text/html": [
       "<pre>Finished parsing file C:\\TURI\\Jacinta\\clean\\0117\\CT24.csv</pre>"
      ],
      "text/plain": [
       "Finished parsing file C:\\TURI\\Jacinta\\clean\\0117\\CT24.csv"
      ]
     },
     "metadata": {},
     "output_type": "display_data"
    },
    {
     "data": {
      "text/html": [
       "<pre>Parsing completed. Parsed 8822 lines in 0.176011 secs.</pre>"
      ],
      "text/plain": [
       "Parsing completed. Parsed 8822 lines in 0.176011 secs."
      ]
     },
     "metadata": {},
     "output_type": "display_data"
    },
    {
     "data": {
      "text/html": [
       "<pre>Finished parsing file C:\\TURI\\Jacinta\\clean\\0217\\CT24.csv</pre>"
      ],
      "text/plain": [
       "Finished parsing file C:\\TURI\\Jacinta\\clean\\0217\\CT24.csv"
      ]
     },
     "metadata": {},
     "output_type": "display_data"
    },
    {
     "data": {
      "text/html": [
       "<pre>Parsing completed. Parsed 8035 lines in 0.140008 secs.</pre>"
      ],
      "text/plain": [
       "Parsing completed. Parsed 8035 lines in 0.140008 secs."
      ]
     },
     "metadata": {},
     "output_type": "display_data"
    },
    {
     "data": {
      "text/html": [
       "<pre>Finished parsing file C:\\TURI\\Jacinta\\clean\\0317\\CT24.csv</pre>"
      ],
      "text/plain": [
       "Finished parsing file C:\\TURI\\Jacinta\\clean\\0317\\CT24.csv"
      ]
     },
     "metadata": {},
     "output_type": "display_data"
    },
    {
     "data": {
      "text/html": [
       "<pre>Parsing completed. Parsed 5935 lines in 0.124007 secs.</pre>"
      ],
      "text/plain": [
       "Parsing completed. Parsed 5935 lines in 0.124007 secs."
      ]
     },
     "metadata": {},
     "output_type": "display_data"
    },
    {
     "data": {
      "text/html": [
       "<pre>Finished parsing file C:\\TURI\\Jacinta\\clean\\0616\\CT25.csv</pre>"
      ],
      "text/plain": [
       "Finished parsing file C:\\TURI\\Jacinta\\clean\\0616\\CT25.csv"
      ]
     },
     "metadata": {},
     "output_type": "display_data"
    },
    {
     "data": {
      "text/html": [
       "<pre>Parsing completed. Parsed 100 lines in 0.041002 secs.</pre>"
      ],
      "text/plain": [
       "Parsing completed. Parsed 100 lines in 0.041002 secs."
      ]
     },
     "metadata": {},
     "output_type": "display_data"
    },
    {
     "name": "stdout",
     "output_type": "stream",
     "text": [
      "------------------------------------------------------\n",
      "Inferred types from first 100 line(s) of file as \n",
      "column_type_hints=[str,long,long,long,float,float,float,long,float,long,long,long,long,float,float,float,long,float,long,long,float,float,long,long,long,long,long,long,float,long,float,long,long,float,long,long,long,long,float,long,long,long,long,long,float,float,long,long,long,long,long,long,float,long,float,long,long,float,long,long,long,long,float,long,long,long,long,long,float,float,long,long,long,long,long,long,float,long,float,long,long,float,long,long,long,long,float,long,long,long,long,long,float,float,long,long,long,long,long,long,float,long,float,long,long,float,long,long,long,long,float,long,long,long,long,long,float,float,long,long,long,long,long,long,float,long,float,long,long,float,long,long,long,long,float,long,long,long,long,long,float,float,long,long,long,long,long,long,float,long,float,long,long,float,long,long,long,long,float,long,long,long,long,long,float,float,long,long,long,long,long,long,float,long,float,long,long,float,long,long,long,long,float,long,long,long,long,long,float,float,long,long,long,long,long,long,float,long,float,long,long,float,long,long,long,long,float,long,long,long,long,long,float,float,float,float,float,float,float,float,float,float,float,float,long,float,float,float,float,float,float,float,float,float,float,float,float,long,long]\n",
      "If parsing fails due to incorrect types, you can correct\n",
      "the inferred type list above and pass it to read_csv in\n",
      "the column_type_hints argument\n",
      "------------------------------------------------------\n"
     ]
    },
    {
     "data": {
      "text/html": [
       "<pre>Finished parsing file C:\\TURI\\Jacinta\\clean\\0616\\CT25.csv</pre>"
      ],
      "text/plain": [
       "Finished parsing file C:\\TURI\\Jacinta\\clean\\0616\\CT25.csv"
      ]
     },
     "metadata": {},
     "output_type": "display_data"
    },
    {
     "data": {
      "text/html": [
       "<pre>Parsing completed. Parsed 2482 lines in 0.055003 secs.</pre>"
      ],
      "text/plain": [
       "Parsing completed. Parsed 2482 lines in 0.055003 secs."
      ]
     },
     "metadata": {},
     "output_type": "display_data"
    },
    {
     "data": {
      "text/html": [
       "<pre>Finished parsing file C:\\TURI\\Jacinta\\clean\\0716\\CT25.csv</pre>"
      ],
      "text/plain": [
       "Finished parsing file C:\\TURI\\Jacinta\\clean\\0716\\CT25.csv"
      ]
     },
     "metadata": {},
     "output_type": "display_data"
    },
    {
     "data": {
      "text/html": [
       "<pre>Parsing completed. Parsed 8843 lines in 0.163009 secs.</pre>"
      ],
      "text/plain": [
       "Parsing completed. Parsed 8843 lines in 0.163009 secs."
      ]
     },
     "metadata": {},
     "output_type": "display_data"
    },
    {
     "data": {
      "text/html": [
       "<pre>Finished parsing file C:\\TURI\\Jacinta\\clean\\0816\\CT25.csv</pre>"
      ],
      "text/plain": [
       "Finished parsing file C:\\TURI\\Jacinta\\clean\\0816\\CT25.csv"
      ]
     },
     "metadata": {},
     "output_type": "display_data"
    },
    {
     "data": {
      "text/html": [
       "<pre>Parsing completed. Parsed 8881 lines in 0.164009 secs.</pre>"
      ],
      "text/plain": [
       "Parsing completed. Parsed 8881 lines in 0.164009 secs."
      ]
     },
     "metadata": {},
     "output_type": "display_data"
    },
    {
     "data": {
      "text/html": [
       "<pre>Finished parsing file C:\\TURI\\Jacinta\\clean\\0916\\CT25.csv</pre>"
      ],
      "text/plain": [
       "Finished parsing file C:\\TURI\\Jacinta\\clean\\0916\\CT25.csv"
      ]
     },
     "metadata": {},
     "output_type": "display_data"
    },
    {
     "data": {
      "text/html": [
       "<pre>Parsing completed. Parsed 8573 lines in 0.163009 secs.</pre>"
      ],
      "text/plain": [
       "Parsing completed. Parsed 8573 lines in 0.163009 secs."
      ]
     },
     "metadata": {},
     "output_type": "display_data"
    },
    {
     "data": {
      "text/html": [
       "<pre>Finished parsing file C:\\TURI\\Jacinta\\clean\\1016\\CT25.csv</pre>"
      ],
      "text/plain": [
       "Finished parsing file C:\\TURI\\Jacinta\\clean\\1016\\CT25.csv"
      ]
     },
     "metadata": {},
     "output_type": "display_data"
    },
    {
     "data": {
      "text/html": [
       "<pre>Parsing completed. Parsed 8889 lines in 0.160009 secs.</pre>"
      ],
      "text/plain": [
       "Parsing completed. Parsed 8889 lines in 0.160009 secs."
      ]
     },
     "metadata": {},
     "output_type": "display_data"
    },
    {
     "data": {
      "text/html": [
       "<pre>Finished parsing file C:\\TURI\\Jacinta\\clean\\1116\\CT25.csv</pre>"
      ],
      "text/plain": [
       "Finished parsing file C:\\TURI\\Jacinta\\clean\\1116\\CT25.csv"
      ]
     },
     "metadata": {},
     "output_type": "display_data"
    },
    {
     "data": {
      "text/html": [
       "<pre>Parsing completed. Parsed 8632 lines in 0.153009 secs.</pre>"
      ],
      "text/plain": [
       "Parsing completed. Parsed 8632 lines in 0.153009 secs."
      ]
     },
     "metadata": {},
     "output_type": "display_data"
    },
    {
     "data": {
      "text/html": [
       "<pre>Finished parsing file C:\\TURI\\Jacinta\\clean\\1216\\CT25.csv</pre>"
      ],
      "text/plain": [
       "Finished parsing file C:\\TURI\\Jacinta\\clean\\1216\\CT25.csv"
      ]
     },
     "metadata": {},
     "output_type": "display_data"
    },
    {
     "data": {
      "text/html": [
       "<pre>Parsing completed. Parsed 8920 lines in 0.17301 secs.</pre>"
      ],
      "text/plain": [
       "Parsing completed. Parsed 8920 lines in 0.17301 secs."
      ]
     },
     "metadata": {},
     "output_type": "display_data"
    },
    {
     "data": {
      "text/html": [
       "<pre>Finished parsing file C:\\TURI\\Jacinta\\clean\\0117\\CT25.csv</pre>"
      ],
      "text/plain": [
       "Finished parsing file C:\\TURI\\Jacinta\\clean\\0117\\CT25.csv"
      ]
     },
     "metadata": {},
     "output_type": "display_data"
    },
    {
     "data": {
      "text/html": [
       "<pre>Parsing completed. Parsed 8822 lines in 0.17301 secs.</pre>"
      ],
      "text/plain": [
       "Parsing completed. Parsed 8822 lines in 0.17301 secs."
      ]
     },
     "metadata": {},
     "output_type": "display_data"
    },
    {
     "data": {
      "text/html": [
       "<pre>Finished parsing file C:\\TURI\\Jacinta\\clean\\0217\\CT25.csv</pre>"
      ],
      "text/plain": [
       "Finished parsing file C:\\TURI\\Jacinta\\clean\\0217\\CT25.csv"
      ]
     },
     "metadata": {},
     "output_type": "display_data"
    },
    {
     "data": {
      "text/html": [
       "<pre>Parsing completed. Parsed 8035 lines in 0.128007 secs.</pre>"
      ],
      "text/plain": [
       "Parsing completed. Parsed 8035 lines in 0.128007 secs."
      ]
     },
     "metadata": {},
     "output_type": "display_data"
    },
    {
     "data": {
      "text/html": [
       "<pre>Finished parsing file C:\\TURI\\Jacinta\\clean\\0317\\CT25.csv</pre>"
      ],
      "text/plain": [
       "Finished parsing file C:\\TURI\\Jacinta\\clean\\0317\\CT25.csv"
      ]
     },
     "metadata": {},
     "output_type": "display_data"
    },
    {
     "data": {
      "text/html": [
       "<pre>Parsing completed. Parsed 5935 lines in 0.126007 secs.</pre>"
      ],
      "text/plain": [
       "Parsing completed. Parsed 5935 lines in 0.126007 secs."
      ]
     },
     "metadata": {},
     "output_type": "display_data"
    },
    {
     "data": {
      "text/html": [
       "<pre>Finished parsing file C:\\TURI\\Jacinta\\clean\\0616\\Meteo.csv</pre>"
      ],
      "text/plain": [
       "Finished parsing file C:\\TURI\\Jacinta\\clean\\0616\\Meteo.csv"
      ]
     },
     "metadata": {},
     "output_type": "display_data"
    },
    {
     "data": {
      "text/html": [
       "<pre>Parsing completed. Parsed 100 lines in 0.018001 secs.</pre>"
      ],
      "text/plain": [
       "Parsing completed. Parsed 100 lines in 0.018001 secs."
      ]
     },
     "metadata": {},
     "output_type": "display_data"
    },
    {
     "name": "stdout",
     "output_type": "stream",
     "text": [
      "------------------------------------------------------\n",
      "Inferred types from first 100 line(s) of file as \n",
      "column_type_hints=[str,long,float,float,float,float,float,float,float,float,float,float,float,long,float,long,float,float,float,float,float,float,float,float,float,float,float,long,float,long,float,float,float,float,float,float,float,float,float,float,float,long,float]\n",
      "If parsing fails due to incorrect types, you can correct\n",
      "the inferred type list above and pass it to read_csv in\n",
      "the column_type_hints argument\n",
      "------------------------------------------------------\n"
     ]
    },
    {
     "data": {
      "text/html": [
       "<pre>Finished parsing file C:\\TURI\\Jacinta\\clean\\0616\\Meteo.csv</pre>"
      ],
      "text/plain": [
       "Finished parsing file C:\\TURI\\Jacinta\\clean\\0616\\Meteo.csv"
      ]
     },
     "metadata": {},
     "output_type": "display_data"
    },
    {
     "data": {
      "text/html": [
       "<pre>Parsing completed. Parsed 2482 lines in 0.020001 secs.</pre>"
      ],
      "text/plain": [
       "Parsing completed. Parsed 2482 lines in 0.020001 secs."
      ]
     },
     "metadata": {},
     "output_type": "display_data"
    },
    {
     "data": {
      "text/html": [
       "<pre>Finished parsing file C:\\TURI\\Jacinta\\clean\\0716\\Meteo.csv</pre>"
      ],
      "text/plain": [
       "Finished parsing file C:\\TURI\\Jacinta\\clean\\0716\\Meteo.csv"
      ]
     },
     "metadata": {},
     "output_type": "display_data"
    },
    {
     "data": {
      "text/html": [
       "<pre>Parsing completed. Parsed 8843 lines in 0.044002 secs.</pre>"
      ],
      "text/plain": [
       "Parsing completed. Parsed 8843 lines in 0.044002 secs."
      ]
     },
     "metadata": {},
     "output_type": "display_data"
    },
    {
     "name": "stdout",
     "output_type": "stream",
     "text": [
      "C:/TURI/Jacinta/clean/0716/Meteo.csv - file not found!\n"
     ]
    },
    {
     "data": {
      "text/html": [
       "<pre>Finished parsing file C:\\TURI\\Jacinta\\clean\\0816\\Meteo.csv</pre>"
      ],
      "text/plain": [
       "Finished parsing file C:\\TURI\\Jacinta\\clean\\0816\\Meteo.csv"
      ]
     },
     "metadata": {},
     "output_type": "display_data"
    },
    {
     "data": {
      "text/html": [
       "<pre>Parsing completed. Parsed 8881 lines in 0.043003 secs.</pre>"
      ],
      "text/plain": [
       "Parsing completed. Parsed 8881 lines in 0.043003 secs."
      ]
     },
     "metadata": {},
     "output_type": "display_data"
    },
    {
     "name": "stdout",
     "output_type": "stream",
     "text": [
      "C:/TURI/Jacinta/clean/0816/Meteo.csv - file not found!\n"
     ]
    },
    {
     "data": {
      "text/html": [
       "<pre>Finished parsing file C:\\TURI\\Jacinta\\clean\\0916\\Meteo.csv</pre>"
      ],
      "text/plain": [
       "Finished parsing file C:\\TURI\\Jacinta\\clean\\0916\\Meteo.csv"
      ]
     },
     "metadata": {},
     "output_type": "display_data"
    },
    {
     "data": {
      "text/html": [
       "<pre>Parsing completed. Parsed 8573 lines in 0.041002 secs.</pre>"
      ],
      "text/plain": [
       "Parsing completed. Parsed 8573 lines in 0.041002 secs."
      ]
     },
     "metadata": {},
     "output_type": "display_data"
    },
    {
     "name": "stdout",
     "output_type": "stream",
     "text": [
      "C:/TURI/Jacinta/clean/0916/Meteo.csv - file not found!\n"
     ]
    },
    {
     "data": {
      "text/html": [
       "<pre>Finished parsing file C:\\TURI\\Jacinta\\clean\\1016\\Meteo.csv</pre>"
      ],
      "text/plain": [
       "Finished parsing file C:\\TURI\\Jacinta\\clean\\1016\\Meteo.csv"
      ]
     },
     "metadata": {},
     "output_type": "display_data"
    },
    {
     "data": {
      "text/html": [
       "<pre>Parsing completed. Parsed 8889 lines in 0.043003 secs.</pre>"
      ],
      "text/plain": [
       "Parsing completed. Parsed 8889 lines in 0.043003 secs."
      ]
     },
     "metadata": {},
     "output_type": "display_data"
    },
    {
     "data": {
      "text/html": [
       "<pre>Finished parsing file C:\\TURI\\Jacinta\\clean\\1116\\Meteo.csv</pre>"
      ],
      "text/plain": [
       "Finished parsing file C:\\TURI\\Jacinta\\clean\\1116\\Meteo.csv"
      ]
     },
     "metadata": {},
     "output_type": "display_data"
    },
    {
     "data": {
      "text/html": [
       "<pre>Parsing completed. Parsed 8632 lines in 0.044002 secs.</pre>"
      ],
      "text/plain": [
       "Parsing completed. Parsed 8632 lines in 0.044002 secs."
      ]
     },
     "metadata": {},
     "output_type": "display_data"
    },
    {
     "data": {
      "text/html": [
       "<pre>Finished parsing file C:\\TURI\\Jacinta\\clean\\1216\\Meteo.csv</pre>"
      ],
      "text/plain": [
       "Finished parsing file C:\\TURI\\Jacinta\\clean\\1216\\Meteo.csv"
      ]
     },
     "metadata": {},
     "output_type": "display_data"
    },
    {
     "data": {
      "text/html": [
       "<pre>Parsing completed. Parsed 8920 lines in 0.044002 secs.</pre>"
      ],
      "text/plain": [
       "Parsing completed. Parsed 8920 lines in 0.044002 secs."
      ]
     },
     "metadata": {},
     "output_type": "display_data"
    },
    {
     "data": {
      "text/html": [
       "<pre>Finished parsing file C:\\TURI\\Jacinta\\clean\\0117\\Meteo.csv</pre>"
      ],
      "text/plain": [
       "Finished parsing file C:\\TURI\\Jacinta\\clean\\0117\\Meteo.csv"
      ]
     },
     "metadata": {},
     "output_type": "display_data"
    },
    {
     "data": {
      "text/html": [
       "<pre>Parsing completed. Parsed 8822 lines in 0.042003 secs.</pre>"
      ],
      "text/plain": [
       "Parsing completed. Parsed 8822 lines in 0.042003 secs."
      ]
     },
     "metadata": {},
     "output_type": "display_data"
    },
    {
     "data": {
      "text/html": [
       "<pre>Finished parsing file C:\\TURI\\Jacinta\\clean\\0217\\Meteo.csv</pre>"
      ],
      "text/plain": [
       "Finished parsing file C:\\TURI\\Jacinta\\clean\\0217\\Meteo.csv"
      ]
     },
     "metadata": {},
     "output_type": "display_data"
    },
    {
     "data": {
      "text/html": [
       "<pre>Parsing completed. Parsed 8035 lines in 0.034002 secs.</pre>"
      ],
      "text/plain": [
       "Parsing completed. Parsed 8035 lines in 0.034002 secs."
      ]
     },
     "metadata": {},
     "output_type": "display_data"
    },
    {
     "data": {
      "text/html": [
       "<pre>Finished parsing file C:\\TURI\\Jacinta\\clean\\0317\\Meteo.csv</pre>"
      ],
      "text/plain": [
       "Finished parsing file C:\\TURI\\Jacinta\\clean\\0317\\Meteo.csv"
      ]
     },
     "metadata": {},
     "output_type": "display_data"
    },
    {
     "data": {
      "text/html": [
       "<pre>Parsing completed. Parsed 5935 lines in 0.036002 secs.</pre>"
      ],
      "text/plain": [
       "Parsing completed. Parsed 5935 lines in 0.036002 secs."
      ]
     },
     "metadata": {},
     "output_type": "display_data"
    },
    {
     "data": {
      "text/html": [
       "<pre>Finished parsing file C:\\TURI\\Jacinta\\clean\\0616\\Sub.csv</pre>"
      ],
      "text/plain": [
       "Finished parsing file C:\\TURI\\Jacinta\\clean\\0616\\Sub.csv"
      ]
     },
     "metadata": {},
     "output_type": "display_data"
    },
    {
     "data": {
      "text/html": [
       "<pre>Parsing completed. Parsed 100 lines in 0.023002 secs.</pre>"
      ],
      "text/plain": [
       "Parsing completed. Parsed 100 lines in 0.023002 secs."
      ]
     },
     "metadata": {},
     "output_type": "display_data"
    },
    {
     "name": "stdout",
     "output_type": "stream",
     "text": [
      "------------------------------------------------------\n",
      "Inferred types from first 100 line(s) of file as \n",
      "column_type_hints=[str,long,long,long,long,float,float,str,str,str,str,str,str,long,long,long,long,long,long,long,long,long,long,long,long,long,long,str,long,long,long,long,long,long,long,long,long,long,long,long,long,long,str,str,str,str,str,str,str,str,str,str,str,str,str,str,str,str,str,str,str,str,str,str,str,str,str,str,str,str,str,str,str,str,str,str,str,str,str,str,str,str,str,str,str,str,str]\n",
      "If parsing fails due to incorrect types, you can correct\n",
      "the inferred type list above and pass it to read_csv in\n",
      "the column_type_hints argument\n",
      "------------------------------------------------------\n"
     ]
    },
    {
     "data": {
      "text/html": [
       "<pre>Finished parsing file C:\\TURI\\Jacinta\\clean\\0616\\Sub.csv</pre>"
      ],
      "text/plain": [
       "Finished parsing file C:\\TURI\\Jacinta\\clean\\0616\\Sub.csv"
      ]
     },
     "metadata": {},
     "output_type": "display_data"
    },
    {
     "data": {
      "text/html": [
       "<pre>Parsing completed. Parsed 2482 lines in 0.035002 secs.</pre>"
      ],
      "text/plain": [
       "Parsing completed. Parsed 2482 lines in 0.035002 secs."
      ]
     },
     "metadata": {},
     "output_type": "display_data"
    },
    {
     "data": {
      "text/html": [
       "<pre>Finished parsing file C:\\TURI\\Jacinta\\clean\\0716\\Sub.csv</pre>"
      ],
      "text/plain": [
       "Finished parsing file C:\\TURI\\Jacinta\\clean\\0716\\Sub.csv"
      ]
     },
     "metadata": {},
     "output_type": "display_data"
    },
    {
     "data": {
      "text/html": [
       "<pre>Parsing completed. Parsed 8843 lines in 0.100006 secs.</pre>"
      ],
      "text/plain": [
       "Parsing completed. Parsed 8843 lines in 0.100006 secs."
      ]
     },
     "metadata": {},
     "output_type": "display_data"
    },
    {
     "data": {
      "text/html": [
       "<pre>Finished parsing file C:\\TURI\\Jacinta\\clean\\0816\\Sub.csv</pre>"
      ],
      "text/plain": [
       "Finished parsing file C:\\TURI\\Jacinta\\clean\\0816\\Sub.csv"
      ]
     },
     "metadata": {},
     "output_type": "display_data"
    },
    {
     "data": {
      "text/html": [
       "<pre>Parsing completed. Parsed 8881 lines in 0.101005 secs.</pre>"
      ],
      "text/plain": [
       "Parsing completed. Parsed 8881 lines in 0.101005 secs."
      ]
     },
     "metadata": {},
     "output_type": "display_data"
    },
    {
     "data": {
      "text/html": [
       "<pre>Finished parsing file C:\\TURI\\Jacinta\\clean\\0916\\Sub.csv</pre>"
      ],
      "text/plain": [
       "Finished parsing file C:\\TURI\\Jacinta\\clean\\0916\\Sub.csv"
      ]
     },
     "metadata": {},
     "output_type": "display_data"
    },
    {
     "data": {
      "text/html": [
       "<pre>Parsing completed. Parsed 8573 lines in 0.098006 secs.</pre>"
      ],
      "text/plain": [
       "Parsing completed. Parsed 8573 lines in 0.098006 secs."
      ]
     },
     "metadata": {},
     "output_type": "display_data"
    },
    {
     "data": {
      "text/html": [
       "<pre>Finished parsing file C:\\TURI\\Jacinta\\clean\\1016\\Sub.csv</pre>"
      ],
      "text/plain": [
       "Finished parsing file C:\\TURI\\Jacinta\\clean\\1016\\Sub.csv"
      ]
     },
     "metadata": {},
     "output_type": "display_data"
    },
    {
     "data": {
      "text/html": [
       "<pre>Parsing completed. Parsed 8889 lines in 0.104006 secs.</pre>"
      ],
      "text/plain": [
       "Parsing completed. Parsed 8889 lines in 0.104006 secs."
      ]
     },
     "metadata": {},
     "output_type": "display_data"
    },
    {
     "data": {
      "text/html": [
       "<pre>Finished parsing file C:\\TURI\\Jacinta\\clean\\1116\\Sub.csv</pre>"
      ],
      "text/plain": [
       "Finished parsing file C:\\TURI\\Jacinta\\clean\\1116\\Sub.csv"
      ]
     },
     "metadata": {},
     "output_type": "display_data"
    },
    {
     "data": {
      "text/html": [
       "<pre>Parsing completed. Parsed 8632 lines in 0.099006 secs.</pre>"
      ],
      "text/plain": [
       "Parsing completed. Parsed 8632 lines in 0.099006 secs."
      ]
     },
     "metadata": {},
     "output_type": "display_data"
    },
    {
     "data": {
      "text/html": [
       "<pre>Finished parsing file C:\\TURI\\Jacinta\\clean\\1216\\Sub.csv</pre>"
      ],
      "text/plain": [
       "Finished parsing file C:\\TURI\\Jacinta\\clean\\1216\\Sub.csv"
      ]
     },
     "metadata": {},
     "output_type": "display_data"
    },
    {
     "data": {
      "text/html": [
       "<pre>Parsing completed. Parsed 8920 lines in 0.101006 secs.</pre>"
      ],
      "text/plain": [
       "Parsing completed. Parsed 8920 lines in 0.101006 secs."
      ]
     },
     "metadata": {},
     "output_type": "display_data"
    },
    {
     "data": {
      "text/html": [
       "<pre>Finished parsing file C:\\TURI\\Jacinta\\clean\\0117\\Sub.csv</pre>"
      ],
      "text/plain": [
       "Finished parsing file C:\\TURI\\Jacinta\\clean\\0117\\Sub.csv"
      ]
     },
     "metadata": {},
     "output_type": "display_data"
    },
    {
     "data": {
      "text/html": [
       "<pre>Parsing completed. Parsed 8822 lines in 0.101006 secs.</pre>"
      ],
      "text/plain": [
       "Parsing completed. Parsed 8822 lines in 0.101006 secs."
      ]
     },
     "metadata": {},
     "output_type": "display_data"
    },
    {
     "data": {
      "text/html": [
       "<pre>Finished parsing file C:\\TURI\\Jacinta\\clean\\0217\\Sub.csv</pre>"
      ],
      "text/plain": [
       "Finished parsing file C:\\TURI\\Jacinta\\clean\\0217\\Sub.csv"
      ]
     },
     "metadata": {},
     "output_type": "display_data"
    },
    {
     "data": {
      "text/html": [
       "<pre>Parsing completed. Parsed 8035 lines in 0.091005 secs.</pre>"
      ],
      "text/plain": [
       "Parsing completed. Parsed 8035 lines in 0.091005 secs."
      ]
     },
     "metadata": {},
     "output_type": "display_data"
    },
    {
     "data": {
      "text/html": [
       "<pre>Finished parsing file C:\\TURI\\Jacinta\\clean\\0317\\Sub.csv</pre>"
      ],
      "text/plain": [
       "Finished parsing file C:\\TURI\\Jacinta\\clean\\0317\\Sub.csv"
      ]
     },
     "metadata": {},
     "output_type": "display_data"
    },
    {
     "data": {
      "text/html": [
       "<pre>Parsing completed. Parsed 5935 lines in 0.080005 secs.</pre>"
      ],
      "text/plain": [
       "Parsing completed. Parsed 5935 lines in 0.080005 secs."
      ]
     },
     "metadata": {},
     "output_type": "display_data"
    }
   ],
   "source": [
    "#Iteramos por carpetas cargando csvs en SFrames\n",
    "# Listamos carpetas a consultar\n",
    "src_list =('C:/TURI/Jacinta/clean/0616/',\n",
    "           'C:/TURI/Jacinta/clean/0716/',\n",
    "           'C:/TURI/Jacinta/clean/0816/',\n",
    "           'C:/TURI/Jacinta/clean/0916/',\n",
    "           'C:/TURI/Jacinta/clean/1016/',\n",
    "           'C:/TURI/Jacinta/clean/1116/',\n",
    "           'C:/TURI/Jacinta/clean/1216/',\n",
    "           'C:/TURI/Jacinta/clean/0117/',\n",
    "           'C:/TURI/Jacinta/clean/0217/',\n",
    "           'C:/TURI/Jacinta/clean/0317/')\n",
    "\n",
    "#CT01 = MergeFiles2(src_list,'CT01.csv')\n",
    "#CT01.num_rows()\n",
    "\n",
    "#Iteramos por lista de ficheros\n",
    "file_list = ('CT01','CT02','CT03','CT04','CT05','CT06','CT07','CT08','CT09','CT10','CT11','CT12','CT13','CT14','CT15','CT16',\n",
    "             'CT17','CT18','CT19','CT20','CT21','CT22','CT23','CT24','CT25','Meteo','Sub')\n",
    "\n",
    "dst = 'C:/TURI/Jacinta/merged/'\n",
    "\n",
    "for f in file_list:\n",
    "    exec(f + \" = []\")\n",
    "    exec(f + \"=  MergeFiles2(src_list,'\" + f + \".csv')\")\n",
    "    # Exportamos a CSV\n",
    "    exec(f + \".export_csv('\" + dst + \"/\"  + f + \".csv',';')\")"
   ]
  }
 ],
 "metadata": {
  "kernelspec": {
   "display_name": "Python 2",
   "language": "python",
   "name": "python2"
  },
  "language_info": {
   "codemirror_mode": {
    "name": "ipython",
    "version": 2
   },
   "file_extension": ".py",
   "mimetype": "text/x-python",
   "name": "python",
   "nbconvert_exporter": "python",
   "pygments_lexer": "ipython2",
   "version": "2.7.11"
  }
 },
 "nbformat": 4,
 "nbformat_minor": 0
}
